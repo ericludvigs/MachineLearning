{
 "cells": [
  {
   "cell_type": "markdown",
   "id": "7ce0c2c8",
   "metadata": {
    "editable": true
   },
   "source": [
    "<!-- HTML file automatically generated from DocOnce source (https://github.com/doconce/doconce/)\n",
    "doconce format html week37.do.txt --no_mako -->\n",
    "<!-- dom:TITLE: Week 37: Statistical interpretations and Resampling Methods -->"
   ]
  },
  {
   "cell_type": "markdown",
   "id": "3bd9c0ba",
   "metadata": {
    "editable": true
   },
   "source": [
    "# Week 37: Statistical interpretations and Resampling Methods\n",
    "**Morten Hjorth-Jensen**, Department of Physics, University of Oslo, Norway\n",
    "\n",
    "Date: **September 9, 2024**\n",
    "\n",
    "<!-- todo add link to videos and add link to Van Wieringens notes -->"
   ]
  },
  {
   "cell_type": "markdown",
   "id": "be6135df",
   "metadata": {
    "editable": true
   },
   "source": [
    "## Plans for week 37, lecture Monday\n",
    "\n",
    "**Material for the lecture on Monday September 9.**\n",
    "\n",
    "   * [Video of Lecture](https://youtu.be/omLmp_kkie0)\n",
    "\n",
    "   * [Whiteboard notes](https://github.com/CompPhysics/MachineLearning/blob/master/doc/HandWrittenNotes/2024/NotesSeptember9.pdf)\n",
    "\n",
    "  * Statistical interpretation of Ridge and Lasso regression, see also slides from last week\n",
    "\n",
    "  * Resampling techniques, Bootstrap and cross validation and bias-variance tradeoff (this may partly be discussed during the exercise sessions as well.\n",
    "\n",
    "  * Readings and Videos:\n",
    "    * Raschka et al, pages 175-192\n",
    "\n",
    "    * Hastie et al Chapter 7, here we recommend 7.1-7.5 and 7.10 (cross-validation) and 7.11 (bootstrap). See <https://link.springer.com/book/10.1007/978-0-387-84858-7>.\n",
    "\n",
    "    * [Video on cross validation](https://www.youtube.com/watch?v=fSytzGwwBVw)\n",
    "\n",
    "    * [Video on Bootstrapping](https://www.youtube.com/watch?v=Xz0x-8-cgaQ)\n",
    "\n",
    "    * [Video on bias-variance tradeoff](https://www.youtube.com/watch?v=EuBBz3bI-aA)"
   ]
  },
  {
   "cell_type": "markdown",
   "id": "3ac97fd3",
   "metadata": {
    "editable": true
   },
   "source": [
    "## Plans for week 37, lab sessions\n",
    "\n",
    "**Material for the lab  sessions on Tuesday and Wednesday.**\n",
    "\n",
    "  * Calculations of expectation values\n",
    "\n",
    "  * Discussion of resampling techniques\n",
    "\n",
    "  * Exercise set for week 37\n",
    "\n",
    "  * Work on project 1\n",
    "\n",
    "  * [Video of exercise sessions week 37](https://youtu.be/bK4AEcTu-oM)\n",
    "\n",
    "  * For more discussions of Ridge regression and calculation of averages, [Wessel van Wieringen's](https://arxiv.org/abs/1509.09169) article is highly recommended."
   ]
  },
  {
   "cell_type": "markdown",
   "id": "7010206d",
   "metadata": {
    "editable": true
   },
   "source": [
    "## Material for lecture Monday September 9"
   ]
  },
  {
   "cell_type": "markdown",
   "id": "2467ccb1",
   "metadata": {
    "editable": true
   },
   "source": [
    "## Deriving OLS from a probability distribution\n",
    "\n",
    "Our basic assumption when we derived the OLS equations was to assume\n",
    "that our output is determined by a given continuous function\n",
    "$f(\\boldsymbol{x})$ and a random noise $\\boldsymbol{\\epsilon}$ given by the normal\n",
    "distribution with zero mean value and an undetermined variance\n",
    "$\\sigma^2$.\n",
    "\n",
    "We found above that the outputs $\\boldsymbol{y}$ have a mean value given by\n",
    "$\\boldsymbol{X}\\hat{\\boldsymbol{\\beta}}$ and variance $\\sigma^2$. Since the entries to\n",
    "the design matrix are not stochastic variables, we can assume that the\n",
    "probability distribution of our targets is also a normal distribution\n",
    "but now with mean value $\\boldsymbol{X}\\hat{\\boldsymbol{\\beta}}$. This means that a\n",
    "single output $y_i$ is given by the Gaussian distribution"
   ]
  },
  {
   "cell_type": "markdown",
   "id": "4e2b9f77",
   "metadata": {
    "editable": true
   },
   "source": [
    "$$\n",
    "y_i\\sim \\mathcal{N}(\\boldsymbol{X}_{i,*}\\boldsymbol{\\beta}, \\sigma^2)=\\frac{1}{\\sqrt{2\\pi\\sigma^2}}\\exp{\\left[-\\frac{(y_i-\\boldsymbol{X}_{i,*}\\boldsymbol{\\beta})^2}{2\\sigma^2}\\right]}.\n",
    "$$"
   ]
  },
  {
   "cell_type": "markdown",
   "id": "aa3e18f2",
   "metadata": {
    "editable": true
   },
   "source": [
    "## Independent and Identically Distrubuted (iid)\n",
    "\n",
    "We assume now that the various $y_i$ values are stochastically distributed according to the above Gaussian distribution. \n",
    "We define this distribution as"
   ]
  },
  {
   "cell_type": "markdown",
   "id": "a9836e09",
   "metadata": {
    "editable": true
   },
   "source": [
    "$$\n",
    "p(y_i, \\boldsymbol{X}\\vert\\boldsymbol{\\beta})=\\frac{1}{\\sqrt{2\\pi\\sigma^2}}\\exp{\\left[-\\frac{(y_i-\\boldsymbol{X}_{i,*}\\boldsymbol{\\beta})^2}{2\\sigma^2}\\right]},\n",
    "$$"
   ]
  },
  {
   "cell_type": "markdown",
   "id": "81c40e6c",
   "metadata": {
    "editable": true
   },
   "source": [
    "which reads as finding the likelihood of an event $y_i$ with the input variables $\\boldsymbol{X}$ given the parameters (to be determined) $\\boldsymbol{\\beta}$.\n",
    "\n",
    "Since these events are assumed to be independent and identicall distributed we can build the probability distribution function (PDF) for all possible event $\\boldsymbol{y}$ as the product of the single events, that is we have"
   ]
  },
  {
   "cell_type": "markdown",
   "id": "fd6babf0",
   "metadata": {
    "editable": true
   },
   "source": [
    "$$\n",
    "p(\\boldsymbol{y},\\boldsymbol{X}\\vert\\boldsymbol{\\beta})=\\prod_{i=0}^{n-1}\\frac{1}{\\sqrt{2\\pi\\sigma^2}}\\exp{\\left[-\\frac{(y_i-\\boldsymbol{X}_{i,*}\\boldsymbol{\\beta})^2}{2\\sigma^2}\\right]}=\\prod_{i=0}^{n-1}p(y_i,\\boldsymbol{X}\\vert\\boldsymbol{\\beta}).\n",
    "$$"
   ]
  },
  {
   "cell_type": "markdown",
   "id": "71dfe09f",
   "metadata": {
    "editable": true
   },
   "source": [
    "We will write this in a more compact form reserving $\\boldsymbol{D}$ for the domain of events, including the ouputs (targets) and the inputs. That is\n",
    "in case we have a simple one-dimensional input and output case"
   ]
  },
  {
   "cell_type": "markdown",
   "id": "90f49395",
   "metadata": {
    "editable": true
   },
   "source": [
    "$$\n",
    "\\boldsymbol{D}=[(x_0,y_0), (x_1,y_1),\\dots, (x_{n-1},y_{n-1})].\n",
    "$$"
   ]
  },
  {
   "cell_type": "markdown",
   "id": "eb1d8923",
   "metadata": {
    "editable": true
   },
   "source": [
    "In the more general case the various inputs should be replaced by the possible features represented by the input data set $\\boldsymbol{X}$. \n",
    "We can now rewrite the above probability as"
   ]
  },
  {
   "cell_type": "markdown",
   "id": "a3b37065",
   "metadata": {
    "editable": true
   },
   "source": [
    "$$\n",
    "p(\\boldsymbol{D}\\vert\\boldsymbol{\\beta})=\\prod_{i=0}^{n-1}\\frac{1}{\\sqrt{2\\pi\\sigma^2}}\\exp{\\left[-\\frac{(y_i-\\boldsymbol{X}_{i,*}\\boldsymbol{\\beta})^2}{2\\sigma^2}\\right]}.\n",
    "$$"
   ]
  },
  {
   "cell_type": "markdown",
   "id": "092a8fe2",
   "metadata": {
    "editable": true
   },
   "source": [
    "It is a conditional probability (see below) and reads as the likelihood of a domain of events $\\boldsymbol{D}$ given a set of parameters $\\boldsymbol{\\beta}$."
   ]
  },
  {
   "cell_type": "markdown",
   "id": "f15ab83a",
   "metadata": {
    "editable": true
   },
   "source": [
    "## Maximum Likelihood Estimation (MLE)\n",
    "\n",
    "In statistics, maximum likelihood estimation (MLE) is a method of\n",
    "estimating the parameters of an assumed probability distribution,\n",
    "given some observed data. This is achieved by maximizing a likelihood\n",
    "function so that, under the assumed statistical model, the observed\n",
    "data is the most probable. \n",
    "\n",
    "We will assume here that our events are given by the above Gaussian\n",
    "distribution and we will determine the optimal parameters $\\beta$ by\n",
    "maximizing the above PDF. However, computing the derivatives of a\n",
    "product function is cumbersome and can easily lead to overflow and/or\n",
    "underflowproblems, with potentials for loss of numerical precision.\n",
    "\n",
    "In practice, it is more convenient to maximize the logarithm of the\n",
    "PDF because it is a monotonically increasing function of the argument.\n",
    "Alternatively, and this will be our option, we will minimize the\n",
    "negative of the logarithm since this is a monotonically decreasing\n",
    "function.\n",
    "\n",
    "Note also that maximization/minimization of the logarithm of the PDF\n",
    "is equivalent to the maximization/minimization of the function itself."
   ]
  },
  {
   "cell_type": "markdown",
   "id": "5ed97aa3",
   "metadata": {
    "editable": true
   },
   "source": [
    "## A new Cost Function\n",
    "\n",
    "We could now define a new cost function to minimize, namely the negative logarithm of the above PDF"
   ]
  },
  {
   "cell_type": "markdown",
   "id": "7b570c43",
   "metadata": {
    "editable": true
   },
   "source": [
    "$$\n",
    "C(\\boldsymbol{\\beta}=-\\log{\\prod_{i=0}^{n-1}p(y_i,\\boldsymbol{X}\\vert\\boldsymbol{\\beta})}=-\\sum_{i=0}^{n-1}\\log{p(y_i,\\boldsymbol{X}\\vert\\boldsymbol{\\beta})},\n",
    "$$"
   ]
  },
  {
   "cell_type": "markdown",
   "id": "8a82d943",
   "metadata": {
    "editable": true
   },
   "source": [
    "which becomes"
   ]
  },
  {
   "cell_type": "markdown",
   "id": "a9fe176c",
   "metadata": {
    "editable": true
   },
   "source": [
    "$$\n",
    "C(\\boldsymbol{\\beta}=\\frac{n}{2}\\log{2\\pi\\sigma^2}+\\frac{\\vert\\vert (\\boldsymbol{y}-\\boldsymbol{X}\\boldsymbol{\\beta})\\vert\\vert_2^2}{2\\sigma^2}.\n",
    "$$"
   ]
  },
  {
   "cell_type": "markdown",
   "id": "720c650c",
   "metadata": {
    "editable": true
   },
   "source": [
    "Taking the derivative of the *new* cost function with respect to the parameters $\\beta$ we recognize our familiar OLS equation, namely"
   ]
  },
  {
   "cell_type": "markdown",
   "id": "4c13afe3",
   "metadata": {
    "editable": true
   },
   "source": [
    "$$\n",
    "\\boldsymbol{X}^T\\left(\\boldsymbol{y}-\\boldsymbol{X}\\boldsymbol{\\beta}\\right) =0,\n",
    "$$"
   ]
  },
  {
   "cell_type": "markdown",
   "id": "f23aa0de",
   "metadata": {
    "editable": true
   },
   "source": [
    "which leads to the well-known OLS equation for the optimal paramters $\\beta$"
   ]
  },
  {
   "cell_type": "markdown",
   "id": "cc0ec7c0",
   "metadata": {
    "editable": true
   },
   "source": [
    "$$\n",
    "\\hat{\\boldsymbol{\\beta}}^{\\mathrm{OLS}}=\\left(\\boldsymbol{X}^T\\boldsymbol{X}\\right)^{-1}\\boldsymbol{X}^T\\boldsymbol{y}!\n",
    "$$"
   ]
  },
  {
   "cell_type": "markdown",
   "id": "71275e73",
   "metadata": {
    "editable": true
   },
   "source": [
    "Before we make a similar analysis for Ridge and Lasso regression, we need a short reminder on statistics."
   ]
  },
  {
   "cell_type": "markdown",
   "id": "4c41ecf0",
   "metadata": {
    "editable": true
   },
   "source": [
    "## More basic Statistics and Bayes' theorem\n",
    "\n",
    "A central theorem in statistics is Bayes' theorem. This theorem plays a similar role as the good old Pythagoras' theorem in geometry.\n",
    "Bayes' theorem is extremely simple to derive. But to do so we need some basic axioms from statistics.\n",
    "\n",
    "Assume we have two domains of events $X=[x_0,x_1,\\dots,x_{n-1}]$ and $Y=[y_0,y_1,\\dots,y_{n-1}]$.\n",
    "\n",
    "We define also the likelihood for $X$ and $Y$ as $p(X)$ and $p(Y)$ respectively.\n",
    "The likelihood of a specific event $x_i$ (or $y_i$) is then written as $p(X=x_i)$ or just $p(x_i)=p_i$. \n",
    "\n",
    "**Union of events is given by.**"
   ]
  },
  {
   "cell_type": "markdown",
   "id": "890ba6f9",
   "metadata": {
    "editable": true
   },
   "source": [
    "$$\n",
    "p(X \\cup Y)= p(X)+p(Y)-p(X \\cap Y).\n",
    "$$"
   ]
  },
  {
   "cell_type": "markdown",
   "id": "dfcd3bf6",
   "metadata": {
    "editable": true
   },
   "source": [
    "**The product rule (aka joint probability) is given by.**"
   ]
  },
  {
   "cell_type": "markdown",
   "id": "956837e7",
   "metadata": {
    "editable": true
   },
   "source": [
    "$$\n",
    "p(X \\cup Y)= p(X,Y)= p(X\\vert Y)p(Y)=p(Y\\vert X)p(X),\n",
    "$$"
   ]
  },
  {
   "cell_type": "markdown",
   "id": "d3802c8c",
   "metadata": {
    "editable": true
   },
   "source": [
    "where we read $p(X\\vert Y)$ as the likelihood of obtaining $X$ given $Y$.\n",
    "\n",
    "If we have independent events then $p(X,Y)=p(X)p(Y)$."
   ]
  },
  {
   "cell_type": "markdown",
   "id": "95db199e",
   "metadata": {
    "editable": true
   },
   "source": [
    "## Marginal Probability\n",
    "\n",
    "The marginal probability is defined in terms of only one of the set of variables $X,Y$. For a discrete probability we have"
   ]
  },
  {
   "cell_type": "markdown",
   "id": "57fb6f6a",
   "metadata": {
    "editable": true
   },
   "source": [
    "$$\n",
    "p(X)=\\sum_{i=0}^{n-1}p(X,Y=y_i)=\\sum_{i=0}^{n-1}p(X\\vert Y=y_i)p(Y=y_i)=\\sum_{i=0}^{n-1}p(X\\vert y_i)p(y_i).\n",
    "$$"
   ]
  },
  {
   "cell_type": "markdown",
   "id": "ea33fe6b",
   "metadata": {
    "editable": true
   },
   "source": [
    "## Conditional  Probability\n",
    "\n",
    "The conditional  probability, if $p(Y) > 0$, is"
   ]
  },
  {
   "cell_type": "markdown",
   "id": "5705568f",
   "metadata": {
    "editable": true
   },
   "source": [
    "$$\n",
    "p(X\\vert Y)= \\frac{p(X,Y)}{p(Y)}=\\frac{p(X,Y)}{\\sum_{i=0}^{n-1}p(Y\\vert X=x_i)p(x_i)}.\n",
    "$$"
   ]
  },
  {
   "cell_type": "markdown",
   "id": "ef0bee11",
   "metadata": {
    "editable": true
   },
   "source": [
    "## Bayes' Theorem\n",
    "\n",
    "If we combine the conditional probability with the marginal probability and the standard product rule, we have"
   ]
  },
  {
   "cell_type": "markdown",
   "id": "7569074e",
   "metadata": {
    "editable": true
   },
   "source": [
    "$$\n",
    "p(X\\vert Y)= \\frac{p(X,Y)}{p(Y)},\n",
    "$$"
   ]
  },
  {
   "cell_type": "markdown",
   "id": "3cecb6a2",
   "metadata": {
    "editable": true
   },
   "source": [
    "which we can rewrite as"
   ]
  },
  {
   "cell_type": "markdown",
   "id": "c76a1bc7",
   "metadata": {
    "editable": true
   },
   "source": [
    "$$\n",
    "p(X\\vert Y)= \\frac{p(X,Y)}{\\sum_{i=0}^{n-1}p(Y\\vert X=x_i)p(x_i)}=\\frac{p(Y\\vert X)p(X)}{\\sum_{i=0}^{n-1}p(Y\\vert X=x_i)p(x_i)},\n",
    "$$"
   ]
  },
  {
   "cell_type": "markdown",
   "id": "d97f5c86",
   "metadata": {
    "editable": true
   },
   "source": [
    "which is Bayes' theorem. It allows us to evaluate the uncertainty in in $X$ after we have observed $Y$. We can easily interchange $X$ with $Y$."
   ]
  },
  {
   "cell_type": "markdown",
   "id": "6e5646ae",
   "metadata": {
    "editable": true
   },
   "source": [
    "## Interpretations of Bayes' Theorem\n",
    "\n",
    "The quantity $p(Y\\vert X)$ on the right-hand side of the theorem is\n",
    "evaluated for the observed data $Y$ and can be viewed as a function of\n",
    "the parameter space represented by $X$. This function is not\n",
    "necesseraly normalized and is normally called the likelihood function.\n",
    "\n",
    "The function $p(X)$ on the right hand side is called the prior while the function on the left hand side is the called the posterior probability. The denominator on the right hand side serves as a normalization factor for the posterior distribution.\n",
    "\n",
    "Let us try to illustrate Bayes' theorem through an example."
   ]
  },
  {
   "cell_type": "markdown",
   "id": "3a23e77a",
   "metadata": {
    "editable": true
   },
   "source": [
    "## Example of Usage of Bayes' theorem\n",
    "\n",
    "Let us suppose that you are undergoing a series of mammography scans in\n",
    "order to rule out possible breast cancer cases.  We define the\n",
    "sensitivity for a positive event by the variable $X$. It takes binary\n",
    "values with $X=1$ representing a positive event and $X=0$ being a\n",
    "negative event. We reserve $Y$ as a classification parameter for\n",
    "either a negative or a positive breast cancer confirmation. (Short note on wordings: positive here means having breast cancer, although none of us would consider this being a  positive thing).\n",
    "\n",
    "We let $Y=1$ represent the the case of having breast cancer and $Y=0$ as not.\n",
    "\n",
    "Let us assume that if you have breast cancer, the test will be positive with a probability of $0.8$, that is we have"
   ]
  },
  {
   "cell_type": "markdown",
   "id": "7432af91",
   "metadata": {
    "editable": true
   },
   "source": [
    "$$\n",
    "p(X=1\\vert Y=1) =0.8.\n",
    "$$"
   ]
  },
  {
   "cell_type": "markdown",
   "id": "ea23569c",
   "metadata": {
    "editable": true
   },
   "source": [
    "This obviously sounds  scary since many would conclude that if the test is positive, there is a likelihood of $80\\%$ for having cancer.\n",
    "It is however not correct, as the following Bayesian analysis shows."
   ]
  },
  {
   "cell_type": "markdown",
   "id": "18e40c37",
   "metadata": {
    "editable": true
   },
   "source": [
    "## Doing it correctly\n",
    "\n",
    "If we look at various national surveys on breast cancer, the general likelihood of developing breast cancer is a very small number.\n",
    "Let us assume that the prior probability in the population as a whole is"
   ]
  },
  {
   "cell_type": "markdown",
   "id": "5c32a5c2",
   "metadata": {
    "editable": true
   },
   "source": [
    "$$\n",
    "p(Y=1) =0.004.\n",
    "$$"
   ]
  },
  {
   "cell_type": "markdown",
   "id": "b84fb7fb",
   "metadata": {
    "editable": true
   },
   "source": [
    "We need also to account for the fact that the test may produce a false positive result (false alarm). Let us here assume that we have"
   ]
  },
  {
   "cell_type": "markdown",
   "id": "2c3b605b",
   "metadata": {
    "editable": true
   },
   "source": [
    "$$\n",
    "p(X=1\\vert Y=0) =0.1.\n",
    "$$"
   ]
  },
  {
   "cell_type": "markdown",
   "id": "d05ca03a",
   "metadata": {
    "editable": true
   },
   "source": [
    "Using Bayes' theorem we can then find the posterior probability that the person has breast cancer in case of a positive test, that is we can compute"
   ]
  },
  {
   "cell_type": "markdown",
   "id": "4f4cee49",
   "metadata": {
    "editable": true
   },
   "source": [
    "$$\n",
    "p(Y=1\\vert X=1)=\\frac{p(X=1\\vert Y=1)p(Y=1)}{p(X=1\\vert Y=1)p(Y=1)+p(X=1\\vert Y=0)p(Y=0)}=\\frac{0.8\\times 0.004}{0.8\\times 0.004+0.1\\times 0.996}=0.031.\n",
    "$$"
   ]
  },
  {
   "cell_type": "markdown",
   "id": "4176d701",
   "metadata": {
    "editable": true
   },
   "source": [
    "That is, in case of a positive test, there is only a $3\\%$ chance of having breast cancer!"
   ]
  },
  {
   "cell_type": "markdown",
   "id": "5ad8813c",
   "metadata": {
    "editable": true
   },
   "source": [
    "## Bayes' Theorem and Ridge and Lasso Regression\n",
    "\n",
    "Using Bayes' theorem we can gain a better intuition about Ridge and Lasso regression. \n",
    "\n",
    "For ordinary least squares we postulated that the maximum likelihood for the doamin of events $\\boldsymbol{D}$ (one-dimensional case)"
   ]
  },
  {
   "cell_type": "markdown",
   "id": "450006d9",
   "metadata": {
    "editable": true
   },
   "source": [
    "$$\n",
    "\\boldsymbol{D}=[(x_0,y_0), (x_1,y_1),\\dots, (x_{n-1},y_{n-1})],\n",
    "$$"
   ]
  },
  {
   "cell_type": "markdown",
   "id": "1b2173c5",
   "metadata": {
    "editable": true
   },
   "source": [
    "is given by"
   ]
  },
  {
   "cell_type": "markdown",
   "id": "10b2d8ce",
   "metadata": {
    "editable": true
   },
   "source": [
    "$$\n",
    "p(\\boldsymbol{D}\\vert\\boldsymbol{\\beta})=\\prod_{i=0}^{n-1}\\frac{1}{\\sqrt{2\\pi\\sigma^2}}\\exp{\\left[-\\frac{(y_i-\\boldsymbol{X}_{i,*}\\boldsymbol{\\beta})^2}{2\\sigma^2}\\right]}.\n",
    "$$"
   ]
  },
  {
   "cell_type": "markdown",
   "id": "a18147f9",
   "metadata": {
    "editable": true
   },
   "source": [
    "In Bayes' theorem this function plays the role of the so-called likelihood. We could now ask the question what is the posterior probability of a parameter set $\\boldsymbol{\\beta}$ given a domain of events $\\boldsymbol{D}$?  That is, how can we define the posterior probability"
   ]
  },
  {
   "cell_type": "markdown",
   "id": "3214dac3",
   "metadata": {
    "editable": true
   },
   "source": [
    "$$\n",
    "p(\\boldsymbol{\\beta}\\vert\\boldsymbol{D}).\n",
    "$$"
   ]
  },
  {
   "cell_type": "markdown",
   "id": "bd650eeb",
   "metadata": {
    "editable": true
   },
   "source": [
    "Bayes' theorem comes to our rescue here since (omitting the normalization constant)"
   ]
  },
  {
   "cell_type": "markdown",
   "id": "08d630ed",
   "metadata": {
    "editable": true
   },
   "source": [
    "$$\n",
    "p(\\boldsymbol{\\beta}\\vert\\boldsymbol{D})\\propto p(\\boldsymbol{D}\\vert\\boldsymbol{\\beta})p(\\boldsymbol{\\beta}).\n",
    "$$"
   ]
  },
  {
   "cell_type": "markdown",
   "id": "582ebf85",
   "metadata": {
    "editable": true
   },
   "source": [
    "We have a model for $p(\\boldsymbol{D}\\vert\\boldsymbol{\\beta})$ but need one for the **prior** $p(\\boldsymbol{\\beta})$!"
   ]
  },
  {
   "cell_type": "markdown",
   "id": "1a53c784",
   "metadata": {
    "editable": true
   },
   "source": [
    "## Ridge and Bayes\n",
    "\n",
    "With the posterior probability defined by a likelihood which we have\n",
    "already modeled and an unknown prior, we are now ready to make\n",
    "additional models for the prior.\n",
    "\n",
    "We can, based on our discussions of the variance of $\\boldsymbol{\\beta}$ and the mean value, assume that the prior for the values $\\boldsymbol{\\beta}$ is given by a Gaussian with mean value zero and variance $\\tau^2$, that is"
   ]
  },
  {
   "cell_type": "markdown",
   "id": "89f8d622",
   "metadata": {
    "editable": true
   },
   "source": [
    "$$\n",
    "p(\\boldsymbol{\\beta})=\\prod_{j=0}^{p-1}\\exp{\\left(-\\frac{\\beta_j^2}{2\\tau^2}\\right)}.\n",
    "$$"
   ]
  },
  {
   "cell_type": "markdown",
   "id": "f1138958",
   "metadata": {
    "editable": true
   },
   "source": [
    "Our posterior probability becomes then (omitting the normalization factor which is just a constant)"
   ]
  },
  {
   "cell_type": "markdown",
   "id": "c4b8fdc1",
   "metadata": {
    "editable": true
   },
   "source": [
    "$$\n",
    "p(\\boldsymbol{\\beta\\vert\\boldsymbol{D})}=\\prod_{i=0}^{n-1}\\frac{1}{\\sqrt{2\\pi\\sigma^2}}\\exp{\\left[-\\frac{(y_i-\\boldsymbol{X}_{i,*}\\boldsymbol{\\beta})^2}{2\\sigma^2}\\right]}\\prod_{j=0}^{p-1}\\exp{\\left(-\\frac{\\beta_j^2}{2\\tau^2}\\right)}.\n",
    "$$"
   ]
  },
  {
   "cell_type": "markdown",
   "id": "0e65c2b7",
   "metadata": {
    "editable": true
   },
   "source": [
    "We can now optimize this quantity with respect to $\\boldsymbol{\\beta}$. As we\n",
    "did for OLS, this is most conveniently done by taking the negative\n",
    "logarithm of the posterior probability. Doing so and leaving out the\n",
    "constants terms that do not depend on $\\beta$, we have"
   ]
  },
  {
   "cell_type": "markdown",
   "id": "4f7bc40c",
   "metadata": {
    "editable": true
   },
   "source": [
    "$$\n",
    "C(\\boldsymbol{\\beta})=\\frac{\\vert\\vert (\\boldsymbol{y}-\\boldsymbol{X}\\boldsymbol{\\beta})\\vert\\vert_2^2}{2\\sigma^2}+\\frac{1}{2\\tau^2}\\vert\\vert\\boldsymbol{\\beta}\\vert\\vert_2^2,\n",
    "$$"
   ]
  },
  {
   "cell_type": "markdown",
   "id": "f1c44499",
   "metadata": {
    "editable": true
   },
   "source": [
    "and replacing $1/2\\tau^2$ with $\\lambda$ we have"
   ]
  },
  {
   "cell_type": "markdown",
   "id": "215c872a",
   "metadata": {
    "editable": true
   },
   "source": [
    "$$\n",
    "C(\\boldsymbol{\\beta})=\\frac{\\vert\\vert (\\boldsymbol{y}-\\boldsymbol{X}\\boldsymbol{\\beta})\\vert\\vert_2^2}{2\\sigma^2}+\\lambda\\vert\\vert\\boldsymbol{\\beta}\\vert\\vert_2^2,\n",
    "$$"
   ]
  },
  {
   "cell_type": "markdown",
   "id": "a248bb79",
   "metadata": {
    "editable": true
   },
   "source": [
    "which is our Ridge cost function!  Nice, isn't it?"
   ]
  },
  {
   "cell_type": "markdown",
   "id": "bdc951a2",
   "metadata": {
    "editable": true
   },
   "source": [
    "## Lasso and Bayes\n",
    "\n",
    "To derive the Lasso cost function, we simply replace the Gaussian prior with an exponential distribution ([Laplace in this case](https://en.wikipedia.org/wiki/Laplace_distribution)) with zero mean value,  that is"
   ]
  },
  {
   "cell_type": "markdown",
   "id": "ce54b5ff",
   "metadata": {
    "editable": true
   },
   "source": [
    "$$\n",
    "p(\\boldsymbol{\\beta})=\\prod_{j=0}^{p-1}\\exp{\\left(-\\frac{\\vert\\beta_j\\vert}{\\tau}\\right)}.\n",
    "$$"
   ]
  },
  {
   "cell_type": "markdown",
   "id": "a158d0d6",
   "metadata": {
    "editable": true
   },
   "source": [
    "Our posterior probability becomes then (omitting the normalization factor which is just a constant)"
   ]
  },
  {
   "cell_type": "markdown",
   "id": "b1010f4a",
   "metadata": {
    "editable": true
   },
   "source": [
    "$$\n",
    "p(\\boldsymbol{\\beta}\\vert\\boldsymbol{D})=\\prod_{i=0}^{n-1}\\frac{1}{\\sqrt{2\\pi\\sigma^2}}\\exp{\\left[-\\frac{(y_i-\\boldsymbol{X}_{i,*}\\boldsymbol{\\beta})^2}{2\\sigma^2}\\right]}\\prod_{j=0}^{p-1}\\exp{\\left(-\\frac{\\vert\\beta_j\\vert}{\\tau}\\right)}.\n",
    "$$"
   ]
  },
  {
   "cell_type": "markdown",
   "id": "48b806e1",
   "metadata": {
    "editable": true
   },
   "source": [
    "Taking the negative\n",
    "logarithm of the posterior probability and leaving out the\n",
    "constants terms that do not depend on $\\beta$, we have"
   ]
  },
  {
   "cell_type": "markdown",
   "id": "4e3090e9",
   "metadata": {
    "editable": true
   },
   "source": [
    "$$\n",
    "C(\\boldsymbol{\\beta})=\\frac{\\vert\\vert (\\boldsymbol{y}-\\boldsymbol{X}\\boldsymbol{\\beta})\\vert\\vert_2^2}{2\\sigma^2}+\\frac{1}{\\tau}\\vert\\vert\\boldsymbol{\\beta}\\vert\\vert_1,\n",
    "$$"
   ]
  },
  {
   "cell_type": "markdown",
   "id": "af23d3a1",
   "metadata": {
    "editable": true
   },
   "source": [
    "and replacing $1/\\tau$ with $\\lambda$ we have"
   ]
  },
  {
   "cell_type": "markdown",
   "id": "72d5f20a",
   "metadata": {
    "editable": true
   },
   "source": [
    "$$\n",
    "C(\\boldsymbol{\\beta})=\\frac{\\vert\\vert (\\boldsymbol{y}-\\boldsymbol{X}\\boldsymbol{\\beta})\\vert\\vert_2^2}{2\\sigma^2}+\\lambda\\vert\\vert\\boldsymbol{\\beta}\\vert\\vert_1,\n",
    "$$"
   ]
  },
  {
   "cell_type": "markdown",
   "id": "45d3140f",
   "metadata": {
    "editable": true
   },
   "source": [
    "which is our Lasso cost function!"
   ]
  },
  {
   "cell_type": "markdown",
   "id": "6c40d9a0",
   "metadata": {
    "editable": true
   },
   "source": [
    "## Why resampling methods\n",
    "\n",
    "Before we proceed, we need to rethink what we have been doing. In our\n",
    "eager to fit the data, we have omitted several important elements in\n",
    "our regression analysis. In what follows we will\n",
    "1. look at statistical properties, including a discussion of mean values, variance and the so-called bias-variance tradeoff\n",
    "\n",
    "2. introduce resampling techniques like cross-validation, bootstrapping and jackknife and more\n",
    "\n",
    "and discuss how to select a given model (one of the difficult parts in machine learning)."
   ]
  },
  {
   "cell_type": "markdown",
   "id": "bc0ed879",
   "metadata": {
    "editable": true
   },
   "source": [
    "## Resampling methods\n",
    "Resampling methods are an indispensable tool in modern\n",
    "statistics. They involve repeatedly drawing samples from a training\n",
    "set and refitting a model of interest on each sample in order to\n",
    "obtain additional information about the fitted model. For example, in\n",
    "order to estimate the variability of a linear regression fit, we can\n",
    "repeatedly draw different samples from the training data, fit a linear\n",
    "regression to each new sample, and then examine the extent to which\n",
    "the resulting fits differ. Such an approach may allow us to obtain\n",
    "information that would not be available from fitting the model only\n",
    "once using the original training sample.\n",
    "\n",
    "Two resampling methods are often used in Machine Learning analyses,\n",
    "1. The **bootstrap method**\n",
    "\n",
    "2. and **Cross-Validation**\n",
    "\n",
    "In addition there are several other methods such as the Jackknife and the Blocking methods. We will discuss in particular\n",
    "cross-validation and the bootstrap method."
   ]
  },
  {
   "cell_type": "markdown",
   "id": "a2f50278",
   "metadata": {
    "editable": true
   },
   "source": [
    "## Resampling approaches can be computationally expensive\n",
    "\n",
    "Resampling approaches can be computationally expensive, because they\n",
    "involve fitting the same statistical method multiple times using\n",
    "different subsets of the training data. However, due to recent\n",
    "advances in computing power, the computational requirements of\n",
    "resampling methods generally are not prohibitive. In this chapter, we\n",
    "discuss two of the most commonly used resampling methods,\n",
    "cross-validation and the bootstrap. Both methods are important tools\n",
    "in the practical application of many statistical learning\n",
    "procedures. For example, cross-validation can be used to estimate the\n",
    "test error associated with a given statistical learning method in\n",
    "order to evaluate its performance, or to select the appropriate level\n",
    "of flexibility. The process of evaluating a model’s performance is\n",
    "known as model assessment, whereas the process of selecting the proper\n",
    "level of flexibility for a model is known as model selection. The\n",
    "bootstrap is widely used."
   ]
  },
  {
   "cell_type": "markdown",
   "id": "d05b795a",
   "metadata": {
    "editable": true
   },
   "source": [
    "## Why resampling methods ?\n",
    "**Statistical analysis.**\n",
    "\n",
    "* Our simulations can be treated as *computer experiments*. This is particularly the case for Monte Carlo methods which are widely used in statistical analyses.\n",
    "\n",
    "* The results can be analysed with the same statistical tools as we would use when analysing experimental data.\n",
    "\n",
    "* As in all experiments, we are looking for expectation values and an estimate of how accurate they are, i.e., possible sources for errors."
   ]
  },
  {
   "cell_type": "markdown",
   "id": "61291aec",
   "metadata": {
    "editable": true
   },
   "source": [
    "## Statistical analysis\n",
    "\n",
    "* As in other experiments, many numerical  experiments have two classes of errors:\n",
    "\n",
    "  * Statistical errors\n",
    "\n",
    "  * Systematical errors\n",
    "\n",
    "* Statistical errors can be estimated using standard tools from statistics\n",
    "\n",
    "* Systematical errors are method specific and must be treated differently from case to case."
   ]
  },
  {
   "cell_type": "markdown",
   "id": "e0053e66",
   "metadata": {
    "editable": true
   },
   "source": [
    "## Resampling methods\n",
    "\n",
    "With all these analytical equations for both the OLS and Ridge\n",
    "regression, we will now outline how to assess a given model. This will\n",
    "lead to a discussion of the so-called bias-variance tradeoff (see\n",
    "below) and so-called resampling methods.\n",
    "\n",
    "One of the quantities we have discussed as a way to measure errors is\n",
    "the mean-squared error (MSE), mainly used for fitting of continuous\n",
    "functions. Another choice is the absolute error.\n",
    "\n",
    "In the discussions below we will focus on the MSE and in particular since we will split the data into test and training data,\n",
    "we discuss the\n",
    "1. prediction error or simply the **test error** $\\mathrm{Err_{Test}}$, where we have a fixed training set and the test error is the MSE arising from the data reserved for testing. We discuss also the \n",
    "\n",
    "2. training error $\\mathrm{Err_{Train}}$, which is the average loss over the training data.\n",
    "\n",
    "As our model becomes more and more complex, more of the training data tends to  used. The training may thence adapt to more complicated structures in the data. This may lead to a decrease in the bias (see below for code example) and a slight increase of the variance for the test error.\n",
    "For a certain level of complexity the test error will reach minimum, before starting to increase again. The\n",
    "training error reaches a saturation."
   ]
  },
  {
   "cell_type": "markdown",
   "id": "5bc0cc49",
   "metadata": {
    "editable": true
   },
   "source": [
    "## Resampling methods: Bootstrap\n",
    "Bootstrapping is a [non-parametric approach](https://en.wikipedia.org/wiki/Nonparametric_statistics) to statistical inference\n",
    "that substitutes computation for more traditional distributional\n",
    "assumptions and asymptotic results. Bootstrapping offers a number of\n",
    "advantages: \n",
    "1. The bootstrap is quite general, although there are some cases in which it fails.  \n",
    "\n",
    "2. Because it does not require distributional assumptions (such as normally distributed errors), the bootstrap can provide more accurate inferences when the data are not well behaved or when the sample size is small.  \n",
    "\n",
    "3. It is possible to apply the bootstrap to statistics with sampling distributions that are difficult to derive, even asymptotically. \n",
    "\n",
    "4. It is relatively simple to apply the bootstrap to complex data-collection plans (such as stratified and clustered samples).\n",
    "\n",
    "The textbook by [Davison on the Bootstrap Methods and their Applications](https://www.cambridge.org/core/books/bootstrap-methods-and-their-application/ED2FD043579F27952363566DC09CBD6A) provides many more insights and proofs. In this course we will take a more practical approach and use the results and theorems provided in the literature. For those interested in reading more about the bootstrap methods, we recommend the above text and the one by [Efron and Tibshirani](https://www.routledge.com/An-Introduction-to-the-Bootstrap/Efron-Tibshirani/p/book/9780412042317).\n",
    "\n",
    "Before we proceed however, we need to remind ourselves about a central theorem in statistics, namely the so-called **central limit theorem**."
   ]
  },
  {
   "cell_type": "markdown",
   "id": "61de3a3e",
   "metadata": {
    "editable": true
   },
   "source": [
    "## The Central Limit Theorem\n",
    "\n",
    "Suppose we have a PDF $p(x)$ from which we generate  a series $N$\n",
    "of averages $\\mathbb{E}[x_i]$. Each mean value $\\mathbb{E}[x_i]$\n",
    "is viewed as the average of a specific measurement, e.g., throwing \n",
    "dice 100 times and then taking the average value, or producing a certain\n",
    "amount of random numbers. \n",
    "For notational ease, we set $\\mathbb{E}[x_i]=x_i$ in the discussion\n",
    "which follows. We do the same for $\\mathbb{E}[z]=z$.\n",
    "\n",
    "If we compute the mean $z$ of $m$ such mean values $x_i$"
   ]
  },
  {
   "cell_type": "markdown",
   "id": "45c40645",
   "metadata": {
    "editable": true
   },
   "source": [
    "$$\n",
    "z=\\frac{x_1+x_2+\\dots+x_m}{m},\n",
    "$$"
   ]
  },
  {
   "cell_type": "markdown",
   "id": "f96414b9",
   "metadata": {
    "editable": true
   },
   "source": [
    "the question we pose is which is the PDF of the new variable $z$."
   ]
  },
  {
   "cell_type": "markdown",
   "id": "89324724",
   "metadata": {
    "editable": true
   },
   "source": [
    "## Finding the Limit\n",
    "\n",
    "The probability of obtaining an average value $z$ is the product of the \n",
    "probabilities of obtaining arbitrary individual mean values $x_i$,\n",
    "but with the constraint that the average is $z$. We can express this through\n",
    "the following expression"
   ]
  },
  {
   "cell_type": "markdown",
   "id": "c7dc04c2",
   "metadata": {
    "editable": true
   },
   "source": [
    "$$\n",
    "\\tilde{p}(z)=\\int dx_1p(x_1)\\int dx_2p(x_2)\\dots\\int dx_mp(x_m)\n",
    "    \\delta(z-\\frac{x_1+x_2+\\dots+x_m}{m}),\n",
    "$$"
   ]
  },
  {
   "cell_type": "markdown",
   "id": "451e8d96",
   "metadata": {
    "editable": true
   },
   "source": [
    "where the $\\delta$-function enbodies the constraint that the mean is $z$.\n",
    "All measurements that lead to each individual $x_i$ are expected to\n",
    "be independent, which in turn means that we can express $\\tilde{p}$ as the \n",
    "product of individual $p(x_i)$.  The independence assumption is important in the derivation of the central limit theorem."
   ]
  },
  {
   "cell_type": "markdown",
   "id": "b857136e",
   "metadata": {
    "editable": true
   },
   "source": [
    "## Rewriting the $\\delta$-function\n",
    "\n",
    "If we use the integral expression for the $\\delta$-function"
   ]
  },
  {
   "cell_type": "markdown",
   "id": "81465668",
   "metadata": {
    "editable": true
   },
   "source": [
    "$$\n",
    "\\delta(z-\\frac{x_1+x_2+\\dots+x_m}{m})=\\frac{1}{2\\pi}\\int_{-\\infty}^{\\infty}\n",
    "   dq\\exp{\\left(iq(z-\\frac{x_1+x_2+\\dots+x_m}{m})\\right)},\n",
    "$$"
   ]
  },
  {
   "cell_type": "markdown",
   "id": "b145c9fd",
   "metadata": {
    "editable": true
   },
   "source": [
    "and inserting $e^{i\\mu q-i\\mu q}$ where $\\mu$ is the mean value\n",
    "we arrive at"
   ]
  },
  {
   "cell_type": "markdown",
   "id": "c2f110e5",
   "metadata": {
    "editable": true
   },
   "source": [
    "$$\n",
    "\\tilde{p}(z)=\\frac{1}{2\\pi}\\int_{-\\infty}^{\\infty}\n",
    "   dq\\exp{\\left(iq(z-\\mu)\\right)}\\left[\\int_{-\\infty}^{\\infty}\n",
    "   dxp(x)\\exp{\\left(iq(\\mu-x)/m\\right)}\\right]^m,\n",
    "$$"
   ]
  },
  {
   "cell_type": "markdown",
   "id": "9fffd309",
   "metadata": {
    "editable": true
   },
   "source": [
    "with the integral over $x$ resulting in"
   ]
  },
  {
   "cell_type": "markdown",
   "id": "6d1a1c34",
   "metadata": {
    "editable": true
   },
   "source": [
    "$$\n",
    "\\int_{-\\infty}^{\\infty}dxp(x)\\exp{\\left(iq(\\mu-x)/m\\right)}=\n",
    "  \\int_{-\\infty}^{\\infty}dxp(x)\n",
    "   \\left[1+\\frac{iq(\\mu-x)}{m}-\\frac{q^2(\\mu-x)^2}{2m^2}+\\dots\\right].\n",
    "$$"
   ]
  },
  {
   "cell_type": "markdown",
   "id": "3c425d33",
   "metadata": {
    "editable": true
   },
   "source": [
    "## Identifying Terms\n",
    "\n",
    "The second term on the rhs disappears since this is just the mean and \n",
    "employing the definition of $\\sigma^2$ we have"
   ]
  },
  {
   "cell_type": "markdown",
   "id": "d43d6aa9",
   "metadata": {
    "editable": true
   },
   "source": [
    "$$\n",
    "\\int_{-\\infty}^{\\infty}dxp(x)e^{\\left(iq(\\mu-x)/m\\right)}=\n",
    "  1-\\frac{q^2\\sigma^2}{2m^2}+\\dots,\n",
    "$$"
   ]
  },
  {
   "cell_type": "markdown",
   "id": "b8bd4093",
   "metadata": {
    "editable": true
   },
   "source": [
    "resulting in"
   ]
  },
  {
   "cell_type": "markdown",
   "id": "b46c892b",
   "metadata": {
    "editable": true
   },
   "source": [
    "$$\n",
    "\\left[\\int_{-\\infty}^{\\infty}dxp(x)\\exp{\\left(iq(\\mu-x)/m\\right)}\\right]^m\\approx\n",
    "  \\left[1-\\frac{q^2\\sigma^2}{2m^2}+\\dots \\right]^m,\n",
    "$$"
   ]
  },
  {
   "cell_type": "markdown",
   "id": "0a4fcb69",
   "metadata": {
    "editable": true
   },
   "source": [
    "and in the limit $m\\rightarrow \\infty$ we obtain"
   ]
  },
  {
   "cell_type": "markdown",
   "id": "9c6b1478",
   "metadata": {
    "editable": true
   },
   "source": [
    "$$\n",
    "\\tilde{p}(z)=\\frac{1}{\\sqrt{2\\pi}(\\sigma/\\sqrt{m})}\n",
    "    \\exp{\\left(-\\frac{(z-\\mu)^2}{2(\\sigma/\\sqrt{m})^2}\\right)},\n",
    "$$"
   ]
  },
  {
   "cell_type": "markdown",
   "id": "c179621d",
   "metadata": {
    "editable": true
   },
   "source": [
    "which is the normal distribution with variance\n",
    "$\\sigma^2_m=\\sigma^2/m$, where $\\sigma$ is the variance of the PDF $p(x)$\n",
    "and $\\mu$ is also the mean of the PDF $p(x)$."
   ]
  },
  {
   "cell_type": "markdown",
   "id": "de489be5",
   "metadata": {
    "editable": true
   },
   "source": [
    "## Wrapping it up\n",
    "\n",
    "Thus, the central limit theorem states that the PDF $\\tilde{p}(z)$ of\n",
    "the average of $m$ random values corresponding to a PDF $p(x)$ \n",
    "is a normal distribution whose mean is the \n",
    "mean value of the PDF $p(x)$ and whose variance is the variance\n",
    "of the PDF $p(x)$ divided by $m$, the number of values used to compute $z$.\n",
    "\n",
    "The central limit theorem leads to the well-known expression for the\n",
    "standard deviation, given by"
   ]
  },
  {
   "cell_type": "markdown",
   "id": "43c158c8",
   "metadata": {
    "editable": true
   },
   "source": [
    "$$\n",
    "\\sigma_m=\n",
    "\\frac{\\sigma}{\\sqrt{m}}.\n",
    "$$"
   ]
  },
  {
   "cell_type": "markdown",
   "id": "433141f0",
   "metadata": {
    "editable": true
   },
   "source": [
    "The latter is true only if the average value is known exactly. This is obtained in the limit\n",
    "$m\\rightarrow \\infty$  only. Because the mean and the variance are measured quantities we obtain \n",
    "the familiar expression in statistics (the so-called Bessel correction)"
   ]
  },
  {
   "cell_type": "markdown",
   "id": "68ffe84c",
   "metadata": {
    "editable": true
   },
   "source": [
    "$$\n",
    "\\sigma_m\\approx \n",
    "\\frac{\\sigma}{\\sqrt{m-1}}.\n",
    "$$"
   ]
  },
  {
   "cell_type": "markdown",
   "id": "c685143d",
   "metadata": {
    "editable": true
   },
   "source": [
    "In many cases however the above estimate for the standard deviation,\n",
    "in particular if correlations are strong, may be too simplistic. Keep\n",
    "in mind that we have assumed that the variables $x$ are independent\n",
    "and identically distributed. This is obviously not always the\n",
    "case. For example, the random numbers (or better pseudorandom numbers)\n",
    "we generate in various calculations do always exhibit some\n",
    "correlations.\n",
    "\n",
    "The theorem is satisfied by a large class of PDFs. Note however that for a\n",
    "finite $m$, it is not always possible to find a closed form /analytic expression for\n",
    "$\\tilde{p}(x)$."
   ]
  },
  {
   "cell_type": "markdown",
   "id": "ff2c6f80",
   "metadata": {
    "editable": true
   },
   "source": [
    "## Confidence Intervals\n",
    "\n",
    "Confidence intervals are used in statistics and represent a type of estimate\n",
    "computed from the observed data. This gives a range of values for an\n",
    "unknown parameter such as the parameters $\\boldsymbol{\\beta}$ from linear regression.\n",
    "\n",
    "With the OLS expressions for the parameters $\\boldsymbol{\\beta}$ we found \n",
    "$\\mathbb{E}(\\boldsymbol{\\beta}) = \\boldsymbol{\\beta}$, which means that the estimator of the regression parameters is unbiased.\n",
    "\n",
    "In the exercises this week we show that the variance of the estimate of the $j$-th regression coefficient is\n",
    "$\\boldsymbol{\\sigma}^2 (\\boldsymbol{\\beta}_j ) = \\boldsymbol{\\sigma}^2 [(\\mathbf{X}^{T} \\mathbf{X})^{-1}]_{jj} $.\n",
    "\n",
    "This quantity can be used to\n",
    "construct a confidence interval for the estimates."
   ]
  },
  {
   "cell_type": "markdown",
   "id": "de45a804",
   "metadata": {
    "editable": true
   },
   "source": [
    "## Standard Approach based on the Normal Distribution\n",
    "\n",
    "We will assume that the parameters $\\beta$ follow a normal\n",
    "distribution.  We can then define the confidence interval.  Here we will be using as\n",
    "shorthands $\\mu_{\\beta}$ for the above mean value and $\\sigma_{\\beta}$\n",
    "for the standard deviation. We have then a confidence interval"
   ]
  },
  {
   "cell_type": "markdown",
   "id": "7b76e657",
   "metadata": {
    "editable": true
   },
   "source": [
    "$$\n",
    "\\left(\\mu_{\\beta}\\pm \\frac{z\\sigma_{\\beta}}{\\sqrt{n}}\\right),\n",
    "$$"
   ]
  },
  {
   "cell_type": "markdown",
   "id": "68374b3c",
   "metadata": {
    "editable": true
   },
   "source": [
    "where $z$ defines the level of certainty (or confidence). For a normal\n",
    "distribution typical parameters are $z=2.576$ which corresponds to a\n",
    "confidence of $99\\%$ while $z=1.96$ corresponds to a confidence of\n",
    "$95\\%$.  A confidence level of $95\\%$ is commonly used and it is\n",
    "normally referred to as a *two-sigmas* confidence level, that is we\n",
    "approximate $z\\approx 2$.\n",
    "\n",
    "For more discussions of confidence intervals (and in particular linked with a discussion of the bootstrap method), see chapter 5 of the textbook by [Davison on the Bootstrap Methods and their Applications](https://www.cambridge.org/core/books/bootstrap-methods-and-their-application/ED2FD043579F27952363566DC09CBD6A)\n",
    "\n",
    "In this text you will also find an in-depth discussion of the\n",
    "Bootstrap method, why it works and various theorems related to it."
   ]
  },
  {
   "cell_type": "markdown",
   "id": "a33b3849",
   "metadata": {
    "editable": true
   },
   "source": [
    "## Resampling methods: Bootstrap background\n",
    "\n",
    "Since $\\widehat{\\beta} = \\widehat{\\beta}(\\boldsymbol{X})$ is a function of random variables,\n",
    "$\\widehat{\\beta}$ itself must be a random variable. Thus it has\n",
    "a pdf, call this function $p(\\boldsymbol{t})$. The aim of the bootstrap is to\n",
    "estimate $p(\\boldsymbol{t})$ by the relative frequency of\n",
    "$\\widehat{\\beta}$. You can think of this as using a histogram\n",
    "in the place of $p(\\boldsymbol{t})$. If the relative frequency closely\n",
    "resembles $p(\\vec{t})$, then using numerics, it is straight forward to\n",
    "estimate all the interesting parameters of $p(\\boldsymbol{t})$ using point\n",
    "estimators."
   ]
  },
  {
   "cell_type": "markdown",
   "id": "3d4a490b",
   "metadata": {
    "editable": true
   },
   "source": [
    "## Resampling methods: More Bootstrap background\n",
    "\n",
    "In the case that $\\widehat{\\beta}$ has\n",
    "more than one component, and the components are independent, we use the\n",
    "same estimator on each component separately.  If the probability\n",
    "density function of $X_i$, $p(x)$, had been known, then it would have\n",
    "been straightforward to do this by: \n",
    "1. Drawing lots of numbers from $p(x)$, suppose we call one such set of numbers $(X_1^*, X_2^*, \\cdots, X_n^*)$. \n",
    "\n",
    "2. Then using these numbers, we could compute a replica of $\\widehat{\\beta}$ called $\\widehat{\\beta}^*$. \n",
    "\n",
    "By repeated use of the above two points, many\n",
    "estimates of $\\widehat{\\beta}$ can  be obtained. The\n",
    "idea is to use the relative frequency of $\\widehat{\\beta}^*$\n",
    "(think of a histogram) as an estimate of $p(\\boldsymbol{t})$."
   ]
  },
  {
   "cell_type": "markdown",
   "id": "293c5a07",
   "metadata": {
    "editable": true
   },
   "source": [
    "## Resampling methods: Bootstrap approach\n",
    "\n",
    "But\n",
    "unless there is enough information available about the process that\n",
    "generated $X_1,X_2,\\cdots,X_n$, $p(x)$ is in general\n",
    "unknown. Therefore, [Efron in 1979](https://projecteuclid.org/euclid.aos/1176344552)  asked the\n",
    "question: What if we replace $p(x)$ by the relative frequency\n",
    "of the observation $X_i$?\n",
    "\n",
    "If we draw observations in accordance with\n",
    "the relative frequency of the observations, will we obtain the same\n",
    "result in some asymptotic sense? The answer is yes."
   ]
  },
  {
   "cell_type": "markdown",
   "id": "21a752e9",
   "metadata": {
    "editable": true
   },
   "source": [
    "## Resampling methods: Bootstrap steps\n",
    "\n",
    "The independent bootstrap works like this: \n",
    "\n",
    "1. Draw with replacement $n$ numbers for the observed variables $\\boldsymbol{x} = (x_1,x_2,\\cdots,x_n)$. \n",
    "\n",
    "2. Define a vector $\\boldsymbol{x}^*$ containing the values which were drawn from $\\boldsymbol{x}$. \n",
    "\n",
    "3. Using the vector $\\boldsymbol{x}^*$ compute $\\widehat{\\beta}^*$ by evaluating $\\widehat \\beta$ under the observations $\\boldsymbol{x}^*$. \n",
    "\n",
    "4. Repeat this process $k$ times. \n",
    "\n",
    "When you are done, you can draw a histogram of the relative frequency\n",
    "of $\\widehat \\beta^*$. This is your estimate of the probability\n",
    "distribution $p(t)$. Using this probability distribution you can\n",
    "estimate any statistics thereof. In principle you never draw the\n",
    "histogram of the relative frequency of $\\widehat{\\beta}^*$. Instead\n",
    "you use the estimators corresponding to the statistic of interest. For\n",
    "example, if you are interested in estimating the variance of $\\widehat\n",
    "\\beta$, apply the etsimator $\\widehat \\sigma^2$ to the values\n",
    "$\\widehat \\beta^*$."
   ]
  },
  {
   "cell_type": "markdown",
   "id": "8409d109",
   "metadata": {
    "editable": true
   },
   "source": [
    "## Code example for the Bootstrap method\n",
    "\n",
    "The following code starts with a Gaussian distribution with mean value\n",
    "$\\mu =100$ and variance $\\sigma=15$. We use this to generate the data\n",
    "used in the bootstrap analysis. The bootstrap analysis returns a data\n",
    "set after a given number of bootstrap operations (as many as we have\n",
    "data points). This data set consists of estimated mean values for each\n",
    "bootstrap operation. The histogram generated by the bootstrap method\n",
    "shows that the distribution for these mean values is also a Gaussian,\n",
    "centered around the mean value $\\mu=100$ but with standard deviation\n",
    "$\\sigma/\\sqrt{n}$, where $n$ is the number of bootstrap samples (in\n",
    "this case the same as the number of original data points). The value\n",
    "of the standard deviation is what we expect from the central limit\n",
    "theorem."
   ]
  },
  {
   "cell_type": "code",
   "execution_count": 1,
   "id": "82f5a45c",
   "metadata": {
    "collapsed": false,
    "editable": true
   },
   "outputs": [
    {
     "name": "stdout",
     "output_type": "stream",
     "text": [
      "Bootstrap Statistics :\n",
      "original           bias      std. error\n",
      "  99.868  14.9903        99.8668        0.151467\n"
     ]
    }
   ],
   "source": [
    "%matplotlib inline\n",
    "\n",
    "import numpy as np\n",
    "from time import time\n",
    "from scipy.stats import norm\n",
    "import matplotlib.pyplot as plt\n",
    "\n",
    "# Returns mean of bootstrap samples \n",
    "# Bootstrap algorithm\n",
    "def bootstrap(data, datapoints):\n",
    "    t = np.zeros(datapoints)\n",
    "    n = len(data)\n",
    "    # non-parametric bootstrap         \n",
    "    for i in range(datapoints):\n",
    "        t[i] = np.mean(data[np.random.randint(0,n,n)])\n",
    "    # analysis    \n",
    "    print(\"Bootstrap Statistics :\")\n",
    "    print(\"original           bias      std. error\")\n",
    "    print(\"%8g %8g %14g %15g\" % (np.mean(data), np.std(data),np.mean(t),np.std(t)))\n",
    "    return t\n",
    "\n",
    "# We set the mean value to 100 and the standard deviation to 15\n",
    "mu, sigma = 100, 15\n",
    "datapoints = 10000\n",
    "# We generate random numbers according to the normal distribution\n",
    "x = mu + sigma*np.random.randn(datapoints)\n",
    "# bootstrap returns the data sample                                    \n",
    "t = bootstrap(x, datapoints)"
   ]
  },
  {
   "cell_type": "markdown",
   "id": "b1c292eb",
   "metadata": {
    "editable": true
   },
   "source": [
    "We see that our new variance and from that the standard deviation, agrees with the central limit theorem."
   ]
  },
  {
   "cell_type": "markdown",
   "id": "19a2ff64",
   "metadata": {
    "editable": true
   },
   "source": [
    "## Plotting the Histogram"
   ]
  },
  {
   "cell_type": "code",
   "execution_count": 2,
   "id": "0e3146d6",
   "metadata": {
    "collapsed": false,
    "editable": true
   },
   "outputs": [
    {
     "data": {
      "image/png": "[encoded data removed]",
      "text/plain": [
       "<Figure size 640x480 with 1 Axes>"
      ]
     },
     "metadata": {},
     "output_type": "display_data"
    }
   ],
   "source": [
    "# the histogram of the bootstrapped data (normalized data if density = True)\n",
    "n, binsboot, patches = plt.hist(t, 50, density=True, facecolor='red', alpha=0.75)\n",
    "# add a 'best fit' line  \n",
    "y = norm.pdf(binsboot, np.mean(t), np.std(t))\n",
    "lt = plt.plot(binsboot, y, 'b', linewidth=1)\n",
    "plt.xlabel('x')\n",
    "plt.ylabel('Probability')\n",
    "plt.grid(True)\n",
    "plt.show()"
   ]
  },
  {
   "cell_type": "markdown",
   "id": "33a2920b",
   "metadata": {
    "editable": true
   },
   "source": [
    "## The bias-variance tradeoff\n",
    "\n",
    "We will discuss the bias-variance tradeoff in the context of\n",
    "continuous predictions such as regression. However, many of the\n",
    "intuitions and ideas discussed here also carry over to classification\n",
    "tasks. Consider a dataset $\\mathcal{D}$ consisting of the data\n",
    "$\\mathbf{X}_\\mathcal{D}=\\{(y_j, \\boldsymbol{x}_j), j=0\\ldots n-1\\}$. \n",
    "\n",
    "Let us assume that the true data is generated from a noisy model"
   ]
  },
  {
   "cell_type": "markdown",
   "id": "dcd7d41e",
   "metadata": {
    "editable": true
   },
   "source": [
    "$$\n",
    "\\boldsymbol{y}=f(\\boldsymbol{x}) + \\boldsymbol{\\epsilon}\n",
    "$$"
   ]
  },
  {
   "cell_type": "markdown",
   "id": "7a13a154",
   "metadata": {
    "editable": true
   },
   "source": [
    "where $\\epsilon$ is normally distributed with mean zero and standard deviation $\\sigma^2$.\n",
    "\n",
    "In our derivation of the ordinary least squares method we defined then\n",
    "an approximation to the function $f$ in terms of the parameters\n",
    "$\\boldsymbol{\\beta}$ and the design matrix $\\boldsymbol{X}$ which embody our model,\n",
    "that is $\\boldsymbol{\\tilde{y}}=\\boldsymbol{X}\\boldsymbol{\\beta}$. \n",
    "\n",
    "Thereafter we found the parameters $\\boldsymbol{\\beta}$ by optimizing the means squared error via the so-called cost function"
   ]
  },
  {
   "cell_type": "markdown",
   "id": "12c56a3e",
   "metadata": {
    "editable": true
   },
   "source": [
    "$$\n",
    "C(\\boldsymbol{X},\\boldsymbol{\\beta}) =\\frac{1}{n}\\sum_{i=0}^{n-1}(y_i-\\tilde{y}_i)^2=\\mathbb{E}\\left[(\\boldsymbol{y}-\\boldsymbol{\\tilde{y}})^2\\right].\n",
    "$$"
   ]
  },
  {
   "cell_type": "markdown",
   "id": "ded9dfd0",
   "metadata": {
    "editable": true
   },
   "source": [
    "We can rewrite this as"
   ]
  },
  {
   "cell_type": "markdown",
   "id": "5c8be1fb",
   "metadata": {
    "editable": true
   },
   "source": [
    "$$\n",
    "\\mathbb{E}\\left[(\\boldsymbol{y}-\\boldsymbol{\\tilde{y}})^2\\right]=\\frac{1}{n}\\sum_i(f_i-\\mathbb{E}\\left[\\boldsymbol{\\tilde{y}}\\right])^2+\\frac{1}{n}\\sum_i(\\tilde{y}_i-\\mathbb{E}\\left[\\boldsymbol{\\tilde{y}}\\right])^2+\\sigma^2.\n",
    "$$"
   ]
  },
  {
   "cell_type": "markdown",
   "id": "6ae6d83b",
   "metadata": {
    "editable": true
   },
   "source": [
    "The three terms represent the square of the bias of the learning\n",
    "method, which can be thought of as the error caused by the simplifying\n",
    "assumptions built into the method. The second term represents the\n",
    "variance of the chosen model and finally the last terms is variance of\n",
    "the error $\\boldsymbol{\\epsilon}$.\n",
    "\n",
    "To derive this equation, we need to recall that the variance of $\\boldsymbol{y}$ and $\\boldsymbol{\\epsilon}$ are both equal to $\\sigma^2$. The mean value of $\\boldsymbol{\\epsilon}$ is by definition equal to zero. Furthermore, the function $f$ is not a stochastics variable, idem for $\\boldsymbol{\\tilde{y}}$.\n",
    "We use a more compact notation in terms of the expectation value"
   ]
  },
  {
   "cell_type": "markdown",
   "id": "ac6ad12e",
   "metadata": {
    "editable": true
   },
   "source": [
    "$$\n",
    "\\mathbb{E}\\left[(\\boldsymbol{y}-\\boldsymbol{\\tilde{y}})^2\\right]=\\mathbb{E}\\left[(\\boldsymbol{f}+\\boldsymbol{\\epsilon}-\\boldsymbol{\\tilde{y}})^2\\right],\n",
    "$$"
   ]
  },
  {
   "cell_type": "markdown",
   "id": "24cd6a77",
   "metadata": {
    "editable": true
   },
   "source": [
    "and adding and subtracting $\\mathbb{E}\\left[\\boldsymbol{\\tilde{y}}\\right]$ we get"
   ]
  },
  {
   "cell_type": "markdown",
   "id": "82580456",
   "metadata": {
    "editable": true
   },
   "source": [
    "$$\n",
    "\\mathbb{E}\\left[(\\boldsymbol{y}-\\boldsymbol{\\tilde{y}})^2\\right]=\\mathbb{E}\\left[(\\boldsymbol{f}+\\boldsymbol{\\epsilon}-\\boldsymbol{\\tilde{y}}+\\mathbb{E}\\left[\\boldsymbol{\\tilde{y}}\\right]-\\mathbb{E}\\left[\\boldsymbol{\\tilde{y}}\\right])^2\\right],\n",
    "$$"
   ]
  },
  {
   "cell_type": "markdown",
   "id": "542a056a",
   "metadata": {
    "editable": true
   },
   "source": [
    "which, using the abovementioned expectation values can be rewritten as"
   ]
  },
  {
   "cell_type": "markdown",
   "id": "12d87c8f",
   "metadata": {
    "editable": true
   },
   "source": [
    "$$\n",
    "\\mathbb{E}\\left[(\\boldsymbol{y}-\\boldsymbol{\\tilde{y}})^2\\right]=\\mathbb{E}\\left[(\\boldsymbol{y}-\\mathbb{E}\\left[\\boldsymbol{\\tilde{y}}\\right])^2\\right]+\\mathrm{Var}\\left[\\boldsymbol{\\tilde{y}}\\right]+\\sigma^2,\n",
    "$$"
   ]
  },
  {
   "cell_type": "markdown",
   "id": "661e392d",
   "metadata": {
    "editable": true
   },
   "source": [
    "that is the rewriting in terms of the so-called bias, the variance of the model $\\boldsymbol{\\tilde{y}}$ and the variance of $\\boldsymbol{\\epsilon}$."
   ]
  },
  {
   "cell_type": "markdown",
   "id": "c92115cc",
   "metadata": {
    "editable": true
   },
   "source": [
    "## A way to Read the Bias-Variance Tradeoff\n",
    "\n",
    "<!-- dom:FIGURE: [figures/BiasVariance.png, width=600 frac=0.9] -->\n",
    "<!-- begin figure -->\n",
    "\n",
    "<img src=\"figures/BiasVariance.png\" width=\"600\"><p style=\"font-size: 0.9em\"><i>Figure 1: </i></p>\n",
    "<!-- end figure -->"
   ]
  },
  {
   "cell_type": "markdown",
   "id": "555ecab7",
   "metadata": {
    "editable": true
   },
   "source": [
    "## Example code for Bias-Variance tradeoff"
   ]
  },
  {
   "cell_type": "code",
   "execution_count": 3,
   "id": "a1e3bf2d",
   "metadata": {
    "collapsed": false,
    "editable": true
   },
   "outputs": [
    {
     "name": "stdout",
     "output_type": "stream",
     "text": [
      "Error: 0.013121574062344646\n",
      "Bias^2: 0.01207364947038893\n",
      "Var: 0.0010479245919557156\n",
      "0.013121574062344646 >= 0.01207364947038893 + 0.0010479245919557156 = 0.013121574062344646\n"
     ]
    },
    {
     "data": {
      "image/png": "[encoded data removed]",
      "text/plain": [
       "<Figure size 640x480 with 1 Axes>"
      ]
     },
     "metadata": {},
     "output_type": "display_data"
    }
   ],
   "source": [
    "import matplotlib.pyplot as plt\n",
    "import numpy as np\n",
    "from sklearn.linear_model import LinearRegression, Ridge, Lasso\n",
    "from sklearn.preprocessing import PolynomialFeatures\n",
    "from sklearn.model_selection import train_test_split\n",
    "from sklearn.pipeline import make_pipeline\n",
    "from sklearn.utils import resample\n",
    "\n",
    "np.random.seed(2018)\n",
    "\n",
    "n = 500\n",
    "n_boostraps = 100\n",
    "degree = 18  # A quite high value, just to show.\n",
    "noise = 0.1\n",
    "\n",
    "# Make data set.\n",
    "x = np.linspace(-1, 3, n).reshape(-1, 1)\n",
    "y = np.exp(-x**2) + 1.5 * np.exp(-(x-2)**2) + np.random.normal(0, 0.1, x.shape)\n",
    "\n",
    "# Hold out some test data that is never used in training.\n",
    "x_train, x_test, y_train, y_test = train_test_split(x, y, test_size=0.2)\n",
    "\n",
    "# Combine x transformation and model into one operation.\n",
    "# Not neccesary, but convenient.\n",
    "model = make_pipeline(PolynomialFeatures(degree=degree), LinearRegression(fit_intercept=False))\n",
    "\n",
    "# The following (m x n_bootstraps) matrix holds the column vectors y_pred\n",
    "# for each bootstrap iteration.\n",
    "y_pred = np.empty((y_test.shape[0], n_boostraps))\n",
    "for i in range(n_boostraps):\n",
    "    x_, y_ = resample(x_train, y_train)\n",
    "\n",
    "    # Evaluate the new model on the same test data each time.\n",
    "    y_pred[:, i] = model.fit(x_, y_).predict(x_test).ravel()\n",
    "\n",
    "# Note: Expectations and variances taken w.r.t. different training\n",
    "# data sets, hence the axis=1. Subsequent means are taken across the test data\n",
    "# set in order to obtain a total value, but before this we have error/bias/variance\n",
    "# calculated per data point in the test set.\n",
    "# Note 2: The use of keepdims=True is important in the calculation of bias as this \n",
    "# maintains the column vector form. Dropping this yields very unexpected results.\n",
    "error = np.mean( np.mean((y_test - y_pred)**2, axis=1, keepdims=True) )\n",
    "bias = np.mean( (y_test - np.mean(y_pred, axis=1, keepdims=True))**2 )\n",
    "variance = np.mean( np.var(y_pred, axis=1, keepdims=True) )\n",
    "print('Error:', error)\n",
    "print('Bias^2:', bias)\n",
    "print('Var:', variance)\n",
    "print('{} >= {} + {} = {}'.format(error, bias, variance, bias+variance))\n",
    "\n",
    "plt.plot(x[::5, :], y[::5, :], label='f(x)')\n",
    "plt.scatter(x_test, y_test, label='Data points')\n",
    "plt.scatter(x_test, np.mean(y_pred, axis=1), label='Pred')\n",
    "plt.legend()\n",
    "plt.show()"
   ]
  },
  {
   "cell_type": "markdown",
   "id": "b05eafde",
   "metadata": {
    "editable": true
   },
   "source": [
    "## Understanding what happens"
   ]
  },
  {
   "cell_type": "code",
   "execution_count": 4,
   "id": "23e711c6",
   "metadata": {
    "collapsed": false,
    "editable": true
   },
   "outputs": [
    {
     "name": "stdout",
     "output_type": "stream",
     "text": [
      "Polynomial degree: 0\n",
      "Error: 0.32149601703519115\n",
      "Bias^2: 0.3123314713548606\n",
      "Var: 0.009164545680330616\n",
      "0.32149601703519115 >= 0.3123314713548606 + 0.009164545680330616 = 0.3214960170351912\n",
      "Polynomial degree: 1\n",
      "Error: 0.08426840630693412\n",
      "Bias^2: 0.0796891867672603\n",
      "Var: 0.004579219539673834\n",
      "0.08426840630693412 >= 0.0796891867672603 + 0.004579219539673834 = 0.08426840630693413\n",
      "Polynomial degree: 2\n",
      "Error: 0.10398646080125037\n",
      "Bias^2: 0.10077114273548984\n",
      "Var: 0.0032153180657605125\n",
      "0.10398646080125037 >= 0.10077114273548984 + 0.0032153180657605125 = 0.10398646080125036\n",
      "Polynomial degree: 3\n",
      "Error: 0.06547790180152352\n",
      "Bias^2: 0.06208238634231944\n",
      "Var: 0.003395515459204093\n",
      "0.06547790180152352 >= 0.06208238634231944 + 0.003395515459204093 = 0.06547790180152353\n",
      "Polynomial degree: 4\n",
      "Error: 0.06844519414009442\n",
      "Bias^2: 0.06453579006728322\n",
      "Var: 0.003909404072811217\n",
      "0.06844519414009442 >= 0.06453579006728322 + 0.003909404072811217 = 0.06844519414009444\n",
      "Polynomial degree: 5\n",
      "Error: 0.052279218012057004\n",
      "Bias^2: 0.048187277304303056\n",
      "Var: 0.004091940707753948\n",
      "0.052279218012057004 >= 0.048187277304303056 + 0.004091940707753948 = 0.052279218012057004\n",
      "Polynomial degree: 6\n",
      "Error: 0.037813671417388985\n",
      "Bias^2: 0.033657685071527624\n",
      "Var: 0.004155986345861364\n",
      "0.037813671417388985 >= 0.033657685071527624 + 0.004155986345861364 = 0.03781367141738899\n",
      "Polynomial degree: 7\n",
      "Error: 0.027609773491022407\n",
      "Bias^2: 0.0229994982603662\n",
      "Var: 0.004610275230656187\n",
      "0.027609773491022407 >= 0.0229994982603662 + 0.004610275230656187 = 0.027609773491022387\n",
      "Polynomial degree: 8\n",
      "Error: 0.017355848195593354\n",
      "Bias^2: 0.010331721306655144\n",
      "Var: 0.0070241268889382116\n",
      "0.017355848195593354 >= 0.010331721306655144 + 0.0070241268889382116 = 0.017355848195593354\n",
      "Polynomial degree: 9\n",
      "Error: 0.026605727637184613\n",
      "Bias^2: 0.010018312644139205\n",
      "Var: 0.016587414993045405\n",
      "0.026605727637184613 >= 0.010018312644139205 + 0.016587414993045405 = 0.02660572763718461\n",
      "Polynomial degree: 10\n",
      "Error: 0.021592704588021167\n",
      "Bias^2: 0.010516485576646513\n",
      "Var: 0.01107621901137465\n",
      "0.021592704588021167 >= 0.010516485576646513 + 0.01107621901137465 = 0.021592704588021164\n",
      "Polynomial degree: 11\n",
      "Error: 0.07160048164232467\n",
      "Bias^2: 0.014436800088896274\n",
      "Var: 0.057163681553428394\n",
      "0.07160048164232467 >= 0.014436800088896274 + 0.057163681553428394 = 0.07160048164232467\n",
      "Polynomial degree: 12\n",
      "Error: 0.11547777218875695\n",
      "Bias^2: 0.016285782696017055\n",
      "Var: 0.0991919894927399\n",
      "0.11547777218875695 >= 0.016285782696017055 + 0.0991919894927399 = 0.11547777218875696\n",
      "Polynomial degree: 13\n",
      "Error: 0.2284246870217459\n",
      "Bias^2: 0.019754165271682844\n",
      "Var: 0.20867052175006306\n",
      "0.2284246870217459 >= 0.019754165271682844 + 0.20867052175006306 = 0.2284246870217459\n"
     ]
    },
    {
     "data": {
      "image/png": "[encoded data removed]",
      "text/plain": [
       "<Figure size 640x480 with 1 Axes>"
      ]
     },
     "metadata": {},
     "output_type": "display_data"
    }
   ],
   "source": [
    "import matplotlib.pyplot as plt\n",
    "import numpy as np\n",
    "from sklearn.linear_model import LinearRegression, Ridge, Lasso\n",
    "from sklearn.preprocessing import PolynomialFeatures\n",
    "from sklearn.model_selection import train_test_split\n",
    "from sklearn.pipeline import make_pipeline\n",
    "from sklearn.utils import resample\n",
    "\n",
    "np.random.seed(2018)\n",
    "\n",
    "n = 40\n",
    "n_boostraps = 100\n",
    "maxdegree = 14\n",
    "\n",
    "\n",
    "# Make data set.\n",
    "x = np.linspace(-3, 3, n).reshape(-1, 1)\n",
    "y = np.exp(-x**2) + 1.5 * np.exp(-(x-2)**2)+ np.random.normal(0, 0.1, x.shape)\n",
    "error = np.zeros(maxdegree)\n",
    "bias = np.zeros(maxdegree)\n",
    "variance = np.zeros(maxdegree)\n",
    "polydegree = np.zeros(maxdegree)\n",
    "x_train, x_test, y_train, y_test = train_test_split(x, y, test_size=0.2)\n",
    "\n",
    "for degree in range(maxdegree):\n",
    "    model = make_pipeline(PolynomialFeatures(degree=degree), LinearRegression(fit_intercept=False))\n",
    "    y_pred = np.empty((y_test.shape[0], n_boostraps))\n",
    "    for i in range(n_boostraps):\n",
    "        x_, y_ = resample(x_train, y_train)\n",
    "        y_pred[:, i] = model.fit(x_, y_).predict(x_test).ravel()\n",
    "\n",
    "    polydegree[degree] = degree\n",
    "    error[degree] = np.mean( np.mean((y_test - y_pred)**2, axis=1, keepdims=True) )\n",
    "    bias[degree] = np.mean( (y_test - np.mean(y_pred, axis=1, keepdims=True))**2 )\n",
    "    variance[degree] = np.mean( np.var(y_pred, axis=1, keepdims=True) )\n",
    "    print('Polynomial degree:', degree)\n",
    "    print('Error:', error[degree])\n",
    "    print('Bias^2:', bias[degree])\n",
    "    print('Var:', variance[degree])\n",
    "    print('{} >= {} + {} = {}'.format(error[degree], bias[degree], variance[degree], bias[degree]+variance[degree]))\n",
    "\n",
    "plt.plot(polydegree, error, label='Error')\n",
    "plt.plot(polydegree, bias, label='bias')\n",
    "plt.plot(polydegree, variance, label='Variance')\n",
    "plt.legend()\n",
    "plt.show()"
   ]
  },
  {
   "cell_type": "markdown",
   "id": "d638746f",
   "metadata": {
    "editable": true
   },
   "source": [
    "## Summing up\n",
    "\n",
    "The bias-variance tradeoff summarizes the fundamental tension in\n",
    "machine learning, particularly supervised learning, between the\n",
    "complexity of a model and the amount of training data needed to train\n",
    "it.  Since data is often limited, in practice it is often useful to\n",
    "use a less-complex model with higher bias, that is  a model whose asymptotic\n",
    "performance is worse than another model because it is easier to\n",
    "train and less sensitive to sampling noise arising from having a\n",
    "finite-sized training dataset (smaller variance). \n",
    "\n",
    "The above equations tell us that in\n",
    "order to minimize the expected test error, we need to select a\n",
    "statistical learning method that simultaneously achieves low variance\n",
    "and low bias. Note that variance is inherently a nonnegative quantity,\n",
    "and squared bias is also nonnegative. Hence, we see that the expected\n",
    "test MSE can never lie below $Var(\\epsilon)$, the irreducible error.\n",
    "\n",
    "What do we mean by the variance and bias of a statistical learning\n",
    "method? The variance refers to the amount by which our model would change if we\n",
    "estimated it using a different training data set. Since the training\n",
    "data are used to fit the statistical learning method, different\n",
    "training data sets  will result in a different estimate. But ideally the\n",
    "estimate for our model should not vary too much between training\n",
    "sets. However, if a method has high variance  then small changes in\n",
    "the training data can result in large changes in the model. In general, more\n",
    "flexible statistical methods have higher variance.\n",
    "\n",
    "You may also find this recent [article](https://www.pnas.org/content/116/32/15849) of interest."
   ]
  },
  {
   "cell_type": "markdown",
   "id": "6fe999c4",
   "metadata": {
    "editable": true
   },
   "source": [
    "## Another Example from Scikit-Learn's Repository\n",
    "\n",
    "This example demonstrates the problems of underfitting and overfitting and\n",
    "how we can use linear regression with polynomial features to approximate\n",
    "nonlinear functions. The plot shows the function that we want to approximate,\n",
    "which is a part of the cosine function. In addition, the samples from the\n",
    "real function and the approximations of different models are displayed. The\n",
    "models have polynomial features of different degrees. We can see that a\n",
    "linear function (polynomial with degree 1) is not sufficient to fit the\n",
    "training samples. This is called **underfitting**. A polynomial of degree 4\n",
    "approximates the true function almost perfectly. However, for higher degrees\n",
    "the model will **overfit** the training data, i.e. it learns the noise of the\n",
    "training data.\n",
    "We evaluate quantitatively overfitting and underfitting by using\n",
    "cross-validation. We calculate the mean squared error (MSE) on the validation\n",
    "set, the higher, the less likely the model generalizes correctly from the\n",
    "training data."
   ]
  },
  {
   "cell_type": "code",
   "execution_count": 5,
   "id": "8289e153",
   "metadata": {
    "collapsed": false,
    "editable": true
   },
   "outputs": [
    {
     "data": {
      "image/png": "[encoded data removed]",
      "text/plain": [
       "<Figure size 1400x500 with 3 Axes>"
      ]
     },
     "metadata": {},
     "output_type": "display_data"
    }
   ],
   "source": [
    "\n",
    "\n",
    "#print(__doc__)\n",
    "\n",
    "import numpy as np\n",
    "import matplotlib.pyplot as plt\n",
    "from sklearn.pipeline import Pipeline\n",
    "from sklearn.preprocessing import PolynomialFeatures\n",
    "from sklearn.linear_model import LinearRegression\n",
    "from sklearn.model_selection import cross_val_score\n",
    "\n",
    "\n",
    "def true_fun(X):\n",
    "    return np.cos(1.5 * np.pi * X)\n",
    "\n",
    "np.random.seed(0)\n",
    "\n",
    "n_samples = 30\n",
    "degrees = [1, 4, 15]\n",
    "\n",
    "X = np.sort(np.random.rand(n_samples))\n",
    "y = true_fun(X) + np.random.randn(n_samples) * 0.1\n",
    "\n",
    "plt.figure(figsize=(14, 5))\n",
    "for i in range(len(degrees)):\n",
    "    ax = plt.subplot(1, len(degrees), i + 1)\n",
    "    plt.setp(ax, xticks=(), yticks=())\n",
    "\n",
    "    polynomial_features = PolynomialFeatures(degree=degrees[i],\n",
    "                                             include_bias=False)\n",
    "    linear_regression = LinearRegression()\n",
    "    pipeline = Pipeline([(\"polynomial_features\", polynomial_features),\n",
    "                         (\"linear_regression\", linear_regression)])\n",
    "    pipeline.fit(X[:, np.newaxis], y)\n",
    "\n",
    "    # Evaluate the models using crossvalidation\n",
    "    scores = cross_val_score(pipeline, X[:, np.newaxis], y,\n",
    "                             scoring=\"neg_mean_squared_error\", cv=10)\n",
    "\n",
    "    X_test = np.linspace(0, 1, 100)\n",
    "    plt.plot(X_test, pipeline.predict(X_test[:, np.newaxis]), label=\"Model\")\n",
    "    plt.plot(X_test, true_fun(X_test), label=\"True function\")\n",
    "    plt.scatter(X, y, edgecolor='b', s=20, label=\"Samples\")\n",
    "    plt.xlabel(\"x\")\n",
    "    plt.ylabel(\"y\")\n",
    "    plt.xlim((0, 1))\n",
    "    plt.ylim((-2, 2))\n",
    "    plt.legend(loc=\"best\")\n",
    "    plt.title(\"Degree {}\\nMSE = {:.2e}(+/- {:.2e})\".format(\n",
    "        degrees[i], -scores.mean(), scores.std()))\n",
    "plt.show()"
   ]
  },
  {
   "cell_type": "markdown",
   "id": "3a9dffce",
   "metadata": {
    "editable": true
   },
   "source": [
    "## Various steps in cross-validation\n",
    "\n",
    "When the repetitive splitting of the data set is done randomly,\n",
    "samples may accidently end up in a fast majority of the splits in\n",
    "either training or test set. Such samples may have an unbalanced\n",
    "influence on either model building or prediction evaluation. To avoid\n",
    "this $k$-fold cross-validation structures the data splitting. The\n",
    "samples are divided into $k$ more or less equally sized exhaustive and\n",
    "mutually exclusive subsets. In turn (at each split) one of these\n",
    "subsets plays the role of the test set while the union of the\n",
    "remaining subsets constitutes the training set. Such a splitting\n",
    "warrants a balanced representation of each sample in both training and\n",
    "test set over the splits. Still the division into the $k$ subsets\n",
    "involves a degree of randomness. This may be fully excluded when\n",
    "choosing $k=n$. This particular case is referred to as leave-one-out\n",
    "cross-validation (LOOCV)."
   ]
  },
  {
   "cell_type": "markdown",
   "id": "2ee67263",
   "metadata": {
    "editable": true
   },
   "source": [
    "## Cross-validation in brief\n",
    "\n",
    "For the various values of $k$\n",
    "\n",
    "1. shuffle the dataset randomly.\n",
    "\n",
    "2. Split the dataset into $k$ groups.\n",
    "\n",
    "3. For each unique group:\n",
    "\n",
    "a. Decide which group to use as set for test data\n",
    "\n",
    "b. Take the remaining groups as a training data set\n",
    "\n",
    "c. Fit a model on the training set and evaluate it on the test set\n",
    "\n",
    "d. Retain the evaluation score and discard the model\n",
    "\n",
    "5. Summarize the model using the sample of model evaluation scores"
   ]
  },
  {
   "cell_type": "markdown",
   "id": "c44868f2",
   "metadata": {
    "editable": true
   },
   "source": [
    "## Code Example for Cross-validation and $k$-fold Cross-validation\n",
    "\n",
    "The code here uses Ridge regression with cross-validation (CV)  resampling and $k$-fold CV in order to fit a specific polynomial."
   ]
  },
  {
   "cell_type": "code",
   "execution_count": 6,
   "id": "df0c5466",
   "metadata": {
    "collapsed": false,
    "editable": true
   },
   "outputs": [
    {
     "data": {
      "image/png": "[encoded data removed]",
      "text/plain": [
       "<Figure size 640x480 with 1 Axes>"
      ]
     },
     "metadata": {},
     "output_type": "display_data"
    }
   ],
   "source": [
    "import numpy as np\n",
    "import matplotlib.pyplot as plt\n",
    "from sklearn.model_selection import KFold\n",
    "from sklearn.linear_model import Ridge\n",
    "from sklearn.model_selection import cross_val_score\n",
    "from sklearn.preprocessing import PolynomialFeatures\n",
    "\n",
    "# A seed just to ensure that the random numbers are the same for every run.\n",
    "# Useful for eventual debugging.\n",
    "np.random.seed(3155)\n",
    "\n",
    "# Generate the data.\n",
    "nsamples = 100\n",
    "x = np.random.randn(nsamples)\n",
    "y = 3*x**2 + np.random.randn(nsamples)\n",
    "\n",
    "## Cross-validation on Ridge regression using KFold only\n",
    "\n",
    "# Decide degree on polynomial to fit\n",
    "poly = PolynomialFeatures(degree = 6)\n",
    "\n",
    "# Decide which values of lambda to use\n",
    "nlambdas = 500\n",
    "lambdas = np.logspace(-3, 5, nlambdas)\n",
    "\n",
    "# Initialize a KFold instance\n",
    "k = 5\n",
    "kfold = KFold(n_splits = k)\n",
    "\n",
    "# Perform the cross-validation to estimate MSE\n",
    "scores_KFold = np.zeros((nlambdas, k))\n",
    "\n",
    "i = 0\n",
    "for lmb in lambdas:\n",
    "    ridge = Ridge(alpha = lmb)\n",
    "    j = 0\n",
    "    for train_inds, test_inds in kfold.split(x):\n",
    "        xtrain = x[train_inds]\n",
    "        ytrain = y[train_inds]\n",
    "\n",
    "        xtest = x[test_inds]\n",
    "        ytest = y[test_inds]\n",
    "\n",
    "        Xtrain = poly.fit_transform(xtrain[:, np.newaxis])\n",
    "        ridge.fit(Xtrain, ytrain[:, np.newaxis])\n",
    "\n",
    "        Xtest = poly.fit_transform(xtest[:, np.newaxis])\n",
    "        ypred = ridge.predict(Xtest)\n",
    "\n",
    "        scores_KFold[i,j] = np.sum((ypred - ytest[:, np.newaxis])**2)/np.size(ypred)\n",
    "\n",
    "        j += 1\n",
    "    i += 1\n",
    "\n",
    "\n",
    "estimated_mse_KFold = np.mean(scores_KFold, axis = 1)\n",
    "\n",
    "## Cross-validation using cross_val_score from sklearn along with KFold\n",
    "\n",
    "# kfold is an instance initialized above as:\n",
    "# kfold = KFold(n_splits = k)\n",
    "\n",
    "estimated_mse_sklearn = np.zeros(nlambdas)\n",
    "i = 0\n",
    "for lmb in lambdas:\n",
    "    ridge = Ridge(alpha = lmb)\n",
    "\n",
    "    X = poly.fit_transform(x[:, np.newaxis])\n",
    "    estimated_mse_folds = cross_val_score(ridge, X, y[:, np.newaxis], scoring='neg_mean_squared_error', cv=kfold)\n",
    "\n",
    "    # cross_val_score return an array containing the estimated negative mse for every fold.\n",
    "    # we have to the the mean of every array in order to get an estimate of the mse of the model\n",
    "    estimated_mse_sklearn[i] = np.mean(-estimated_mse_folds)\n",
    "\n",
    "    i += 1\n",
    "\n",
    "## Plot and compare the slightly different ways to perform cross-validation\n",
    "\n",
    "plt.figure()\n",
    "\n",
    "plt.plot(np.log10(lambdas), estimated_mse_sklearn, label = 'cross_val_score')\n",
    "plt.plot(np.log10(lambdas), estimated_mse_KFold, 'r--', label = 'KFold')\n",
    "\n",
    "plt.xlabel('log10(lambda)')\n",
    "plt.ylabel('mse')\n",
    "\n",
    "plt.legend()\n",
    "\n",
    "plt.show()"
   ]
  },
  {
   "cell_type": "markdown",
   "id": "5cbfeb1f",
   "metadata": {
    "editable": true
   },
   "source": [
    "## More examples on bootstrap and cross-validation and errors"
   ]
  },
  {
   "cell_type": "code",
   "execution_count": 7,
   "id": "34028f77",
   "metadata": {
    "collapsed": false,
    "editable": true
   },
   "outputs": [
    {
     "name": "stdout",
     "output_type": "stream",
     "text": [
      "Degree of polynomial:   1\n",
      "Mean squared error on training data: 446033.51374050\n",
      "Mean squared error on test data: 455173.80460179\n",
      "Degree of polynomial:   2\n",
      "Mean squared error on training data: 114550.54637219\n",
      "Mean squared error on test data: 129963.83146596\n",
      "Degree of polynomial:   3\n",
      "Mean squared error on training data: 9054.61775176\n",
      "Mean squared error on test data: 10572.87627342\n",
      "Degree of polynomial:   4\n",
      "Mean squared error on training data: 302.15313054\n",
      "Mean squared error on test data: 433.26292364\n",
      "Degree of polynomial:   5\n",
      "Mean squared error on training data: 3.64316192\n",
      "Mean squared error on test data: 7.23528337\n",
      "Degree of polynomial:   6\n",
      "Mean squared error on training data: 3.56589683\n",
      "Mean squared error on test data: 10.50427787\n",
      "Degree of polynomial:   7\n",
      "Mean squared error on training data: 0.47313680\n",
      "Mean squared error on test data: 1.53738247\n",
      "Degree of polynomial:   8\n",
      "Mean squared error on training data: 0.04926746\n",
      "Mean squared error on test data: 0.14629156\n",
      "Degree of polynomial:   9\n",
      "Mean squared error on training data: 0.02546675\n",
      "Mean squared error on test data: 0.11202337\n",
      "Degree of polynomial:  10\n",
      "Mean squared error on training data: 0.02424794\n",
      "Mean squared error on test data: 0.22467274\n",
      "Degree of polynomial:  11\n",
      "Mean squared error on training data: 0.01594452\n",
      "Mean squared error on test data: 1.07641937\n",
      "Degree of polynomial:  12\n",
      "Mean squared error on training data: 0.00805074\n",
      "Mean squared error on test data: 0.04295757\n",
      "Degree of polynomial:  13\n",
      "Mean squared error on training data: 0.00781918\n",
      "Mean squared error on test data: 0.56965674\n",
      "Degree of polynomial:  14\n",
      "Mean squared error on training data: 0.00465099\n",
      "Mean squared error on test data: 0.28443039\n",
      "Degree of polynomial:  15\n",
      "Mean squared error on training data: 0.00420072\n",
      "Mean squared error on test data: 568.47012753\n",
      "Degree of polynomial:  16\n",
      "Mean squared error on training data: 0.00325450\n",
      "Mean squared error on test data: 48.97685294\n",
      "Degree of polynomial:  17\n",
      "Mean squared error on training data: 0.00242954\n",
      "Mean squared error on test data: 2.52782440\n",
      "Degree of polynomial:  18\n",
      "Mean squared error on training data: 0.00219194\n",
      "Mean squared error on test data: 429.31580012\n",
      "Degree of polynomial:  19\n",
      "Mean squared error on training data: 0.00154854\n",
      "Mean squared error on test data: 238.38166420\n",
      "Degree of polynomial:  20\n",
      "Mean squared error on training data: 0.00140902\n",
      "Mean squared error on test data: 1345.68919234\n",
      "Degree of polynomial:  21\n",
      "Mean squared error on training data: 0.00119747\n",
      "Mean squared error on test data: 1828.38750065\n",
      "Degree of polynomial:  22\n",
      "Mean squared error on training data: 0.00092909\n",
      "Mean squared error on test data: 1183.20605551\n",
      "Degree of polynomial:  23\n",
      "Mean squared error on training data: 0.00089197\n",
      "Mean squared error on test data: 3912.96185392\n",
      "Degree of polynomial:  24\n",
      "Mean squared error on training data: 0.00083362\n",
      "Mean squared error on test data: 1344.47000621\n",
      "Degree of polynomial:  25\n",
      "Mean squared error on training data: 0.00079913\n",
      "Mean squared error on test data: 7700.56799616\n",
      "Degree of polynomial:  26\n",
      "Mean squared error on training data: 0.00075603\n",
      "Mean squared error on test data: 1082.45195416\n",
      "Degree of polynomial:  27\n",
      "Mean squared error on training data: 0.00068082\n",
      "Mean squared error on test data: 3176.02630056\n",
      "Degree of polynomial:  28\n",
      "Mean squared error on training data: 0.00063362\n",
      "Mean squared error on test data: 692.32004249\n",
      "Degree of polynomial:  29\n",
      "Mean squared error on training data: 0.00063862\n",
      "Mean squared error on test data: 3128.13184314\n"
     ]
    },
    {
     "name": "stderr",
     "output_type": "stream",
     "text": [
      "/var/folders/zp/_n4qs96s02z1qvkwz5ckwp_00000gn/T/ipykernel_52587/626635268.py:73: RuntimeWarning: divide by zero encountered in log10\n",
      "  plt.plot(polynomial, np.log10(trainingerror), label='Training Error')\n",
      "/var/folders/zp/_n4qs96s02z1qvkwz5ckwp_00000gn/T/ipykernel_52587/626635268.py:74: RuntimeWarning: divide by zero encountered in log10\n",
      "  plt.plot(polynomial, np.log10(testerror), label='Test Error')\n"
     ]
    },
    {
     "data": {
      "image/png": "[encoded data removed]",
      "text/plain": [
       "<Figure size 640x480 with 1 Axes>"
      ]
     },
     "metadata": {},
     "output_type": "display_data"
    }
   ],
   "source": [
    "# Common imports\n",
    "import os\n",
    "import numpy as np\n",
    "import pandas as pd\n",
    "import matplotlib.pyplot as plt\n",
    "from sklearn.linear_model import LinearRegression, Ridge, Lasso\n",
    "from sklearn.model_selection import train_test_split\n",
    "from sklearn.utils import resample\n",
    "from sklearn.metrics import mean_squared_error\n",
    "# Where to save the figures and data files\n",
    "PROJECT_ROOT_DIR = \"Results\"\n",
    "FIGURE_ID = \"Results/FigureFiles\"\n",
    "DATA_ID = \"DataFiles/\"\n",
    "\n",
    "if not os.path.exists(PROJECT_ROOT_DIR):\n",
    "    os.mkdir(PROJECT_ROOT_DIR)\n",
    "\n",
    "if not os.path.exists(FIGURE_ID):\n",
    "    os.makedirs(FIGURE_ID)\n",
    "\n",
    "if not os.path.exists(DATA_ID):\n",
    "    os.makedirs(DATA_ID)\n",
    "\n",
    "def image_path(fig_id):\n",
    "    return os.path.join(FIGURE_ID, fig_id)\n",
    "\n",
    "def data_path(dat_id):\n",
    "    return os.path.join(DATA_ID, dat_id)\n",
    "\n",
    "def save_fig(fig_id):\n",
    "    plt.savefig(image_path(fig_id) + \".png\", format='png')\n",
    "\n",
    "infile = open(data_path(\"EoS.csv\"),'r')\n",
    "\n",
    "# Read the EoS data as  csv file and organize the data into two arrays with density and energies\n",
    "EoS = pd.read_csv(infile, names=('Density', 'Energy'))\n",
    "EoS['Energy'] = pd.to_numeric(EoS['Energy'], errors='coerce')\n",
    "EoS = EoS.dropna()\n",
    "Energies = EoS['Energy']\n",
    "Density = EoS['Density']\n",
    "#  The design matrix now as function of various polytrops\n",
    "\n",
    "Maxpolydegree = 30\n",
    "X = np.zeros((len(Density),Maxpolydegree))\n",
    "X[:,0] = 1.0\n",
    "testerror = np.zeros(Maxpolydegree)\n",
    "trainingerror = np.zeros(Maxpolydegree)\n",
    "polynomial = np.zeros(Maxpolydegree)\n",
    "\n",
    "trials = 100\n",
    "for polydegree in range(1, Maxpolydegree):\n",
    "    polynomial[polydegree] = polydegree\n",
    "    for degree in range(polydegree):\n",
    "        X[:,degree] = Density**(degree/3.0)\n",
    "\n",
    "# loop over trials in order to estimate the expectation value of the MSE\n",
    "    testerror[polydegree] = 0.0\n",
    "    trainingerror[polydegree] = 0.0\n",
    "    for samples in range(trials):\n",
    "        x_train, x_test, y_train, y_test = train_test_split(X, Energies, test_size=0.2)\n",
    "        model = LinearRegression(fit_intercept=False).fit(x_train, y_train)\n",
    "        ypred = model.predict(x_train)\n",
    "        ytilde = model.predict(x_test)\n",
    "        testerror[polydegree] += mean_squared_error(y_test, ytilde)\n",
    "        trainingerror[polydegree] += mean_squared_error(y_train, ypred) \n",
    "\n",
    "    testerror[polydegree] /= trials\n",
    "    trainingerror[polydegree] /= trials\n",
    "    print(\"Degree of polynomial: %3d\"% polynomial[polydegree])\n",
    "    print(\"Mean squared error on training data: %.8f\" % trainingerror[polydegree])\n",
    "    print(\"Mean squared error on test data: %.8f\" % testerror[polydegree])\n",
    "\n",
    "plt.plot(polynomial, np.log10(trainingerror), label='Training Error')\n",
    "plt.plot(polynomial, np.log10(testerror), label='Test Error')\n",
    "plt.xlabel('Polynomial degree')\n",
    "plt.ylabel('log10[MSE]')\n",
    "plt.legend()\n",
    "plt.show()"
   ]
  },
  {
   "cell_type": "markdown",
   "id": "9c64885c",
   "metadata": {
    "editable": true
   },
   "source": [
    "Note that we kept the intercept column in the fitting here. This means that we need to set the **intercept** in the call to the **Scikit-Learn** function as **False**. Alternatively, we could have set up the design matrix $X$ without the first column of ones."
   ]
  },
  {
   "cell_type": "markdown",
   "id": "ff70b35f",
   "metadata": {
    "editable": true
   },
   "source": [
    "## The same example but now with cross-validation\n",
    "\n",
    "In this example we keep the intercept column again but add cross-validation in order to estimate the best possible value of the means squared error."
   ]
  },
  {
   "cell_type": "code",
   "execution_count": 8,
   "id": "e21b19fd",
   "metadata": {
    "collapsed": false,
    "editable": true
   },
   "outputs": [
    {
     "name": "stderr",
     "output_type": "stream",
     "text": [
      "/var/folders/zp/_n4qs96s02z1qvkwz5ckwp_00000gn/T/ipykernel_52587/3817475779.py:63: RuntimeWarning: divide by zero encountered in log10\n",
      "  plt.plot(polynomial, np.log10(estimated_mse_sklearn), label='Test Error')\n"
     ]
    },
    {
     "data": {
      "image/png": "[encoded data removed]",
      "text/plain": [
       "<Figure size 640x480 with 1 Axes>"
      ]
     },
     "metadata": {},
     "output_type": "display_data"
    }
   ],
   "source": [
    "# Common imports\n",
    "import os\n",
    "import numpy as np\n",
    "import pandas as pd\n",
    "import matplotlib.pyplot as plt\n",
    "from sklearn.linear_model import LinearRegression, Ridge, Lasso\n",
    "from sklearn.metrics import mean_squared_error\n",
    "from sklearn.model_selection import KFold\n",
    "from sklearn.model_selection import cross_val_score\n",
    "\n",
    "\n",
    "# Where to save the figures and data files\n",
    "PROJECT_ROOT_DIR = \"Results\"\n",
    "FIGURE_ID = \"Results/FigureFiles\"\n",
    "DATA_ID = \"DataFiles/\"\n",
    "\n",
    "if not os.path.exists(PROJECT_ROOT_DIR):\n",
    "    os.mkdir(PROJECT_ROOT_DIR)\n",
    "\n",
    "if not os.path.exists(FIGURE_ID):\n",
    "    os.makedirs(FIGURE_ID)\n",
    "\n",
    "if not os.path.exists(DATA_ID):\n",
    "    os.makedirs(DATA_ID)\n",
    "\n",
    "def image_path(fig_id):\n",
    "    return os.path.join(FIGURE_ID, fig_id)\n",
    "\n",
    "def data_path(dat_id):\n",
    "    return os.path.join(DATA_ID, dat_id)\n",
    "\n",
    "def save_fig(fig_id):\n",
    "    plt.savefig(image_path(fig_id) + \".png\", format='png')\n",
    "\n",
    "infile = open(data_path(\"EoS.csv\"),'r')\n",
    "\n",
    "# Read the EoS data as  csv file and organize the data into two arrays with density and energies\n",
    "EoS = pd.read_csv(infile, names=('Density', 'Energy'))\n",
    "EoS['Energy'] = pd.to_numeric(EoS['Energy'], errors='coerce')\n",
    "EoS = EoS.dropna()\n",
    "Energies = EoS['Energy']\n",
    "Density = EoS['Density']\n",
    "#  The design matrix now as function of various polytrops\n",
    "\n",
    "Maxpolydegree = 30\n",
    "X = np.zeros((len(Density),Maxpolydegree))\n",
    "X[:,0] = 1.0\n",
    "estimated_mse_sklearn = np.zeros(Maxpolydegree)\n",
    "polynomial = np.zeros(Maxpolydegree)\n",
    "k =5\n",
    "kfold = KFold(n_splits = k)\n",
    "\n",
    "for polydegree in range(1, Maxpolydegree):\n",
    "    polynomial[polydegree] = polydegree\n",
    "    for degree in range(polydegree):\n",
    "        X[:,degree] = Density**(degree/3.0)\n",
    "        OLS = LinearRegression(fit_intercept=False)\n",
    "# loop over trials in order to estimate the expectation value of the MSE\n",
    "    estimated_mse_folds = cross_val_score(OLS, X, Energies, scoring='neg_mean_squared_error', cv=kfold)\n",
    "#[:, np.newaxis]\n",
    "    estimated_mse_sklearn[polydegree] = np.mean(-estimated_mse_folds)\n",
    "\n",
    "plt.plot(polynomial, np.log10(estimated_mse_sklearn), label='Test Error')\n",
    "plt.xlabel('Polynomial degree')\n",
    "plt.ylabel('log10[MSE]')\n",
    "plt.legend()\n",
    "plt.show()"
   ]
  },
  {
   "cell_type": "markdown",
   "id": "cc43a51c",
   "metadata": {
    "editable": true
   },
   "source": [
    "## Material for the lab sessions"
   ]
  },
  {
   "cell_type": "markdown",
   "id": "af5687ed",
   "metadata": {
    "editable": true
   },
   "source": [
    "## Linking the regression analysis with a statistical interpretation\n",
    "\n",
    "We will now couple the discussions of ordinary least squares, Ridge\n",
    "and Lasso regression with a statistical interpretation, that is we\n",
    "move from a linear algebra analysis to a statistical analysis. In\n",
    "particular, we will focus on what the regularization terms can result\n",
    "in.  We will amongst other things show that the regularization\n",
    "parameter can reduce considerably the variance of the parameters\n",
    "$\\beta$.\n",
    "\n",
    "The\n",
    "advantage of doing linear regression is that we actually end up with\n",
    "analytical expressions for several statistical quantities.  \n",
    "Standard least squares and Ridge regression  allow us to\n",
    "derive quantities like the variance and other expectation values in a\n",
    "rather straightforward way.\n",
    "\n",
    "It is assumed that $\\varepsilon_i\n",
    "\\sim \\mathcal{N}(0, \\sigma^2)$ and the $\\varepsilon_{i}$ are\n",
    "independent, i.e.:"
   ]
  },
  {
   "cell_type": "markdown",
   "id": "47c3811a",
   "metadata": {
    "editable": true
   },
   "source": [
    "$$\n",
    "\\begin{align*} \n",
    "\\text{Cov}(\\varepsilon_{i_1},\n",
    "\\varepsilon_{i_2}) & = \\left\\{ \\begin{array}{lcc} \\sigma^2 & \\text{if}\n",
    "& i_1 = i_2, \\\\ 0 & \\text{if} & i_1 \\not= i_2.  \\end{array} \\right.\n",
    "\\end{align*}\n",
    "$$"
   ]
  },
  {
   "cell_type": "markdown",
   "id": "980dac66",
   "metadata": {
    "editable": true
   },
   "source": [
    "The randomness of $\\varepsilon_i$ implies that\n",
    "$\\mathbf{y}_i$ is also a random variable. In particular,\n",
    "$\\mathbf{y}_i$ is normally distributed, because $\\varepsilon_i \\sim\n",
    "\\mathcal{N}(0, \\sigma^2)$ and $\\mathbf{X}_{i,\\ast} \\, \\boldsymbol{\\beta}$ is a\n",
    "non-random scalar. To specify the parameters of the distribution of\n",
    "$\\mathbf{y}_i$ we need to calculate its first two moments. \n",
    "\n",
    "Recall that $\\boldsymbol{X}$ is a matrix of dimensionality $n\\times p$. The\n",
    "notation above $\\mathbf{X}_{i,\\ast}$ means that we are looking at the\n",
    "row number $i$ and perform a sum over all values $p$."
   ]
  },
  {
   "cell_type": "markdown",
   "id": "be67d8c5",
   "metadata": {
    "editable": true
   },
   "source": [
    "## Assumptions made\n",
    "\n",
    "The assumption we have made here can be summarized as (and this is going to be useful when we discuss the bias-variance trade off)\n",
    "that there exists a function $f(\\boldsymbol{x})$ and  a normal distributed error $\\boldsymbol{\\varepsilon}\\sim \\mathcal{N}(0, \\sigma^2)$\n",
    "which describe our data"
   ]
  },
  {
   "cell_type": "markdown",
   "id": "5133bf97",
   "metadata": {
    "editable": true
   },
   "source": [
    "$$\n",
    "\\boldsymbol{y} = f(\\boldsymbol{x})+\\boldsymbol{\\varepsilon}\n",
    "$$"
   ]
  },
  {
   "cell_type": "markdown",
   "id": "b76cb41b",
   "metadata": {
    "editable": true
   },
   "source": [
    "We approximate this function with our model from the solution of the linear regression equations, that is our\n",
    "function $f$ is approximated by $\\boldsymbol{\\tilde{y}}$ where we want to minimize $(\\boldsymbol{y}-\\boldsymbol{\\tilde{y}})^2$, our MSE, with"
   ]
  },
  {
   "cell_type": "markdown",
   "id": "b6e9e9ce",
   "metadata": {
    "editable": true
   },
   "source": [
    "$$\n",
    "\\boldsymbol{\\tilde{y}} = \\boldsymbol{X}\\boldsymbol{\\beta}.\n",
    "$$"
   ]
  },
  {
   "cell_type": "markdown",
   "id": "53479926",
   "metadata": {
    "editable": true
   },
   "source": [
    "## Expectation value and variance\n",
    "\n",
    "We can calculate the expectation value of $\\boldsymbol{y}$ for a given element $i$"
   ]
  },
  {
   "cell_type": "markdown",
   "id": "1929fd98",
   "metadata": {
    "editable": true
   },
   "source": [
    "$$\n",
    "\\begin{align*} \n",
    "\\mathbb{E}(y_i) & =\n",
    "\\mathbb{E}(\\mathbf{X}_{i, \\ast} \\, \\boldsymbol{\\beta}) + \\mathbb{E}(\\varepsilon_i)\n",
    "\\, \\, \\, = \\, \\, \\, \\mathbf{X}_{i, \\ast} \\, \\beta, \n",
    "\\end{align*}\n",
    "$$"
   ]
  },
  {
   "cell_type": "markdown",
   "id": "18b53cb3",
   "metadata": {
    "editable": true
   },
   "source": [
    "while\n",
    "its variance is"
   ]
  },
  {
   "cell_type": "markdown",
   "id": "a57528a8",
   "metadata": {
    "editable": true
   },
   "source": [
    "$$\n",
    "\\begin{align*} Var(y_i) & = \\mathbb{E} \\{ [y_i\n",
    "- \\mathbb{E}(y_i)]^2 \\} \\, \\, \\, = \\, \\, \\, \\mathbb{E} ( y_i^2 ) -\n",
    "[\\mathbb{E}(y_i)]^2  \\\\  & = \\mathbb{E} [ ( \\mathbf{X}_{i, \\ast} \\,\n",
    "\\beta + \\varepsilon_i )^2] - ( \\mathbf{X}_{i, \\ast} \\, \\boldsymbol{\\beta})^2 \\\\ &\n",
    "= \\mathbb{E} [ ( \\mathbf{X}_{i, \\ast} \\, \\boldsymbol{\\beta})^2 + 2 \\varepsilon_i\n",
    "\\mathbf{X}_{i, \\ast} \\, \\boldsymbol{\\beta} + \\varepsilon_i^2 ] - ( \\mathbf{X}_{i,\n",
    "\\ast} \\, \\beta)^2 \\\\  & = ( \\mathbf{X}_{i, \\ast} \\, \\boldsymbol{\\beta})^2 + 2\n",
    "\\mathbb{E}(\\varepsilon_i) \\mathbf{X}_{i, \\ast} \\, \\boldsymbol{\\beta} +\n",
    "\\mathbb{E}(\\varepsilon_i^2 ) - ( \\mathbf{X}_{i, \\ast} \\, \\boldsymbol{\\beta})^2 \n",
    "\\\\ & = \\mathbb{E}(\\varepsilon_i^2 ) \\, \\, \\, = \\, \\, \\,\n",
    "Var(\\varepsilon_i) \\, \\, \\, = \\, \\, \\, \\sigma^2.  \n",
    "\\end{align*}\n",
    "$$"
   ]
  },
  {
   "cell_type": "markdown",
   "id": "b5e5c863",
   "metadata": {
    "editable": true
   },
   "source": [
    "Hence, $y_i \\sim \\mathcal{N}( \\mathbf{X}_{i, \\ast} \\, \\boldsymbol{\\beta}, \\sigma^2)$, that is $\\boldsymbol{y}$ follows a normal distribution with \n",
    "mean value $\\boldsymbol{X}\\boldsymbol{\\beta}$ and variance $\\sigma^2$ (not be confused with the singular values of the SVD)."
   ]
  },
  {
   "cell_type": "markdown",
   "id": "13fe1b50",
   "metadata": {
    "editable": true
   },
   "source": [
    "## Expectation value and variance for $\\boldsymbol{\\beta}$\n",
    "\n",
    "With the OLS expressions for the optimal parameters $\\boldsymbol{\\hat{\\beta}}$ we can evaluate the expectation value"
   ]
  },
  {
   "cell_type": "markdown",
   "id": "22327251",
   "metadata": {
    "editable": true
   },
   "source": [
    "$$\n",
    "\\mathbb{E}(\\boldsymbol{\\hat{\\beta}}) = \\mathbb{E}[ (\\mathbf{X}^{\\top} \\mathbf{X})^{-1}\\mathbf{X}^{T} \\mathbf{Y}]=(\\mathbf{X}^{T} \\mathbf{X})^{-1}\\mathbf{X}^{T} \\mathbb{E}[ \\mathbf{Y}]=(\\mathbf{X}^{T} \\mathbf{X})^{-1} \\mathbf{X}^{T}\\mathbf{X}\\boldsymbol{\\beta}=\\boldsymbol{\\beta}.\n",
    "$$"
   ]
  },
  {
   "cell_type": "markdown",
   "id": "f7875671",
   "metadata": {
    "editable": true
   },
   "source": [
    "This means that the estimator of the regression parameters is unbiased.\n",
    "\n",
    "We can also calculate the variance\n",
    "\n",
    "The variance of the optimal value $\\boldsymbol{\\hat{\\beta}}$ is"
   ]
  },
  {
   "cell_type": "markdown",
   "id": "584d9150",
   "metadata": {
    "editable": true
   },
   "source": [
    "$$\n",
    "\\begin{eqnarray*}\n",
    "Var(\\boldsymbol{\\hat{\\beta}}) & = & \\mathbb{E} \\{ [\\boldsymbol{\\beta} - \\mathbb{E}(\\boldsymbol{\\beta})] [\\boldsymbol{\\beta} - \\mathbb{E}(\\boldsymbol{\\beta})]^{T} \\}\n",
    "\\\\\n",
    "& = & \\mathbb{E} \\{ [(\\mathbf{X}^{T} \\mathbf{X})^{-1} \\, \\mathbf{X}^{T} \\mathbf{y} - \\boldsymbol{\\beta}] \\, [(\\mathbf{X}^{T} \\mathbf{X})^{-1} \\, \\mathbf{X}^{T} \\mathbf{y} - \\boldsymbol{\\beta}]^{T} \\}\n",
    "\\\\\n",
    "% & = & \\mathbb{E} \\{ [(\\mathbf{X}^{T} \\mathbf{X})^{-1} \\, \\mathbf{X}^{T} \\mathbf{y}] \\, [(\\mathbf{X}^{T} \\mathbf{X})^{-1} \\, \\mathbf{X}^{T} \\mathbf{y}]^{T} \\} - \\boldsymbol{\\beta} \\, \\boldsymbol{\\beta}^{T}\n",
    "% \\\\\n",
    "% & = & \\mathbb{E} \\{ (\\mathbf{X}^{T} \\mathbf{X})^{-1} \\, \\mathbf{X}^{T} \\mathbf{y} \\, \\mathbf{y}^{T} \\, \\mathbf{X} \\, (\\mathbf{X}^{T} \\mathbf{X})^{-1}  \\} - \\boldsymbol{\\beta} \\, \\boldsymbol{\\beta}^{T}\n",
    "% \\\\\n",
    "& = & (\\mathbf{X}^{T} \\mathbf{X})^{-1} \\, \\mathbf{X}^{T} \\, \\mathbb{E} \\{ \\mathbf{y} \\, \\mathbf{y}^{T} \\} \\, \\mathbf{X} \\, (\\mathbf{X}^{T} \\mathbf{X})^{-1} - \\boldsymbol{\\beta} \\, \\boldsymbol{\\beta}^{T}\n",
    "\\\\\n",
    "& = & (\\mathbf{X}^{T} \\mathbf{X})^{-1} \\, \\mathbf{X}^{T} \\, \\{ \\mathbf{X} \\, \\boldsymbol{\\beta} \\, \\boldsymbol{\\beta}^{T} \\,  \\mathbf{X}^{T} + \\sigma^2 \\} \\, \\mathbf{X} \\, (\\mathbf{X}^{T} \\mathbf{X})^{-1} - \\boldsymbol{\\beta} \\, \\boldsymbol{\\beta}^{T}\n",
    "% \\\\\n",
    "% & = & (\\mathbf{X}^T \\mathbf{X})^{-1} \\, \\mathbf{X}^T \\, \\mathbf{X} \\, \\boldsymbol{\\beta} \\, \\boldsymbol{\\beta}^T \\,  \\mathbf{X}^T \\, \\mathbf{X} \\, (\\mathbf{X}^T % \\mathbf{X})^{-1}\n",
    "% \\\\\n",
    "% & & + \\, \\, \\sigma^2 \\, (\\mathbf{X}^T \\mathbf{X})^{-1} \\, \\mathbf{X}^T  \\, \\mathbf{X} \\, (\\mathbf{X}^T \\mathbf{X})^{-1} - \\boldsymbol{\\beta} \\boldsymbol{\\beta}^T\n",
    "\\\\\n",
    "& = & \\boldsymbol{\\beta} \\, \\boldsymbol{\\beta}^{T}  + \\sigma^2 \\, (\\mathbf{X}^{T} \\mathbf{X})^{-1} - \\boldsymbol{\\beta} \\, \\boldsymbol{\\beta}^{T}\n",
    "\\, \\, \\, = \\, \\, \\, \\sigma^2 \\, (\\mathbf{X}^{T} \\mathbf{X})^{-1},\n",
    "\\end{eqnarray*}\n",
    "$$"
   ]
  },
  {
   "cell_type": "markdown",
   "id": "0ebb2d20",
   "metadata": {
    "editable": true
   },
   "source": [
    "where we have used  that $\\mathbb{E} (\\mathbf{y} \\mathbf{y}^{T}) =\n",
    "\\mathbf{X} \\, \\boldsymbol{\\beta} \\, \\boldsymbol{\\beta}^{T} \\, \\mathbf{X}^{T} +\n",
    "\\sigma^2 \\, \\mathbf{I}_{nn}$. From $Var(\\boldsymbol{\\beta}) = \\sigma^2\n",
    "\\, (\\mathbf{X}^{T} \\mathbf{X})^{-1}$, one obtains an estimate of the\n",
    "variance of the estimate of the $j$-th regression coefficient:\n",
    "$\\boldsymbol{\\sigma}^2 (\\boldsymbol{\\beta}_j ) = \\boldsymbol{\\sigma}^2 [(\\mathbf{X}^{T} \\mathbf{X})^{-1}]_{jj} $. This may be used to\n",
    "construct a confidence interval for the estimates.\n",
    "\n",
    "In a similar way, we can obtain analytical expressions for say the\n",
    "expectation values of the parameters $\\boldsymbol{\\beta}$ and their variance\n",
    "when we employ Ridge regression, allowing us again to define a confidence interval. \n",
    "\n",
    "It is rather straightforward to show that"
   ]
  },
  {
   "cell_type": "markdown",
   "id": "b701ef3f",
   "metadata": {
    "editable": true
   },
   "source": [
    "$$\n",
    "\\mathbb{E} \\big[ \\hat{\\boldsymbol{\\beta}}^{\\mathrm{Ridge}} \\big]=(\\mathbf{X}^{T} \\mathbf{X} + \\lambda \\mathbf{I}_{pp})^{-1} (\\mathbf{X}^{\\top} \\mathbf{X})\\boldsymbol{\\beta}.\n",
    "$$"
   ]
  },
  {
   "cell_type": "markdown",
   "id": "1453c4df",
   "metadata": {
    "editable": true
   },
   "source": [
    "We see clearly that \n",
    "$\\mathbb{E} \\big[ \\hat{\\boldsymbol{\\beta}}^{\\mathrm{Ridge}} \\big] \\not= \\hat{\\boldsymbol{\\beta}}^{\\mathrm{OLS}}$ for any $\\lambda > 0$.\n",
    "\n",
    "We can also compute the variance as"
   ]
  },
  {
   "cell_type": "markdown",
   "id": "fade84b6",
   "metadata": {
    "editable": true
   },
   "source": [
    "$$\n",
    "Var[\\hat{\\boldsymbol{\\beta}}^{\\mathrm{Ridge}}]=\\sigma^2[  \\mathbf{X}^{T} \\mathbf{X} + \\lambda \\mathbf{I} ]^{-1}  \\mathbf{X}^{T} \\mathbf{X} \\{ [  \\mathbf{X}^{\\top} \\mathbf{X} + \\lambda \\mathbf{I} ]^{-1}\\}^{T},\n",
    "$$"
   ]
  },
  {
   "cell_type": "markdown",
   "id": "e91b254f",
   "metadata": {
    "editable": true
   },
   "source": [
    "and it is easy to see that if the parameter $\\lambda$ goes to infinity then the variance of Ridge parameters $\\boldsymbol{\\beta}$ goes to zero. \n",
    "\n",
    "With this, we can compute the difference"
   ]
  },
  {
   "cell_type": "markdown",
   "id": "6f50fb28",
   "metadata": {
    "editable": true
   },
   "source": [
    "$$\n",
    "Var[\\hat{\\boldsymbol{\\beta}}^{\\mathrm{OLS}}]-Var(\\hat{\\boldsymbol{\\beta}}^{\\mathrm{Ridge}})=\\sigma^2 [  \\mathbf{X}^{T} \\mathbf{X} + \\lambda \\mathbf{I} ]^{-1}[ 2\\lambda\\mathbf{I} + \\lambda^2 (\\mathbf{X}^{T} \\mathbf{X})^{-1} ] \\{ [  \\mathbf{X}^{T} \\mathbf{X} + \\lambda \\mathbf{I} ]^{-1}\\}^{T}.\n",
    "$$"
   ]
  },
  {
   "cell_type": "markdown",
   "id": "e37b2bfb",
   "metadata": {
    "editable": true
   },
   "source": [
    "The difference is non-negative definite since each component of the\n",
    "matrix product is non-negative definite. \n",
    "This means the variance we obtain with the standard OLS will always for $\\lambda > 0$ be larger than the variance of $\\boldsymbol{\\beta}$ obtained with the Ridge estimator. This has interesting consequences when we discuss the so-called bias-variance trade-off below. \n",
    "\n",
    "For more discussions of Ridge regression and calculation of averages, [Wessel van Wieringen's](https://arxiv.org/abs/1509.09169) article is highly recommended."
   ]
  }
 ],
 "metadata": {
  "kernelspec": {
   "display_name": "FYS_STK_env",
   "language": "python",
   "name": "python3"
  },
  "language_info": {
   "codemirror_mode": {
    "name": "ipython",
    "version": 3
   },
   "file_extension": ".py",
   "mimetype": "text/x-python",
   "name": "python",
   "nbconvert_exporter": "python",
   "pygments_lexer": "ipython3",
   "version": "3.12.5"
  }
 },
 "nbformat": 4,
 "nbformat_minor": 5
}
