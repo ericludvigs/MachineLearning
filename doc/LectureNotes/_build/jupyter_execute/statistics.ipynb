{
 "cells": [
  {
   "cell_type": "markdown",
   "id": "70706709",
   "metadata": {
    "editable": true
   },
   "source": [
    "<!-- HTML file automatically generated from DocOnce source (https://github.com/doconce/doconce/)\n",
    "doconce format html statistics.do.txt  -->"
   ]
  },
  {
   "cell_type": "markdown",
   "id": "85b1eb1e",
   "metadata": {
    "editable": true
   },
   "source": [
    "# Elements of Probability Theory and Statistical Data Analysis"
   ]
  },
  {
   "cell_type": "markdown",
   "id": "f338b4e0",
   "metadata": {
    "editable": true
   },
   "source": [
    "## Domains and probabilities\n",
    "\n",
    "Consider the following simple example, namely the tossing of two dice, resulting in  the following possible values"
   ]
  },
  {
   "cell_type": "markdown",
   "id": "596202aa",
   "metadata": {
    "editable": true
   },
   "source": [
    "$$\n",
    "\\{2,3,4,5,6,7,8,9,10,11,12\\}.\n",
    "$$"
   ]
  },
  {
   "cell_type": "markdown",
   "id": "d81eea8e",
   "metadata": {
    "editable": true
   },
   "source": [
    "These values are called the *domain*. \n",
    "To this domain we have the corresponding *probabilities*"
   ]
  },
  {
   "cell_type": "markdown",
   "id": "432953c1",
   "metadata": {
    "editable": true
   },
   "source": [
    "$$\n",
    "\\{1/36,2/36/,3/36,4/36,5/36,6/36,5/36,4/36,3/36,2/36,1/36\\}.\n",
    "$$"
   ]
  },
  {
   "cell_type": "markdown",
   "id": "1abe1fd4",
   "metadata": {
    "editable": true
   },
   "source": [
    "The numbers in the domain are the outcomes of the physical process of tossing say two dice.\n",
    "We cannot tell beforehand whether the outcome is 3 or 5 or any other number in this domain.\n",
    "This defines the randomness of the outcome, or unexpectedness or any other synonimous word which\n",
    "encompasses the uncertitude of the final outcome. \n",
    "\n",
    "The only thing we can tell beforehand\n",
    "is that say the outcome 2 has a certain probability.  \n",
    "If our favorite hobby is to  spend an hour every evening throwing dice and \n",
    "registering the sequence of outcomes, we will note that the numbers in the above domain"
   ]
  },
  {
   "cell_type": "markdown",
   "id": "9320be8c",
   "metadata": {
    "editable": true
   },
   "source": [
    "$$\n",
    "\\{2,3,4,5,6,7,8,9,10,11,12\\},\n",
    "$$"
   ]
  },
  {
   "cell_type": "markdown",
   "id": "7ac13e6b",
   "metadata": {
    "editable": true
   },
   "source": [
    "appear in a random order. After 11 throws the results may look like"
   ]
  },
  {
   "cell_type": "markdown",
   "id": "4ad0a660",
   "metadata": {
    "editable": true
   },
   "source": [
    "$$\n",
    "\\{10,8,6,3,6,9,11,8,12,4,5\\}.\n",
    "$$"
   ]
  },
  {
   "cell_type": "markdown",
   "id": "402e3e2c",
   "metadata": {
    "editable": true
   },
   "source": [
    "**Random variables are characterized by a domain which contains all possible values that the random value may take. This domain has a corresponding probability distribution function(PDF)**."
   ]
  },
  {
   "cell_type": "markdown",
   "id": "3969e72a",
   "metadata": {
    "editable": true
   },
   "source": [
    "### Stochastic variables and the main concepts, the discrete case\n",
    "\n",
    "There are two main concepts associated with a stochastic variable. The\n",
    "*domain* is the set $\\mathbb D = \\{x\\}$ of all accessible values\n",
    "the variable can assume, so that $X \\in \\mathbb D$. An example of a\n",
    "discrete domain is the set of six different numbers that we may get by\n",
    "throwing of a dice, $x\\in\\{1,\\,2,\\,3,\\,4,\\,5,\\,6\\}$.\n",
    "\n",
    "The *probability distribution function (PDF)* is a function\n",
    "$p(x)$ on the domain which, in the discrete case, gives us the\n",
    "probability or relative frequency with which these values of $X$\n",
    "occur"
   ]
  },
  {
   "cell_type": "markdown",
   "id": "cbaeacff",
   "metadata": {
    "editable": true
   },
   "source": [
    "$$\n",
    "p(x) = \\mathrm{Prob}(X=x).\n",
    "$$"
   ]
  },
  {
   "cell_type": "markdown",
   "id": "058b8fd1",
   "metadata": {
    "editable": true
   },
   "source": [
    "In the continuous case, the PDF does not directly depict the\n",
    "actual probability. Instead we define the probability for the\n",
    "stochastic variable to assume any value on an infinitesimal interval\n",
    "around $x$ to be $p(x)dx$. The continuous function $p(x)$ then gives us\n",
    "the *density* of the probability rather than the probability\n",
    "itself. The probability for a stochastic variable to assume any value\n",
    "on a non-infinitesimal interval $[a,\\,b]$ is then just the integral"
   ]
  },
  {
   "cell_type": "markdown",
   "id": "8afee525",
   "metadata": {
    "editable": true
   },
   "source": [
    "$$\n",
    "\\mathrm{Prob}(a\\leq X\\leq b) = \\int_a^b p(x)dx.\n",
    "$$"
   ]
  },
  {
   "cell_type": "markdown",
   "id": "004446a9",
   "metadata": {
    "editable": true
   },
   "source": [
    "Qualitatively speaking, a stochastic variable represents the values of\n",
    "numbers chosen as if by chance from some specified PDF so that the\n",
    "selection of a large set of these numbers reproduces this PDF.\n",
    "\n",
    "Of interest to us is the *cumulative probability\n",
    "distribution function* (**CDF**), $P(x)$, which is just the probability\n",
    "for a stochastic variable $X$ to assume any value less than $x$"
   ]
  },
  {
   "cell_type": "markdown",
   "id": "f090295d",
   "metadata": {
    "editable": true
   },
   "source": [
    "$$\n",
    "P(x)=\\mathrm{Prob(}X\\leq x\\mathrm{)} =\n",
    "\\int_{-\\infty}^x p(x^{\\prime})dx^{\\prime}.\n",
    "$$"
   ]
  },
  {
   "cell_type": "markdown",
   "id": "a14393c7",
   "metadata": {
    "editable": true
   },
   "source": [
    "The relation between a CDF and its corresponding PDF is then"
   ]
  },
  {
   "cell_type": "markdown",
   "id": "b8a627c3",
   "metadata": {
    "editable": true
   },
   "source": [
    "$$\n",
    "p(x) = \\frac{d}{dx}P(x).\n",
    "$$"
   ]
  },
  {
   "cell_type": "markdown",
   "id": "73831b21",
   "metadata": {
    "editable": true
   },
   "source": [
    "### Properties of PDFs\n",
    "\n",
    "There are two properties that all PDFs must satisfy. The first one is\n",
    "positivity (assuming that the PDF is normalized)"
   ]
  },
  {
   "cell_type": "markdown",
   "id": "c42aff41",
   "metadata": {
    "editable": true
   },
   "source": [
    "$$\n",
    "0 \\leq p(x) \\leq 1.\n",
    "$$"
   ]
  },
  {
   "cell_type": "markdown",
   "id": "221a3766",
   "metadata": {
    "editable": true
   },
   "source": [
    "Naturally, it would be nonsensical for any of the values of the domain\n",
    "to occur with a probability greater than $1$ or less than $0$. Also,\n",
    "the PDF must be normalized. That is, all the probabilities must add up\n",
    "to unity.  The probability of \"anything\" to happen is always unity. For\n",
    "both discrete and continuous PDFs, this condition is"
   ]
  },
  {
   "cell_type": "markdown",
   "id": "d7bf2e2c",
   "metadata": {
    "editable": true
   },
   "source": [
    "$$\n",
    "\\begin{align*}\n",
    "\\sum_{x_i\\in\\mathbb D} p(x_i) & =  1,\\\\\n",
    "\\int_{x\\in\\mathbb D} p(x)\\,dx & =  1.\n",
    "\\end{align*}\n",
    "$$"
   ]
  },
  {
   "cell_type": "markdown",
   "id": "b52f3a4a",
   "metadata": {
    "editable": true
   },
   "source": [
    "The first one\n",
    "is the most basic PDF; namely the uniform distribution"
   ]
  },
  {
   "cell_type": "markdown",
   "id": "bb00c079",
   "metadata": {
    "editable": true
   },
   "source": [
    "<!-- Equation labels as ordinary links -->\n",
    "<div id=\"eq:unifromPDF\"></div>\n",
    "\n",
    "$$\n",
    "\\begin{equation}\n",
    "p(x) = \\frac{1}{b-a}\\theta(x-a)\\theta(b-x).\n",
    "\\label{eq:unifromPDF} \\tag{1}\n",
    "\\end{equation}\n",
    "$$"
   ]
  },
  {
   "cell_type": "markdown",
   "id": "024255b1",
   "metadata": {
    "editable": true
   },
   "source": [
    "For $a=0$ and $b=1$ we have"
   ]
  },
  {
   "cell_type": "markdown",
   "id": "2c417fdd",
   "metadata": {
    "editable": true
   },
   "source": [
    "$$\n",
    "\\begin{array}{ll}\n",
    "p(x)dx = dx & \\in [0,1].\n",
    "\\end{array}\n",
    "$$"
   ]
  },
  {
   "cell_type": "markdown",
   "id": "8edaa55e",
   "metadata": {
    "editable": true
   },
   "source": [
    "The latter distribution is used to generate random numbers. For other PDFs, one needs normally a mapping from this distribution to say for example the exponential distribution. \n",
    "\n",
    "The second one is the Gaussian Distribution"
   ]
  },
  {
   "cell_type": "markdown",
   "id": "23da1cfa",
   "metadata": {
    "editable": true
   },
   "source": [
    "$$\n",
    "p(x) = \\frac{1}{\\sigma\\sqrt{2\\pi}} \\exp{(-\\frac{(x-\\mu)^2}{2\\sigma^2})},\n",
    "$$"
   ]
  },
  {
   "cell_type": "markdown",
   "id": "66d5445e",
   "metadata": {
    "editable": true
   },
   "source": [
    "with mean value $\\mu$ and standard deviation $\\sigma$. If $\\mu=0$ and $\\sigma=1$, it is normally called the **standard normal distribution**"
   ]
  },
  {
   "cell_type": "markdown",
   "id": "fc8027ff",
   "metadata": {
    "editable": true
   },
   "source": [
    "$$\n",
    "p(x) = \\frac{1}{\\sqrt{2\\pi}} \\exp{(-\\frac{x^2}{2})},\n",
    "$$"
   ]
  },
  {
   "cell_type": "markdown",
   "id": "351fa52b",
   "metadata": {
    "editable": true
   },
   "source": [
    "The following simple Python code plots the above distribution for different values of $\\mu$ and $\\sigma$."
   ]
  },
  {
   "cell_type": "code",
   "execution_count": 1,
   "id": "1eac297f",
   "metadata": {
    "collapsed": false,
    "editable": true
   },
   "outputs": [
    {
     "data": {
      "image/png": "[encoded data removed]",
      "text/plain": [
       "<Figure size 640x480 with 1 Axes>"
      ]
     },
     "metadata": {
      "filenames": {
       "image/png": "/Users/mhjensen/Teaching/MachineLearning/doc/LectureNotes/_build/jupyter_execute/statistics_32_0.png"
      }
     },
     "output_type": "display_data"
    }
   ],
   "source": [
    "%matplotlib inline\n",
    "\n",
    "import numpy as np\n",
    "from math import acos, exp, sqrt\n",
    "from  matplotlib import pyplot as plt\n",
    "from matplotlib import rc, rcParams\n",
    "import matplotlib.units as units\n",
    "import matplotlib.ticker as ticker\n",
    "rc('text',usetex=True)\n",
    "rc('font',**{'family':'serif','serif':['Gaussian distribution']})\n",
    "font = {'family' : 'serif',\n",
    "        'color'  : 'darkred',\n",
    "        'weight' : 'normal',\n",
    "        'size'   : 16,\n",
    "        }\n",
    "pi = acos(-1.0)\n",
    "mu0 = 0.0\n",
    "sigma0 = 1.0\n",
    "mu1= 1.0\n",
    "sigma1 = 2.0\n",
    "mu2 = 2.0\n",
    "sigma2 = 4.0\n",
    "\n",
    "x = np.linspace(-20.0, 20.0)\n",
    "v0 = np.exp(-(x*x-2*x*mu0+mu0*mu0)/(2*sigma0*sigma0))/sqrt(2*pi*sigma0*sigma0)\n",
    "v1 = np.exp(-(x*x-2*x*mu1+mu1*mu1)/(2*sigma1*sigma1))/sqrt(2*pi*sigma1*sigma1)\n",
    "v2 = np.exp(-(x*x-2*x*mu2+mu2*mu2)/(2*sigma2*sigma2))/sqrt(2*pi*sigma2*sigma2)\n",
    "plt.plot(x, v0, 'b-', x, v1, 'r-', x, v2, 'g-')\n",
    "plt.title(r'{\\bf Gaussian distributions}', fontsize=20)\n",
    "plt.text(-19, 0.3, r'Parameters: $\\mu = 0$, $\\sigma = 1$', fontdict=font)\n",
    "plt.text(-19, 0.18, r'Parameters: $\\mu = 1$, $\\sigma = 2$', fontdict=font)\n",
    "plt.text(-19, 0.08, r'Parameters: $\\mu = 2$, $\\sigma = 4$', fontdict=font)\n",
    "plt.xlabel(r'$x$',fontsize=20)\n",
    "plt.ylabel(r'$p(x)$ [MeV]',fontsize=20)\n",
    "\n",
    "# Tweak spacing to prevent clipping of ylabel                                                                       \n",
    "plt.subplots_adjust(left=0.15)\n",
    "plt.savefig('gaussian.pdf', format='pdf')\n",
    "plt.show()"
   ]
  },
  {
   "cell_type": "markdown",
   "id": "689c8867",
   "metadata": {
    "editable": true
   },
   "source": [
    "Another important distribution in science is the exponential distribution"
   ]
  },
  {
   "cell_type": "markdown",
   "id": "c13c84f0",
   "metadata": {
    "editable": true
   },
   "source": [
    "$$\n",
    "p(x) = \\alpha\\exp{-(\\alpha x)}.\n",
    "$$"
   ]
  },
  {
   "cell_type": "markdown",
   "id": "44d6f4d6",
   "metadata": {
    "editable": true
   },
   "source": [
    "### Expectation values\n",
    "\n",
    "Let $h(x)$ be an arbitrary continuous function on the domain of the stochastic\n",
    "variable $X$ whose PDF is $p(x)$. We define the *expectation value*\n",
    "of $h$ with respect to $p$ as follows"
   ]
  },
  {
   "cell_type": "markdown",
   "id": "b721f71c",
   "metadata": {
    "editable": true
   },
   "source": [
    "<!-- Equation labels as ordinary links -->\n",
    "<div id=\"eq:expectation_value_of_h_wrt_p\"></div>\n",
    "\n",
    "$$\n",
    "\\begin{equation}\n",
    "\\langle h \\rangle_X \\equiv \\int\\! h(x)p(x)\\,dx\n",
    "\\label{eq:expectation_value_of_h_wrt_p} \\tag{2}\n",
    "\\end{equation}\n",
    "$$"
   ]
  },
  {
   "cell_type": "markdown",
   "id": "5bf7a516",
   "metadata": {
    "editable": true
   },
   "source": [
    "Whenever the PDF is known implicitly, like in this case, we will drop\n",
    "the index $X$ for clarity.  \n",
    "A particularly useful class of special expectation values are the\n",
    "*moments*. The $n$-th moment of the PDF $p$ is defined as\n",
    "follows"
   ]
  },
  {
   "cell_type": "markdown",
   "id": "fa031db8",
   "metadata": {
    "editable": true
   },
   "source": [
    "$$\n",
    "\\langle x^n \\rangle \\equiv \\int\\! x^n p(x)\\,dx\n",
    "$$"
   ]
  },
  {
   "cell_type": "markdown",
   "id": "3c0c268c",
   "metadata": {
    "editable": true
   },
   "source": [
    "The zero-th moment $\\langle 1\\rangle$ is just the normalization condition of\n",
    "$p$. The first moment, $\\langle x\\rangle$, is called the *mean* of $p$\n",
    "and often denoted by the letter $\\mu$"
   ]
  },
  {
   "cell_type": "markdown",
   "id": "96f430cf",
   "metadata": {
    "editable": true
   },
   "source": [
    "$$\n",
    "\\langle x\\rangle  = \\mu \\equiv \\int x p(x)dx,\n",
    "$$"
   ]
  },
  {
   "cell_type": "markdown",
   "id": "cd05ac98",
   "metadata": {
    "editable": true
   },
   "source": [
    "for a continuous distribution and"
   ]
  },
  {
   "cell_type": "markdown",
   "id": "bcfe0cef",
   "metadata": {
    "editable": true
   },
   "source": [
    "$$\n",
    "\\langle x\\rangle  = \\mu \\equiv \\sum_{i=1}^N x_i p(x_i),\n",
    "$$"
   ]
  },
  {
   "cell_type": "markdown",
   "id": "d78ce192",
   "metadata": {
    "editable": true
   },
   "source": [
    "for a discrete distribution. \n",
    "Qualitatively it represents the centroid or the average value of the\n",
    "PDF and is therefore simply called the expectation value of $p(x)$.\n",
    "\n",
    "A special version of the moments is the set of *central moments*, the n-th central moment defined as"
   ]
  },
  {
   "cell_type": "markdown",
   "id": "bab3a068",
   "metadata": {
    "editable": true
   },
   "source": [
    "$$\n",
    "\\langle (x-\\langle x\\rangle )^n\\rangle  \\equiv \\int\\! (x-\\langle x\\rangle)^n p(x)\\,dx\n",
    "$$"
   ]
  },
  {
   "cell_type": "markdown",
   "id": "d8e5ddc2",
   "metadata": {
    "editable": true
   },
   "source": [
    "The zero-th and first central moments are both trivial, equal $1$ and\n",
    "$0$, respectively. But the second central moment, known as the\n",
    "*variance* of $p$, is of particular interest. For the stochastic\n",
    "variable $X$, the variance is denoted as $\\sigma^2_X$ or $\\mathrm{Var}(X)$"
   ]
  },
  {
   "cell_type": "markdown",
   "id": "336072c9",
   "metadata": {
    "editable": true
   },
   "source": [
    "$$\n",
    "\\begin{align*}\n",
    "\\sigma^2_X &=\\mathrm{Var}(X) =  \\langle (x-\\langle x\\rangle)^2\\rangle  =\n",
    "\\int (x-\\langle x\\rangle)^2 p(x)dx\\\\\n",
    "& =  \\int\\left(x^2 - 2 x \\langle x\\rangle^{2} +\\langle x\\rangle^2\\right)p(x)dx\\\\\n",
    "& =  \\langle x^2\\rangle - 2 \\langle x\\rangle\\langle x\\rangle + \\langle x\\rangle^2\\\\\n",
    "& =  \\langle x^2 \\rangle - \\langle x\\rangle^2\n",
    "\\end{align*}\n",
    "$$"
   ]
  },
  {
   "cell_type": "markdown",
   "id": "59df87e7",
   "metadata": {
    "editable": true
   },
   "source": [
    "The square root of the variance, $\\sigma =\\sqrt{\\langle (x-\\langle x\\rangle)^2\\rangle}$ is called the \n",
    "**standard deviation** of $p$. It is the RMS (root-mean-square)\n",
    "value of the deviation of the PDF from its mean value, interpreted\n",
    "qualitatively as the \"spread\" of $p$ around its mean."
   ]
  },
  {
   "cell_type": "markdown",
   "id": "9fabf8a8",
   "metadata": {
    "editable": true
   },
   "source": [
    "### Probability Distribution Functions\n",
    "\n",
    "The following table collects properties of probability distribution functions.\n",
    "In our notation we reserve the label $p(x)$ for the probability of a certain event,\n",
    "while $P(x)$ is the cumulative probability. \n",
    "\n",
    "<table class=\"dotable\" border=\"1\">\n",
    "<thead>\n",
    "<tr><th align=\"center\">             </th> <th align=\"center\">               Discrete PDF               </th> <th align=\"center\">           Continuous PDF           </th> </tr>\n",
    "</thead>\n",
    "<tbody>\n",
    "<tr><td align=\"left\">   Domain           </td> <td align=\"center\">   $\\left\\{x_1, x_2, x_3, \\dots, x_N\\right\\}$    </td> <td align=\"center\">   $[a,b]$                                 </td> </tr>\n",
    "<tr><td align=\"left\">   Probability      </td> <td align=\"center\">   $p(x_i)$                                      </td> <td align=\"center\">   $p(x)dx$                                </td> </tr>\n",
    "<tr><td align=\"left\">   Cumulative       </td> <td align=\"center\">   $P_i=\\sum_{l=1}^ip(x_l)$                      </td> <td align=\"center\">   $P(x)=\\int_a^xp(t)dt$                   </td> </tr>\n",
    "<tr><td align=\"left\">   Positivity       </td> <td align=\"center\">   $0 \\le p(x_i) \\le 1$                          </td> <td align=\"center\">   $p(x) \\ge 0$                            </td> </tr>\n",
    "<tr><td align=\"left\">   Positivity       </td> <td align=\"center\">   $0 \\le P_i \\le 1$                             </td> <td align=\"center\">   $0 \\le P(x) \\le 1$                      </td> </tr>\n",
    "<tr><td align=\"left\">   Monotonic        </td> <td align=\"center\">   $P_i \\ge P_j$ if $x_i \\ge x_j$                </td> <td align=\"center\">   $P(x_i) \\ge P(x_j)$ if $x_i \\ge x_j$    </td> </tr>\n",
    "<tr><td align=\"left\">   Normalization    </td> <td align=\"center\">   $P_N=1$                                       </td> <td align=\"center\">   $P(b)=1$                                </td> </tr>\n",
    "</tbody>\n",
    "</table>\n",
    "\n",
    "With a PDF we can compute expectation values of selected quantities such as"
   ]
  },
  {
   "cell_type": "markdown",
   "id": "cddc38d1",
   "metadata": {
    "editable": true
   },
   "source": [
    "$$\n",
    "\\langle x^k\\rangle=\\sum_{i=1}^{N}x_i^kp(x_i),\n",
    "$$"
   ]
  },
  {
   "cell_type": "markdown",
   "id": "62d0c741",
   "metadata": {
    "editable": true
   },
   "source": [
    "if we have a discrete PDF or"
   ]
  },
  {
   "cell_type": "markdown",
   "id": "5ac68815",
   "metadata": {
    "editable": true
   },
   "source": [
    "$$\n",
    "\\langle x^k\\rangle=\\int_a^b x^kp(x)dx,\n",
    "$$"
   ]
  },
  {
   "cell_type": "markdown",
   "id": "c0ecfbcb",
   "metadata": {
    "editable": true
   },
   "source": [
    "in the case of a continuous PDF. We have already defined the mean value $\\mu$\n",
    "and the variance $\\sigma^2$. \n",
    "\n",
    "There are at least three PDFs which one may encounter. These are the\n",
    "\n",
    "**Uniform distribution**"
   ]
  },
  {
   "cell_type": "markdown",
   "id": "fe23b255",
   "metadata": {
    "editable": true
   },
   "source": [
    "$$\n",
    "p(x)=\\frac{1}{b-a}\\Theta(x-a)\\Theta(b-x),\n",
    "$$"
   ]
  },
  {
   "cell_type": "markdown",
   "id": "09ebf8ca",
   "metadata": {
    "editable": true
   },
   "source": [
    "yielding probabilities different from zero in the interval $[a,b]$.\n",
    "\n",
    "**The exponential distribution**"
   ]
  },
  {
   "cell_type": "markdown",
   "id": "401e693f",
   "metadata": {
    "editable": true
   },
   "source": [
    "$$\n",
    "p(x)=\\alpha \\exp{(-\\alpha x)},\n",
    "$$"
   ]
  },
  {
   "cell_type": "markdown",
   "id": "6c7d8d10",
   "metadata": {
    "editable": true
   },
   "source": [
    "yielding probabilities different from zero in the interval $[0,\\infty)$ and with mean value"
   ]
  },
  {
   "cell_type": "markdown",
   "id": "1bfafdfd",
   "metadata": {
    "editable": true
   },
   "source": [
    "$$\n",
    "\\mu = \\int_0^{\\infty}xp(x)dx=\\int_0^{\\infty}x\\alpha \\exp{(-\\alpha x)}dx=\\frac{1}{\\alpha},\n",
    "$$"
   ]
  },
  {
   "cell_type": "markdown",
   "id": "5596ac72",
   "metadata": {
    "editable": true
   },
   "source": [
    "with variance"
   ]
  },
  {
   "cell_type": "markdown",
   "id": "f59c48fc",
   "metadata": {
    "editable": true
   },
   "source": [
    "$$\n",
    "\\sigma^2=\\int_0^{\\infty}x^2p(x)dx-\\mu^2 = \\frac{1}{\\alpha^2}.\n",
    "$$"
   ]
  },
  {
   "cell_type": "markdown",
   "id": "d7e68ca7",
   "metadata": {
    "editable": true
   },
   "source": [
    "Finally, we have the so-called univariate normal  distribution, or just the **normal distribution**"
   ]
  },
  {
   "cell_type": "markdown",
   "id": "a6f6eebb",
   "metadata": {
    "editable": true
   },
   "source": [
    "$$\n",
    "p(x)=\\frac{1}{b\\sqrt{2\\pi}}\\exp{\\left(-\\frac{(x-a)^2}{2b^2}\\right)}\n",
    "$$"
   ]
  },
  {
   "cell_type": "markdown",
   "id": "58f2e885",
   "metadata": {
    "editable": true
   },
   "source": [
    "with probabilities different from zero in the interval $(-\\infty,\\infty)$.\n",
    "The integral $\\int_{-\\infty}^{\\infty}\\exp{\\left(-(x^2\\right)}dx$ appears in many calculations, its value\n",
    "is $\\sqrt{\\pi}$,  a result we will need when we compute the mean value and the variance.\n",
    "The mean value is"
   ]
  },
  {
   "cell_type": "markdown",
   "id": "ec46859a",
   "metadata": {
    "editable": true
   },
   "source": [
    "$$\n",
    "\\mu = \\int_0^{\\infty}xp(x)dx=\\frac{1}{b\\sqrt{2\\pi}}\\int_{-\\infty}^{\\infty}x \\exp{\\left(-\\frac{(x-a)^2}{2b^2}\\right)}dx,\n",
    "$$"
   ]
  },
  {
   "cell_type": "markdown",
   "id": "b65e2164",
   "metadata": {
    "editable": true
   },
   "source": [
    "which becomes with a suitable change of variables"
   ]
  },
  {
   "cell_type": "markdown",
   "id": "f7874346",
   "metadata": {
    "editable": true
   },
   "source": [
    "$$\n",
    "\\mu =\\frac{1}{b\\sqrt{2\\pi}}\\int_{-\\infty}^{\\infty}b\\sqrt{2}(a+b\\sqrt{2}y)\\exp{-y^2}dy=a.\n",
    "$$"
   ]
  },
  {
   "cell_type": "markdown",
   "id": "63d8f111",
   "metadata": {
    "editable": true
   },
   "source": [
    "Similarly, the variance becomes"
   ]
  },
  {
   "cell_type": "markdown",
   "id": "ed985f65",
   "metadata": {
    "editable": true
   },
   "source": [
    "$$\n",
    "\\sigma^2 = \\frac{1}{b\\sqrt{2\\pi}}\\int_{-\\infty}^{\\infty}(x-\\mu)^2 \\exp{\\left(-\\frac{(x-a)^2}{2b^2}\\right)}dx,\n",
    "$$"
   ]
  },
  {
   "cell_type": "markdown",
   "id": "4e2f6eb1",
   "metadata": {
    "editable": true
   },
   "source": [
    "and inserting the mean value and performing a variable change we obtain"
   ]
  },
  {
   "cell_type": "markdown",
   "id": "1a073de2",
   "metadata": {
    "editable": true
   },
   "source": [
    "$$\n",
    "\\sigma^2 = \\frac{1}{b\\sqrt{2\\pi}}\\int_{-\\infty}^{\\infty}b\\sqrt{2}(b\\sqrt{2}y)^2\\exp{\\left(-y^2\\right)}dy=\n",
    "\\frac{2b^2}{\\sqrt{\\pi}}\\int_{-\\infty}^{\\infty}y^2\\exp{\\left(-y^2\\right)}dy,\n",
    "$$"
   ]
  },
  {
   "cell_type": "markdown",
   "id": "cef07ac6",
   "metadata": {
    "editable": true
   },
   "source": [
    "and performing a final integration by parts we obtain the well-known result $\\sigma^2=b^2$.\n",
    "It is useful to introduce the standard normal distribution as well, defined by $\\mu=a=0$, viz. a distribution\n",
    "centered around zero and with a variance $\\sigma^2=1$, leading to"
   ]
  },
  {
   "cell_type": "markdown",
   "id": "7fb0d04c",
   "metadata": {
    "editable": true
   },
   "source": [
    "<!-- Equation labels as ordinary links -->\n",
    "<div id=\"_auto1\"></div>\n",
    "\n",
    "$$\n",
    "\\begin{equation}\n",
    "   p(x)=\\frac{1}{\\sqrt{2\\pi}}\\exp{\\left(-\\frac{x^2}{2}\\right)}.\n",
    "\\label{_auto1} \\tag{3}\n",
    "\\end{equation}\n",
    "$$"
   ]
  },
  {
   "cell_type": "markdown",
   "id": "4404131d",
   "metadata": {
    "editable": true
   },
   "source": [
    "The exponential and uniform distributions have simple cumulative functions,\n",
    "whereas the normal distribution does not, being proportional to the so-called\n",
    "error function $erf(x)$, given by"
   ]
  },
  {
   "cell_type": "markdown",
   "id": "40d36fc7",
   "metadata": {
    "editable": true
   },
   "source": [
    "$$\n",
    "P(x) = \\frac{1}{\\sqrt{2\\pi}}\\int_{-\\infty}^x\\exp{\\left(-\\frac{t^2}{2}\\right)}dt,\n",
    "$$"
   ]
  },
  {
   "cell_type": "markdown",
   "id": "3c6be327",
   "metadata": {
    "editable": true
   },
   "source": [
    "which is difficult to evaluate in a quick way. \n",
    "\n",
    "Some other PDFs which one encounters often in the natural sciences are the binomial distribution"
   ]
  },
  {
   "cell_type": "markdown",
   "id": "33d98314",
   "metadata": {
    "editable": true
   },
   "source": [
    "$$\n",
    "p(x) = \\left(\\begin{array}{c} n \\\\ x\\end{array}\\right)y^x(1-y)^{n-x} \\hspace{0.5cm}x=0,1,\\dots,n,\n",
    "$$"
   ]
  },
  {
   "cell_type": "markdown",
   "id": "182fc903",
   "metadata": {
    "editable": true
   },
   "source": [
    "where $y$ is the probability for a specific event, such as the tossing of a coin or moving left or right\n",
    "in case of a random walker. Note that $x$ is a discrete stochastic variable. \n",
    "\n",
    "The sequence of binomial trials is characterized by the following definitions\n",
    "\n",
    "  * Every experiment is thought to consist of $N$ independent trials.\n",
    "\n",
    "  * In every independent trial one registers if a specific situation happens or not, such as the  jump to the left or right of a random walker.\n",
    "\n",
    "  * The probability for every outcome in a single trial has the same value, for example the outcome of tossing (either heads or tails) a coin is always $1/2$.\n",
    "\n",
    "In order to compute the mean and variance we need to recall Newton's binomial\n",
    "formula"
   ]
  },
  {
   "cell_type": "markdown",
   "id": "ad6f2431",
   "metadata": {
    "editable": true
   },
   "source": [
    "$$\n",
    "(a+b)^m=\\sum_{n=0}^m \\left(\\begin{array}{c} m \\\\ n\\end{array}\\right)a^nb^{m-n},\n",
    "$$"
   ]
  },
  {
   "cell_type": "markdown",
   "id": "0a7d17bf",
   "metadata": {
    "editable": true
   },
   "source": [
    "which can be used to show that"
   ]
  },
  {
   "cell_type": "markdown",
   "id": "1a31e460",
   "metadata": {
    "editable": true
   },
   "source": [
    "$$\n",
    "\\sum_{x=0}^n\\left(\\begin{array}{c} n \\\\ x\\end{array}\\right)y^x(1-y)^{n-x} = (y+1-y)^n = 1,\n",
    "$$"
   ]
  },
  {
   "cell_type": "markdown",
   "id": "f605d561",
   "metadata": {
    "editable": true
   },
   "source": [
    "the PDF is normalized to one. \n",
    "The mean value is"
   ]
  },
  {
   "cell_type": "markdown",
   "id": "62d83d95",
   "metadata": {
    "editable": true
   },
   "source": [
    "$$\n",
    "\\mu = \\sum_{x=0}^n x\\left(\\begin{array}{c} n \\\\ x\\end{array}\\right)y^x(1-y)^{n-x} =\n",
    "\\sum_{x=0}^n x\\frac{n!}{x!(n-x)!}y^x(1-y)^{n-x},\n",
    "$$"
   ]
  },
  {
   "cell_type": "markdown",
   "id": "800314ec",
   "metadata": {
    "editable": true
   },
   "source": [
    "resulting in"
   ]
  },
  {
   "cell_type": "markdown",
   "id": "418db0a7",
   "metadata": {
    "editable": true
   },
   "source": [
    "$$\n",
    "\\mu = \n",
    "\\sum_{x=0}^n x\\frac{(n-1)!}{(x-1)!(n-1-(x-1))!}y^{x-1}(1-y)^{n-1-(x-1)},\n",
    "$$"
   ]
  },
  {
   "cell_type": "markdown",
   "id": "de9eb757",
   "metadata": {
    "editable": true
   },
   "source": [
    "which we rewrite as"
   ]
  },
  {
   "cell_type": "markdown",
   "id": "1bc554b4",
   "metadata": {
    "editable": true
   },
   "source": [
    "$$\n",
    "\\mu=ny\\sum_{\\nu=0}^n\\left(\\begin{array}{c} n-1 \\\\ \\nu\\end{array}\\right)y^{\\nu}(1-y)^{n-1-\\nu} =ny(y+1-y)^{n-1}=ny.\n",
    "$$"
   ]
  },
  {
   "cell_type": "markdown",
   "id": "9f92c026",
   "metadata": {
    "editable": true
   },
   "source": [
    "The variance is slightly trickier to get. It reads $\\sigma^2=ny(1-y)$. \n",
    "\n",
    "Another important distribution with discrete stochastic variables $x$ is  \n",
    "the Poisson model, which resembles the exponential distribution and reads"
   ]
  },
  {
   "cell_type": "markdown",
   "id": "a79037de",
   "metadata": {
    "editable": true
   },
   "source": [
    "$$\n",
    "p(x) = \\frac{\\lambda^x}{x!} e^{-\\lambda} \\hspace{0.5cm}x=0,1,\\dots,;\\lambda > 0.\n",
    "$$"
   ]
  },
  {
   "cell_type": "markdown",
   "id": "59153bee",
   "metadata": {
    "editable": true
   },
   "source": [
    "In this case both the mean value and the variance are easier to calculate,"
   ]
  },
  {
   "cell_type": "markdown",
   "id": "57b60d32",
   "metadata": {
    "editable": true
   },
   "source": [
    "$$\n",
    "\\mu = \\sum_{x=0}^{\\infty} x \\frac{\\lambda^x}{x!} e^{-\\lambda} = \\lambda e^{-\\lambda}\\sum_{x=1}^{\\infty}\n",
    "\\frac{\\lambda^{x-1}}{(x-1)!}=\\lambda,\n",
    "$$"
   ]
  },
  {
   "cell_type": "markdown",
   "id": "9ee3d242",
   "metadata": {
    "editable": true
   },
   "source": [
    "and the variance is $\\sigma^2=\\lambda$. \n",
    "\n",
    "An example of applications of the Poisson distribution could be the counting\n",
    "of the number of $\\alpha$-particles emitted from a radioactive source in a given time interval.\n",
    "In the limit of $n\\rightarrow \\infty$ and for small probabilities $y$, the binomial distribution\n",
    "approaches the Poisson distribution. Setting $\\lambda = ny$, with $y$ the probability for an event in\n",
    "the binomial distribution we can show that"
   ]
  },
  {
   "cell_type": "markdown",
   "id": "47897048",
   "metadata": {
    "editable": true
   },
   "source": [
    "$$\n",
    "\\lim_{n\\rightarrow \\infty}\\left(\\begin{array}{c} n \\\\ x\\end{array}\\right)y^x(1-y)^{n-x} e^{-\\lambda}=\\sum_{x=1}^{\\infty}\\frac{\\lambda^x}{x!} e^{-\\lambda}.\n",
    "$$"
   ]
  },
  {
   "cell_type": "markdown",
   "id": "9ad853ba",
   "metadata": {
    "editable": true
   },
   "source": [
    "### Meet the  covariance!\n",
    "\n",
    "An important quantity in a statistical analysis is the so-called covariance. \n",
    "\n",
    "Consider the set $\\{X_i\\}$ of $n$\n",
    "stochastic variables (not necessarily uncorrelated) with the\n",
    "multivariate PDF $P(x_1,\\dots,x_n)$. The *covariance* of two\n",
    "of the stochastic variables, $X_i$ and $X_j$, is defined as follows"
   ]
  },
  {
   "cell_type": "markdown",
   "id": "e44ea56e",
   "metadata": {
    "editable": true
   },
   "source": [
    "<!-- Equation labels as ordinary links -->\n",
    "<div id=\"_auto2\"></div>\n",
    "\n",
    "$$\n",
    "\\begin{equation}\n",
    "\\mathrm{Cov}(X_i,\\,X_j)  = \\langle (x_i-\\langle x_i\\rangle)(x_j-\\langle x_j\\rangle)\\rangle \n",
    "\\label{_auto2} \\tag{4}\n",
    "\\end{equation}\n",
    "$$"
   ]
  },
  {
   "cell_type": "markdown",
   "id": "c2c32ffc",
   "metadata": {
    "editable": true
   },
   "source": [
    "<!-- Equation labels as ordinary links -->\n",
    "<div id=\"eq:def_covariance\"></div>\n",
    "\n",
    "$$\n",
    "\\begin{equation} \n",
    "=\\int\\cdots\\int (x_i-\\langle x_i\\rangle)(x_j-\\langle x_j\\rangle)P(x_1,\\dots,x_n)\\,dx_1\\dots dx_n,\n",
    "\\label{eq:def_covariance} \\tag{5}\n",
    "\\end{equation}\n",
    "$$"
   ]
  },
  {
   "cell_type": "markdown",
   "id": "87496c64",
   "metadata": {
    "editable": true
   },
   "source": [
    "with"
   ]
  },
  {
   "cell_type": "markdown",
   "id": "841b5856",
   "metadata": {
    "editable": true
   },
   "source": [
    "$$\n",
    "\\langle x_i\\rangle =\n",
    "\\int\\cdots\\int x_i P(x_1,\\dots,x_n)\\,dx_1\\dots dx_n.\n",
    "$$"
   ]
  },
  {
   "cell_type": "markdown",
   "id": "50ede176",
   "metadata": {
    "editable": true
   },
   "source": [
    "If we consider the above covariance as a matrix"
   ]
  },
  {
   "cell_type": "markdown",
   "id": "64687e2f",
   "metadata": {
    "editable": true
   },
   "source": [
    "$$\n",
    "C_{ij} =\\mathrm{Cov}(X_i,\\,X_j),\n",
    "$$"
   ]
  },
  {
   "cell_type": "markdown",
   "id": "ab77c972",
   "metadata": {
    "editable": true
   },
   "source": [
    "then the diagonal elements are just the familiar\n",
    "variances, $C_{ii} = \\mathrm{Cov}(X_i,\\,X_i) = \\mathrm{Var}(X_i)$. It turns out that\n",
    "all the off-diagonal elements are zero if the stochastic variables are\n",
    "uncorrelated."
   ]
  },
  {
   "cell_type": "code",
   "execution_count": 2,
   "id": "1ffa428b",
   "metadata": {
    "collapsed": false,
    "editable": true
   },
   "outputs": [
    {
     "name": "stdout",
     "output_type": "stream",
     "text": [
      "3.165033577601387\n",
      "[[21.73854926 19.92768548  7.22004411 11.54453037 10.19532208  8.8809429\n",
      "  19.44203729 29.02717039  4.7873282  19.97707044]\n",
      " [19.92768548 18.26767021  6.61860028 10.58284836  9.34603176  8.14114294\n",
      "  17.82247747 26.60915019  4.38853437 18.31294131]\n",
      " [ 7.22004411  6.61860028  2.39799981  3.83429536  3.38618158  2.94963563\n",
      "   6.45730151  9.64082047  1.59001966  6.63500255]\n",
      " [11.54453037 10.58284836  3.83429536  6.13086825  5.4143542   4.71633658\n",
      "  10.32493877 15.41524442  2.54237093 10.60907486]\n",
      " [10.19532208  9.34603176  3.38618158  5.4143542   4.78157908  4.16513872\n",
      "   9.11826404 13.61366611  2.24524426  9.36919318]\n",
      " [ 8.8809429   8.14114294  2.94963563  4.71633658  4.16513872  3.62816974\n",
      "   7.942739   11.85859459  1.95578775  8.16131839]\n",
      " [19.44203729 17.82247747  6.45730151 10.32493877  9.11826404  7.942739\n",
      "  17.3881343  25.96067118  4.28158348 17.86664528]\n",
      " [29.02717039 26.60915019  9.64082047 15.41524442 13.61366611 11.85859459\n",
      "  25.96067118 38.75956076  6.3924501  26.67509321]\n",
      " [ 4.7873282   4.38853437  1.59001966  2.54237093  2.24524426  1.95578775\n",
      "   4.28158348  6.3924501   1.0542797   4.39941008]\n",
      " [19.97707044 18.31294131  6.63500255 10.60907486  9.36919318  8.16131839\n",
      "  17.86664528 26.67509321  4.39941008 18.3583246 ]]\n"
     ]
    }
   ],
   "source": [
    "# Importing various packages\n",
    "from math import exp, sqrt\n",
    "from random import random, seed\n",
    "import numpy as np\n",
    "import matplotlib.pyplot as plt\n",
    "\n",
    "def covariance(x, y, n):\n",
    "    sum = 0.0\n",
    "    mean_x = np.mean(x)\n",
    "    mean_y = np.mean(y)\n",
    "    for i in range(0, n):\n",
    "        sum += (x[(i)]-mean_x)*(y[i]-mean_y)\n",
    "    return  sum/n\n",
    "\n",
    "n = 10\n",
    "\n",
    "x=np.random.normal(size=n)\n",
    "y = 4+3*x+np.random.normal(size=n)\n",
    "covxy = covariance(x,y,n)\n",
    "print(covxy)\n",
    "z = np.vstack((x, y))\n",
    "c = np.cov(z.T)\n",
    "\n",
    "print(c)"
   ]
  },
  {
   "cell_type": "markdown",
   "id": "7a9a1bee",
   "metadata": {
    "editable": true
   },
   "source": [
    "Consider the stochastic variables $X_i$ and $X_j$, ($i\\neq j$). We have"
   ]
  },
  {
   "cell_type": "markdown",
   "id": "825a940b",
   "metadata": {
    "editable": true
   },
   "source": [
    "$$\n",
    "\\begin{align*}\n",
    "Cov(X_i,\\,X_j) &= \\langle (x_i-\\langle x_i\\rangle)(x_j-\\langle x_j\\rangle)\\rangle\\\\\n",
    "&=\\langle x_i x_j - x_i\\langle x_j\\rangle - \\langle x_i\\rangle x_j + \\langle x_i\\rangle\\langle x_j\\rangle\\rangle\\\\\n",
    "&=\\langle x_i x_j\\rangle - \\langle x_i\\langle x_j\\rangle\\rangle - \\langle \\langle x_i\\rangle x_j \\rangle +\n",
    "\\langle \\langle x_i\\rangle\\langle x_j\\rangle\\rangle \\\\\n",
    "&=\\langle x_i x_j\\rangle - \\langle x_i\\rangle\\langle x_j\\rangle - \\langle x_i\\rangle\\langle x_j\\rangle +\n",
    "\\langle x_i\\rangle\\langle x_j\\rangle \\\\\n",
    "&=\\langle x_i x_j\\rangle - \\langle x_i\\rangle\\langle x_j\\rangle\n",
    "\\end{align*}\n",
    "$$"
   ]
  },
  {
   "cell_type": "markdown",
   "id": "dbb414d5",
   "metadata": {
    "editable": true
   },
   "source": [
    "If $X_i$ and $X_j$ are independent (assuming $i \\neq j$), we have that"
   ]
  },
  {
   "cell_type": "markdown",
   "id": "a617dca7",
   "metadata": {
    "editable": true
   },
   "source": [
    "$$\n",
    "\\langle x_i x_j\\rangle = \\langle x_i\\rangle\\langle x_j\\rangle,\n",
    "$$"
   ]
  },
  {
   "cell_type": "markdown",
   "id": "7d3f260d",
   "metadata": {
    "editable": true
   },
   "source": [
    "leading to"
   ]
  },
  {
   "cell_type": "markdown",
   "id": "996e13c9",
   "metadata": {
    "editable": true
   },
   "source": [
    "$$\n",
    "Cov(X_i, X_j) = 0 \\hspace{0.1cm} (i\\neq j).\n",
    "$$"
   ]
  },
  {
   "cell_type": "markdown",
   "id": "5a9b492d",
   "metadata": {
    "editable": true
   },
   "source": [
    "Now that we have constructed an idealized mathematical framework, let\n",
    "us try to apply it to empirical observations. Examples of relevant\n",
    "physical phenomena may be spontaneous decays of nuclei, or a purely\n",
    "mathematical set of numbers produced by some deterministic\n",
    "mechanism. It is the latter we will deal with, using so-called pseudo-random\n",
    "number generators.  In general our observations will contain only a limited set of\n",
    "observables. We remind the reader that\n",
    "a *stochastic process* is a process that produces sequentially a\n",
    "chain of values"
   ]
  },
  {
   "cell_type": "markdown",
   "id": "43f5dd21",
   "metadata": {
    "editable": true
   },
   "source": [
    "$$\n",
    "\\{x_1, x_2,\\dots\\,x_k,\\dots\\}.\n",
    "$$"
   ]
  },
  {
   "cell_type": "markdown",
   "id": "9ede60b9",
   "metadata": {
    "editable": true
   },
   "source": [
    "We will call these\n",
    "values our *measurements* and the entire set as our measured\n",
    "*sample*.  The action of measuring all the elements of a sample\n",
    "we will call a stochastic *experiment* (since, operationally,\n",
    "they are often associated with results of empirical observation of\n",
    "some physical or mathematical phenomena; precisely an experiment). We\n",
    "assume that these values are distributed according to some \n",
    "PDF $p_X^{\\phantom X}(x)$, where $X$ is just the formal symbol for the\n",
    "stochastic variable whose PDF is $p_X^{\\phantom X}(x)$. Instead of\n",
    "trying to determine the full distribution $p$ we are often only\n",
    "interested in finding the few lowest moments, like the mean\n",
    "$\\mu_X^{\\phantom X}$ and the variance $\\sigma_X^{\\phantom X}$.\n",
    "\n",
    "In practical situations however, a sample is always of finite size. Let that\n",
    "size be $n$. The expectation value of a sample $\\alpha$, the **sample mean**, is then defined as follows"
   ]
  },
  {
   "cell_type": "markdown",
   "id": "e65f6a16",
   "metadata": {
    "editable": true
   },
   "source": [
    "$$\n",
    "\\langle x_{\\alpha} \\rangle \\equiv \\frac{1}{n}\\sum_{k=1}^n x_{\\alpha,k}.\n",
    "$$"
   ]
  },
  {
   "cell_type": "markdown",
   "id": "4625dd90",
   "metadata": {
    "editable": true
   },
   "source": [
    "The *sample variance* is:"
   ]
  },
  {
   "cell_type": "markdown",
   "id": "9fe0ba5b",
   "metadata": {
    "editable": true
   },
   "source": [
    "$$\n",
    "\\mathrm{Var}(x) \\equiv \\frac{1}{n}\\sum_{k=1}^n (x_{\\alpha,k} - \\langle x_{\\alpha} \\rangle)^2,\n",
    "$$"
   ]
  },
  {
   "cell_type": "markdown",
   "id": "02018277",
   "metadata": {
    "editable": true
   },
   "source": [
    "with its square root being the *standard deviation of the sample*. \n",
    "\n",
    "You can think of the above observables as a set of quantities which define\n",
    "a given experiment. This experiment is then repeated several times, say $m$ times.\n",
    "The total average is then"
   ]
  },
  {
   "cell_type": "markdown",
   "id": "b70c018b",
   "metadata": {
    "editable": true
   },
   "source": [
    "<!-- Equation labels as ordinary links -->\n",
    "<div id=\"eq:exptmean\"></div>\n",
    "\n",
    "$$\n",
    "\\begin{equation}\n",
    "\\langle X_m \\rangle= \\frac{1}{m}\\sum_{\\alpha=1}^mx_{\\alpha}=\\frac{1}{mn}\\sum_{\\alpha, k} x_{\\alpha,k},\n",
    "\\label{eq:exptmean} \\tag{6}\n",
    "\\end{equation}\n",
    "$$"
   ]
  },
  {
   "cell_type": "markdown",
   "id": "b5e3445e",
   "metadata": {
    "editable": true
   },
   "source": [
    "where the last sums end at $m$ and $n$.\n",
    "The total variance is"
   ]
  },
  {
   "cell_type": "markdown",
   "id": "f21c34e2",
   "metadata": {
    "editable": true
   },
   "source": [
    "$$\n",
    "\\sigma^2_m= \\frac{1}{mn^2}\\sum_{\\alpha=1}^m(\\langle x_{\\alpha} \\rangle-\\langle X_m \\rangle)^2,\n",
    "$$"
   ]
  },
  {
   "cell_type": "markdown",
   "id": "b6e821b1",
   "metadata": {
    "editable": true
   },
   "source": [
    "which we rewrite as"
   ]
  },
  {
   "cell_type": "markdown",
   "id": "1b841b98",
   "metadata": {
    "editable": true
   },
   "source": [
    "<!-- Equation labels as ordinary links -->\n",
    "<div id=\"eq:exptvariance\"></div>\n",
    "\n",
    "$$\n",
    "\\begin{equation}\n",
    "\\sigma^2_m=\\frac{1}{m}\\sum_{\\alpha=1}^m\\sum_{kl=1}^n (x_{\\alpha,k}-\\langle X_m \\rangle)(x_{\\alpha,l}-\\langle X_m \\rangle).\n",
    "\\label{eq:exptvariance} \\tag{7}\n",
    "\\end{equation}\n",
    "$$"
   ]
  },
  {
   "cell_type": "markdown",
   "id": "3eaf58b1",
   "metadata": {
    "editable": true
   },
   "source": [
    "We define also the sample variance $\\sigma^2$ of all $mn$ individual experiments as"
   ]
  },
  {
   "cell_type": "markdown",
   "id": "8111dbd1",
   "metadata": {
    "editable": true
   },
   "source": [
    "<!-- Equation labels as ordinary links -->\n",
    "<div id=\"eq:sampleexptvariance\"></div>\n",
    "\n",
    "$$\n",
    "\\begin{equation}\n",
    "\\sigma^2=\\frac{1}{mn}\\sum_{\\alpha=1}^m\\sum_{k=1}^n (x_{\\alpha,k}-\\langle X_m \\rangle)^2.\n",
    "\\label{eq:sampleexptvariance} \\tag{8}\n",
    "\\end{equation}\n",
    "$$"
   ]
  },
  {
   "cell_type": "markdown",
   "id": "769561de",
   "metadata": {
    "editable": true
   },
   "source": [
    "These quantities, being known experimental values or the results from our calculations, \n",
    "may differ, in some cases\n",
    "significantly,  from the similarly named\n",
    "exact values for the mean value $\\mu_X$, the variance $\\mathrm{Var}(X)$\n",
    "and the covariance $\\mathrm{Cov}(X,Y)$."
   ]
  },
  {
   "cell_type": "markdown",
   "id": "707a2251",
   "metadata": {
    "editable": true
   },
   "source": [
    "### Numerical experiments and the covariance, central limit theorem\n",
    "\n",
    "The central limit theorem states that the PDF $\\tilde{p}(z)$ of\n",
    "the average of $m$ random values corresponding to a PDF $p(x)$ \n",
    "is a normal distribution whose mean is the \n",
    "mean value of the PDF $p(x)$ and whose variance is the variance\n",
    "of the PDF $p(x)$ divided by $m$, the number of values used to compute $z$.\n",
    "\n",
    "The central limit theorem leads then to the well-known expression for the\n",
    "standard deviation, given by"
   ]
  },
  {
   "cell_type": "markdown",
   "id": "40849ecf",
   "metadata": {
    "editable": true
   },
   "source": [
    "$$\n",
    "\\sigma_m=\n",
    "\\frac{\\sigma}{\\sqrt{m}}.\n",
    "$$"
   ]
  },
  {
   "cell_type": "markdown",
   "id": "b3afcf6c",
   "metadata": {
    "editable": true
   },
   "source": [
    "In many cases the above estimate for the standard deviation, in particular if correlations are strong, may be too simplistic.  We need therefore a more precise defintion of the error and the variance in our results.\n",
    "\n",
    "Our estimate of the true average $\\mu_{X}$ is the sample mean $\\langle X_m \\rangle$"
   ]
  },
  {
   "cell_type": "markdown",
   "id": "e6a97eec",
   "metadata": {
    "editable": true
   },
   "source": [
    "$$\n",
    "\\mu_{X}^{\\phantom X} \\approx X_m=\\frac{1}{mn}\\sum_{\\alpha=1}^m\\sum_{k=1}^n x_{\\alpha,k}.\n",
    "$$"
   ]
  },
  {
   "cell_type": "markdown",
   "id": "f47332cb",
   "metadata": {
    "editable": true
   },
   "source": [
    "We can then use Eq. ([7](#eq:exptvariance))"
   ]
  },
  {
   "cell_type": "markdown",
   "id": "b397eb5b",
   "metadata": {
    "editable": true
   },
   "source": [
    "$$\n",
    "\\sigma^2_m=\\frac{1}{mn^2}\\sum_{\\alpha=1}^m\\sum_{kl=1}^n (x_{\\alpha,k}-\\langle X_m \\rangle)(x_{\\alpha,l}-\\langle X_m \\rangle),\n",
    "$$"
   ]
  },
  {
   "cell_type": "markdown",
   "id": "2336c2fc",
   "metadata": {
    "editable": true
   },
   "source": [
    "and rewrite it as"
   ]
  },
  {
   "cell_type": "markdown",
   "id": "1e5e68d4",
   "metadata": {
    "editable": true
   },
   "source": [
    "$$\n",
    "\\sigma^2_m=\\frac{\\sigma^2}{n}+\\frac{2}{mn^2}\\sum_{\\alpha=1}^m\\sum_{k<l}^n (x_{\\alpha,k}-\\langle X_m \\rangle)(x_{\\alpha,l}-\\langle X_m \\rangle),\n",
    "$$"
   ]
  },
  {
   "cell_type": "markdown",
   "id": "d230496b",
   "metadata": {
    "editable": true
   },
   "source": [
    "where the first term is the sample variance of all $mn$ experiments divided by $n$\n",
    "and the last term is nothing but the covariance which arises when $k\\ne l$. \n",
    "\n",
    "Our estimate of the true average $\\mu_{X}$ is the sample mean $\\langle X_m \\rangle$\n",
    "\n",
    "If the \n",
    "observables are uncorrelated, then the covariance is zero and we obtain a total variance\n",
    "which agrees with the central limit theorem. Correlations may often be present in our data set, resulting in a non-zero covariance.  The first term is normally called the uncorrelated \n",
    "contribution.\n",
    "Computationally the uncorrelated first term is much easier to treat\n",
    "efficiently than the second.\n",
    "We just accumulate separately the values $x^2$ and $x$ for every\n",
    "measurement $x$ we receive. The correlation term, though, has to be\n",
    "calculated at the end of the experiment since we need all the\n",
    "measurements to calculate the cross terms. Therefore, all measurements\n",
    "have to be stored throughout the experiment.\n",
    "\n",
    "Let us analyze the problem by splitting up the correlation term into\n",
    "partial sums of the form"
   ]
  },
  {
   "cell_type": "markdown",
   "id": "3a344727",
   "metadata": {
    "editable": true
   },
   "source": [
    "$$\n",
    "f_d = \\frac{1}{nm}\\sum_{\\alpha=1}^m\\sum_{k=1}^{n-d}(x_{\\alpha,k}-\\langle X_m \\rangle)(x_{\\alpha,k+d}-\\langle X_m \\rangle),\n",
    "$$"
   ]
  },
  {
   "cell_type": "markdown",
   "id": "1146f588",
   "metadata": {
    "editable": true
   },
   "source": [
    "The correlation term of the total variance can now be rewritten in terms of\n",
    "$f_d$"
   ]
  },
  {
   "cell_type": "markdown",
   "id": "c7e8ee38",
   "metadata": {
    "editable": true
   },
   "source": [
    "$$\n",
    "\\frac{2}{mn^2}\\sum_{\\alpha=1}^m\\sum_{k<l}^n (x_{\\alpha,k}-\\langle X_m \\rangle)(x_{\\alpha,l}-\\langle X_m \\rangle)=\n",
    "\\frac{2}{n}\\sum_{d=1}^{n-1} f_d\n",
    "$$"
   ]
  },
  {
   "cell_type": "markdown",
   "id": "0da99fb8",
   "metadata": {
    "editable": true
   },
   "source": [
    "The value of $f_d$ reflects the correlation between measurements\n",
    "separated by the distance $d$ in the samples.  Notice that for\n",
    "$d=0$, $f$ is just the sample variance, $\\sigma^2$. If we divide $f_d$\n",
    "by $\\sigma^2$, we arrive at the so called **autocorrelation function**"
   ]
  },
  {
   "cell_type": "markdown",
   "id": "59f94571",
   "metadata": {
    "editable": true
   },
   "source": [
    "<!-- Equation labels as ordinary links -->\n",
    "<div id=\"eq:autocorrelformal\"></div>\n",
    "\n",
    "$$\n",
    "\\begin{equation}\n",
    "\\kappa_d = \\frac{f_d}{\\sigma^2}\n",
    "\\label{eq:autocorrelformal} \\tag{9}\n",
    "\\end{equation}\n",
    "$$"
   ]
  },
  {
   "cell_type": "markdown",
   "id": "5711d982",
   "metadata": {
    "editable": true
   },
   "source": [
    "which gives us a useful measure of the correlation pair correlation\n",
    "starting always at $1$ for $d=0$.\n",
    "\n",
    "The sample variance of the $mn$ experiments can now be\n",
    "written in terms of the autocorrelation function"
   ]
  },
  {
   "cell_type": "markdown",
   "id": "f43f4e99",
   "metadata": {
    "editable": true
   },
   "source": [
    "<!-- Equation labels as ordinary links -->\n",
    "<div id=\"eq:error_estimate_corr_time\"></div>\n",
    "\n",
    "$$\n",
    "\\begin{equation}\n",
    "\\sigma_m^2=\\frac{\\sigma^2}{n}+\\frac{2}{n}\\cdot\\sigma^2\\sum_{d=1}^{n-1}\n",
    "\\frac{f_d}{\\sigma^2}=\\left(1+2\\sum_{d=1}^{n-1}\\kappa_d\\right)\\frac{1}{n}\\sigma^2=\\frac{\\tau}{n}\\cdot\\sigma^2\n",
    "\\label{eq:error_estimate_corr_time} \\tag{10}\n",
    "\\end{equation}\n",
    "$$"
   ]
  },
  {
   "cell_type": "markdown",
   "id": "f3e40026",
   "metadata": {
    "editable": true
   },
   "source": [
    "and we see that $\\sigma_m$ can be expressed in terms of the\n",
    "uncorrelated sample variance times a correction factor $\\tau$ which\n",
    "accounts for the correlation between measurements. We call this\n",
    "correction factor the *autocorrelation time*"
   ]
  },
  {
   "cell_type": "markdown",
   "id": "5e80ce67",
   "metadata": {
    "editable": true
   },
   "source": [
    "<!-- Equation labels as ordinary links -->\n",
    "<div id=\"eq:autocorrelation_time\"></div>\n",
    "\n",
    "$$\n",
    "\\begin{equation}\n",
    "\\tau = 1+2\\sum_{d=1}^{n-1}\\kappa_d\n",
    "\\label{eq:autocorrelation_time} \\tag{11}\n",
    "\\end{equation}\n",
    "$$"
   ]
  },
  {
   "cell_type": "markdown",
   "id": "77e3a4ed",
   "metadata": {
    "editable": true
   },
   "source": [
    "<!-- It is closely related to the area under the graph of the -->\n",
    "<!-- autocorrelation function. -->\n",
    "For a correlation free experiment, $\\tau$\n",
    "equals 1. \n",
    "\n",
    "From the point of view of\n",
    "Eq. ([10](#eq:error_estimate_corr_time)) we can interpret a sequential\n",
    "correlation as an effective reduction of the number of measurements by\n",
    "a factor $\\tau$. The effective number of measurements becomes"
   ]
  },
  {
   "cell_type": "markdown",
   "id": "5bc1a688",
   "metadata": {
    "editable": true
   },
   "source": [
    "$$\n",
    "n_\\mathrm{eff} = \\frac{n}{\\tau}\n",
    "$$"
   ]
  },
  {
   "cell_type": "markdown",
   "id": "a17a0e31",
   "metadata": {
    "editable": true
   },
   "source": [
    "To neglect the autocorrelation time $\\tau$ will always cause our\n",
    "simple uncorrelated estimate of $\\sigma_m^2\\approx \\sigma^2/n$ to\n",
    "be less than the true sample error. The estimate of the error will be\n",
    "too \"good\". On the other hand, the calculation of the full\n",
    "autocorrelation time poses an efficiency problem if the set of\n",
    "measurements is very large.  The solution to this problem is given by \n",
    "more practically oriented methods like the blocking technique.\n",
    "<!-- add ref here to flybjerg -->"
   ]
  },
  {
   "cell_type": "code",
   "execution_count": 3,
   "id": "3c348b11",
   "metadata": {
    "collapsed": false,
    "editable": true
   },
   "outputs": [
    {
     "name": "stdout",
     "output_type": "stream",
     "text": [
      "0.09440493433371173\n",
      "4.418596857594715\n",
      "-0.03343379612645295\n",
      "0.9656484356890704 9.795584143123602 12.040810991569604\n",
      "2.910297822789896 2.622998661867777 7.866960260598739\n",
      "[[ 0.96564844  2.91029782  2.62299866]\n",
      " [ 2.91029782  9.79558414  7.86696026]\n",
      " [ 2.62299866  7.86696026 12.04081099]]\n",
      "[19.67364995  0.08109405  3.04729958]\n"
     ]
    }
   ],
   "source": [
    "# Importing various packages\n",
    "from math import exp, sqrt\n",
    "from random import random, seed\n",
    "import numpy as np\n",
    "import matplotlib.pyplot as plt\n",
    "\n",
    "# Sample covariance, note the factor 1/(n-1)\n",
    "def covariance(x, y, n):\n",
    "    sum = 0.0\n",
    "    mean_x = np.mean(x)\n",
    "    mean_y = np.mean(y)\n",
    "    for i in range(0, n):\n",
    "        sum += (x[(i)]-mean_x)*(y[i]-mean_y)\n",
    "    return  sum/(n-1.)\n",
    "\n",
    "n = 100\n",
    "x = np.random.normal(size=n)\n",
    "print(np.mean(x))\n",
    "y = 4+3*x+np.random.normal(size=n)\n",
    "print(np.mean(y))\n",
    "z = x**3+np.random.normal(size=n)\n",
    "print(np.mean(z))\n",
    "covxx = covariance(x,x,n)\n",
    "covyy = covariance(y,y,n)\n",
    "covzz = covariance(z,z,n)\n",
    "covxy = covariance(x,y,n)\n",
    "covxz = covariance(x,z,n)\n",
    "covyz = covariance(y,z,n)\n",
    "print(covxx,covyy, covzz)\n",
    "print(covxy,covxz, covyz)\n",
    "w = np.vstack((x, y, z))\n",
    "#print(w)\n",
    "c = np.cov(w)\n",
    "print(c)\n",
    "#eigen = np.zeros(n)\n",
    "Eigvals, Eigvecs = np.linalg.eig(c)\n",
    "print(Eigvals)"
   ]
  },
  {
   "cell_type": "markdown",
   "id": "ecaeea61",
   "metadata": {
    "editable": true
   },
   "source": [
    "### Random Numbers\n",
    "\n",
    "Uniform deviates are just random numbers that lie within a specified range\n",
    "(typically 0 to 1), with any one number in the range just as likely as any other. They\n",
    "are, in other words, what you probably think random numbers are. However,\n",
    "we want to distinguish uniform deviates from other sorts of random numbers, for\n",
    "example numbers drawn from a normal (Gaussian) distribution of specified mean\n",
    "and standard deviation. These other sorts of deviates are almost always generated by\n",
    "performing appropriate operations on one or more uniform deviates, as we will see\n",
    "in subsequent sections. So, a reliable source of random uniform deviates, the subject\n",
    "of this section, is an essential building block for any sort of stochastic modeling\n",
    "or Monte Carlo computer work.\n",
    "\n",
    "A disclaimer is however appropriate. It should be fairly obvious that \n",
    "something as deterministic as a computer cannot generate purely random numbers.\n",
    "\n",
    "Numbers generated by any of the standard algorithms are in reality pseudo random\n",
    "numbers, hopefully abiding to the following criteria:\n",
    "\n",
    "  * they produce a uniform distribution in the interval [0,1].\n",
    "\n",
    "  * correlations between random numbers are negligible\n",
    "\n",
    "  * the period before the same sequence of random numbers is repeated   is as large as possible and finally\n",
    "\n",
    "  * the algorithm should be fast.\n",
    "\n",
    " The most common random number generators are based on so-called\n",
    "Linear congruential relations of the type"
   ]
  },
  {
   "cell_type": "markdown",
   "id": "8e731bf2",
   "metadata": {
    "editable": true
   },
   "source": [
    "$$\n",
    "N_i=(aN_{i-1}+c) \\mathrm{MOD} (M),\n",
    "$$"
   ]
  },
  {
   "cell_type": "markdown",
   "id": "d0341530",
   "metadata": {
    "editable": true
   },
   "source": [
    "which yield a number in the interval [0,1] through"
   ]
  },
  {
   "cell_type": "markdown",
   "id": "4d3b7ea7",
   "metadata": {
    "editable": true
   },
   "source": [
    "$$\n",
    "x_i=N_i/M\n",
    "$$"
   ]
  },
  {
   "cell_type": "markdown",
   "id": "4b36e97b",
   "metadata": {
    "editable": true
   },
   "source": [
    "The number \n",
    "$M$ is called the period and it should be as large as possible \n",
    " and \n",
    "$N_0$ is the starting value, or seed. The function $\\mathrm{MOD}$ means the remainder,\n",
    "that is if we were to evaluate $(13)\\mathrm{MOD}(9)$, the outcome is the remainder\n",
    "of the division $13/9$, namely $4$.\n",
    "\n",
    "The problem with such generators is that their outputs are periodic;\n",
    "they \n",
    "will start to repeat themselves with a period that is at most $M$. If however\n",
    "the parameters $a$ and $c$ are badly chosen, the period may be even shorter.\n",
    "\n",
    "Consider the following example"
   ]
  },
  {
   "cell_type": "markdown",
   "id": "e35bec75",
   "metadata": {
    "editable": true
   },
   "source": [
    "$$\n",
    "N_i=(6N_{i-1}+7) \\mathrm{MOD} (5),\n",
    "$$"
   ]
  },
  {
   "cell_type": "markdown",
   "id": "e1793cdf",
   "metadata": {
    "editable": true
   },
   "source": [
    "with a seed $N_0=2$. This generator produces the sequence\n",
    "$4,1,3,0,2,4,1,3,0,2,...\\dots$, i.e., a sequence with period $5$.\n",
    "However, increasing $M$ may not guarantee a larger period as the following\n",
    "example shows"
   ]
  },
  {
   "cell_type": "markdown",
   "id": "d6fba025",
   "metadata": {
    "editable": true
   },
   "source": [
    "$$\n",
    "N_i=(27N_{i-1}+11) \\mathrm{MOD} (54),\n",
    "$$"
   ]
  },
  {
   "cell_type": "markdown",
   "id": "6ffd5658",
   "metadata": {
    "editable": true
   },
   "source": [
    "which still, with $N_0=2$, results in $11,38,11,38,11,38,\\dots$, a period of\n",
    "just $2$.\n",
    "\n",
    "Typical periods for the random generators provided in the program library \n",
    "are of the order of $\\sim 10^9$ or larger. Other random number generators which have\n",
    "become increasingly popular are so-called shift-register generators.\n",
    "In these generators each successive number depends on many preceding\n",
    "values (rather than the last values as in the linear congruential\n",
    "generator).\n",
    "For example, you could make a shift register generator whose $l$th \n",
    "number is the sum of the $l-i$th and $l-j$th values with modulo $M$,"
   ]
  },
  {
   "cell_type": "markdown",
   "id": "c5da7f78",
   "metadata": {
    "editable": true
   },
   "source": [
    "$$\n",
    "N_l=(aN_{l-i}+cN_{l-j})\\mathrm{MOD}(M).\n",
    "$$"
   ]
  },
  {
   "cell_type": "markdown",
   "id": "2c25b836",
   "metadata": {
    "editable": true
   },
   "source": [
    "Such a generator again produces a sequence of pseudorandom numbers\n",
    "but this time with a period much larger than $M$.\n",
    "It is also possible to construct more elaborate algorithms by including\n",
    "more than two past terms in the sum of each iteration.\n",
    "One example is the generator of [Marsaglia and Zaman](http://dl.acm.org/citation.cfm?id=187154)\n",
    "which consists of two congruential relations"
   ]
  },
  {
   "cell_type": "markdown",
   "id": "e4a135e8",
   "metadata": {
    "editable": true
   },
   "source": [
    "<!-- Equation labels as ordinary links -->\n",
    "<div id=\"eq:mz1\"></div>\n",
    "\n",
    "$$\n",
    "\\begin{equation}\n",
    "   N_l=(N_{l-3}-N_{l-1})\\mathrm{MOD}(2^{31}-69),\n",
    "\\label{eq:mz1} \\tag{12}\n",
    "\\end{equation}\n",
    "$$"
   ]
  },
  {
   "cell_type": "markdown",
   "id": "b37cd0b7",
   "metadata": {
    "editable": true
   },
   "source": [
    "followed by"
   ]
  },
  {
   "cell_type": "markdown",
   "id": "da41fe10",
   "metadata": {
    "editable": true
   },
   "source": [
    "<!-- Equation labels as ordinary links -->\n",
    "<div id=\"eq:mz2\"></div>\n",
    "\n",
    "$$\n",
    "\\begin{equation}\n",
    "   N_l=(69069N_{l-1}+1013904243)\\mathrm{MOD}(2^{32}),\n",
    "\\label{eq:mz2} \\tag{13}\n",
    "\\end{equation}\n",
    "$$"
   ]
  },
  {
   "cell_type": "markdown",
   "id": "9a489418",
   "metadata": {
    "editable": true
   },
   "source": [
    "which according to the authors has a period larger than $2^{94}$.\n",
    "\n",
    "Instead of  using modular addition, we could use the bitwise\n",
    "exclusive-OR ($\\oplus$) operation so that"
   ]
  },
  {
   "cell_type": "markdown",
   "id": "4294433a",
   "metadata": {
    "editable": true
   },
   "source": [
    "$$\n",
    "N_l=(N_{l-i})\\oplus (N_{l-j})\n",
    "$$"
   ]
  },
  {
   "cell_type": "markdown",
   "id": "9bfc4598",
   "metadata": {
    "editable": true
   },
   "source": [
    "where the bitwise action of $\\oplus$ means that if $N_{l-i}=N_{l-j}$ the result is\n",
    "$0$ whereas if $N_{l-i}\\ne N_{l-j}$ the result is\n",
    "$1$. As an example, consider the case where  $N_{l-i}=6$ and $N_{l-j}=11$. The first\n",
    "one has a bit representation (using 4 bits only) which reads $0110$ whereas the \n",
    "second number is $1011$. Employing the $\\oplus$ operator yields \n",
    "$1101$, or $2^3+2^2+2^0=13$.\n",
    "\n",
    "In Fortran90, the bitwise $\\oplus$ operation is coded through the intrinsic\n",
    "function $\\mathrm{IEOR}(m,n)$ where $m$ and $n$ are the input numbers, while in $C$\n",
    "it is given by $m\\wedge n$. \n",
    "\n",
    "We show here how the linear congruential algorithm can be implemented, namely"
   ]
  },
  {
   "cell_type": "markdown",
   "id": "a4a8c15a",
   "metadata": {
    "editable": true
   },
   "source": [
    "$$\n",
    "N_i=(aN_{i-1}) \\mathrm{MOD} (M).\n",
    "$$"
   ]
  },
  {
   "cell_type": "markdown",
   "id": "5ac68b4d",
   "metadata": {
    "editable": true
   },
   "source": [
    "However, since $a$ and $N_{i-1}$ are integers and their multiplication \n",
    "could become greater than the standard 32 bit integer, there is a trick via \n",
    "Schrage's algorithm which approximates the multiplication\n",
    "of large integers through the factorization"
   ]
  },
  {
   "cell_type": "markdown",
   "id": "d47724cd",
   "metadata": {
    "editable": true
   },
   "source": [
    "$$\n",
    "M=aq+r,\n",
    "$$"
   ]
  },
  {
   "cell_type": "markdown",
   "id": "f3ca32a6",
   "metadata": {
    "editable": true
   },
   "source": [
    "where we have defined"
   ]
  },
  {
   "cell_type": "markdown",
   "id": "26cb7a8c",
   "metadata": {
    "editable": true
   },
   "source": [
    "$$\n",
    "q=[M/a],\n",
    "$$"
   ]
  },
  {
   "cell_type": "markdown",
   "id": "8c88d4ec",
   "metadata": {
    "editable": true
   },
   "source": [
    "and"
   ]
  },
  {
   "cell_type": "markdown",
   "id": "7e2a9bfc",
   "metadata": {
    "editable": true
   },
   "source": [
    "$$\n",
    "r = M\\hspace{0.1cm}\\mathrm{MOD} \\hspace{0.1cm}a.\n",
    "$$"
   ]
  },
  {
   "cell_type": "markdown",
   "id": "6f25911e",
   "metadata": {
    "editable": true
   },
   "source": [
    "where the brackets denote integer division. In the code below the numbers \n",
    "$q$ and $r$ are chosen so that $r < q$.\n",
    "\n",
    "To see how this works we note first that"
   ]
  },
  {
   "cell_type": "markdown",
   "id": "e3363165",
   "metadata": {
    "editable": true
   },
   "source": [
    "<!-- Equation labels as ordinary links -->\n",
    "<div id=\"eq:rntrick1\"></div>\n",
    "\n",
    "$$\n",
    "\\begin{equation}\n",
    "(aN_{i-1}) \\mathrm{MOD} (M)= (aN_{i-1}-[N_{i-1}/q]M)\\mathrm{MOD} (M),\n",
    "\\label{eq:rntrick1} \\tag{14}\n",
    "\\end{equation}\n",
    "$$"
   ]
  },
  {
   "cell_type": "markdown",
   "id": "caa9b226",
   "metadata": {
    "editable": true
   },
   "source": [
    "since we can add or subtract any integer multiple of $M$ from $aN_{i-1}$.\n",
    "The last term $[N_{i-1}/q]M\\mathrm{MOD}(M)$ is zero since the integer division \n",
    "$[N_{i-1}/q]$ just yields a constant which is multiplied with $M$. \n",
    "\n",
    "We can now rewrite Eq. ([14](#eq:rntrick1)) as"
   ]
  },
  {
   "cell_type": "markdown",
   "id": "807586a1",
   "metadata": {
    "editable": true
   },
   "source": [
    "<!-- Equation labels as ordinary links -->\n",
    "<div id=\"eq:rntrick2\"></div>\n",
    "\n",
    "$$\n",
    "\\begin{equation}\n",
    "(aN_{i-1}) \\mathrm{MOD} (M)= (aN_{i-1}-[N_{i-1}/q](aq+r))\\mathrm{MOD} (M),\n",
    "\\label{eq:rntrick2} \\tag{15}\n",
    "\\end{equation}\n",
    "$$"
   ]
  },
  {
   "cell_type": "markdown",
   "id": "22f852c7",
   "metadata": {
    "editable": true
   },
   "source": [
    "which results"
   ]
  },
  {
   "cell_type": "markdown",
   "id": "0bb72673",
   "metadata": {
    "editable": true
   },
   "source": [
    "<!-- Equation labels as ordinary links -->\n",
    "<div id=\"eq:rntrick3\"></div>\n",
    "\n",
    "$$\n",
    "\\begin{equation}\n",
    "(aN_{i-1}) \\mathrm{MOD} (M)= \\left(a(N_{i-1}-[N_{i-1}/q]q)-[N_{i-1}/q]r)\\right)\\mathrm{MOD} (M),\n",
    "\\label{eq:rntrick3} \\tag{16}\n",
    "\\end{equation}\n",
    "$$"
   ]
  },
  {
   "cell_type": "markdown",
   "id": "5e06548e",
   "metadata": {
    "editable": true
   },
   "source": [
    "yielding"
   ]
  },
  {
   "cell_type": "markdown",
   "id": "1227c261",
   "metadata": {
    "editable": true
   },
   "source": [
    "<!-- Equation labels as ordinary links -->\n",
    "<div id=\"eq:rntrick4\"></div>\n",
    "\n",
    "$$\n",
    "\\begin{equation}\n",
    "(aN_{i-1}) \\mathrm{MOD} (M)= \\left(a(N_{i-1}\\mathrm{MOD} (q)) -[N_{i-1}/q]r)\\right)\\mathrm{MOD} (M).\n",
    "\\label{eq:rntrick4} \\tag{17}\n",
    "\\end{equation}\n",
    "$$"
   ]
  },
  {
   "cell_type": "markdown",
   "id": "c1b82a5c",
   "metadata": {
    "editable": true
   },
   "source": [
    "The term $[N_{i-1}/q]r$ is always smaller or equal $N_{i-1}(r/q)$ and with $r < q$ we obtain always a \n",
    "number smaller than $N_{i-1}$, which is smaller than $M$. \n",
    "And since the number $N_{i-1}\\mathrm{MOD} (q)$ is between zero and $q-1$ then\n",
    "$a(N_{i-1}\\mathrm{MOD} (q))< aq$. Combined with our definition of $q=[M/a]$ ensures that \n",
    "this term is also smaller than $M$ meaning that both terms fit into a\n",
    "32-bit signed integer. None of these two terms can be negative, but their difference could.\n",
    "The algorithm below adds $M$ if their difference is negative.\n",
    "Note that the program uses the bitwise $\\oplus$ operator to generate\n",
    "the starting point for each generation of a random number. The period\n",
    "of $ran0$ is $\\sim 2.1\\times 10^{9}$. A special feature of this\n",
    "algorithm is that is should never be called with the initial seed \n",
    "set to $0$. \n",
    "\n",
    "As mentioned previously, the underlying PDF for the generation of\n",
    "random numbers is the uniform distribution, meaning that the \n",
    "probability for finding a number $x$ in the interval [0,1] is $p(x)=1$.\n",
    "\n",
    "A random number generator should produce numbers which are uniformly distributed\n",
    "in this interval. The table  shows the distribution of $N=10000$ random\n",
    "numbers generated by the functions in the program library.\n",
    "We note in this table that the number of points in the various\n",
    "intervals $0.0-0.1$, $0.1-0.2$ etc are fairly close to $1000$, with some minor\n",
    "deviations. \n",
    "\n",
    "Two additional measures are the standard deviation $\\sigma$ and the mean\n",
    "$\\mu=\\langle x\\rangle$.\n",
    "\n",
    "For the uniform distribution, the mean value $\\mu$ is then"
   ]
  },
  {
   "cell_type": "markdown",
   "id": "dacf04eb",
   "metadata": {
    "editable": true
   },
   "source": [
    "$$\n",
    "\\mu=\\langle x\\rangle=\\frac{1}{2}\n",
    "$$"
   ]
  },
  {
   "cell_type": "markdown",
   "id": "44216fdd",
   "metadata": {
    "editable": true
   },
   "source": [
    "while the standard deviation is"
   ]
  },
  {
   "cell_type": "markdown",
   "id": "bb4297ee",
   "metadata": {
    "editable": true
   },
   "source": [
    "$$\n",
    "\\sigma=\\sqrt{\\langle x^2\\rangle-\\mu^2}=\\frac{1}{\\sqrt{12}}=0.2886.\n",
    "$$"
   ]
  },
  {
   "cell_type": "markdown",
   "id": "bed1a0da",
   "metadata": {
    "editable": true
   },
   "source": [
    "The various random number generators produce results which agree rather well with\n",
    "these limiting values. \n",
    "\n",
    "<table class=\"dotable\" border=\"1\">\n",
    "<thead>\n",
    "<tr><th align=\"center\">$x$-bin </th> <th align=\"center\"> ran0 </th> <th align=\"center\"> ran1 </th> <th align=\"center\"> ran2 </th> <th align=\"center\"> ran3 </th> </tr>\n",
    "</thead>\n",
    "<tbody>\n",
    "<tr><td align=\"center\">   0.0-0.1     </td> <td align=\"right\">   1013      </td> <td align=\"right\">   991       </td> <td align=\"right\">   938       </td> <td align=\"right\">   1047      </td> </tr>\n",
    "<tr><td align=\"center\">   0.1-0.2     </td> <td align=\"right\">   1002      </td> <td align=\"right\">   1009      </td> <td align=\"right\">   1040      </td> <td align=\"right\">   1030      </td> </tr>\n",
    "<tr><td align=\"center\">   0.2-0.3     </td> <td align=\"right\">   989       </td> <td align=\"right\">   999       </td> <td align=\"right\">   1030      </td> <td align=\"right\">   993       </td> </tr>\n",
    "<tr><td align=\"center\">   0.3-0.4     </td> <td align=\"right\">   939       </td> <td align=\"right\">   960       </td> <td align=\"right\">   1023      </td> <td align=\"right\">   937       </td> </tr>\n",
    "<tr><td align=\"center\">   0.4-0.5     </td> <td align=\"right\">   1038      </td> <td align=\"right\">   1001      </td> <td align=\"right\">   1002      </td> <td align=\"right\">   992       </td> </tr>\n",
    "<tr><td align=\"center\">   0.5-0.6     </td> <td align=\"right\">   1037      </td> <td align=\"right\">   1047      </td> <td align=\"right\">   1009      </td> <td align=\"right\">   1009      </td> </tr>\n",
    "<tr><td align=\"center\">   0.6-0.7     </td> <td align=\"right\">   1005      </td> <td align=\"right\">   989       </td> <td align=\"right\">   1003      </td> <td align=\"right\">   989       </td> </tr>\n",
    "<tr><td align=\"center\">   0.7-0.8     </td> <td align=\"right\">   986       </td> <td align=\"right\">   962       </td> <td align=\"right\">   985       </td> <td align=\"right\">   954       </td> </tr>\n",
    "<tr><td align=\"center\">   0.8-0.9     </td> <td align=\"right\">   1000      </td> <td align=\"right\">   1027      </td> <td align=\"right\">   1009      </td> <td align=\"right\">   1023      </td> </tr>\n",
    "<tr><td align=\"center\">   0.9-1.0     </td> <td align=\"right\">   991       </td> <td align=\"right\">   1015      </td> <td align=\"right\">   961       </td> <td align=\"right\">   1026      </td> </tr>\n",
    "<tr><td align=\"center\">   $\\mu$       </td> <td align=\"right\">   0.4997    </td> <td align=\"right\">   0.5018    </td> <td align=\"right\">   0.4992    </td> <td align=\"right\">   0.4990    </td> </tr>\n",
    "<tr><td align=\"center\">   $\\sigma$    </td> <td align=\"right\">   0.2882    </td> <td align=\"right\">   0.2892    </td> <td align=\"right\">   0.2861    </td> <td align=\"right\">   0.2915    </td> </tr>\n",
    "</tbody>\n",
    "</table>\n",
    "\n",
    "The following simple Python code plots the distribution of the produced random numbers using the linear congruential RNG employed by Python. The trend displayed in the previous table is seen rather clearly."
   ]
  },
  {
   "cell_type": "code",
   "execution_count": 4,
   "id": "dd0f1669",
   "metadata": {
    "collapsed": false,
    "editable": true
   },
   "outputs": [
    {
     "data": {
      "image/png": "[encoded data removed]",
      "text/plain": [
       "<Figure size 640x480 with 1 Axes>"
      ]
     },
     "metadata": {
      "filenames": {
       "image/png": "/Users/mhjensen/Teaching/MachineLearning/doc/LectureNotes/_build/jupyter_execute/statistics_181_0.png"
      }
     },
     "output_type": "display_data"
    }
   ],
   "source": [
    "#!/usr/bin/env python\n",
    "import numpy as np\n",
    "import matplotlib.mlab as mlab\n",
    "import matplotlib.pyplot as plt\n",
    "import random\n",
    "\n",
    "# initialize the rng with a seed\n",
    "random.seed() \n",
    "counts = 10000\n",
    "values = np.zeros(counts)   \n",
    "for i in range (1, counts, 1):\n",
    "    values[i] = random.random()\n",
    "\n",
    "# the histogram of the data\n",
    "n, bins, patches = plt.hist(values, 10, facecolor='green')\n",
    "\n",
    "plt.xlabel('$x$')\n",
    "plt.ylabel('Number of counts')\n",
    "plt.title(r'Test of uniform distribution')\n",
    "plt.axis([0, 1, 0, 1100])\n",
    "plt.grid(True)\n",
    "plt.show()"
   ]
  },
  {
   "cell_type": "markdown",
   "id": "3b439592",
   "metadata": {
    "editable": true
   },
   "source": [
    "Since our random numbers, which are typically generated via a linear congruential algorithm,\n",
    "are never fully independent, we can then define \n",
    "an important test which measures the degree of correlation, namely the  so-called  \n",
    "auto-correlation function defined previously, see again Eq. ([9](#eq:autocorrelformal)).\n",
    "We rewrite it here as"
   ]
  },
  {
   "cell_type": "markdown",
   "id": "65c84eb8",
   "metadata": {
    "editable": true
   },
   "source": [
    "$$\n",
    "C_k=\\frac{f_d}\n",
    "             {\\sigma^2},\n",
    "$$"
   ]
  },
  {
   "cell_type": "markdown",
   "id": "5bdabd24",
   "metadata": {
    "editable": true
   },
   "source": [
    "with $C_0=1$. Recall that \n",
    "$\\sigma^2=\\langle x_i^2\\rangle-\\langle x_i\\rangle^2$ and that"
   ]
  },
  {
   "cell_type": "markdown",
   "id": "9965ab90",
   "metadata": {
    "editable": true
   },
   "source": [
    "$$\n",
    "f_d = \\frac{1}{nm}\\sum_{\\alpha=1}^m\\sum_{k=1}^{n-d}(x_{\\alpha,k}-\\langle X_m \\rangle)(x_{\\alpha,k+d}-\\langle X_m \\rangle),\n",
    "$$"
   ]
  },
  {
   "cell_type": "markdown",
   "id": "23e0c2ff",
   "metadata": {
    "editable": true
   },
   "source": [
    "The non-vanishing of $C_k$ for $k\\ne 0$ means that the random\n",
    "numbers are not independent. The independence of the random numbers is crucial \n",
    "in the evaluation of other expectation values. If they are not independent, our\n",
    "assumption for approximating $\\sigma_N$ is no longer valid."
   ]
  },
  {
   "cell_type": "markdown",
   "id": "f740a54c",
   "metadata": {
    "editable": true
   },
   "source": [
    "### Autocorrelation function\n",
    "\n",
    "This program computes the autocorrelation function as discussed in the equation on the previous slide for random numbers generated with the normal distribution $N(0,1)$."
   ]
  },
  {
   "cell_type": "code",
   "execution_count": 5,
   "id": "4acc6d55",
   "metadata": {
    "collapsed": false,
    "editable": true
   },
   "outputs": [
    {
     "name": "stdout",
     "output_type": "stream",
     "text": [
      "-0.022379426843681074 1.0553198496333376\n"
     ]
    },
    {
     "data": {
      "image/png": "[encoded data removed]",
      "text/plain": [
       "<Figure size 640x480 with 1 Axes>"
      ]
     },
     "metadata": {
      "filenames": {
       "image/png": "/Users/mhjensen/Teaching/MachineLearning/doc/LectureNotes/_build/jupyter_execute/statistics_188_1.png"
      }
     },
     "output_type": "display_data"
    }
   ],
   "source": [
    "# Importing various packages\n",
    "from math import exp, sqrt\n",
    "from random import random, seed\n",
    "import numpy as np\n",
    "import matplotlib.pyplot as plt\n",
    "\n",
    "def autocovariance(x, n, k, mean_x):\n",
    "    sum = 0.0\n",
    "    for i in range(0, n-k):\n",
    "        sum += (x[(i+k)]-mean_x)*(x[i]-mean_x)\n",
    "    return  sum/n\n",
    "\n",
    "n = 1000\n",
    "x=np.random.normal(size=n)\n",
    "autocor = np.zeros(n)\n",
    "figaxis = np.zeros(n)\n",
    "mean_x=np.mean(x)\n",
    "var_x = np.var(x)\n",
    "print(mean_x, var_x)\n",
    "for i in range (0, n):\n",
    "    figaxis[i] = i\n",
    "    autocor[i]=(autocovariance(x, n, i, mean_x))/var_x    \n",
    "\n",
    "plt.plot(figaxis, autocor, \"r-\")\n",
    "plt.axis([0,n,-0.1, 1.0])\n",
    "plt.xlabel(r'$i$')\n",
    "plt.ylabel(r'$\\gamma_i$')\n",
    "plt.title(r'Autocorrelation function')\n",
    "plt.show()"
   ]
  },
  {
   "cell_type": "markdown",
   "id": "2b9b8e55",
   "metadata": {
    "editable": true
   },
   "source": [
    "As can be seen from the plot, the first point gives back the variance and a value of one. \n",
    "For the remaining values we notice that there are still non-zero values for the auto-correlation function."
   ]
  }
 ],
 "metadata": {
  "language_info": {
   "codemirror_mode": {
    "name": "ipython",
    "version": 3
   },
   "file_extension": ".py",
   "mimetype": "text/x-python",
   "name": "python",
   "nbconvert_exporter": "python",
   "pygments_lexer": "ipython3",
   "version": "3.9.15"
  }
 },
 "nbformat": 4,
 "nbformat_minor": 5
}