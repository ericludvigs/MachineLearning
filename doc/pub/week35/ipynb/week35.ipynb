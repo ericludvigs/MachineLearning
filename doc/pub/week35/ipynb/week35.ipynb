{
 "cells": [
  {
   "cell_type": "markdown",
   "id": "4056272f",
   "metadata": {},
   "source": [
    "<!-- HTML file automatically generated from DocOnce source (https://github.com/doconce/doconce/)\n",
    "doconce format html week35.do.txt --no_mako -->\n",
    "<!-- dom:TITLE: Week 35: From Ordinary Linear Regression to Ridge and Lasso Regression -->"
   ]
  },
  {
   "cell_type": "markdown",
   "id": "bed7fa64",
   "metadata": {},
   "source": [
    "# Week 35: From Ordinary Linear Regression to Ridge and Lasso Regression\n",
    "**Morten Hjorth-Jensen**, Department of Physics, University of Oslo\n",
    "\n",
    "Date: **August 26-30, 2024**"
   ]
  },
  {
   "cell_type": "markdown",
   "id": "f651b769",
   "metadata": {},
   "source": [
    "## Plans for week 35\n",
    "\n",
    "The main topics are:\n",
    "\n",
    "1. Brief repetition from last week\n",
    "\n",
    "2. Discussions  of the equations for ordinary least squares\n",
    "\n",
    "3. Discussion on how to prepare data and examples of applications of linear regression\n",
    "\n",
    "4. Material for the lecture on Monday: Mathematical interpretations of linear regression\n",
    "\n",
    "5. Monday: Ridge and Lasso regression and Singular Value Decomposition"
   ]
  },
  {
   "cell_type": "markdown",
   "id": "3cc28c2f",
   "metadata": {},
   "source": [
    "### Reading recommendations:\n",
    "\n",
    "1. These lecture notes\n",
    "\n",
    "2. [Video of lecture](https://youtu.be/VKakN-e4aUA)\n",
    "\n",
    "3. [Video for exercises week 35](https://youtu.be/yiY0OltU1s8)\n",
    "\n",
    "4. Goodfellow, Bengio and Courville, Deep Learning, chapter 2 on linear algebra and sections 3.1-3.10 on elements of statistics (background)\n",
    "\n",
    "5. Raschka et al on preprocessing of data, relevant for exercise 3 this week, see chapter 4.\n",
    "\n",
    "6. For exercise 1 of week 35, the book by A. Aldo Faisal, Cheng Soon Ong, and Marc Peter Deisenroth on the Mathematics of Machine Learning, may be very relevant. In particular chapter 5 at URL\"https://mml-book.github.io/\" (section 5.5 on derivatives) is very useful for exercise 1 this coming week."
   ]
  },
  {
   "cell_type": "markdown",
   "id": "4ce22826",
   "metadata": {},
   "source": [
    "## For exercise sessions: Why Linear Regression (aka Ordinary Least Squares and family), repeat from last week\n",
    "\n",
    "We need first a reminder from last week about linear regression. \n",
    "\n",
    "Fitting a continuous function with linear parameterization in terms of the parameters  $\\boldsymbol{\\beta}$.\n",
    "* Method of choice for fitting a continuous function!\n",
    "\n",
    "* Gives an excellent introduction to central Machine Learning features with **understandable pedagogical** links to other methods like **Neural Networks**, **Support Vector Machines** etc\n",
    "\n",
    "* Analytical expression for the fitting parameters $\\boldsymbol{\\beta}$\n",
    "\n",
    "* Analytical expressions for statistical propertiers like mean values, variances, confidence intervals and more\n",
    "\n",
    "* Analytical relation with probabilistic interpretations \n",
    "\n",
    "* Easy to introduce basic concepts like bias-variance tradeoff, cross-validation, resampling and regularization techniques and many other ML topics\n",
    "\n",
    "* Easy to code! And links well with classification problems and logistic regression and neural networks\n",
    "\n",
    "* Allows for **easy** hands-on understanding of gradient descent methods\n",
    "\n",
    "* and many more features\n",
    "\n",
    "For more discussions of Ridge and Lasso regression, [Wessel van Wieringen's](https://arxiv.org/abs/1509.09169) article is highly recommended.\n",
    "Similarly, [Mehta et al's article](https://arxiv.org/abs/1803.08823) is also recommended."
   ]
  },
  {
   "cell_type": "markdown",
   "id": "1d9df4fe",
   "metadata": {},
   "source": [
    "## The equations for ordinary least squares\n",
    "\n",
    "Our data which we want to apply a machine learning method on, consist\n",
    "of a set of inputs $\\boldsymbol{x}^T=[x_0,x_1,x_2,\\dots,x_{n-1}]$ and the\n",
    "outputs we want to model $\\boldsymbol{y}^T=[y_0,y_1,y_2,\\dots,y_{n-1}]$.\n",
    "We assume  that the output data can be represented (for a regression case) by a continuous function $f$\n",
    "through"
   ]
  },
  {
   "cell_type": "markdown",
   "id": "7bc9d9b8",
   "metadata": {},
   "source": [
    "$$\n",
    "y_i=f(x_i)+\\epsilon_i,\n",
    "$$"
   ]
  },
  {
   "cell_type": "markdown",
   "id": "16d390b6",
   "metadata": {},
   "source": [
    "or in general"
   ]
  },
  {
   "cell_type": "markdown",
   "id": "4e4a28d3",
   "metadata": {},
   "source": [
    "$$\n",
    "\\boldsymbol{y}=f(\\boldsymbol{x})+\\boldsymbol{\\epsilon},\n",
    "$$"
   ]
  },
  {
   "cell_type": "markdown",
   "id": "eb6ac14f",
   "metadata": {},
   "source": [
    "where $\\boldsymbol{\\epsilon}$ represents some noise which is normally assumed to\n",
    "be distributed via a normal probability distribution with zero mean\n",
    "value and a variance $\\sigma^2$.\n",
    "\n",
    "In linear regression we approximate the unknown function with another\n",
    "continuous function $\\tilde{\\boldsymbol{y}}(\\boldsymbol{x})$ which depends linearly on\n",
    "some unknown parameters\n",
    "$\\boldsymbol{\\beta}^T=[\\beta_0,\\beta_1,\\beta_2,\\dots,\\beta_{p-1}]$.\n",
    "\n",
    "Last week we introduced the so-called design matrix in order to define\n",
    "the approximation $\\boldsymbol{\\tilde{y}}$ via the unknown quantity\n",
    "$\\boldsymbol{\\beta}$ as"
   ]
  },
  {
   "cell_type": "markdown",
   "id": "4da31a11",
   "metadata": {},
   "source": [
    "$$\n",
    "\\boldsymbol{\\tilde{y}}= \\boldsymbol{X}\\boldsymbol{\\beta},\n",
    "$$"
   ]
  },
  {
   "cell_type": "markdown",
   "id": "2231b9b8",
   "metadata": {},
   "source": [
    "and in order to find the optimal parameters $\\beta_i$ we defined a function which\n",
    "gives a measure of the spread between the values $y_i$ (which\n",
    "represent the output values we want to reproduce) and the parametrized\n",
    "values $\\tilde{y}_i$, namely the so-called cost/loss function."
   ]
  },
  {
   "cell_type": "markdown",
   "id": "dc2e84eb",
   "metadata": {},
   "source": [
    "## The cost/loss function\n",
    "\n",
    "We used the mean squared error to define the way we measure the quality of our model"
   ]
  },
  {
   "cell_type": "markdown",
   "id": "a2cd53fd",
   "metadata": {},
   "source": [
    "$$\n",
    "C(\\boldsymbol{\\beta})=\\frac{1}{n}\\sum_{i=0}^{n-1}\\left(y_i-\\tilde{y}_i\\right)^2=\\frac{1}{n}\\left\\{\\left(\\boldsymbol{y}-\\boldsymbol{\\tilde{y}}\\right)^T\\left(\\boldsymbol{y}-\\boldsymbol{\\tilde{y}}\\right)\\right\\},\n",
    "$$"
   ]
  },
  {
   "cell_type": "markdown",
   "id": "142e9e9d",
   "metadata": {},
   "source": [
    "or using the matrix $\\boldsymbol{X}$ and in a more compact matrix-vector notation as"
   ]
  },
  {
   "cell_type": "markdown",
   "id": "a3d1bc30",
   "metadata": {},
   "source": [
    "$$\n",
    "C(\\boldsymbol{\\beta})=\\frac{1}{n}\\left\\{\\left(\\boldsymbol{y}-\\boldsymbol{X}\\boldsymbol{\\beta}\\right)^T\\left(\\boldsymbol{y}-\\boldsymbol{X}\\boldsymbol{\\beta}\\right)\\right\\}.\n",
    "$$"
   ]
  },
  {
   "cell_type": "markdown",
   "id": "4824b7b6",
   "metadata": {},
   "source": [
    "This function represents one of many possible ways to define the so-called cost function.\n",
    "\n",
    "It is also common to define\n",
    "the function $C$ as"
   ]
  },
  {
   "cell_type": "markdown",
   "id": "aac7541e",
   "metadata": {},
   "source": [
    "$$\n",
    "C(\\boldsymbol{\\beta})=\\frac{1}{2n}\\sum_{i=0}^{n-1}\\left(y_i-\\tilde{y}_i\\right)^2,\n",
    "$$"
   ]
  },
  {
   "cell_type": "markdown",
   "id": "68cb773e",
   "metadata": {},
   "source": [
    "since when taking the first derivative with respect to the unknown parameters $\\beta$, the factor of $2$ cancels out."
   ]
  },
  {
   "cell_type": "markdown",
   "id": "558ff41a",
   "metadata": {},
   "source": [
    "## Interpretations and optimizing our parameters\n",
    "\n",
    "The function"
   ]
  },
  {
   "cell_type": "markdown",
   "id": "29815637",
   "metadata": {},
   "source": [
    "$$\n",
    "C(\\boldsymbol{\\beta})=\\frac{1}{n}\\left\\{\\left(\\boldsymbol{y}-\\boldsymbol{X}\\boldsymbol{\\beta}\\right)^T\\left(\\boldsymbol{y}-\\boldsymbol{X}\\boldsymbol{\\beta}\\right)\\right\\},\n",
    "$$"
   ]
  },
  {
   "cell_type": "markdown",
   "id": "48dac5ad",
   "metadata": {},
   "source": [
    "can be linked to the variance of the quantity $y_i$ if we interpret the latter as the mean value. \n",
    "When linking (see the discussions next week) with the maximum likelihood approach below, we will indeed interpret $y_i$ as a mean value"
   ]
  },
  {
   "cell_type": "markdown",
   "id": "b06e9d96",
   "metadata": {},
   "source": [
    "$$\n",
    "y_{i}=\\langle y_i \\rangle = \\beta_0x_{i,0}+\\beta_1x_{i,1}+\\beta_2x_{i,2}+\\dots+\\beta_{n-1}x_{i,n-1}+\\epsilon_i,\n",
    "$$"
   ]
  },
  {
   "cell_type": "markdown",
   "id": "edd5397a",
   "metadata": {},
   "source": [
    "where $\\langle y_i \\rangle$ is the mean value. Keep in mind also that\n",
    "till now we have treated $y_i$ as the exact value. Normally, the\n",
    "response (dependent or outcome) variable $y_i$ is the outcome of a\n",
    "numerical experiment or another type of experiment and could thus be treated itself as an\n",
    "approximation to the true value. It is then always accompanied by an\n",
    "error estimate, often limited to a statistical error estimate given by\n",
    "the standard deviation discussed earlier. In the discussion here we\n",
    "will treat $y_i$ as our exact value for the response variable.\n",
    "\n",
    "In order to find the parameters $\\beta_i$ we will then minimize the spread of $C(\\boldsymbol{\\beta})$, that is we are going to solve the problem"
   ]
  },
  {
   "cell_type": "markdown",
   "id": "5684ef05",
   "metadata": {},
   "source": [
    "$$\n",
    "{\\displaystyle \\min_{\\boldsymbol{\\beta}\\in\n",
    "{\\mathbb{R}}^{p}}}\\frac{1}{n}\\left\\{\\left(\\boldsymbol{y}-\\boldsymbol{X}\\boldsymbol{\\beta}\\right)^T\\left(\\boldsymbol{y}-\\boldsymbol{X}\\boldsymbol{\\beta}\\right)\\right\\}.\n",
    "$$"
   ]
  },
  {
   "cell_type": "markdown",
   "id": "3a97a3c6",
   "metadata": {},
   "source": [
    "In practical terms it means we will require"
   ]
  },
  {
   "cell_type": "markdown",
   "id": "49ef3525",
   "metadata": {},
   "source": [
    "$$\n",
    "\\frac{\\partial C(\\boldsymbol{\\beta})}{\\partial \\beta_j} = \\frac{\\partial }{\\partial \\beta_j}\\left[ \\frac{1}{n}\\sum_{i=0}^{n-1}\\left(y_i-\\beta_0x_{i,0}-\\beta_1x_{i,1}-\\beta_2x_{i,2}-\\dots-\\beta_{n-1}x_{i,n-1}\\right)^2\\right]=0,\n",
    "$$"
   ]
  },
  {
   "cell_type": "markdown",
   "id": "9ecb7f5e",
   "metadata": {},
   "source": [
    "which results in"
   ]
  },
  {
   "cell_type": "markdown",
   "id": "d817f6e0",
   "metadata": {},
   "source": [
    "$$\n",
    "\\frac{\\partial C(\\boldsymbol{\\beta})}{\\partial \\beta_j} = -\\frac{2}{n}\\left[ \\sum_{i=0}^{n-1}x_{ij}\\left(y_i-\\beta_0x_{i,0}-\\beta_1x_{i,1}-\\beta_2x_{i,2}-\\dots-\\beta_{n-1}x_{i,n-1}\\right)\\right]=0,\n",
    "$$"
   ]
  },
  {
   "cell_type": "markdown",
   "id": "8bfba457",
   "metadata": {},
   "source": [
    "or in a matrix-vector form as (multiplying away the factor $-2/n$, see derivation below)"
   ]
  },
  {
   "cell_type": "markdown",
   "id": "295374b3",
   "metadata": {},
   "source": [
    "$$\n",
    "\\frac{\\partial C(\\boldsymbol{\\beta})}{\\partial \\boldsymbol{\\beta}^T} = 0 = \\boldsymbol{X}^T\\left( \\boldsymbol{y}-\\boldsymbol{X}\\boldsymbol{\\beta}\\right).\n",
    "$$"
   ]
  },
  {
   "cell_type": "markdown",
   "id": "a286d821",
   "metadata": {},
   "source": [
    "## Interpretations and optimizing our parameters\n",
    "We can rewrite, see the derivations below,"
   ]
  },
  {
   "cell_type": "markdown",
   "id": "b82376cc",
   "metadata": {},
   "source": [
    "$$\n",
    "\\frac{\\partial C(\\boldsymbol{\\beta})}{\\partial \\boldsymbol{\\beta}^T} = 0 = \\boldsymbol{X}^T\\left( \\boldsymbol{y}-\\boldsymbol{X}\\boldsymbol{\\beta}\\right),\n",
    "$$"
   ]
  },
  {
   "cell_type": "markdown",
   "id": "1bc91e3c",
   "metadata": {},
   "source": [
    "as"
   ]
  },
  {
   "cell_type": "markdown",
   "id": "ef57a496",
   "metadata": {},
   "source": [
    "$$\n",
    "\\boldsymbol{X}^T\\boldsymbol{y} = \\boldsymbol{X}^T\\boldsymbol{X}\\boldsymbol{\\beta},\n",
    "$$"
   ]
  },
  {
   "cell_type": "markdown",
   "id": "ef6b79b3",
   "metadata": {},
   "source": [
    "and if the matrix $\\boldsymbol{X}^T\\boldsymbol{X}$ is invertible we have the solution"
   ]
  },
  {
   "cell_type": "markdown",
   "id": "2bfe6ba6",
   "metadata": {},
   "source": [
    "$$\n",
    "\\boldsymbol{\\beta} =\\left(\\boldsymbol{X}^T\\boldsymbol{X}\\right)^{-1}\\boldsymbol{X}^T\\boldsymbol{y}.\n",
    "$$"
   ]
  },
  {
   "cell_type": "markdown",
   "id": "1ea9631f",
   "metadata": {},
   "source": [
    "We note also that since our design matrix is defined as $\\boldsymbol{X}\\in\n",
    "{\\mathbb{R}}^{n\\times p}$, the product $\\boldsymbol{X}^T\\boldsymbol{X} \\in\n",
    "{\\mathbb{R}}^{p\\times p}$.  In most cases we have that $p \\ll n$. In our example case below we have $p=5$ meaning. We end up with inverting a small\n",
    "$5\\times 5$ matrix. This is a rather common situation, in many cases we end up with low-dimensional\n",
    "matrices to invert. The methods discussed here and for many other\n",
    "supervised learning algorithms like classification with logistic\n",
    "regression or support vector machines, exhibit dimensionalities which\n",
    "allow for the usage of direct linear algebra methods such as **LU** decomposition or **Singular Value Decomposition** (SVD) for finding the inverse of the matrix\n",
    "$\\boldsymbol{X}^T\\boldsymbol{X}$.  This is discussed on Thursday this week.\n",
    "\n",
    "**Small question**: Do you think the example we have at hand here (the nuclear binding energies) can lead to problems in inverting the matrix  $\\boldsymbol{X}^T\\boldsymbol{X}$? What kind of problems can we expect?"
   ]
  },
  {
   "cell_type": "markdown",
   "id": "40df8223",
   "metadata": {},
   "source": [
    "## Some useful matrix and vector expressions\n",
    "\n",
    "The following matrix and vector relation will be useful here and for\n",
    "the rest of the course. Vectors are always written as boldfaced lower\n",
    "case letters and matrices as upper case boldfaced letters.  In the\n",
    "following we will discuss how to calculate derivatives of various\n",
    "matrices relevant for machine learning. We will often represent our\n",
    "data in terms of matrices and vectors.\n",
    "\n",
    "Let us introduce first some conventions. We assume that $\\boldsymbol{y}$ is a\n",
    "vector of length $m$, that is it has $m$ elements $y_0,y_1,\\dots,\n",
    "y_{m-1}$. By convention we start labeling vectors with the zeroth\n",
    "element, as are arrays in Python and C++/C, for example. Similarly, we\n",
    "have a vector $\\boldsymbol{x}$ of length $n$, that is\n",
    "$\\boldsymbol{x}^T=[x_0,x_1,\\dots, x_{n-1}]$.\n",
    "\n",
    "We assume also that $\\boldsymbol{y}$ is a function of $\\boldsymbol{x}$ through some\n",
    "given function $f$"
   ]
  },
  {
   "cell_type": "markdown",
   "id": "e45dec6e",
   "metadata": {},
   "source": [
    "$$\n",
    "\\boldsymbol{y}=f(\\boldsymbol{x}).\n",
    "$$"
   ]
  },
  {
   "cell_type": "markdown",
   "id": "044bc60d",
   "metadata": {},
   "source": [
    "## The Jacobian\n",
    "\n",
    "We define the partial derivatives of the various components of $\\boldsymbol{y}$ as functions of $x_i$ in terms of the so-called [Jacobian matrix](https://en.wikipedia.org/wiki/Jacobian_matrix_and_determinant)"
   ]
  },
  {
   "cell_type": "markdown",
   "id": "b54ca0eb",
   "metadata": {},
   "source": [
    "$$\n",
    "\\boldsymbol{J}=\\frac{\\partial \\boldsymbol{y}}{\\partial \\boldsymbol{x}}=\\begin{bmatrix} \\frac{\\partial y_0}{\\partial x_0} & \\frac{\\partial y_0}{\\partial x_1} & \\frac{\\partial y_0}{\\partial x_2} & \\dots & \\dots & \\frac{\\partial y_0}{\\partial x_{n-1}} \\\\ \\frac{\\partial y_1}{\\partial x_0} & \\frac{\\partial y_1}{\\partial x_1} & \\frac{\\partial y_1}{\\partial x_2} & \\dots & \\dots & \\frac{\\partial y_1}{\\partial x_{n-1}} \\\\\n",
    "\\frac{\\partial y_2}{\\partial x_0} & \\frac{\\partial y_2}{\\partial x_1} & \\frac{\\partial y_2}{\\partial x_2} & \\dots & \\dots & \\frac{\\partial y_2}{\\partial x_{n-1}} \\\\\n",
    "\\dots & \\dots & \\dots & \\dots & \\dots & \\dots \\\\\n",
    "\\dots & \\dots & \\dots & \\dots & \\dots & \\dots \\\\\n",
    "\\frac{\\partial y_{m-1}}{\\partial x_0} & \\frac{\\partial y_{m-1}}{\\partial x_1} & \\frac{\\partial y_{m-1}}{\\partial x_2} & \\dots & \\dots & \\frac{\\partial y_{m-1}}{\\partial x_{n-1}} \\end{bmatrix},\n",
    "$$"
   ]
  },
  {
   "cell_type": "markdown",
   "id": "9bc22dd0",
   "metadata": {},
   "source": [
    "which is an $m\\times n$ matrix. If $\\boldsymbol{x}$ is a scalar, then the\n",
    "Jacobian is only a single-column vector, or an $m\\times 1$ matrix. If\n",
    "on the other hand $\\boldsymbol{y}$ is a scalar, the Jacobian becomes a\n",
    "$1\\times n$ matrix.\n",
    "\n",
    "When this matrix is a square matrix $m=n$, its determinant is often referred to as the Jacobian\n",
    "determinant. Both the matrix and (if $m=n$) the determinant are\n",
    "often referred to simply as the Jacobian. The Jacobian matrix represents the differential of $\\boldsymbol{y}$ at every point where the\n",
    "vector is differentiable."
   ]
  },
  {
   "cell_type": "markdown",
   "id": "9af4fcfe",
   "metadata": {},
   "source": [
    "## Derivatives, example 1\n",
    "\n",
    "Let now $\\boldsymbol{y}=\\boldsymbol{A}\\boldsymbol{x}$, where $\\boldsymbol{A}$ is an $m\\times n$ matrix and the matrix does not depend on $\\boldsymbol{x}$. If we write out the vector $\\boldsymbol{y}$ compoment by component we have"
   ]
  },
  {
   "cell_type": "markdown",
   "id": "84760094",
   "metadata": {},
   "source": [
    "$$\n",
    "y_i = \\sum_{j=0}^{n-1}a_{ij}x_j,\n",
    "$$"
   ]
  },
  {
   "cell_type": "markdown",
   "id": "0d9a7ac6",
   "metadata": {},
   "source": [
    "with $\\forall i=0,1,2,\\dots,m-1$. The individual matrix elements of $\\boldsymbol{A}$ are given by the symbol $a_{ij}$.\n",
    "It follows that the partial derivatives of $y_i$ with respect to $x_k$"
   ]
  },
  {
   "cell_type": "markdown",
   "id": "ccbe4c4e",
   "metadata": {},
   "source": [
    "$$\n",
    "\\frac{\\partial y_i }{\\partial x_k}= a_{ik} \\forall i=0,1,2,\\dots,m-1.\n",
    "$$"
   ]
  },
  {
   "cell_type": "markdown",
   "id": "1c8a9e7d",
   "metadata": {},
   "source": [
    "From this we have, using the definition of the Jacobian"
   ]
  },
  {
   "cell_type": "markdown",
   "id": "ecb14896",
   "metadata": {},
   "source": [
    "$$\n",
    "\\frac{\\partial \\boldsymbol{y} }{\\partial \\boldsymbol{x}}= \\boldsymbol{A}.\n",
    "$$"
   ]
  },
  {
   "cell_type": "markdown",
   "id": "6578e470",
   "metadata": {},
   "source": [
    "## Example 2\n",
    "\n",
    "We define a scalar (our cost/loss functions are in general also scalars,\n",
    "just think of the mean squared error) as the result of some matrix vector\n",
    "multiplications"
   ]
  },
  {
   "cell_type": "markdown",
   "id": "227ea794",
   "metadata": {},
   "source": [
    "$$\n",
    "\\alpha = \\boldsymbol{y}^T\\boldsymbol{A}\\boldsymbol{x},\n",
    "$$"
   ]
  },
  {
   "cell_type": "markdown",
   "id": "d88f1a80",
   "metadata": {},
   "source": [
    "with $\\boldsymbol{y}$ a vector of length $m$, $\\boldsymbol{A}$ an $m\\times n$ matrix and $\\boldsymbol{x}$ a vector of length $n$. We assume also that $\\boldsymbol{A}$ does not depend on any of the two vectors.\n",
    "In order to find the derivative of $\\alpha$ with respect to the two vectors, we define an intermediate vector $\\boldsymbol{z}$. We define first\n",
    "$\\boldsymbol{z}^T=\\boldsymbol{y}^T\\boldsymbol{A}$, a vector of length $n$. We have then, using the definition of the Jacobian,"
   ]
  },
  {
   "cell_type": "markdown",
   "id": "c6f9c72f",
   "metadata": {},
   "source": [
    "$$\n",
    "\\alpha = \\boldsymbol{z}^T\\boldsymbol{x},\n",
    "$$"
   ]
  },
  {
   "cell_type": "markdown",
   "id": "014a0ee3",
   "metadata": {},
   "source": [
    "which means that (using our previous example and keeping track of our definition of the derivative of a scalar) we have"
   ]
  },
  {
   "cell_type": "markdown",
   "id": "bbd1cd50",
   "metadata": {},
   "source": [
    "$$\n",
    "\\frac{\\partial \\alpha}{\\partial \\boldsymbol{x}} = \\frac{\\partial \\boldsymbol{z}^T\\boldsymbol{x}}{\\partial \\boldsymbol{x}}=\\boldsymbol{z}^T.\n",
    "$$"
   ]
  },
  {
   "cell_type": "markdown",
   "id": "7129292e",
   "metadata": {},
   "source": [
    "Note that the resulting vector elements are the same for $\\boldsymbol{z}^T$ and $\\boldsymbol{z}$, the only difference is that one is just the transpose of the other. We have the transposed here since we have used that the inner product of two vectors is a scalar.\n",
    "\n",
    "Since $\\alpha$ is a scalar we have $\\alpha =\\alpha^T=\\boldsymbol{x}^T\\boldsymbol{A}^T\\boldsymbol{y}$. Defining now $\\boldsymbol{z}^T=\\boldsymbol{x}^T\\boldsymbol{A}^T$ we find that"
   ]
  },
  {
   "cell_type": "markdown",
   "id": "63264651",
   "metadata": {},
   "source": [
    "$$\n",
    "\\frac{\\partial \\alpha}{\\partial \\boldsymbol{y}} = \\boldsymbol{z}^T=\\boldsymbol{x}^T\\boldsymbol{A}^T.\n",
    "$$"
   ]
  },
  {
   "cell_type": "markdown",
   "id": "d86227f5",
   "metadata": {},
   "source": [
    "## Example 3\n",
    "\n",
    "We start with a new scalar but where now the vector $\\boldsymbol{y}$ is\n",
    "replaced by a vector $\\boldsymbol{x}$ and the matrix $\\boldsymbol{A}$ is a square\n",
    "matrix with dimension $n\\times n$."
   ]
  },
  {
   "cell_type": "markdown",
   "id": "4b24b1a0",
   "metadata": {},
   "source": [
    "$$\n",
    "\\alpha = \\boldsymbol{x}^T\\boldsymbol{A}\\boldsymbol{x},\n",
    "$$"
   ]
  },
  {
   "cell_type": "markdown",
   "id": "0329d0e5",
   "metadata": {},
   "source": [
    "with $\\boldsymbol{x}$ a vector of length $n$.\n",
    "\n",
    "We write out the specific sums involved in the calculation of $\\alpha$"
   ]
  },
  {
   "cell_type": "markdown",
   "id": "60fdb497",
   "metadata": {},
   "source": [
    "$$\n",
    "\\alpha = \\sum_{i=0}^{n-1}\\sum_{j=0}^{n-1}x_i a_{ij}x_j,\n",
    "$$"
   ]
  },
  {
   "cell_type": "markdown",
   "id": "23ddc055",
   "metadata": {},
   "source": [
    "taking the derivative of $\\alpha$ with respect to a given component $x_k$ we get the two sums"
   ]
  },
  {
   "cell_type": "markdown",
   "id": "3cd9c608",
   "metadata": {},
   "source": [
    "$$\n",
    "\\frac{\\partial \\alpha}{\\partial x_k}  = \\sum_{i=0}^{n-1}a_{ik}x_i+\\sum_{j=0}^{n-1}a_{kj}x_j,\n",
    "$$"
   ]
  },
  {
   "cell_type": "markdown",
   "id": "798f4dbf",
   "metadata": {},
   "source": [
    "for $\\forall k =0,1,2,\\dots,n-1$. We identify these sums as"
   ]
  },
  {
   "cell_type": "markdown",
   "id": "d4c7b4f8",
   "metadata": {},
   "source": [
    "$$\n",
    "\\frac{\\partial \\alpha}{\\partial \\boldsymbol{x}}  = \\boldsymbol{x}^T\\left(\\boldsymbol{A}^T+\\boldsymbol{A}\\right).\n",
    "$$"
   ]
  },
  {
   "cell_type": "markdown",
   "id": "aaea62fe",
   "metadata": {},
   "source": [
    "If the matrix $\\boldsymbol{A}$ is symmetric, that is $\\boldsymbol{A}=\\boldsymbol{A}^T$, we have"
   ]
  },
  {
   "cell_type": "markdown",
   "id": "558bd5db",
   "metadata": {},
   "source": [
    "$$\n",
    "\\frac{\\partial \\alpha}{\\partial \\boldsymbol{x}}  = 2\\boldsymbol{x}^T\\boldsymbol{A}.\n",
    "$$"
   ]
  },
  {
   "cell_type": "markdown",
   "id": "7196cbcc",
   "metadata": {},
   "source": [
    "## Example 4\n",
    "\n",
    "We let the scalar $\\alpha$ be defined by"
   ]
  },
  {
   "cell_type": "markdown",
   "id": "b3aeae7c",
   "metadata": {},
   "source": [
    "$$\n",
    "\\alpha = \\boldsymbol{y}^T\\boldsymbol{x},\n",
    "$$"
   ]
  },
  {
   "cell_type": "markdown",
   "id": "b08d19a4",
   "metadata": {},
   "source": [
    "where both $\\boldsymbol{y}$ and $\\boldsymbol{x}$ have the same length $n$, or if we\n",
    "wish to think of them as column vectors, they have dimensions $n\\times\n",
    "1$. We assume that both $\\boldsymbol{y}$ and $\\boldsymbol{x}$ depend on a vector\n",
    "$\\boldsymbol{z}$ of the same length. To calculate the derivative of $\\alpha$\n",
    "with respect to a given component $z_k$ we need first to write out the\n",
    "inner product that defines $\\alpha$ as"
   ]
  },
  {
   "cell_type": "markdown",
   "id": "04ec54c8",
   "metadata": {},
   "source": [
    "$$\n",
    "\\alpha  = \\sum_{i=0}^{n-1}y_ix_i,\n",
    "$$"
   ]
  },
  {
   "cell_type": "markdown",
   "id": "15b70672",
   "metadata": {},
   "source": [
    "and the partial derivative"
   ]
  },
  {
   "cell_type": "markdown",
   "id": "baabd91a",
   "metadata": {},
   "source": [
    "$$\n",
    "\\frac{\\partial \\alpha}{\\partial z_k}  = \\sum_{i=0}^{n-1}\\left(x_i\\frac{\\partial y_i}{\\partial z_k}+y_i\\frac{\\partial x_i}{\\partial z_k}\\right),\n",
    "$$"
   ]
  },
  {
   "cell_type": "markdown",
   "id": "c31bcade",
   "metadata": {},
   "source": [
    "for $\\forall k =0,1,2,\\dots,n-1$. We can rewrite the partial derivative in a more compact form as"
   ]
  },
  {
   "cell_type": "markdown",
   "id": "0c70fe69",
   "metadata": {},
   "source": [
    "$$\n",
    "\\frac{\\partial \\alpha}{\\partial \\boldsymbol{z}}  = \\boldsymbol{x}^T\\frac{\\partial \\boldsymbol{y}}{\\partial \\boldsymbol{z}}+\\boldsymbol{y}^T\\frac{\\partial \\boldsymbol{x}}{\\partial \\boldsymbol{z}},\n",
    "$$"
   ]
  },
  {
   "cell_type": "markdown",
   "id": "8311f527",
   "metadata": {},
   "source": [
    "and if $\\boldsymbol{y}=\\boldsymbol{x}$ we have"
   ]
  },
  {
   "cell_type": "markdown",
   "id": "38a430f0",
   "metadata": {},
   "source": [
    "$$\n",
    "\\frac{\\partial \\alpha}{\\partial \\boldsymbol{z}}  = 2\\boldsymbol{x}^T\\frac{\\partial \\boldsymbol{x}}{\\partial \\boldsymbol{z}}.\n",
    "$$"
   ]
  },
  {
   "cell_type": "markdown",
   "id": "9cacb60b",
   "metadata": {},
   "source": [
    "## The mean squared error and its derivative\n",
    "\n",
    "We defined earlier a possible cost function using the mean squared error"
   ]
  },
  {
   "cell_type": "markdown",
   "id": "48c8af1a",
   "metadata": {},
   "source": [
    "$$\n",
    "C(\\boldsymbol{\\beta})=\\frac{1}{n}\\sum_{i=0}^{n-1}\\left(y_i-\\tilde{y}_i\\right)^2=\\frac{1}{n}\\left\\{\\left(\\boldsymbol{y}-\\boldsymbol{\\tilde{y}}\\right)^T\\left(\\boldsymbol{y}-\\boldsymbol{\\tilde{y}}\\right)\\right\\},\n",
    "$$"
   ]
  },
  {
   "cell_type": "markdown",
   "id": "3d5b6042",
   "metadata": {},
   "source": [
    "or using the design/feature matrix $\\boldsymbol{X}$ we have the more compact matrix-vector"
   ]
  },
  {
   "cell_type": "markdown",
   "id": "1d50d4ad",
   "metadata": {},
   "source": [
    "$$\n",
    "C(\\boldsymbol{\\beta})=\\frac{1}{n}\\left\\{\\left(\\boldsymbol{y}-\\boldsymbol{X}\\boldsymbol{\\beta}\\right)^T\\left(\\boldsymbol{y}-\\boldsymbol{X}\\boldsymbol{\\beta}\\right)\\right\\}.\n",
    "$$"
   ]
  },
  {
   "cell_type": "markdown",
   "id": "f3ef4fda",
   "metadata": {},
   "source": [
    "We note that the design matrix $\\boldsymbol{X}$ does not depend on the unknown parameters defined by the vector $\\boldsymbol{\\beta}$.\n",
    "We are now interested in minimizing the cost function with respect to the unknown parameters $\\boldsymbol{\\beta}$.\n",
    "\n",
    "The mean squared error is a scalar and if we use the results from example three above, we can define a new vector"
   ]
  },
  {
   "cell_type": "markdown",
   "id": "2540968d",
   "metadata": {},
   "source": [
    "$$\n",
    "\\boldsymbol{w}=\\boldsymbol{y}-\\boldsymbol{X}\\boldsymbol{\\beta},\n",
    "$$"
   ]
  },
  {
   "cell_type": "markdown",
   "id": "3bc106fa",
   "metadata": {},
   "source": [
    "which depends on $\\boldsymbol{\\beta}$. We rewrite the cost function as"
   ]
  },
  {
   "cell_type": "markdown",
   "id": "35c769d4",
   "metadata": {},
   "source": [
    "$$\n",
    "C(\\boldsymbol{\\beta})=\\frac{1}{n}\\boldsymbol{w}^T\\boldsymbol{w},\n",
    "$$"
   ]
  },
  {
   "cell_type": "markdown",
   "id": "f964b8d2",
   "metadata": {},
   "source": [
    "with partial derivative"
   ]
  },
  {
   "cell_type": "markdown",
   "id": "278df999",
   "metadata": {},
   "source": [
    "$$\n",
    "\\frac{\\partial C(\\boldsymbol{\\beta})}{\\partial \\boldsymbol{\\beta}}=\\frac{2}{n}\\boldsymbol{w}^T\\frac{\\partial \\boldsymbol{w}}{\\partial \\boldsymbol{\\beta}},\n",
    "$$"
   ]
  },
  {
   "cell_type": "markdown",
   "id": "ef003c39",
   "metadata": {},
   "source": [
    "and using that"
   ]
  },
  {
   "cell_type": "markdown",
   "id": "f4bae399",
   "metadata": {},
   "source": [
    "$$\n",
    "\\frac{\\partial \\boldsymbol{w}}{\\partial \\boldsymbol{\\beta}}=-\\boldsymbol{X},\n",
    "$$"
   ]
  },
  {
   "cell_type": "markdown",
   "id": "e4161bf9",
   "metadata": {},
   "source": [
    "where we used the result from example two above. Inserting the last expression we obtain"
   ]
  },
  {
   "cell_type": "markdown",
   "id": "a5badddc",
   "metadata": {},
   "source": [
    "$$\n",
    "\\frac{\\partial C(\\boldsymbol{\\beta})}{\\partial \\boldsymbol{\\beta}}=-\\frac{2}{n}\\left(\\boldsymbol{y}-\\boldsymbol{X}\\boldsymbol{\\beta}\\right)^T\\boldsymbol{X},\n",
    "$$"
   ]
  },
  {
   "cell_type": "markdown",
   "id": "3a9bcee4",
   "metadata": {},
   "source": [
    "or as"
   ]
  },
  {
   "cell_type": "markdown",
   "id": "742dd6d4",
   "metadata": {},
   "source": [
    "$$\n",
    "\\frac{\\partial C(\\boldsymbol{\\beta})}{\\partial \\boldsymbol{\\beta}^T}=-\\frac{2}{n}\\boldsymbol{X}^T\\left(\\boldsymbol{y}-\\boldsymbol{X}\\boldsymbol{\\beta}\\right).\n",
    "$$"
   ]
  },
  {
   "cell_type": "markdown",
   "id": "07447ef0",
   "metadata": {},
   "source": [
    "## Other useful relations\n",
    "\n",
    "We list here some other useful relations we may encounter (recall that vectors are defined by boldfaced low-key letters)"
   ]
  },
  {
   "cell_type": "markdown",
   "id": "42809d8f",
   "metadata": {},
   "source": [
    "$$\n",
    "\\frac{\\partial (\\boldsymbol{x}^T\\boldsymbol{a})}{\\partial \\boldsymbol{x}} = \\boldsymbol{a}^T,\n",
    "$$"
   ]
  },
  {
   "cell_type": "markdown",
   "id": "3de9e409",
   "metadata": {},
   "source": [
    "$$\n",
    "\\frac{\\partial (\\boldsymbol{a}^T\\boldsymbol{x})}{\\partial \\boldsymbol{x}} = \\boldsymbol{a}^T,\n",
    "$$"
   ]
  },
  {
   "cell_type": "markdown",
   "id": "976c9ed9",
   "metadata": {},
   "source": [
    "$$\n",
    "\\frac{\\partial tr(\\boldsymbol{B}\\boldsymbol{A})}{\\partial \\boldsymbol{A}} = \\boldsymbol{B}^T,\n",
    "$$"
   ]
  },
  {
   "cell_type": "markdown",
   "id": "598bfc4d",
   "metadata": {},
   "source": [
    "$$\n",
    "\\frac{\\partial \\log{\\vert\\boldsymbol{A}\\vert}}{\\partial \\boldsymbol{A}} = (\\boldsymbol{A}^{-1})^T.\n",
    "$$"
   ]
  },
  {
   "cell_type": "markdown",
   "id": "bdbc0fea",
   "metadata": {},
   "source": [
    "## Meet the Hessian Matrix\n",
    "\n",
    "A very important matrix we will meet again and again in machine\n",
    "learning is the Hessian.  It is given by the second derivative of the\n",
    "cost function with respect to the parameters $\\boldsymbol{\\beta}$. Using the above\n",
    "expression for derivatives of vectors and matrices, we find that the\n",
    "second derivative of the mean squared error as cost function is,"
   ]
  },
  {
   "cell_type": "markdown",
   "id": "11a6a7b9",
   "metadata": {},
   "source": [
    "$$\n",
    "\\frac{\\partial}{\\partial \\boldsymbol{\\beta}}\\frac{\\partial C(\\boldsymbol{\\beta})}{\\partial \\boldsymbol{\\beta}^T} =\\frac{\\partial}{\\partial \\boldsymbol{\\beta}}\\left[-\\frac{2}{n}\\boldsymbol{X}^T\\left( \\boldsymbol{y}-\\boldsymbol{X}\\boldsymbol{\\beta}\\right)\\right]=\\frac{2}{n}\\boldsymbol{X}^T\\boldsymbol{X}.\n",
    "$$"
   ]
  },
  {
   "cell_type": "markdown",
   "id": "4587c0c5",
   "metadata": {},
   "source": [
    "The Hessian matrix plays an important role and is defined here as"
   ]
  },
  {
   "cell_type": "markdown",
   "id": "300ea026",
   "metadata": {},
   "source": [
    "$$\n",
    "\\boldsymbol{H}=\\boldsymbol{X}^T\\boldsymbol{X}.\n",
    "$$"
   ]
  },
  {
   "cell_type": "markdown",
   "id": "18a45342",
   "metadata": {},
   "source": [
    "For ordinary least squares, it is inversely proportional (derivation\n",
    "next week) with the variance of the optimal parameters\n",
    "$\\hat{\\boldsymbol{\\beta}}$. Furthermore, we will see later this week that it is\n",
    "(aside the factor $1/n$) equal to the covariance matrix. It plays also a very\n",
    "important role in optmization algorithms and Principal Component\n",
    "Analysis as a way to reduce the dimensionality of a machine learning/data analysis\n",
    "problem.\n",
    "\n",
    "**Linear algebra question:**  Can we use the Hessian matrix to say something about properties of the cost function (our optmization  problem)? (hint: think about convex or concave problems and how to relate these to a matrix!)."
   ]
  },
  {
   "cell_type": "markdown",
   "id": "b1538a53",
   "metadata": {},
   "source": [
    "## Interpretations and optimizing our parameters\n",
    "\n",
    "The residuals $\\boldsymbol{\\epsilon}$ are in turn given by"
   ]
  },
  {
   "cell_type": "markdown",
   "id": "80afef85",
   "metadata": {},
   "source": [
    "$$\n",
    "\\boldsymbol{\\epsilon} = \\boldsymbol{y}-\\boldsymbol{\\tilde{y}} = \\boldsymbol{y}-\\boldsymbol{X}\\boldsymbol{\\beta},\n",
    "$$"
   ]
  },
  {
   "cell_type": "markdown",
   "id": "f2175720",
   "metadata": {},
   "source": [
    "and with"
   ]
  },
  {
   "cell_type": "markdown",
   "id": "f47c3870",
   "metadata": {},
   "source": [
    "$$\n",
    "\\boldsymbol{X}^T\\left( \\boldsymbol{y}-\\boldsymbol{X}\\boldsymbol{\\beta}\\right)= 0,\n",
    "$$"
   ]
  },
  {
   "cell_type": "markdown",
   "id": "997e4516",
   "metadata": {},
   "source": [
    "we have"
   ]
  },
  {
   "cell_type": "markdown",
   "id": "1860f06d",
   "metadata": {},
   "source": [
    "$$\n",
    "\\boldsymbol{X}^T\\boldsymbol{\\epsilon}=\\boldsymbol{X}^T\\left( \\boldsymbol{y}-\\boldsymbol{X}\\boldsymbol{\\beta}\\right)= 0,\n",
    "$$"
   ]
  },
  {
   "cell_type": "markdown",
   "id": "bed5b5bf",
   "metadata": {},
   "source": [
    "meaning that the solution for $\\boldsymbol{\\beta}$ is the one which minimizes the residuals."
   ]
  },
  {
   "cell_type": "markdown",
   "id": "9ddbc1b9",
   "metadata": {},
   "source": [
    "## Example relevant for the exercises\n",
    "\n",
    "In order to understand the relation among the predictors $p$, the set of data $n$ and the target (outcome, output etc) $\\boldsymbol{y}$,\n",
    "we condiser a simple polynomial fit.\n",
    "We assume our data can represented by a fourth-order polynomial. For the $i$th component we have"
   ]
  },
  {
   "cell_type": "markdown",
   "id": "e3182bc2",
   "metadata": {},
   "source": [
    "$$\n",
    "\\tilde{y}_i = \\beta_0+\\beta_1x_i+\\beta_2x_i^2+\\beta_3x_i^3+\\beta_4x_i^4.\n",
    "$$"
   ]
  },
  {
   "cell_type": "markdown",
   "id": "fc7ad1a4",
   "metadata": {},
   "source": [
    "we have five predictors/features. The first is the intercept $\\beta_0$. The other terms are $\\beta_i$ with $i=1,2,3,4$. Furthermore we have $n$ entries for each predictor. It means that our design matrix is an \n",
    "$n\\times p$ matrix $\\boldsymbol{X}$."
   ]
  },
  {
   "cell_type": "markdown",
   "id": "b2d8e764",
   "metadata": {},
   "source": [
    "## Own code for Ordinary Least Squares\n",
    "\n",
    "It is rather straightforward to implement the matrix inversion and obtain the parameters $\\boldsymbol{\\beta}$. After having defined the matrix $\\boldsymbol{X}$ and the outputs $\\boldsymbol{y}$ we have"
   ]
  },
  {
   "cell_type": "code",
   "execution_count": 2,
   "id": "b550fbbe",
   "metadata": {},
   "outputs": [
    {
     "name": "stdout",
     "output_type": "stream",
     "text": [
      "[ 1.93918379  1.05631924  1.04975077  5.1874182  -2.22521131]\n"
     ]
    }
   ],
   "source": [
    "# matrix inversion to find beta\n",
    "# First we set up the data\n",
    "import numpy as np\n",
    "x = np.random.rand(100)\n",
    "y = 2.0+5*x*x+0.1*np.random.randn(100)\n",
    "# and then the design matrix X including the intercept\n",
    "#  The design matrix now as function of a fourth-order polynomial\n",
    "X = np.zeros((len(x),5))\n",
    "X[:,0] = 1.0\n",
    "X[:,1] = x\n",
    "X[:,2] = x**2\n",
    "X[:,3] = x**3\n",
    "X[:,4] = x**4\n",
    "beta = (np.linalg.inv(X.T @ X) @ X.T ) @ y\n",
    "print(beta)\n",
    "# and then make the prediction\n",
    "ytilde = X @ beta"
   ]
  },
  {
   "cell_type": "markdown",
   "id": "b7390330",
   "metadata": {},
   "source": [
    "Alternatively, you can use the least squares functionality in **Numpy** as"
   ]
  },
  {
   "cell_type": "code",
   "execution_count": 6,
   "id": "2b0ea997",
   "metadata": {},
   "outputs": [],
   "source": [
    "fit = np.linalg.lstsq(X, y, rcond =None)[0]\n",
    "ytildenp = np.dot(fit,X.T)"
   ]
  },
  {
   "cell_type": "markdown",
   "id": "a58e344f",
   "metadata": {},
   "source": [
    "## Adding error analysis and training set up\n",
    "\n",
    "We can easily test our fit by computing the $R2$ score that we discussed in connection with the functionality of **Scikit-Learn** in the introductory slides.\n",
    "Since we are not using **Scikit-Learn** here we can define our own $R2$ function as"
   ]
  },
  {
   "cell_type": "code",
   "execution_count": 3,
   "id": "ae3d0b17",
   "metadata": {},
   "outputs": [],
   "source": [
    "def R2(y_data, y_model):\n",
    "    return 1 - np.sum((y_data - y_model) ** 2) / np.sum((y_data - np.mean(y_data)) ** 2)"
   ]
  },
  {
   "cell_type": "markdown",
   "id": "39bebaf1",
   "metadata": {},
   "source": [
    "and we would be using it as"
   ]
  },
  {
   "cell_type": "code",
   "execution_count": 4,
   "id": "9b073a72",
   "metadata": {},
   "outputs": [
    {
     "name": "stdout",
     "output_type": "stream",
     "text": [
      "0.9951013500487981\n"
     ]
    }
   ],
   "source": [
    "print(R2(y,ytilde))"
   ]
  },
  {
   "cell_type": "markdown",
   "id": "b8af0dc1",
   "metadata": {},
   "source": [
    "We can easily add our **MSE** score as"
   ]
  },
  {
   "cell_type": "code",
   "execution_count": 5,
   "id": "7ad18065",
   "metadata": {},
   "outputs": [
    {
     "name": "stdout",
     "output_type": "stream",
     "text": [
      "0.010861520579271734\n"
     ]
    }
   ],
   "source": [
    "def MSE(y_data,y_model):\n",
    "    n = np.size(y_model)\n",
    "    return np.sum((y_data-y_model)**2)/n\n",
    "\n",
    "print(MSE(y,ytilde))"
   ]
  },
  {
   "cell_type": "markdown",
   "id": "5f6880a5",
   "metadata": {},
   "source": [
    "and finally the relative error as"
   ]
  },
  {
   "cell_type": "code",
   "execution_count": 10,
   "id": "105de2f9",
   "metadata": {},
   "outputs": [
    {
     "name": "stdout",
     "output_type": "stream",
     "text": [
      "[7.73496921e-12 7.72794563e-12 1.83662069e-12 3.75464826e-12\n",
      " 7.49064947e-12 2.64769337e-12 3.69166215e-12 2.52255142e-12\n",
      " 4.67796059e-13 2.77222379e-12 3.78292673e-12 3.79127592e-12\n",
      " 1.45532232e-12 4.07777999e-12 3.34890268e-12 2.02563005e-12\n",
      " 7.50420820e-12 4.92030086e-12 3.26602613e-12 7.24017286e-13\n",
      " 7.85045606e-13 3.63265238e-13 3.79273587e-12 1.76520207e-12\n",
      " 3.58984187e-12 3.61809167e-12 5.59658831e-12 1.09498868e-12\n",
      " 3.21738038e-12 3.79126967e-12 3.73303793e-12 3.78446012e-12\n",
      " 1.54860604e-12 1.95529295e-12 5.86289080e-12 7.06386259e-12\n",
      " 7.03214387e-12 3.44590853e-12 1.02068251e-12 1.80413708e-12\n",
      " 3.78184273e-12 3.46246922e-12 3.61229600e-12 2.41560753e-12\n",
      " 1.02461750e-12 2.38200116e-12 2.59087559e-12 3.74128921e-12\n",
      " 6.30266041e-12 5.12254449e-12 1.26140308e-12 3.05572908e-12\n",
      " 3.06732846e-12 3.62615335e-12 6.40609590e-13 1.96743685e-12\n",
      " 6.30354121e-12 7.67630968e-12 2.39059050e-13 1.00977996e-12\n",
      " 3.36040895e-12 5.57312693e-13 6.09553577e-13 2.49163221e-12\n",
      " 8.04207590e-13 4.18306990e-12 6.79386729e-12 5.89573734e-12\n",
      " 1.60614237e-12 3.79184318e-12 1.95231754e-12 7.58593179e-12\n",
      " 2.92976950e-12 3.43830548e-12 3.75362822e-12 1.63812323e-12\n",
      " 4.46392288e-12 5.84296546e-12 1.79358098e-12 7.04452344e-13\n",
      " 2.76807194e-13 2.69048263e-12 7.61046316e-12 3.79062013e-12\n",
      " 7.55736969e-13 2.66582423e-12 2.47679347e-12 7.60428783e-12\n",
      " 7.18371995e-12 3.78996049e-12 1.11775600e-12 2.17117180e-12\n",
      " 3.46653545e-12 3.75792941e-12 3.77105778e-12 3.22952790e-12\n",
      " 7.70317341e-12 3.38710241e-12 3.78316373e-12 7.60221113e-12]\n"
     ]
    }
   ],
   "source": [
    "def RelativeError(y_data,y_model):\n",
    "    return abs((y_data-y_model)/y_data)\n",
    "print(RelativeError(y, ytilde))"
   ]
  },
  {
   "cell_type": "markdown",
   "id": "fb5d5828",
   "metadata": {},
   "source": [
    "## Splitting our Data in Training and Test data\n",
    "\n",
    "It is normal in essentially all Machine Learning studies to split the\n",
    "data in a training set and a test set (sometimes also an additional\n",
    "validation set).  **Scikit-Learn** has an own function for this. There\n",
    "is no explicit recipe for how much data should be included as training\n",
    "data and say test data.  An accepted rule of thumb is to use\n",
    "approximately $2/3$ to $4/5$ of the data as training data. We will\n",
    "postpone a discussion of this splitting to the end of these notes and\n",
    "our discussion of the so-called **bias-variance** tradeoff. Here we\n",
    "limit ourselves to repeat the above equation of state fitting example\n",
    "but now splitting the data into a training set and a test set."
   ]
  },
  {
   "cell_type": "markdown",
   "id": "5d3571b0",
   "metadata": {},
   "source": [
    "## The complete code with a simple data set"
   ]
  },
  {
   "cell_type": "code",
   "execution_count": 7,
   "id": "50c74297",
   "metadata": {},
   "outputs": [],
   "source": [
    "%matplotlib inline\n",
    "\n",
    "import os\n",
    "import numpy as np\n",
    "import pandas as pd\n",
    "import matplotlib.pyplot as plt\n",
    "from sklearn.model_selection import train_test_split\n",
    "\n",
    "\n",
    "def R2(y_data, y_model):\n",
    "    return 1 - np.sum((y_data - y_model) ** 2) / np.sum((y_data - np.mean(y_data)) ** 2)\n",
    "def MSE(y_data,y_model):\n",
    "    n = np.size(y_model)\n",
    "    return np.sum((y_data-y_model)**2)/n\n",
    "\n",
    "x = np.random.rand(100)\n",
    "y = 2.0+5*x*x+0.1*np.random.randn(100)\n",
    "\n",
    "\n",
    "#  The design matrix now as function of a fourth-order polynomial\n",
    "X = np.zeros((len(x),5))\n",
    "X[:,0] = 1.0\n",
    "X[:,1] = x\n",
    "X[:,2] = x**2\n",
    "X[:,3] = x**3\n",
    "X[:,4] = x**4\n",
    "# We split the data in test and training data\n",
    "X_train, X_test, y_train, y_test = train_test_split(X, y, test_size=0.2)\n",
    "# matrix inversion to find beta\n",
    "beta = np.linalg.inv(X_train.T @ X_train) @ X_train.T @ y_train\n",
    "print(beta)\n",
    "# and then make the prediction\n",
    "ytilde = X_train @ beta\n",
    "print(\"Training R2\")\n",
    "print(R2(y_train,ytilde))\n",
    "print(\"Training MSE\")\n",
    "print(MSE(y_train,ytilde))\n",
    "ypredict = X_test @ beta\n",
    "print(\"Test R2\")\n",
    "print(R2(y_test,ypredict))\n",
    "print(\"Test MSE\")\n",
    "print(MSE(y_test,ypredict))"
   ]
  },
  {
   "cell_type": "markdown",
   "id": "81d56642",
   "metadata": {},
   "source": [
    "## Making your own test-train splitting"
   ]
  },
  {
   "cell_type": "code",
   "execution_count": 8,
   "id": "2effb9ff",
   "metadata": {},
   "outputs": [],
   "source": [
    "# equivalently in numpy\n",
    "def train_test_split_numpy(inputs, labels, train_size, test_size):\n",
    "    n_inputs = len(inputs)\n",
    "    inputs_shuffled = inputs.copy()\n",
    "    labels_shuffled = labels.copy()\n",
    "\n",
    "    np.random.shuffle(inputs_shuffled)\n",
    "    np.random.shuffle(labels_shuffled)\n",
    "\n",
    "    train_end = int(n_inputs*train_size)\n",
    "    X_train, X_test = inputs_shuffled[:train_end], inputs_shuffled[train_end:]\n",
    "    Y_train, Y_test = labels_shuffled[:train_end], labels_shuffled[train_end:]\n",
    "\n",
    "    return X_train, X_test, Y_train, Y_test"
   ]
  },
  {
   "cell_type": "markdown",
   "id": "994b52a7",
   "metadata": {},
   "source": [
    "But since **scikit-learn** has its own function for doing this and since\n",
    "it interfaces easily with **tensorflow** and other libraries, we\n",
    "normally recommend using the latter functionality."
   ]
  },
  {
   "cell_type": "markdown",
   "id": "99f996fd",
   "metadata": {},
   "source": [
    "## Reducing the number of degrees of freedom, overarching view\n",
    "\n",
    "Many Machine Learning problems involve thousands or even millions of\n",
    "features for each training instance. Not only does this make training\n",
    "extremely slow, it can also make it much harder to find a good\n",
    "solution, as we will see. This problem is often referred to as the\n",
    "curse of dimensionality.  Fortunately, in real-world problems, it is\n",
    "often possible to reduce the number of features considerably, turning\n",
    "an intractable problem into a tractable one.\n",
    "\n",
    "Later  we will discuss some of the most popular dimensionality reduction\n",
    "techniques: the principal component analysis (PCA), Kernel PCA, and\n",
    "Locally Linear Embedding (LLE).  \n",
    "\n",
    "Principal component analysis and its various variants deal with the\n",
    "problem of fitting a low-dimensional [affine\n",
    "subspace](https://en.wikipedia.org/wiki/Affine_space) to a set of of\n",
    "data points in a high-dimensional space. With its family of methods it\n",
    "is one of the most used tools in data modeling, compression and\n",
    "visualization."
   ]
  },
  {
   "cell_type": "markdown",
   "id": "32b2f8e0",
   "metadata": {},
   "source": [
    "## Preprocessing our data\n",
    "\n",
    "Before we proceed however, we will discuss how to preprocess our\n",
    "data. Till now and in connection with our previous examples we have\n",
    "not met so many cases where we are too sensitive to the scaling of our\n",
    "data. Normally the data may need a rescaling and/or may be sensitive\n",
    "to extreme values. Scaling the data renders our inputs much more\n",
    "suitable for the algorithms we want to employ.\n",
    "\n",
    "For data sets gathered for real world applications, it is rather normal that\n",
    "different features have very different units and\n",
    "numerical scales. For example, a data set detailing health habits may include\n",
    "features such as **age** in the range $0-80$, and **caloric intake** of order $2000$.\n",
    "Many machine learning methods sensitive to the scales of the features and may perform poorly if they\n",
    "are very different scales. Therefore, it is typical to scale\n",
    "the features in a way to avoid such outlier values."
   ]
  },
  {
   "cell_type": "markdown",
   "id": "d837dc89",
   "metadata": {},
   "source": [
    "## Functionality in Scikit-Learn\n",
    "\n",
    "**Scikit-Learn** has several functions which allow us to rescale the\n",
    "data, normally resulting in much better results in terms of various\n",
    "accuracy scores.  The **StandardScaler** function in **Scikit-Learn**\n",
    "ensures that for each feature/predictor we study the mean value is\n",
    "zero and the variance is one (every column in the design/feature\n",
    "matrix).  This scaling has the drawback that it does not ensure that\n",
    "we have a particular maximum or minimum in our data set. Another\n",
    "function included in **Scikit-Learn** is the **MinMaxScaler** which\n",
    "ensures that all features are exactly between $0$ and $1$. The"
   ]
  },
  {
   "cell_type": "markdown",
   "id": "f3f3ec16",
   "metadata": {},
   "source": [
    "## More preprocessing\n",
    "\n",
    "The **Normalizer** scales each data\n",
    "point such that the feature vector has a euclidean length of one. In other words, it\n",
    "projects a data point on the circle (or sphere in the case of higher dimensions) with a\n",
    "radius of 1. This means every data point is scaled by a different number (by the\n",
    "inverse of it’s length).\n",
    "This normalization is often used when only the direction (or angle) of the data matters,\n",
    "not the length of the feature vector.\n",
    "\n",
    "The **RobustScaler** works similarly to the StandardScaler in that it\n",
    "ensures statistical properties for each feature that guarantee that\n",
    "they are on the same scale. However, the RobustScaler uses the median\n",
    "and quartiles, instead of mean and variance. This makes the\n",
    "RobustScaler ignore data points that are very different from the rest\n",
    "(like measurement errors). These odd data points are also called\n",
    "outliers, and might often lead to trouble for other scaling\n",
    "techniques."
   ]
  },
  {
   "cell_type": "markdown",
   "id": "bcbbea15",
   "metadata": {},
   "source": [
    "## Frequently used scaling functions\n",
    "\n",
    "Many features are often scaled using standardization to improve performance. In **Scikit-Learn** this is given by the **StandardScaler** function as discussed above. It is easy however to write your own. \n",
    "Mathematically, this involves subtracting the mean and divide by the standard deviation over the data set, for each feature:"
   ]
  },
  {
   "cell_type": "markdown",
   "id": "dce3c751",
   "metadata": {},
   "source": [
    "$$\n",
    "x_j^{(i)} \\rightarrow \\frac{x_j^{(i)} - \\overline{x}_j}{\\sigma(x_j)},\n",
    "$$"
   ]
  },
  {
   "cell_type": "markdown",
   "id": "e3a1dd2c",
   "metadata": {},
   "source": [
    "where $\\overline{x}_j$ and $\\sigma(x_j)$ are the mean and standard deviation, respectively,  of the feature $x_j$.\n",
    "This ensures that each feature has zero mean and unit standard deviation.  For data sets where  we do not have the standard deviation or don't wish to calculate it,  it is then common to simply set it to one."
   ]
  },
  {
   "cell_type": "markdown",
   "id": "00ead977",
   "metadata": {},
   "source": [
    "## Example of own Standard scaling\n",
    "\n",
    "Let us consider the following vanilla example where we use both\n",
    "**Scikit-Learn** and write our own function as well.  We produce a\n",
    "simple test design matrix with random numbers. Each column could then\n",
    "represent a specific feature whose mean value is subracted."
   ]
  },
  {
   "cell_type": "code",
   "execution_count": 7,
   "id": "f48cac43",
   "metadata": {},
   "outputs": [
    {
     "data": {
      "text/html": [
       "<div>\n",
       "<style scoped>\n",
       "    .dataframe tbody tr th:only-of-type {\n",
       "        vertical-align: middle;\n",
       "    }\n",
       "\n",
       "    .dataframe tbody tr th {\n",
       "        vertical-align: top;\n",
       "    }\n",
       "\n",
       "    .dataframe thead th {\n",
       "        text-align: right;\n",
       "    }\n",
       "</style>\n",
       "<table border=\"1\" class=\"dataframe\">\n",
       "  <thead>\n",
       "    <tr style=\"text-align: right;\">\n",
       "      <th></th>\n",
       "      <th>0</th>\n",
       "      <th>1</th>\n",
       "      <th>2</th>\n",
       "      <th>3</th>\n",
       "      <th>4</th>\n",
       "    </tr>\n",
       "  </thead>\n",
       "  <tbody>\n",
       "    <tr>\n",
       "      <th>0</th>\n",
       "      <td>-1.749765</td>\n",
       "      <td>0.342680</td>\n",
       "      <td>1.153036</td>\n",
       "      <td>-0.252436</td>\n",
       "      <td>0.981321</td>\n",
       "    </tr>\n",
       "    <tr>\n",
       "      <th>1</th>\n",
       "      <td>0.514219</td>\n",
       "      <td>0.221180</td>\n",
       "      <td>-1.070043</td>\n",
       "      <td>-0.189496</td>\n",
       "      <td>0.255001</td>\n",
       "    </tr>\n",
       "    <tr>\n",
       "      <th>2</th>\n",
       "      <td>-0.458027</td>\n",
       "      <td>0.435163</td>\n",
       "      <td>-0.583595</td>\n",
       "      <td>0.816847</td>\n",
       "      <td>0.672721</td>\n",
       "    </tr>\n",
       "    <tr>\n",
       "      <th>3</th>\n",
       "      <td>-0.104411</td>\n",
       "      <td>-0.531280</td>\n",
       "      <td>1.029733</td>\n",
       "      <td>-0.438136</td>\n",
       "      <td>-1.118318</td>\n",
       "    </tr>\n",
       "    <tr>\n",
       "      <th>4</th>\n",
       "      <td>1.618982</td>\n",
       "      <td>1.541605</td>\n",
       "      <td>-0.251879</td>\n",
       "      <td>-0.842436</td>\n",
       "      <td>0.184519</td>\n",
       "    </tr>\n",
       "    <tr>\n",
       "      <th>5</th>\n",
       "      <td>0.937082</td>\n",
       "      <td>0.731000</td>\n",
       "      <td>1.361556</td>\n",
       "      <td>-0.326238</td>\n",
       "      <td>0.055676</td>\n",
       "    </tr>\n",
       "    <tr>\n",
       "      <th>6</th>\n",
       "      <td>0.222400</td>\n",
       "      <td>-1.443217</td>\n",
       "      <td>-0.756352</td>\n",
       "      <td>0.816454</td>\n",
       "      <td>0.750445</td>\n",
       "    </tr>\n",
       "    <tr>\n",
       "      <th>7</th>\n",
       "      <td>-0.455947</td>\n",
       "      <td>1.189622</td>\n",
       "      <td>-1.690617</td>\n",
       "      <td>-1.356399</td>\n",
       "      <td>-1.232435</td>\n",
       "    </tr>\n",
       "    <tr>\n",
       "      <th>8</th>\n",
       "      <td>-0.544439</td>\n",
       "      <td>-0.668172</td>\n",
       "      <td>0.007315</td>\n",
       "      <td>-0.612939</td>\n",
       "      <td>1.299748</td>\n",
       "    </tr>\n",
       "    <tr>\n",
       "      <th>9</th>\n",
       "      <td>-1.733096</td>\n",
       "      <td>-0.983310</td>\n",
       "      <td>0.357508</td>\n",
       "      <td>-1.613579</td>\n",
       "      <td>1.470714</td>\n",
       "    </tr>\n",
       "  </tbody>\n",
       "</table>\n",
       "</div>"
      ],
      "text/plain": [
       "          0         1         2         3         4\n",
       "0 -1.749765  0.342680  1.153036 -0.252436  0.981321\n",
       "1  0.514219  0.221180 -1.070043 -0.189496  0.255001\n",
       "2 -0.458027  0.435163 -0.583595  0.816847  0.672721\n",
       "3 -0.104411 -0.531280  1.029733 -0.438136 -1.118318\n",
       "4  1.618982  1.541605 -0.251879 -0.842436  0.184519\n",
       "5  0.937082  0.731000  1.361556 -0.326238  0.055676\n",
       "6  0.222400 -1.443217 -0.756352  0.816454  0.750445\n",
       "7 -0.455947  1.189622 -1.690617 -1.356399 -1.232435\n",
       "8 -0.544439 -0.668172  0.007315 -0.612939  1.299748\n",
       "9 -1.733096 -0.983310  0.357508 -1.613579  1.470714"
      ]
     },
     "metadata": {},
     "output_type": "display_data"
    },
    {
     "name": "stdout",
     "output_type": "stream",
     "text": [
      "0   -0.175300\n",
      "1    0.083527\n",
      "2   -0.044334\n",
      "3   -0.399836\n",
      "4    0.331939\n",
      "dtype: float64\n",
      "0    1.069584\n",
      "1    0.965548\n",
      "2    1.018232\n",
      "3    0.793167\n",
      "4    0.918992\n",
      "dtype: float64\n"
     ]
    },
    {
     "data": {
      "text/html": [
       "<div>\n",
       "<style scoped>\n",
       "    .dataframe tbody tr th:only-of-type {\n",
       "        vertical-align: middle;\n",
       "    }\n",
       "\n",
       "    .dataframe tbody tr th {\n",
       "        vertical-align: top;\n",
       "    }\n",
       "\n",
       "    .dataframe thead th {\n",
       "        text-align: right;\n",
       "    }\n",
       "</style>\n",
       "<table border=\"1\" class=\"dataframe\">\n",
       "  <thead>\n",
       "    <tr style=\"text-align: right;\">\n",
       "      <th></th>\n",
       "      <th>0</th>\n",
       "      <th>1</th>\n",
       "      <th>2</th>\n",
       "      <th>3</th>\n",
       "      <th>4</th>\n",
       "    </tr>\n",
       "  </thead>\n",
       "  <tbody>\n",
       "    <tr>\n",
       "      <th>0</th>\n",
       "      <td>-1.574465</td>\n",
       "      <td>0.259153</td>\n",
       "      <td>1.197370</td>\n",
       "      <td>0.147400</td>\n",
       "      <td>0.649382</td>\n",
       "    </tr>\n",
       "    <tr>\n",
       "      <th>1</th>\n",
       "      <td>0.689519</td>\n",
       "      <td>0.137652</td>\n",
       "      <td>-1.025709</td>\n",
       "      <td>0.210340</td>\n",
       "      <td>-0.076938</td>\n",
       "    </tr>\n",
       "    <tr>\n",
       "      <th>2</th>\n",
       "      <td>-0.282727</td>\n",
       "      <td>0.351636</td>\n",
       "      <td>-0.539261</td>\n",
       "      <td>1.216683</td>\n",
       "      <td>0.340782</td>\n",
       "    </tr>\n",
       "    <tr>\n",
       "      <th>3</th>\n",
       "      <td>0.070889</td>\n",
       "      <td>-0.614808</td>\n",
       "      <td>1.074067</td>\n",
       "      <td>-0.038300</td>\n",
       "      <td>-1.450257</td>\n",
       "    </tr>\n",
       "    <tr>\n",
       "      <th>4</th>\n",
       "      <td>1.794282</td>\n",
       "      <td>1.458078</td>\n",
       "      <td>-0.207545</td>\n",
       "      <td>-0.442600</td>\n",
       "      <td>-0.147420</td>\n",
       "    </tr>\n",
       "    <tr>\n",
       "      <th>5</th>\n",
       "      <td>1.112383</td>\n",
       "      <td>0.647473</td>\n",
       "      <td>1.405890</td>\n",
       "      <td>0.073598</td>\n",
       "      <td>-0.276263</td>\n",
       "    </tr>\n",
       "    <tr>\n",
       "      <th>6</th>\n",
       "      <td>0.397700</td>\n",
       "      <td>-1.526744</td>\n",
       "      <td>-0.712018</td>\n",
       "      <td>1.216290</td>\n",
       "      <td>0.418506</td>\n",
       "    </tr>\n",
       "    <tr>\n",
       "      <th>7</th>\n",
       "      <td>-0.280647</td>\n",
       "      <td>1.106095</td>\n",
       "      <td>-1.646283</td>\n",
       "      <td>-0.956563</td>\n",
       "      <td>-1.564374</td>\n",
       "    </tr>\n",
       "    <tr>\n",
       "      <th>8</th>\n",
       "      <td>-0.369139</td>\n",
       "      <td>-0.751699</td>\n",
       "      <td>0.051649</td>\n",
       "      <td>-0.213103</td>\n",
       "      <td>0.967809</td>\n",
       "    </tr>\n",
       "    <tr>\n",
       "      <th>9</th>\n",
       "      <td>-1.557795</td>\n",
       "      <td>-1.066837</td>\n",
       "      <td>0.401842</td>\n",
       "      <td>-1.213743</td>\n",
       "      <td>1.138775</td>\n",
       "    </tr>\n",
       "  </tbody>\n",
       "</table>\n",
       "</div>"
      ],
      "text/plain": [
       "          0         1         2         3         4\n",
       "0 -1.574465  0.259153  1.197370  0.147400  0.649382\n",
       "1  0.689519  0.137652 -1.025709  0.210340 -0.076938\n",
       "2 -0.282727  0.351636 -0.539261  1.216683  0.340782\n",
       "3  0.070889 -0.614808  1.074067 -0.038300 -1.450257\n",
       "4  1.794282  1.458078 -0.207545 -0.442600 -0.147420\n",
       "5  1.112383  0.647473  1.405890  0.073598 -0.276263\n",
       "6  0.397700 -1.526744 -0.712018  1.216290  0.418506\n",
       "7 -0.280647  1.106095 -1.646283 -0.956563 -1.564374\n",
       "8 -0.369139 -0.751699  0.051649 -0.213103  0.967809\n",
       "9 -1.557795 -1.066837  0.401842 -1.213743  1.138775"
      ]
     },
     "metadata": {},
     "output_type": "display_data"
    },
    {
     "data": {
      "text/html": [
       "<div>\n",
       "<style scoped>\n",
       "    .dataframe tbody tr th:only-of-type {\n",
       "        vertical-align: middle;\n",
       "    }\n",
       "\n",
       "    .dataframe tbody tr th {\n",
       "        vertical-align: top;\n",
       "    }\n",
       "\n",
       "    .dataframe thead th {\n",
       "        text-align: right;\n",
       "    }\n",
       "</style>\n",
       "<table border=\"1\" class=\"dataframe\">\n",
       "  <thead>\n",
       "    <tr style=\"text-align: right;\">\n",
       "      <th></th>\n",
       "      <th>0</th>\n",
       "      <th>1</th>\n",
       "      <th>2</th>\n",
       "      <th>3</th>\n",
       "      <th>4</th>\n",
       "    </tr>\n",
       "  </thead>\n",
       "  <tbody>\n",
       "    <tr>\n",
       "      <th>0</th>\n",
       "      <td>0.0</td>\n",
       "      <td>0.0</td>\n",
       "      <td>0.0</td>\n",
       "      <td>0.0</td>\n",
       "      <td>0.0</td>\n",
       "    </tr>\n",
       "    <tr>\n",
       "      <th>1</th>\n",
       "      <td>0.0</td>\n",
       "      <td>0.0</td>\n",
       "      <td>0.0</td>\n",
       "      <td>0.0</td>\n",
       "      <td>0.0</td>\n",
       "    </tr>\n",
       "    <tr>\n",
       "      <th>2</th>\n",
       "      <td>0.0</td>\n",
       "      <td>0.0</td>\n",
       "      <td>0.0</td>\n",
       "      <td>0.0</td>\n",
       "      <td>0.0</td>\n",
       "    </tr>\n",
       "    <tr>\n",
       "      <th>3</th>\n",
       "      <td>0.0</td>\n",
       "      <td>0.0</td>\n",
       "      <td>0.0</td>\n",
       "      <td>0.0</td>\n",
       "      <td>0.0</td>\n",
       "    </tr>\n",
       "    <tr>\n",
       "      <th>4</th>\n",
       "      <td>0.0</td>\n",
       "      <td>0.0</td>\n",
       "      <td>0.0</td>\n",
       "      <td>0.0</td>\n",
       "      <td>0.0</td>\n",
       "    </tr>\n",
       "    <tr>\n",
       "      <th>5</th>\n",
       "      <td>0.0</td>\n",
       "      <td>0.0</td>\n",
       "      <td>0.0</td>\n",
       "      <td>0.0</td>\n",
       "      <td>0.0</td>\n",
       "    </tr>\n",
       "    <tr>\n",
       "      <th>6</th>\n",
       "      <td>0.0</td>\n",
       "      <td>0.0</td>\n",
       "      <td>0.0</td>\n",
       "      <td>0.0</td>\n",
       "      <td>0.0</td>\n",
       "    </tr>\n",
       "    <tr>\n",
       "      <th>7</th>\n",
       "      <td>0.0</td>\n",
       "      <td>0.0</td>\n",
       "      <td>0.0</td>\n",
       "      <td>0.0</td>\n",
       "      <td>0.0</td>\n",
       "    </tr>\n",
       "    <tr>\n",
       "      <th>8</th>\n",
       "      <td>0.0</td>\n",
       "      <td>0.0</td>\n",
       "      <td>0.0</td>\n",
       "      <td>0.0</td>\n",
       "      <td>0.0</td>\n",
       "    </tr>\n",
       "    <tr>\n",
       "      <th>9</th>\n",
       "      <td>0.0</td>\n",
       "      <td>0.0</td>\n",
       "      <td>0.0</td>\n",
       "      <td>0.0</td>\n",
       "      <td>0.0</td>\n",
       "    </tr>\n",
       "  </tbody>\n",
       "</table>\n",
       "</div>"
      ],
      "text/plain": [
       "     0    1    2    3    4\n",
       "0  0.0  0.0  0.0  0.0  0.0\n",
       "1  0.0  0.0  0.0  0.0  0.0\n",
       "2  0.0  0.0  0.0  0.0  0.0\n",
       "3  0.0  0.0  0.0  0.0  0.0\n",
       "4  0.0  0.0  0.0  0.0  0.0\n",
       "5  0.0  0.0  0.0  0.0  0.0\n",
       "6  0.0  0.0  0.0  0.0  0.0\n",
       "7  0.0  0.0  0.0  0.0  0.0\n",
       "8  0.0  0.0  0.0  0.0  0.0\n",
       "9  0.0  0.0  0.0  0.0  0.0"
      ]
     },
     "metadata": {},
     "output_type": "display_data"
    }
   ],
   "source": [
    "import sklearn.linear_model as skl\n",
    "from sklearn.metrics import mean_squared_error\n",
    "from sklearn.model_selection import  train_test_split\n",
    "from sklearn.preprocessing import MinMaxScaler, StandardScaler, Normalizer\n",
    "import numpy as np\n",
    "import pandas as pd\n",
    "from IPython.display import display\n",
    "np.random.seed(100)\n",
    "# setting up a 10 x 5 matrix\n",
    "rows = 10\n",
    "cols = 5\n",
    "X = np.random.randn(rows,cols)\n",
    "XPandas = pd.DataFrame(X)\n",
    "display(XPandas)\n",
    "print(XPandas.mean())\n",
    "print(XPandas.std())\n",
    "XPandas = (XPandas -XPandas.mean())\n",
    "display(XPandas)\n",
    "#  This option does not include the standard deviation\n",
    "scaler = StandardScaler(with_std=False)\n",
    "scaler.fit(X)\n",
    "Xscaled = scaler.transform(X)\n",
    "display(XPandas-Xscaled)"
   ]
  },
  {
   "cell_type": "markdown",
   "id": "0eae8922",
   "metadata": {},
   "source": [
    "Small exercise: perform the standard scaling by including the standard deviation and compare with what Scikit-Learn gives."
   ]
  },
  {
   "cell_type": "markdown",
   "id": "709832eb",
   "metadata": {},
   "source": [
    "## Min-Max Scaling\n",
    "\n",
    "Another commonly used scaling method is min-max scaling. This is very\n",
    "useful for when we want the features to lie in a certain interval. To\n",
    "scale the feature $x_j$ to the interval $[a, b]$, we can apply the\n",
    "transformation"
   ]
  },
  {
   "cell_type": "markdown",
   "id": "5660e410",
   "metadata": {},
   "source": [
    "$$\n",
    "x_j^{(i)} \\rightarrow (b-a)\\frac{x_j^{(i)} - \\min(x_j)}{\\max(x_j) - \\min(x_j)} - a\n",
    "$$"
   ]
  },
  {
   "cell_type": "markdown",
   "id": "d44e5934",
   "metadata": {},
   "source": [
    "where $\\min(x_j)$ and $\\max(x_j)$ return the minimum and maximum value of $x_j$ over the data set, respectively."
   ]
  },
  {
   "cell_type": "markdown",
   "id": "98d863c6",
   "metadata": {},
   "source": [
    "## Testing the Means Squared Error as function of Complexity\n",
    "\n",
    "One of \n",
    "the aims is to reproduce Figure 2.11 of [Hastie et al](https://github.com/CompPhysics/MLErasmus/blob/master/doc/Textbooks/elementsstat.pdf).\n",
    "\n",
    "Our data is defined by $x\\in [-3,3]$ with a total of for example $100$ data points."
   ]
  },
  {
   "cell_type": "code",
   "execution_count": 10,
   "id": "d11f262e",
   "metadata": {},
   "outputs": [],
   "source": [
    "np.random.seed()\n",
    "n = 50\n",
    "maxdegree = 5\n",
    "# Make data set.\n",
    "x = np.linspace(-3, 3, n).reshape(-1, 1)\n",
    "y = np.exp(-x**2) + 1.5 * np.exp(-(x-2)**2)+ np.random.normal(0, 0.1, x.shape)"
   ]
  },
  {
   "cell_type": "markdown",
   "id": "f69a30ce",
   "metadata": {},
   "source": [
    "where $y$ is the function we want to fit with a given polynomial.\n",
    "\n",
    "Write a first code which sets up a design matrix $X$ defined by a fourth-order polynomial.  Scale your data and split it in training and test data."
   ]
  },
  {
   "cell_type": "code",
   "execution_count": 16,
   "id": "b038687c",
   "metadata": {},
   "outputs": [
    {
     "data": {
      "image/png": "[encoded data removed]",
      "text/plain": [
       "<Figure size 640x480 with 1 Axes>"
      ]
     },
     "metadata": {},
     "output_type": "display_data"
    }
   ],
   "source": [
    "import matplotlib.pyplot as plt\n",
    "import numpy as np\n",
    "from sklearn.linear_model import LinearRegression\n",
    "from sklearn.preprocessing import PolynomialFeatures\n",
    "from sklearn.model_selection import train_test_split\n",
    "from sklearn.pipeline import make_pipeline\n",
    "\n",
    "\n",
    "np.random.seed(2018)\n",
    "n = 100\n",
    "maxdegree = 35\n",
    "# Make data set.\n",
    "x = np.linspace(-3, 3, n).reshape(-1, 1)\n",
    "y = np.exp(-x**2) + 1.5 * np.exp(-(x-2)**2)+ np.random.normal(0, 0.1, x.shape)\n",
    "TestError = np.zeros(maxdegree)\n",
    "TrainError = np.zeros(maxdegree)\n",
    "polydegree = np.zeros(maxdegree)\n",
    "x_train, x_test, y_train, y_test = train_test_split(x, y, test_size=0.2)\n",
    "scaler = StandardScaler()\n",
    "scaler.fit(x_train)\n",
    "x_train_scaled = scaler.transform(x_train)\n",
    "x_test_scaled = scaler.transform(x_test)\n",
    "\n",
    "for degree in range(maxdegree):\n",
    "    model = make_pipeline(PolynomialFeatures(degree=degree), LinearRegression(fit_intercept=False))\n",
    "    clf = model.fit(x_train_scaled,y_train)\n",
    "    y_fit = clf.predict(x_train_scaled)\n",
    "    y_pred = clf.predict(x_test_scaled) \n",
    "    polydegree[degree] = degree\n",
    "    TestError[degree] = np.mean( np.mean((y_test - y_pred)**2) )\n",
    "    TrainError[degree] = np.mean( np.mean((y_train - y_fit)**2) )\n",
    "\n",
    "plt.plot(polydegree, TestError, label='Test Error')\n",
    "plt.plot(polydegree, TrainError, label='Train Error')\n",
    "plt.legend()\n",
    "plt.show()"
   ]
  },
  {
   "cell_type": "markdown",
   "id": "36f38098",
   "metadata": {},
   "source": [
    "## More preprocessing examples, two-dimensional example, the Franke function"
   ]
  },
  {
   "cell_type": "code",
   "execution_count": 3,
   "id": "46512f53",
   "metadata": {},
   "outputs": [
    {
     "name": "stdout",
     "output_type": "stream",
     "text": [
      "MSE before scaling: 0.00\n",
      "R2 score before scaling 0.99\n",
      "-0.04738712761902323\n",
      "Feature min values before scaling:\n",
      " [1.00000000e+00 4.33153629e-03 5.89592900e-03 1.87622066e-05\n",
      " 2.55384304e-05 3.47619787e-05 8.12691790e-08 1.10620638e-07\n",
      " 1.50572772e-07 2.04954158e-07 3.52020398e-10 4.79157309e-10\n",
      " 6.52211428e-10 8.87766376e-10 1.20839517e-09 1.52478913e-12\n",
      " 2.07548727e-12 2.82507747e-12 3.84539227e-12 5.23420752e-12\n",
      " 7.12461210e-12]\n",
      "Feature max values before scaling:\n",
      " [1.         0.99932094 0.9999049  0.99864235 0.99922591 0.99980982\n",
      " 0.99796421 0.99854738 0.99913089 0.99971474 0.99728653 0.99786931\n",
      " 0.99845242 0.99903588 0.99961967 0.99660932 0.9971917  0.99777442\n",
      " 0.99835747 0.99894087 0.99952462]\n",
      "Feature min values after scaling:\n",
      " [ 0.         -1.70679306 -1.67745354 -1.09491003 -1.08540616 -1.07594803\n",
      " -0.85226645 -0.84642048 -0.84063082 -0.83489974 -0.71793177 -0.71397957\n",
      " -0.71006884 -0.70619894 -0.70236913 -0.6312334  -0.62848125 -0.62575126\n",
      " -0.62304225 -0.62035304 -0.61768243]\n",
      "Feature max values after scaling:\n",
      " [0.         1.80626717 1.82382502 2.34251447 2.35207564 2.36074151\n",
      " 2.7720305  2.77643561 2.78024252 2.78347269 3.13992982 3.14115983\n",
      " 3.14193155 3.14225451 3.14213751 3.46778061 3.46707303 3.46595734\n",
      " 3.46443669 3.46251396 3.46019182]\n",
      "MSE after  scaling: 0.00\n",
      "R2 score for  scaled data: 0.99\n"
     ]
    }
   ],
   "source": [
    "# Common imports\n",
    "import os\n",
    "import numpy as np\n",
    "import pandas as pd\n",
    "import matplotlib.pyplot as plt\n",
    "import sklearn.linear_model as skl\n",
    "from sklearn.metrics import mean_squared_error\n",
    "from sklearn.model_selection import  train_test_split\n",
    "from sklearn.preprocessing import MinMaxScaler, StandardScaler, Normalizer\n",
    "\n",
    "# Where to save the figures and data files\n",
    "PROJECT_ROOT_DIR = \"Results\"\n",
    "FIGURE_ID = \"Results/FigureFiles\"\n",
    "DATA_ID = \"DataFiles/\"\n",
    "\n",
    "if not os.path.exists(PROJECT_ROOT_DIR):\n",
    "    os.mkdir(PROJECT_ROOT_DIR)\n",
    "\n",
    "if not os.path.exists(FIGURE_ID):\n",
    "    os.makedirs(FIGURE_ID)\n",
    "\n",
    "if not os.path.exists(DATA_ID):\n",
    "    os.makedirs(DATA_ID)\n",
    "\n",
    "def image_path(fig_id):\n",
    "    return os.path.join(FIGURE_ID, fig_id)\n",
    "\n",
    "def data_path(dat_id):\n",
    "    return os.path.join(DATA_ID, dat_id)\n",
    "\n",
    "def save_fig(fig_id):\n",
    "    plt.savefig(image_path(fig_id) + \".png\", format='png')\n",
    "\n",
    "\n",
    "def FrankeFunction(x,y):\n",
    "\tterm1 = 0.75*np.exp(-(0.25*(9*x-2)**2) - 0.25*((9*y-2)**2))\n",
    "\tterm2 = 0.75*np.exp(-((9*x+1)**2)/49.0 - 0.1*(9*y+1))\n",
    "\tterm3 = 0.5*np.exp(-(9*x-7)**2/4.0 - 0.25*((9*y-3)**2))\n",
    "\tterm4 = -0.2*np.exp(-(9*x-4)**2 - (9*y-7)**2)\n",
    "\treturn term1 + term2 + term3 + term4\n",
    "\n",
    "\n",
    "def create_X(x, y, n ):\n",
    "\tif len(x.shape) > 1:\n",
    "\t\tx = np.ravel(x)\n",
    "\t\ty = np.ravel(y)\n",
    "\n",
    "\tN = len(x)\n",
    "\tl = int((n+1)*(n+2)/2)\t\t# Number of elements in beta\n",
    "\tX = np.ones((N,l))\n",
    "\n",
    "\tfor i in range(1,n+1):\n",
    "\t\tq = int((i)*(i+1)/2)\n",
    "\t\tfor k in range(i+1):\n",
    "\t\t\tX[:,q+k] = (x**(i-k))*(y**k)\n",
    "\n",
    "\treturn X\n",
    "\n",
    "\n",
    "# Making meshgrid of datapoints and compute Franke's function\n",
    "n = 5\n",
    "N = 1000\n",
    "x = np.sort(np.random.uniform(0, 1, N))\n",
    "y = np.sort(np.random.uniform(0, 1, N))\n",
    "z = FrankeFunction(x, y)\n",
    "X = create_X(x, y, n=n)    \n",
    "# split in training and test data\n",
    "X_train, X_test, y_train, y_test = train_test_split(X,z,test_size=0.2)\n",
    "\n",
    "\n",
    "clf = skl.LinearRegression().fit(X_train, y_train)\n",
    "\n",
    "# The mean squared error and R2 score\n",
    "print(\"MSE before scaling: {:.2f}\".format(mean_squared_error(clf.predict(X_test), y_test)))\n",
    "print(\"R2 score before scaling {:.2f}\".format(clf.score(X_test,y_test)))\n",
    "\n",
    "scaler = StandardScaler()\n",
    "scaler.fit(X_train)\n",
    "X_train_scaled = scaler.transform(X_train)\n",
    "X_test_scaled = scaler.transform(X_test)\n",
    "\n",
    "print(np.mean(X_test_scaled))\n",
    "print(\"Feature min values before scaling:\\n {}\".format(X_train.min(axis=0)))\n",
    "print(\"Feature max values before scaling:\\n {}\".format(X_train.max(axis=0)))\n",
    "\n",
    "print(\"Feature min values after scaling:\\n {}\".format(X_train_scaled.min(axis=0)))\n",
    "print(\"Feature max values after scaling:\\n {}\".format(X_train_scaled.max(axis=0)))\n",
    "\n",
    "clf = skl.LinearRegression().fit(X_train_scaled, y_train)\n",
    "\n",
    "\n",
    "print(\"MSE after  scaling: {:.2f}\".format(mean_squared_error(clf.predict(X_test_scaled), y_test)))\n",
    "print(\"R2 score for  scaled data: {:.2f}\".format(clf.score(X_test_scaled,y_test)))"
   ]
  },
  {
   "cell_type": "markdown",
   "id": "afb7e208",
   "metadata": {},
   "source": [
    "## To think about, first part\n",
    "\n",
    "When you are comparing your own code with for example **Scikit-Learn**'s\n",
    "library, there are some technicalities to keep in mind.  The examples\n",
    "here demonstrate some of these aspects with potential pitfalls.\n",
    "\n",
    "The discussion here focuses on the role of the intercept, how we can\n",
    "set up the design matrix, what scaling we should use and other topics\n",
    "which tend  confuse us.\n",
    "\n",
    "The intercept can be interpreted as the expected value of our\n",
    "target/output variables when all other predictors are set to zero.\n",
    "Thus, if we cannot assume that the expected outputs/targets are zero\n",
    "when all predictors are zero (the columns in the design matrix), it\n",
    "may be a bad idea to implement a model which penalizes the intercept.\n",
    "Furthermore, in for example Ridge and Lasso regression (to be discussed in moe detail next week), the default solutions\n",
    "from the library **Scikit-Learn** (when not shrinking $\\beta_0$) for the unknown parameters\n",
    "$\\boldsymbol{\\beta}$, are derived under the assumption that both $\\boldsymbol{y}$ and\n",
    "$\\boldsymbol{X}$ are zero centered, that is we subtract the mean values."
   ]
  },
  {
   "cell_type": "markdown",
   "id": "9aea8569",
   "metadata": {},
   "source": [
    "## More thinking\n",
    "\n",
    "If our predictors represent different scales, then it is important to\n",
    "standardize the design matrix $\\boldsymbol{X}$ by subtracting the mean of each\n",
    "column from the corresponding column and dividing the column with its\n",
    "standard deviation. Most machine learning libraries do this as a default. This means that if you compare your code with the results from a given library,\n",
    "the results may differ. \n",
    "\n",
    "The\n",
    "[Standadscaler](https://scikit-learn.org/stable/modules/generated/sklearn.preprocessing.StandardScaler.html)\n",
    "function in **Scikit-Learn** does this for us.  For the data sets we\n",
    "have been studying in our various examples, the data are in many cases\n",
    "already scaled and there is no need to scale them. You as a user of different machine learning algorithms, should always perform  a\n",
    "survey of your data, with a critical assessment of them in case you need to scale the data.\n",
    "\n",
    "If you need to scale the data, not doing so will give an *unfair*\n",
    "penalization of the parameters since their magnitude depends on the\n",
    "scale of their corresponding predictor.\n",
    "\n",
    "Suppose as an example that you \n",
    "you have an input variable given by the heights of different persons.\n",
    "Human height might be measured in inches or meters or\n",
    "kilometers. If measured in kilometers, a standard linear regression\n",
    "model with this predictor would probably give a much bigger\n",
    "coefficient term, than if measured in millimeters.\n",
    "This can clearly lead to problems in evaluating the cost/loss functions."
   ]
  },
  {
   "cell_type": "markdown",
   "id": "3c3ee7a6",
   "metadata": {},
   "source": [
    "## Still thinking\n",
    "\n",
    "Keep in mind that when you transform your data set before training a model, the same transformation needs to be done\n",
    "on your eventual new data set  before making a prediction. If we translate this into a Python code, it would could be implemented as follows\n",
    "(note that the lines are commented since the model function has not been defined)"
   ]
  },
  {
   "cell_type": "code",
   "execution_count": 13,
   "id": "610ed7c9",
   "metadata": {},
   "outputs": [],
   "source": [
    "#Model training, we compute the mean value of y and X\n",
    "y_train_mean = np.mean(y_train)\n",
    "X_train_mean = np.mean(X_train,axis=0)\n",
    "X_train = X_train - X_train_mean\n",
    "y_train = y_train - y_train_mean\n",
    "\n",
    "# The we fit our model with the training data\n",
    "#trained_model = some_model.fit(X_train,y_train)\n",
    "\n",
    "\n",
    "#Model prediction, we need also to transform our data set used for the prediction.\n",
    "X_test = X_test - X_train_mean #Use mean from training data\n",
    "#y_pred = trained_model(X_test)\n",
    "y_pred = y_pred + y_train_mean"
   ]
  },
  {
   "cell_type": "markdown",
   "id": "5aaa0c35",
   "metadata": {},
   "source": [
    "## What does centering (subtracting the mean values) mean mathematically?\n",
    "\n",
    "Let us try to understand what this may imply mathematically when we\n",
    "subtract the mean values, also known as *zero centering*. For\n",
    "simplicity, we will focus on  ordinary regression, as done in the above example.\n",
    "\n",
    "The cost/loss function  for regression is"
   ]
  },
  {
   "cell_type": "markdown",
   "id": "d446b89c",
   "metadata": {},
   "source": [
    "$$\n",
    "C(\\beta_0, \\beta_1, ... , \\beta_{p-1}) = \\frac{1}{n}\\sum_{i=0}^{n} \\left(y_i - \\beta_0 - \\sum_{j=1}^{p-1} X_{ij}\\beta_j\\right)^2,.\n",
    "$$"
   ]
  },
  {
   "cell_type": "markdown",
   "id": "198b6351",
   "metadata": {},
   "source": [
    "Recall also that we use the squared value since this leads to an increase of the penalty for higher differences between predicted and output/target values.\n",
    "\n",
    "What we have done is to single out the $\\beta_0$ term in the definition of the mean squared error (MSE).\n",
    "The design matrix\n",
    "$X$ does in this case not contain any intercept column.\n",
    "When we take the derivative with respect to $\\beta_0$, we want the derivative to obey"
   ]
  },
  {
   "cell_type": "markdown",
   "id": "f87a12ef",
   "metadata": {},
   "source": [
    "$$\n",
    "\\frac{\\partial C}{\\partial \\beta_j} = 0,\n",
    "$$"
   ]
  },
  {
   "cell_type": "markdown",
   "id": "9c9aeaff",
   "metadata": {},
   "source": [
    "for all $j$. For $\\beta_0$ we have"
   ]
  },
  {
   "cell_type": "markdown",
   "id": "f4c3cf71",
   "metadata": {},
   "source": [
    "$$\n",
    "\\frac{\\partial C}{\\partial \\beta_0} = -\\frac{2}{n}\\sum_{i=0}^{n-1} \\left(y_i - \\beta_0 - \\sum_{j=1}^{p-1} X_{ij} \\beta_j\\right).\n",
    "$$"
   ]
  },
  {
   "cell_type": "markdown",
   "id": "bfc99033",
   "metadata": {},
   "source": [
    "Multiplying away the constant $2/n$, we obtain"
   ]
  },
  {
   "cell_type": "markdown",
   "id": "7982def4",
   "metadata": {},
   "source": [
    "$$\n",
    "\\sum_{i=0}^{n-1} \\beta_0 = \\sum_{i=0}^{n-1}y_i - \\sum_{i=0}^{n-1} \\sum_{j=1}^{p-1} X_{ij} \\beta_j.\n",
    "$$"
   ]
  },
  {
   "cell_type": "markdown",
   "id": "3610d0b0",
   "metadata": {},
   "source": [
    "## Further Manipulations\n",
    "\n",
    "Let us special first to the case where we have only two parameters $\\beta_0$ and $\\beta_1$.\n",
    "Our result for $\\beta_0$ simplifies then to"
   ]
  },
  {
   "cell_type": "markdown",
   "id": "8bdee448",
   "metadata": {},
   "source": [
    "$$\n",
    "n\\beta_0 = \\sum_{i=0}^{n-1}y_i - \\sum_{i=0}^{n-1} X_{i1} \\beta_1.\n",
    "$$"
   ]
  },
  {
   "cell_type": "markdown",
   "id": "a6a3d795",
   "metadata": {},
   "source": [
    "We obtain then"
   ]
  },
  {
   "cell_type": "markdown",
   "id": "ecf6d960",
   "metadata": {},
   "source": [
    "$$\n",
    "\\beta_0 = \\frac{1}{n}\\sum_{i=0}^{n-1}y_i - \\beta_1\\frac{1}{n}\\sum_{i=0}^{n-1} X_{i1}.\n",
    "$$"
   ]
  },
  {
   "cell_type": "markdown",
   "id": "3477f330",
   "metadata": {},
   "source": [
    "If we define"
   ]
  },
  {
   "cell_type": "markdown",
   "id": "3faf2dd4",
   "metadata": {},
   "source": [
    "$$\n",
    "\\mu_1=\\frac{1}{n}\\sum_{i=0}^{n-1} (X_{i1},\n",
    "$$"
   ]
  },
  {
   "cell_type": "markdown",
   "id": "c0eb3a77",
   "metadata": {},
   "source": [
    "and if we define the mean value of the outputs as"
   ]
  },
  {
   "cell_type": "markdown",
   "id": "f9884460",
   "metadata": {},
   "source": [
    "$$\n",
    "\\mu_y=\\frac{1}{n}\\sum_{i=0}^{n-1}y_i,\n",
    "$$"
   ]
  },
  {
   "cell_type": "markdown",
   "id": "94e51a90",
   "metadata": {},
   "source": [
    "we have"
   ]
  },
  {
   "cell_type": "markdown",
   "id": "a3c36461",
   "metadata": {},
   "source": [
    "$$\n",
    "\\beta_0 = \\mu_y - \\beta_1\\mu_{1}.\n",
    "$$"
   ]
  },
  {
   "cell_type": "markdown",
   "id": "571b9c21",
   "metadata": {},
   "source": [
    "In the general case, that is we have more parameters than $\\beta_0$ and $\\beta_1$, we have"
   ]
  },
  {
   "cell_type": "markdown",
   "id": "a7497fca",
   "metadata": {},
   "source": [
    "$$\n",
    "\\beta_0 = \\frac{1}{n}\\sum_{i=0}^{n-1}y_i - \\frac{1}{n}\\sum_{i=0}^{n-1}\\sum_{j=1}^{p-1} X_{ij}\\beta_j.\n",
    "$$"
   ]
  },
  {
   "cell_type": "markdown",
   "id": "eceeabf7",
   "metadata": {},
   "source": [
    "Replacing $y_i$ with $y_i - y_i - \\overline{\\boldsymbol{y}}$ and centering also our design matrix results in a cost function (in vector-matrix disguise)"
   ]
  },
  {
   "cell_type": "markdown",
   "id": "36d559dd",
   "metadata": {},
   "source": [
    "$$\n",
    "C(\\boldsymbol{\\beta}) = (\\boldsymbol{\\tilde{y}} - \\tilde{X}\\boldsymbol{\\beta})^T(\\boldsymbol{\\tilde{y}} - \\tilde{X}\\boldsymbol{\\beta}).\n",
    "$$"
   ]
  },
  {
   "cell_type": "markdown",
   "id": "51b9a971",
   "metadata": {},
   "source": [
    "## Wrapping it up\n",
    "\n",
    "If we minimize with respect to $\\boldsymbol{\\beta}$ we have then"
   ]
  },
  {
   "cell_type": "markdown",
   "id": "1d5cc9a6",
   "metadata": {},
   "source": [
    "$$\n",
    "\\hat{\\boldsymbol{\\beta}} = (\\tilde{X}^T\\tilde{X})^{-1}\\tilde{X}^T\\boldsymbol{\\tilde{y}},\n",
    "$$"
   ]
  },
  {
   "cell_type": "markdown",
   "id": "53ea8a95",
   "metadata": {},
   "source": [
    "where $\\boldsymbol{\\tilde{y}} = \\boldsymbol{y} - \\overline{\\boldsymbol{y}}$\n",
    "and $\\tilde{X}_{ij} = X_{ij} - \\frac{1}{n}\\sum_{k=0}^{n-1}X_{kj}$.\n",
    "\n",
    "For Ridge regression we need to add $\\lambda \\boldsymbol{\\beta}^T\\boldsymbol{\\beta}$ to the cost function and get then"
   ]
  },
  {
   "cell_type": "markdown",
   "id": "786d0fee",
   "metadata": {},
   "source": [
    "$$\n",
    "\\hat{\\boldsymbol{\\beta}} = (\\tilde{X}^T\\tilde{X} + \\lambda I)^{-1}\\tilde{X}^T\\boldsymbol{\\tilde{y}}.\n",
    "$$"
   ]
  },
  {
   "cell_type": "markdown",
   "id": "4192a1c6",
   "metadata": {},
   "source": [
    "What does this mean? And why do we insist on all this? Let us look at some examples."
   ]
  },
  {
   "cell_type": "markdown",
   "id": "da29b29a",
   "metadata": {},
   "source": [
    "## Linear Regression code, Intercept handling first\n",
    "\n",
    "This code shows a simple first-order fit to a data set using the above transformed data, where we consider the role of the intercept first, by either excluding it or including it (*code example thanks to  Øyvind Sigmundson Schøyen*). Here our scaling of the data is done by subtracting the mean values only.\n",
    "Note also that we do not split the data into training and test."
   ]
  },
  {
   "cell_type": "code",
   "execution_count": 14,
   "id": "7e1a63ba",
   "metadata": {},
   "outputs": [],
   "source": [
    "import numpy as np\n",
    "import matplotlib.pyplot as plt\n",
    "\n",
    "from sklearn.linear_model import LinearRegression\n",
    "\n",
    "\n",
    "np.random.seed(2021)\n",
    "\n",
    "def MSE(y_data,y_model):\n",
    "    n = np.size(y_model)\n",
    "    return np.sum((y_data-y_model)**2)/n\n",
    "\n",
    "\n",
    "def fit_beta(X, y):\n",
    "    return np.linalg.pinv(X.T @ X) @ X.T @ y\n",
    "\n",
    "\n",
    "true_beta = [2, 0.5, 3.7]\n",
    "\n",
    "x = np.linspace(0, 1, 11)\n",
    "y = np.sum(\n",
    "    np.asarray([x ** p * b for p, b in enumerate(true_beta)]), axis=0\n",
    ") + 0.1 * np.random.normal(size=len(x))\n",
    "\n",
    "degree = 3\n",
    "X = np.zeros((len(x), degree))\n",
    "\n",
    "# Include the intercept in the design matrix\n",
    "for p in range(degree):\n",
    "    X[:, p] = x ** p\n",
    "\n",
    "beta = fit_beta(X, y)\n",
    "\n",
    "# Intercept is included in the design matrix\n",
    "skl = LinearRegression(fit_intercept=False).fit(X, y)\n",
    "\n",
    "print(f\"True beta: {true_beta}\")\n",
    "print(f\"Fitted beta: {beta}\")\n",
    "print(f\"Sklearn fitted beta: {skl.coef_}\")\n",
    "ypredictOwn = X @ beta\n",
    "ypredictSKL = skl.predict(X)\n",
    "print(f\"MSE with intercept column\")\n",
    "print(MSE(y,ypredictOwn))\n",
    "print(f\"MSE with intercept column from SKL\")\n",
    "print(MSE(y,ypredictSKL))\n",
    "\n",
    "\n",
    "plt.figure()\n",
    "plt.scatter(x, y, label=\"Data\")\n",
    "plt.plot(x, X @ beta, label=\"Fit\")\n",
    "plt.plot(x, skl.predict(X), label=\"Sklearn (fit_intercept=False)\")\n",
    "\n",
    "\n",
    "# Do not include the intercept in the design matrix\n",
    "X = np.zeros((len(x), degree - 1))\n",
    "\n",
    "for p in range(degree - 1):\n",
    "    X[:, p] = x ** (p + 1)\n",
    "\n",
    "# Intercept is not included in the design matrix\n",
    "skl = LinearRegression(fit_intercept=True).fit(X, y)\n",
    "\n",
    "# Use centered values for X and y when computing coefficients\n",
    "y_offset = np.average(y, axis=0)\n",
    "X_offset = np.average(X, axis=0)\n",
    "\n",
    "beta = fit_beta(X - X_offset, y - y_offset)\n",
    "intercept = np.mean(y_offset - X_offset @ beta)\n",
    "\n",
    "print(f\"Manual intercept: {intercept}\")\n",
    "print(f\"Fitted beta (wiothout intercept): {beta}\")\n",
    "print(f\"Sklearn intercept: {skl.intercept_}\")\n",
    "print(f\"Sklearn fitted beta (without intercept): {skl.coef_}\")\n",
    "ypredictOwn = X @ beta\n",
    "ypredictSKL = skl.predict(X)\n",
    "print(f\"MSE with Manual intercept\")\n",
    "print(MSE(y,ypredictOwn+intercept))\n",
    "print(f\"MSE with Sklearn intercept\")\n",
    "print(MSE(y,ypredictSKL))\n",
    "\n",
    "plt.plot(x, X @ beta + intercept, \"--\", label=\"Fit (manual intercept)\")\n",
    "plt.plot(x, skl.predict(X), \"--\", label=\"Sklearn (fit_intercept=True)\")\n",
    "plt.grid()\n",
    "plt.legend()\n",
    "\n",
    "plt.show()"
   ]
  },
  {
   "cell_type": "markdown",
   "id": "93c527ef",
   "metadata": {},
   "source": [
    "The intercept is the value of our output/target variable\n",
    "when all our features are zero and our function crosses the $y$-axis (for a one-dimensional case). \n",
    "\n",
    "Printing the MSE, we see first that both methods give the same MSE, as\n",
    "they should.  However, when we move to for example Ridge regression (discussed next week),\n",
    "the way we treat the intercept may give a larger or smaller MSE,\n",
    "meaning that the MSE can be penalized by the value of the\n",
    "intercept. Not including the intercept in the fit, means that the\n",
    "regularization term does not include $\\beta_0$. For different values\n",
    "of $\\lambda$, this may lead to differing MSE values. \n",
    "\n",
    "To remind the reader, the regularization term, with the intercept in Ridge regression is given by"
   ]
  },
  {
   "cell_type": "markdown",
   "id": "95f1207f",
   "metadata": {},
   "source": [
    "$$\n",
    "\\lambda \\vert\\vert \\boldsymbol{\\beta} \\vert\\vert_2^2 = \\lambda \\sum_{j=0}^{p-1}\\beta_j^2,\n",
    "$$"
   ]
  },
  {
   "cell_type": "markdown",
   "id": "28924a72",
   "metadata": {},
   "source": [
    "but when we take out the intercept, this equation becomes"
   ]
  },
  {
   "cell_type": "markdown",
   "id": "2335128f",
   "metadata": {},
   "source": [
    "$$\n",
    "\\lambda \\vert\\vert \\boldsymbol{\\beta} \\vert\\vert_2^2 = \\lambda \\sum_{j=1}^{p-1}\\beta_j^2.\n",
    "$$"
   ]
  },
  {
   "cell_type": "markdown",
   "id": "04fcb5bb",
   "metadata": {},
   "source": [
    "For Lasso regression we have"
   ]
  },
  {
   "cell_type": "markdown",
   "id": "d5795062",
   "metadata": {},
   "source": [
    "$$\n",
    "\\lambda \\vert\\vert \\boldsymbol{\\beta} \\vert\\vert_1 = \\lambda \\sum_{j=1}^{p-1}\\vert\\beta_j\\vert.\n",
    "$$"
   ]
  },
  {
   "cell_type": "markdown",
   "id": "2dc0f045",
   "metadata": {},
   "source": [
    "It means that, when scaling the design matrix and the outputs/targets,\n",
    "by subtracting the mean values, we have an optimization problem which\n",
    "is not penalized by the intercept. The MSE value can then be smaller\n",
    "since it focuses only on the remaining quantities. If we however bring\n",
    "back the intercept, we will get an MSE which then contains the\n",
    "intercept. This becomes more important when we discuss Ridge and Lasso\n",
    "regression next week."
   ]
  },
  {
   "cell_type": "markdown",
   "id": "6cad8214",
   "metadata": {},
   "source": [
    "## Material for lecture Monday, August 26"
   ]
  },
  {
   "cell_type": "markdown",
   "id": "2bad21b9",
   "metadata": {},
   "source": [
    "## Mathematical Interpretation of Ordinary Least Squares\n",
    "\n",
    "What is presented here is a mathematical analysis of various regression algorithms (ordinary least  squares, Ridge and Lasso Regression). The analysis is based on an important algorithm in linear algebra, the so-called Singular Value Decomposition (SVD). \n",
    "\n",
    "We have shown that in ordinary least squares the optimal parameters $\\beta$ are given by"
   ]
  },
  {
   "cell_type": "markdown",
   "id": "644c911c",
   "metadata": {},
   "source": [
    "$$\n",
    "\\hat{\\boldsymbol{\\beta}} = \\left(\\boldsymbol{X}^T\\boldsymbol{X}\\right)^{-1}\\boldsymbol{X}^T\\boldsymbol{y}.\n",
    "$$"
   ]
  },
  {
   "cell_type": "markdown",
   "id": "e8fd561c",
   "metadata": {},
   "source": [
    "The **hat** over $\\boldsymbol{\\beta}$ means we have the optimal parameters after minimization of the cost function.\n",
    "\n",
    "This means that our best model is defined as"
   ]
  },
  {
   "cell_type": "markdown",
   "id": "727edd59",
   "metadata": {},
   "source": [
    "$$\n",
    "\\tilde{\\boldsymbol{y}}=\\boldsymbol{X}\\hat{\\boldsymbol{\\beta}} = \\boldsymbol{X}\\left(\\boldsymbol{X}^T\\boldsymbol{X}\\right)^{-1}\\boldsymbol{X}^T\\boldsymbol{y}.\n",
    "$$"
   ]
  },
  {
   "cell_type": "markdown",
   "id": "8c0e5f99",
   "metadata": {},
   "source": [
    "We now define a matrix"
   ]
  },
  {
   "cell_type": "markdown",
   "id": "2a29fb9d",
   "metadata": {},
   "source": [
    "$$\n",
    "\\boldsymbol{A}=\\boldsymbol{X}\\left(\\boldsymbol{X}^T\\boldsymbol{X}\\right)^{-1}\\boldsymbol{X}^T.\n",
    "$$"
   ]
  },
  {
   "cell_type": "markdown",
   "id": "2a148675",
   "metadata": {},
   "source": [
    "We can rewrite"
   ]
  },
  {
   "cell_type": "markdown",
   "id": "e35bcb63",
   "metadata": {},
   "source": [
    "$$\n",
    "\\tilde{\\boldsymbol{y}}=\\boldsymbol{X}\\hat{\\boldsymbol{\\beta}} = \\boldsymbol{A}\\boldsymbol{y}.\n",
    "$$"
   ]
  },
  {
   "cell_type": "markdown",
   "id": "23e05e57",
   "metadata": {},
   "source": [
    "The matrix $\\boldsymbol{A}$ has the important property that $\\boldsymbol{A}^2=\\boldsymbol{A}$. This is the definition of a projection matrix.\n",
    "We can then interpret our optimal model $\\tilde{\\boldsymbol{y}}$ as being represented  by an orthogonal  projection of $\\boldsymbol{y}$ onto a space defined by the column vectors of $\\boldsymbol{X}$.  In our case here the matrix $\\boldsymbol{A}$ is a square matrix. If it is a general rectangular matrix we have an oblique projection matrix."
   ]
  },
  {
   "cell_type": "markdown",
   "id": "26d2aa42",
   "metadata": {},
   "source": [
    "## Residual Error\n",
    "\n",
    "We have defined the residual error as"
   ]
  },
  {
   "cell_type": "markdown",
   "id": "c0a9222f",
   "metadata": {},
   "source": [
    "$$\n",
    "\\boldsymbol{\\epsilon}=\\boldsymbol{y}-\\tilde{\\boldsymbol{y}}=\\left[\\boldsymbol{I}-\\boldsymbol{X}\\left(\\boldsymbol{X}^T\\boldsymbol{X}\\right)^{-1}\\boldsymbol{X}^T\\right]\\boldsymbol{y}.\n",
    "$$"
   ]
  },
  {
   "cell_type": "markdown",
   "id": "8144224f",
   "metadata": {},
   "source": [
    "The residual errors are then the projections of $\\boldsymbol{y}$ onto the orthogonal component of the space defined by the column vectors of $\\boldsymbol{X}$."
   ]
  },
  {
   "cell_type": "markdown",
   "id": "f3669729",
   "metadata": {},
   "source": [
    "## Simple case\n",
    "\n",
    "If the matrix $\\boldsymbol{X}$ is an orthogonal (or unitary in case of complex values) matrix, we have"
   ]
  },
  {
   "cell_type": "markdown",
   "id": "67dccbf0",
   "metadata": {},
   "source": [
    "$$\n",
    "\\boldsymbol{X}^T\\boldsymbol{X}=\\boldsymbol{X}\\boldsymbol{X}^T = \\boldsymbol{I}.\n",
    "$$"
   ]
  },
  {
   "cell_type": "markdown",
   "id": "243c515d",
   "metadata": {},
   "source": [
    "In this case the matrix $\\boldsymbol{A}$ becomes"
   ]
  },
  {
   "cell_type": "markdown",
   "id": "3025d27b",
   "metadata": {},
   "source": [
    "$$\n",
    "\\boldsymbol{A}=\\boldsymbol{X}\\left(\\boldsymbol{X}^T\\boldsymbol{X}\\right)^{-1}\\boldsymbol{X}^T)=\\boldsymbol{I},\n",
    "$$"
   ]
  },
  {
   "cell_type": "markdown",
   "id": "8d03e62a",
   "metadata": {},
   "source": [
    "and we have the obvious case"
   ]
  },
  {
   "cell_type": "markdown",
   "id": "6a26e615",
   "metadata": {},
   "source": [
    "$$\n",
    "\\boldsymbol{\\epsilon}=\\boldsymbol{y}-\\tilde{\\boldsymbol{y}}=0.\n",
    "$$"
   ]
  },
  {
   "cell_type": "markdown",
   "id": "6b6112b3",
   "metadata": {},
   "source": [
    "This serves also as a useful test of our codes."
   ]
  },
  {
   "cell_type": "markdown",
   "id": "3d09419a",
   "metadata": {},
   "source": [
    "## The singular value decomposition\n",
    "\n",
    "The examples we have looked at so far are cases where we normally can\n",
    "invert the matrix $\\boldsymbol{X}^T\\boldsymbol{X}$. Using a polynomial expansion where we fit of various functions leads to\n",
    "row vectors of the design matrix which are essentially orthogonal due\n",
    "to the polynomial character of our model. Obtaining the inverse of the\n",
    "design matrix is then often done via a so-called LU, QR or Cholesky\n",
    "decomposition.\n",
    "\n",
    "As we will also see in the first project, \n",
    "this may\n",
    "however not the be case in general and a standard matrix inversion\n",
    "algorithm based on say LU, QR or Cholesky decomposition may lead to singularities. We will see examples of this below.\n",
    "\n",
    "There is however a way to circumvent this problem and also\n",
    "gain some insights about the ordinary least squares approach, and\n",
    "later shrinkage methods like Ridge and Lasso regressions.\n",
    "\n",
    "This is given by the **Singular Value Decomposition** (SVD) algorithm,\n",
    "perhaps the most powerful linear algebra algorithm.  The SVD provides\n",
    "a numerically stable matrix decomposition that is used in a large\n",
    "swath oc applications and the decomposition is always stable\n",
    "numerically.\n",
    "\n",
    "In machine learning it plays a central role in dealing with for\n",
    "example design matrices that may be near singular or singular.\n",
    "Furthermore, as we will see here, the singular values can be related\n",
    "to the covariance matrix (and thereby the correlation matrix) and in\n",
    "turn the variance of a given quantity. It plays also an important role\n",
    "in the principal component analysis where high-dimensional data can be\n",
    "reduced to the statistically relevant features."
   ]
  },
  {
   "cell_type": "markdown",
   "id": "d0b08069",
   "metadata": {},
   "source": [
    "## Linear Regression Problems\n",
    "\n",
    "One of the typical problems we encounter with linear regression, in particular \n",
    "when the matrix $\\boldsymbol{X}$ (our so-called design matrix) is high-dimensional, \n",
    "are problems with near singular or singular matrices. The column vectors of $\\boldsymbol{X}$ \n",
    "may be linearly dependent, normally referred to as super-collinearity.  \n",
    "This means that the matrix may be rank deficient and it is basically impossible to \n",
    "to model the data using linear regression. As an example, consider the matrix"
   ]
  },
  {
   "cell_type": "markdown",
   "id": "fb79434f",
   "metadata": {},
   "source": [
    "$$\n",
    "\\begin{align*}\n",
    "\\mathbf{X} & =  \\left[\n",
    "\\begin{array}{rrr}\n",
    "1 & -1 & 2\n",
    "\\\\\n",
    "1 & 0 & 1\n",
    "\\\\\n",
    "1 & 2  & -1\n",
    "\\\\\n",
    "1 & 1  & 0\n",
    "\\end{array} \\right]\n",
    "\\end{align*}\n",
    "$$"
   ]
  },
  {
   "cell_type": "markdown",
   "id": "7454590c",
   "metadata": {},
   "source": [
    "The columns of $\\boldsymbol{X}$ are linearly dependent. We see this easily since the \n",
    "the first column is the row-wise sum of the other two columns. The rank (more correct,\n",
    "the column rank) of a matrix is the dimension of the space spanned by the\n",
    "column vectors. Hence, the rank of $\\mathbf{X}$ is equal to the number\n",
    "of linearly independent columns. In this particular case the matrix has rank 2.\n",
    "\n",
    "Super-collinearity of an $(n \\times p)$-dimensional design matrix $\\mathbf{X}$ implies\n",
    "that the inverse of the matrix $\\boldsymbol{X}^T\\boldsymbol{X}$ (the matrix we need to invert to solve the linear regression equations) is non-invertible. If we have a square matrix that does not have an inverse, we say this matrix singular. The example here demonstrates this"
   ]
  },
  {
   "cell_type": "markdown",
   "id": "e5607549",
   "metadata": {},
   "source": [
    "$$\n",
    "\\begin{align*}\n",
    "\\boldsymbol{X} & =  \\left[\n",
    "\\begin{array}{rr}\n",
    "1 & -1\n",
    "\\\\\n",
    "1 & -1\n",
    "\\end{array} \\right].\n",
    "\\end{align*}\n",
    "$$"
   ]
  },
  {
   "cell_type": "markdown",
   "id": "7cb60f09",
   "metadata": {},
   "source": [
    "We see easily that  $\\mbox{det}(\\boldsymbol{X}) = x_{11} x_{22} - x_{12} x_{21} = 1 \\times (-1) - 1 \\times (-1) = 0$. Hence, $\\mathbf{X}$ is singular and its inverse is undefined.\n",
    "This is equivalent to saying that the matrix $\\boldsymbol{X}$ has at least an eigenvalue which is zero."
   ]
  },
  {
   "cell_type": "markdown",
   "id": "4ffab4c8",
   "metadata": {},
   "source": [
    "## Fixing the singularity\n",
    "\n",
    "If our design matrix $\\boldsymbol{X}$ which enters the linear regression problem"
   ]
  },
  {
   "cell_type": "markdown",
   "id": "9398c2a3",
   "metadata": {},
   "source": [
    "<!-- Equation labels as ordinary links -->\n",
    "<div id=\"_auto1\"></div>\n",
    "\n",
    "$$\n",
    "\\begin{equation}\n",
    "\\boldsymbol{\\beta}  =  (\\boldsymbol{X}^{T} \\boldsymbol{X})^{-1} \\boldsymbol{X}^{T} \\boldsymbol{y},\n",
    "\\label{_auto1} \\tag{1}\n",
    "\\end{equation}\n",
    "$$"
   ]
  },
  {
   "cell_type": "markdown",
   "id": "d4eb85a1",
   "metadata": {},
   "source": [
    "has linearly dependent column vectors, we will not be able to compute the inverse\n",
    "of $\\boldsymbol{X}^T\\boldsymbol{X}$ and we cannot find the parameters (estimators) $\\beta_i$. \n",
    "The estimators are only well-defined if $(\\boldsymbol{X}^{T}\\boldsymbol{X})^{-1}$ exits. \n",
    "This is more likely to happen when the matrix $\\boldsymbol{X}$ is high-dimensional. In this case it is likely to encounter a situation where \n",
    "the regression parameters $\\beta_i$ cannot be estimated.\n",
    "\n",
    "A cheap  *ad hoc* approach is  simply to add a small diagonal component to the matrix to invert, that is we change"
   ]
  },
  {
   "cell_type": "markdown",
   "id": "7826f21f",
   "metadata": {},
   "source": [
    "$$\n",
    "\\boldsymbol{X}^{T} \\boldsymbol{X} \\rightarrow \\boldsymbol{X}^{T} \\boldsymbol{X}+\\lambda \\boldsymbol{I},\n",
    "$$"
   ]
  },
  {
   "cell_type": "markdown",
   "id": "f8e53e32",
   "metadata": {},
   "source": [
    "where $\\boldsymbol{I}$ is the identity matrix.  When we discuss **Ridge** regression this is actually what we end up evaluating. The parameter $\\lambda$ is called a hyperparameter. More about this later."
   ]
  },
  {
   "cell_type": "markdown",
   "id": "9fdadcf2",
   "metadata": {},
   "source": [
    "## Basic math of the SVD\n",
    "\n",
    "From standard linear algebra we know that a square matrix $\\boldsymbol{X}$ can be diagonalized if and only it is \n",
    "a so-called [normal matrix](https://en.wikipedia.org/wiki/Normal_matrix), that is if $\\boldsymbol{X}\\in {\\mathbb{R}}^{n\\times n}$\n",
    "we have $\\boldsymbol{X}\\boldsymbol{X}^T=\\boldsymbol{X}^T\\boldsymbol{X}$ or if $\\boldsymbol{X}\\in {\\mathbb{C}}^{n\\times n}$ we have $\\boldsymbol{X}\\boldsymbol{X}^{\\dagger}=\\boldsymbol{X}^{\\dagger}\\boldsymbol{X}$.\n",
    "The matrix has then a set of eigenpairs"
   ]
  },
  {
   "cell_type": "markdown",
   "id": "bb0f1a50",
   "metadata": {},
   "source": [
    "$$\n",
    "(\\lambda_1,\\boldsymbol{u}_1),\\dots, (\\lambda_n,\\boldsymbol{u}_n),\n",
    "$$"
   ]
  },
  {
   "cell_type": "markdown",
   "id": "38de8410",
   "metadata": {},
   "source": [
    "and the eigenvalues are given by the diagonal matrix"
   ]
  },
  {
   "cell_type": "markdown",
   "id": "c2e79f6c",
   "metadata": {},
   "source": [
    "$$\n",
    "\\boldsymbol{\\Sigma}=\\mathrm{Diag}(\\lambda_1, \\dots,\\lambda_n).\n",
    "$$"
   ]
  },
  {
   "cell_type": "markdown",
   "id": "5062f0d2",
   "metadata": {},
   "source": [
    "The matrix $\\boldsymbol{X}$ can be written in terms of an orthogonal/unitary transformation $\\boldsymbol{U}$"
   ]
  },
  {
   "cell_type": "markdown",
   "id": "e82354ce",
   "metadata": {},
   "source": [
    "$$\n",
    "\\boldsymbol{X} = \\boldsymbol{U}\\boldsymbol{\\Sigma}\\boldsymbol{V}^T,\n",
    "$$"
   ]
  },
  {
   "cell_type": "markdown",
   "id": "8df6f261",
   "metadata": {},
   "source": [
    "with $\\boldsymbol{U}\\boldsymbol{U}^T=\\boldsymbol{I}$ or $\\boldsymbol{U}\\boldsymbol{U}^{\\dagger}=\\boldsymbol{I}$.\n",
    "\n",
    "Not all square matrices are diagonalizable. A matrix like the one discussed above"
   ]
  },
  {
   "cell_type": "markdown",
   "id": "be644b5b",
   "metadata": {},
   "source": [
    "$$\n",
    "\\boldsymbol{X} = \\begin{bmatrix} \n",
    "1&  -1 \\\\\n",
    "1& -1\\\\\n",
    "\\end{bmatrix}\n",
    "$$"
   ]
  },
  {
   "cell_type": "markdown",
   "id": "3a7b74dd",
   "metadata": {},
   "source": [
    "is not diagonalizable, it is a so-called [defective matrix](https://en.wikipedia.org/wiki/Defective_matrix). It is easy to see that the condition\n",
    "$\\boldsymbol{X}\\boldsymbol{X}^T=\\boldsymbol{X}^T\\boldsymbol{X}$ is not fulfilled."
   ]
  },
  {
   "cell_type": "markdown",
   "id": "c0f0b528",
   "metadata": {},
   "source": [
    "## The SVD, a Fantastic Algorithm\n",
    "\n",
    "However, and this is the strength of the SVD algorithm, any general\n",
    "matrix $\\boldsymbol{X}$ can be decomposed in terms of a diagonal matrix and\n",
    "two orthogonal/unitary matrices.  The [Singular Value Decompostion\n",
    "(SVD) theorem](https://en.wikipedia.org/wiki/Singular_value_decomposition)\n",
    "states that a general $m\\times n$ matrix $\\boldsymbol{X}$ can be written in\n",
    "terms of a diagonal matrix $\\boldsymbol{\\Sigma}$ of dimensionality $m\\times n$\n",
    "and two orthognal matrices $\\boldsymbol{U}$ and $\\boldsymbol{V}$, where the first has\n",
    "dimensionality $m \\times m$ and the last dimensionality $n\\times n$.\n",
    "We have then"
   ]
  },
  {
   "cell_type": "markdown",
   "id": "db75edea",
   "metadata": {},
   "source": [
    "$$\n",
    "\\boldsymbol{X} = \\boldsymbol{U}\\boldsymbol{\\Sigma}\\boldsymbol{V}^T\n",
    "$$"
   ]
  },
  {
   "cell_type": "markdown",
   "id": "7cc08b68",
   "metadata": {},
   "source": [
    "As an example, the above defective matrix can be decomposed as"
   ]
  },
  {
   "cell_type": "markdown",
   "id": "eb30435e",
   "metadata": {},
   "source": [
    "$$\n",
    "\\boldsymbol{X} = \\frac{1}{\\sqrt{2}}\\begin{bmatrix}  1&  1 \\\\ 1& -1\\\\ \\end{bmatrix} \\begin{bmatrix}  2&  0 \\\\ 0& 0\\\\ \\end{bmatrix}    \\frac{1}{\\sqrt{2}}\\begin{bmatrix}  1&  -1 \\\\ 1& 1\\\\ \\end{bmatrix}=\\boldsymbol{U}\\boldsymbol{\\Sigma}\\boldsymbol{V}^T,\n",
    "$$"
   ]
  },
  {
   "cell_type": "markdown",
   "id": "57f3ab78",
   "metadata": {},
   "source": [
    "with eigenvalues $\\sigma_1=2$ and $\\sigma_2=0$. \n",
    "The SVD exits always! \n",
    "\n",
    "The SVD\n",
    "decomposition (singular values) gives eigenvalues \n",
    "$\\sigma_i\\geq\\sigma_{i+1}$ for all $i$ and for dimensions larger than $i=p$, the\n",
    "eigenvalues (singular values) are zero.\n",
    "\n",
    "In the general case, where our design matrix $\\boldsymbol{X}$ has dimension\n",
    "$n\\times p$, the matrix is thus decomposed into an $n\\times n$\n",
    "orthogonal matrix $\\boldsymbol{U}$, a $p\\times p$ orthogonal matrix $\\boldsymbol{V}$\n",
    "and a diagonal matrix $\\boldsymbol{\\Sigma}$ with $r=\\mathrm{min}(n,p)$\n",
    "singular values $\\sigma_i\\geq 0$ on the main diagonal and zeros filling\n",
    "the rest of the matrix.  There are at most $p$ singular values\n",
    "assuming that $n > p$. In our regression examples for the nuclear\n",
    "masses and the equation of state this is indeed the case, while for\n",
    "the Ising model we have $p > n$. These are often cases that lead to\n",
    "near singular or singular matrices.\n",
    "\n",
    "The columns of $\\boldsymbol{U}$ are called the left singular vectors while the columns of $\\boldsymbol{V}$ are the right singular vectors."
   ]
  },
  {
   "cell_type": "markdown",
   "id": "c66c4798",
   "metadata": {},
   "source": [
    "## Economy-size SVD\n",
    "\n",
    "If we assume that $n > p$, then our matrix $\\boldsymbol{U}$ has dimension $n\n",
    "\\times n$. The last $n-p$ columns of $\\boldsymbol{U}$ become however\n",
    "irrelevant in our calculations since they are multiplied with the\n",
    "zeros in $\\boldsymbol{\\Sigma}$.\n",
    "\n",
    "The economy-size decomposition removes extra rows or columns of zeros\n",
    "from the diagonal matrix of singular values, $\\boldsymbol{\\Sigma}$, along with the columns\n",
    "in either $\\boldsymbol{U}$ or $\\boldsymbol{V}$ that multiply those zeros in the expression. \n",
    "Removing these zeros and columns can improve execution time\n",
    "and reduce storage requirements without compromising the accuracy of\n",
    "the decomposition.\n",
    "\n",
    "If $n > p$, we keep only the first $p$ columns of $\\boldsymbol{U}$ and $\\boldsymbol{\\Sigma}$ has dimension $p\\times p$. \n",
    "If $p > n$, then only the first $n$ columns of $\\boldsymbol{V}$ are computed and $\\boldsymbol{\\Sigma}$ has dimension $n\\times n$.\n",
    "The $n=p$ case is obvious, we retain the full SVD. \n",
    "In general the economy-size SVD leads to less FLOPS and still conserving the desired accuracy."
   ]
  },
  {
   "cell_type": "markdown",
   "id": "2db6a3d6",
   "metadata": {},
   "source": [
    "## Codes for the SVD"
   ]
  },
  {
   "cell_type": "code",
   "execution_count": 15,
   "id": "c7e2d452",
   "metadata": {},
   "outputs": [],
   "source": [
    "import numpy as np\n",
    "# SVD inversion\n",
    "def SVD(A):\n",
    "    ''' Takes as input a numpy matrix A and returns inv(A) based on singular value decomposition (SVD).\n",
    "    SVD is numerically more stable than the inversion algorithms provided by\n",
    "    numpy and scipy.linalg at the cost of being slower.\n",
    "    '''\n",
    "    U, S, VT = np.linalg.svd(A,full_matrices=True)\n",
    "    print('test U')\n",
    "    print( (np.transpose(U) @ U - U @np.transpose(U)))\n",
    "    print('test VT')\n",
    "    print( (np.transpose(VT) @ VT - VT @np.transpose(VT)))\n",
    "    print(U)\n",
    "    print(S)\n",
    "    print(VT)\n",
    "\n",
    "    D = np.zeros((len(U),len(VT)))\n",
    "    for i in range(0,len(VT)):\n",
    "        D[i,i]=S[i]\n",
    "    return U @ D @ VT\n",
    "\n",
    "\n",
    "X = np.array([ [1.0,-1.0], [1.0,-1.0]])\n",
    "#X = np.array([[1, 2], [3, 4], [5, 6]])\n",
    "\n",
    "print(X)\n",
    "C = SVD(X)\n",
    "# Print the difference between the original matrix and the SVD one\n",
    "print(C-X)"
   ]
  },
  {
   "cell_type": "markdown",
   "id": "4876d7fb",
   "metadata": {},
   "source": [
    "The matrix $\\boldsymbol{X}$ has columns that are linearly dependent. The first\n",
    "column is the row-wise sum of the other two columns. The rank of a\n",
    "matrix (the column rank) is the dimension of space spanned by the\n",
    "column vectors. The rank of the matrix is the number of linearly\n",
    "independent columns, in this case just $2$. We see this from the\n",
    "singular values when running the above code. Running the standard\n",
    "inversion algorithm for matrix inversion with $\\boldsymbol{X}^T\\boldsymbol{X}$ results\n",
    "in the program terminating due to a singular matrix."
   ]
  },
  {
   "cell_type": "markdown",
   "id": "60a1b266",
   "metadata": {},
   "source": [
    "## Note about SVD Calculations\n",
    "\n",
    "The $U$, $S$, and $V$ matrices returned from the **svd()** function\n",
    "cannot be multiplied directly.\n",
    "\n",
    "As you can see from the code, the $S$ vector must be converted into a\n",
    "diagonal matrix. This may cause a problem as the size of the matrices\n",
    "do not fit the rules of matrix multiplication, where the number of\n",
    "columns in a matrix must match the number of rows in the subsequent\n",
    "matrix.\n",
    "\n",
    "If you wish to include the zero singular values, you will need to\n",
    "resize the matrices and set up a diagonal matrix as done in the above\n",
    "example"
   ]
  },
  {
   "cell_type": "markdown",
   "id": "f19eab4b",
   "metadata": {},
   "source": [
    "## Mathematics of the SVD and implications\n",
    "\n",
    "Let us take a closer look at the mathematics of the SVD and the various implications for machine learning studies.\n",
    "\n",
    "Our starting point is our design matrix $\\boldsymbol{X}$ of dimension $n\\times p$"
   ]
  },
  {
   "cell_type": "markdown",
   "id": "d5e735b4",
   "metadata": {},
   "source": [
    "$$\n",
    "\\boldsymbol{X}=\\begin{bmatrix}\n",
    "x_{0,0} & x_{0,1} & x_{0,2}& \\dots & \\dots x_{0,p-1}\\\\\n",
    "x_{1,0} & x_{1,1} & x_{1,2}& \\dots & \\dots x_{1,p-1}\\\\\n",
    "x_{2,0} & x_{2,1} & x_{2,2}& \\dots & \\dots x_{2,p-1}\\\\\n",
    "\\dots & \\dots & \\dots & \\dots \\dots & \\dots \\\\\n",
    "x_{n-2,0} & x_{n-2,1} & x_{n-2,2}& \\dots & \\dots x_{n-2,p-1}\\\\\n",
    "x_{n-1,0} & x_{n-1,1} & x_{n-1,2}& \\dots & \\dots x_{n-1,p-1}\\\\\n",
    "\\end{bmatrix}.\n",
    "$$"
   ]
  },
  {
   "cell_type": "markdown",
   "id": "2911819b",
   "metadata": {},
   "source": [
    "We can SVD decompose our matrix as"
   ]
  },
  {
   "cell_type": "markdown",
   "id": "7e22b8f3",
   "metadata": {},
   "source": [
    "$$\n",
    "\\boldsymbol{X}=\\boldsymbol{U}\\boldsymbol{\\Sigma}\\boldsymbol{V}^T,\n",
    "$$"
   ]
  },
  {
   "cell_type": "markdown",
   "id": "aa21f027",
   "metadata": {},
   "source": [
    "where $\\boldsymbol{U}$ is an orthogonal matrix of dimension $n\\times n$, meaning that $\\boldsymbol{U}\\boldsymbol{U}^T=\\boldsymbol{U}^T\\boldsymbol{U}=\\boldsymbol{I}_n$. Here $\\boldsymbol{I}_n$ is the unit matrix of dimension $n \\times n$.\n",
    "\n",
    "Similarly, $\\boldsymbol{V}$ is an orthogonal matrix of dimension $p\\times p$, meaning that $\\boldsymbol{V}\\boldsymbol{V}^T=\\boldsymbol{V}^T\\boldsymbol{V}=\\boldsymbol{I}_p$. Here $\\boldsymbol{I}_n$ is the unit matrix of dimension $p \\times p$.\n",
    "\n",
    "Finally $\\boldsymbol{\\Sigma}$ contains the singular values $\\sigma_i$. This matrix has dimension $n\\times p$ and the singular values $\\sigma_i$ are all positive. The non-zero values are ordered in descending order, that is"
   ]
  },
  {
   "cell_type": "markdown",
   "id": "0ae64e85",
   "metadata": {},
   "source": [
    "$$\n",
    "\\sigma_0 > \\sigma_1 > \\sigma_2 > \\dots > \\sigma_{p-1} > 0.\n",
    "$$"
   ]
  },
  {
   "cell_type": "markdown",
   "id": "25f04f52",
   "metadata": {},
   "source": [
    "All values beyond $p-1$ are all zero."
   ]
  },
  {
   "cell_type": "markdown",
   "id": "b9507486",
   "metadata": {},
   "source": [
    "## Example Matrix\n",
    "\n",
    "As an example, consider the following $3\\times 2$ example for the matrix $\\boldsymbol{\\Sigma}$"
   ]
  },
  {
   "cell_type": "markdown",
   "id": "a4f09fd9",
   "metadata": {},
   "source": [
    "$$\n",
    "\\boldsymbol{\\Sigma}=\n",
    "\\begin{bmatrix}\n",
    "2& 0 \\\\\n",
    "0 & 1 \\\\\n",
    "0 & 0 \\\\\n",
    "\\end{bmatrix}\n",
    "$$"
   ]
  },
  {
   "cell_type": "markdown",
   "id": "89a4dd64",
   "metadata": {},
   "source": [
    "The singular values are $\\sigma_0=2$ and $\\sigma_1=1$. It is common to rewrite the matrix $\\boldsymbol{\\Sigma}$ as"
   ]
  },
  {
   "cell_type": "markdown",
   "id": "e12c7f1f",
   "metadata": {},
   "source": [
    "$$\n",
    "\\boldsymbol{\\Sigma}=\n",
    "\\begin{bmatrix}\n",
    "\\boldsymbol{\\tilde{\\Sigma}}\\\\\n",
    "\\boldsymbol{0}\\\\\n",
    "\\end{bmatrix},\n",
    "$$"
   ]
  },
  {
   "cell_type": "markdown",
   "id": "ce657a98",
   "metadata": {},
   "source": [
    "where"
   ]
  },
  {
   "cell_type": "markdown",
   "id": "bf65318f",
   "metadata": {},
   "source": [
    "$$\n",
    "\\boldsymbol{\\tilde{\\Sigma}}=\n",
    "\\begin{bmatrix}\n",
    "2& 0 \\\\\n",
    "0 & 1 \\\\\n",
    "\\end{bmatrix},\n",
    "$$"
   ]
  },
  {
   "cell_type": "markdown",
   "id": "ab7198f2",
   "metadata": {},
   "source": [
    "contains only the singular values.   Note also (and we will use this below) that"
   ]
  },
  {
   "cell_type": "markdown",
   "id": "58b82bec",
   "metadata": {},
   "source": [
    "$$\n",
    "\\boldsymbol{\\Sigma}^T\\boldsymbol{\\Sigma}=\n",
    "\\begin{bmatrix}\n",
    "4& 0 \\\\\n",
    "0 & 1 \\\\\n",
    "\\end{bmatrix},\n",
    "$$"
   ]
  },
  {
   "cell_type": "markdown",
   "id": "f92bbe1a",
   "metadata": {},
   "source": [
    "which is a $2\\times 2 $ matrix while"
   ]
  },
  {
   "cell_type": "markdown",
   "id": "36e0b936",
   "metadata": {},
   "source": [
    "$$\n",
    "\\boldsymbol{\\Sigma}\\boldsymbol{\\Sigma}^T=\n",
    "\\begin{bmatrix}\n",
    "4& 0 & 0\\\\\n",
    "0 & 1 & 0\\\\\n",
    "0 & 0 & 0\\\\\n",
    "\\end{bmatrix},\n",
    "$$"
   ]
  },
  {
   "cell_type": "markdown",
   "id": "183f7286",
   "metadata": {},
   "source": [
    "is a $3\\times 3 $ matrix. The last row and column of this last matrix\n",
    "contain only zeros. This will have important consequences for our SVD\n",
    "decomposition of the design matrix."
   ]
  },
  {
   "cell_type": "markdown",
   "id": "df9df90f",
   "metadata": {},
   "source": [
    "## Setting up the Matrix to be inverted\n",
    "\n",
    "The matrix that may cause problems for us is $\\boldsymbol{X}^T\\boldsymbol{X}$. Using the SVD we can rewrite this matrix as"
   ]
  },
  {
   "cell_type": "markdown",
   "id": "c90899a8",
   "metadata": {},
   "source": [
    "$$\n",
    "\\boldsymbol{X}^T\\boldsymbol{X}=\\boldsymbol{V}\\boldsymbol{\\Sigma}^T\\boldsymbol{U}^T\\boldsymbol{U}\\boldsymbol{\\Sigma}\\boldsymbol{V}^T,\n",
    "$$"
   ]
  },
  {
   "cell_type": "markdown",
   "id": "983cdbd6",
   "metadata": {},
   "source": [
    "and using the orthogonality of the matrix $\\boldsymbol{U}$ we have"
   ]
  },
  {
   "cell_type": "markdown",
   "id": "0f436284",
   "metadata": {},
   "source": [
    "$$\n",
    "\\boldsymbol{X}^T\\boldsymbol{X}=\\boldsymbol{V}\\boldsymbol{\\Sigma}^T\\boldsymbol{\\Sigma}\\boldsymbol{V}^T.\n",
    "$$"
   ]
  },
  {
   "cell_type": "markdown",
   "id": "7269e493",
   "metadata": {},
   "source": [
    "We define $\\boldsymbol{\\Sigma}^T\\boldsymbol{\\Sigma}=\\tilde{\\boldsymbol{\\Sigma}}^2$ which is  a diagonal matrix containing only the singular values squared. It has dimensionality $p \\times p$.\n",
    "\n",
    "We can now insert the result for the matrix $\\boldsymbol{X}^T\\boldsymbol{X}$ into our equation for ordinary least squares where"
   ]
  },
  {
   "cell_type": "markdown",
   "id": "21eac5a7",
   "metadata": {},
   "source": [
    "$$\n",
    "\\tilde{y}_{\\mathrm{OLS}}=\\boldsymbol{X}\\left(\\boldsymbol{X}^T\\boldsymbol{X}\\right)^{-1}\\boldsymbol{X}^T\\boldsymbol{y},\n",
    "$$"
   ]
  },
  {
   "cell_type": "markdown",
   "id": "7c9459fd",
   "metadata": {},
   "source": [
    "and using our SVD decomposition of $\\boldsymbol{X}$ we have"
   ]
  },
  {
   "cell_type": "markdown",
   "id": "631bf89c",
   "metadata": {},
   "source": [
    "$$\n",
    "\\tilde{y}_{\\mathrm{OLS}}=\\boldsymbol{U}\\boldsymbol{\\Sigma}\\boldsymbol{V}^T\\left(\\boldsymbol{V}\\tilde{\\boldsymbol{\\Sigma}}^{2}(\\boldsymbol{V}^T\\right)^{-1}\\boldsymbol{V}\\boldsymbol{\\Sigma}^T\\boldsymbol{U}^T\\boldsymbol{y},\n",
    "$$"
   ]
  },
  {
   "cell_type": "markdown",
   "id": "f0e2dabd",
   "metadata": {},
   "source": [
    "which gives us, using the orthogonality of the matrix $\\boldsymbol{V}$,"
   ]
  },
  {
   "cell_type": "markdown",
   "id": "ede39b3f",
   "metadata": {},
   "source": [
    "$$\n",
    "\\tilde{y}_{\\mathrm{OLS}}=\\boldsymbol{U}\\boldsymbol{U}^T\\boldsymbol{y}=\\sum_{i=0}^{p-1}\\boldsymbol{u}_i\\boldsymbol{u}^T_i\\boldsymbol{y},\n",
    "$$"
   ]
  },
  {
   "cell_type": "markdown",
   "id": "7f555ff2",
   "metadata": {},
   "source": [
    "It means that the ordinary least square model (with the optimal\n",
    "parameters) $\\boldsymbol{\\tilde{y}}$, corresponds to an orthogonal\n",
    "transformation of the output (or target) vector $\\boldsymbol{y}$ by the\n",
    "vectors of the matrix $\\boldsymbol{U}$. **Note that the summation ends at**\n",
    "$p-1$, that is $\\boldsymbol{\\tilde{y}}\\ne \\boldsymbol{y}$. We can thus not use the\n",
    "orthogonality relation for the matrix $\\boldsymbol{U}$. This can already be\n",
    "when we multiply the matrices $\\boldsymbol{\\Sigma}^T\\boldsymbol{U}^T$."
   ]
  },
  {
   "cell_type": "markdown",
   "id": "4142188d",
   "metadata": {},
   "source": [
    "## Further properties (important for our analyses later)\n",
    "\n",
    "Let us study again $\\boldsymbol{X}^T\\boldsymbol{X}$ in terms of our SVD,"
   ]
  },
  {
   "cell_type": "markdown",
   "id": "097c9279",
   "metadata": {},
   "source": [
    "$$\n",
    "\\boldsymbol{X}^T\\boldsymbol{X}=\\boldsymbol{V}\\boldsymbol{\\Sigma}^T\\boldsymbol{U}^T\\boldsymbol{U}\\boldsymbol{\\Sigma}\\boldsymbol{V}^T=\\boldsymbol{V}\\boldsymbol{\\Sigma}^T\\boldsymbol{\\Sigma}\\boldsymbol{V}^T.\n",
    "$$"
   ]
  },
  {
   "cell_type": "markdown",
   "id": "b1592a88",
   "metadata": {},
   "source": [
    "If we now multiply from the right with $\\boldsymbol{V}$ (using the orthogonality of $\\boldsymbol{V}$) we get"
   ]
  },
  {
   "cell_type": "markdown",
   "id": "4f07ced0",
   "metadata": {},
   "source": [
    "$$\n",
    "\\left(\\boldsymbol{X}^T\\boldsymbol{X}\\right)\\boldsymbol{V}=\\boldsymbol{V}\\boldsymbol{\\Sigma}^T\\boldsymbol{\\Sigma}.\n",
    "$$"
   ]
  },
  {
   "cell_type": "markdown",
   "id": "d669c781",
   "metadata": {},
   "source": [
    "This means the vectors $\\boldsymbol{v}_i$ of the orthogonal matrix $\\boldsymbol{V}$ are the eigenvectors of the matrix $\\boldsymbol{X}^T\\boldsymbol{X}$\n",
    "with eigenvalues given by the singular values squared, that is"
   ]
  },
  {
   "cell_type": "markdown",
   "id": "e63ecc04",
   "metadata": {},
   "source": [
    "$$\n",
    "\\left(\\boldsymbol{X}^T\\boldsymbol{X}\\right)\\boldsymbol{v}_i=\\boldsymbol{v}_i\\sigma_i^2.\n",
    "$$"
   ]
  },
  {
   "cell_type": "markdown",
   "id": "a2ab776d",
   "metadata": {},
   "source": [
    "Similarly, if we use the SVD decomposition for the matrix $\\boldsymbol{X}\\boldsymbol{X}^T$, we have"
   ]
  },
  {
   "cell_type": "markdown",
   "id": "9fde1543",
   "metadata": {},
   "source": [
    "$$\n",
    "\\boldsymbol{X}\\boldsymbol{X}^T=\\boldsymbol{U}\\boldsymbol{\\Sigma}\\boldsymbol{V}^T\\boldsymbol{V}\\boldsymbol{\\Sigma}^T\\boldsymbol{U}^T=\\boldsymbol{U}\\boldsymbol{\\Sigma}\\boldsymbol{\\Sigma}^T\\boldsymbol{U}^T.\n",
    "$$"
   ]
  },
  {
   "cell_type": "markdown",
   "id": "253cd0ab",
   "metadata": {},
   "source": [
    "If we now multiply from the right with $\\boldsymbol{U}$ (using the orthogonality of $\\boldsymbol{U}$) we get"
   ]
  },
  {
   "cell_type": "markdown",
   "id": "935f5017",
   "metadata": {},
   "source": [
    "$$\n",
    "\\left(\\boldsymbol{X}\\boldsymbol{X}^T\\right)\\boldsymbol{U}=\\boldsymbol{U}\\boldsymbol{\\Sigma}\\boldsymbol{\\Sigma}^T.\n",
    "$$"
   ]
  },
  {
   "cell_type": "markdown",
   "id": "03ac6053",
   "metadata": {},
   "source": [
    "This means the vectors $\\boldsymbol{u}_i$ of the orthogonal matrix $\\boldsymbol{U}$ are the eigenvectors of the matrix $\\boldsymbol{X}\\boldsymbol{X}^T$\n",
    "with eigenvalues given by the singular values squared, that is"
   ]
  },
  {
   "cell_type": "markdown",
   "id": "82e8e71f",
   "metadata": {},
   "source": [
    "$$\n",
    "\\left(\\boldsymbol{X}\\boldsymbol{X}^T\\right)\\boldsymbol{u}_i=\\boldsymbol{u}_i\\sigma_i^2.\n",
    "$$"
   ]
  },
  {
   "cell_type": "markdown",
   "id": "53f7343a",
   "metadata": {},
   "source": [
    "**Important note**: we have defined our design matrix $\\boldsymbol{X}$ to be an\n",
    "$n\\times p$ matrix. In most supervised learning cases we have that $n\n",
    "\\ge p$, and quite often we have $n >> p$. For linear algebra based methods like ordinary least squares or Ridge regression, this leads to a matrix $\\boldsymbol{X}^T\\boldsymbol{X}$ which is small and thereby easier to handle from a computational point of view (in terms of number of floating point operations).\n",
    "\n",
    "In our lectures, the number of columns will\n",
    "always refer to the number of features in our data set, while the\n",
    "number of rows represents the number of data inputs. Note that in\n",
    "other texts you may find the opposite notation. This has consequences\n",
    "for the definition of for example the covariance matrix and its relation to the SVD."
   ]
  },
  {
   "cell_type": "markdown",
   "id": "8e6dd667",
   "metadata": {},
   "source": [
    "## Meet the Covariance Matrix\n",
    "\n",
    "Before we move on to a discussion of Ridge and Lasso regression, we want to show an important example of the above.\n",
    "\n",
    "We have already noted that the matrix $\\boldsymbol{X}^T\\boldsymbol{X}$ in ordinary\n",
    "least squares is proportional to the second derivative of the cost\n",
    "function, that is we have"
   ]
  },
  {
   "cell_type": "markdown",
   "id": "e57b1e19",
   "metadata": {},
   "source": [
    "$$\n",
    "\\frac{\\partial^2 C(\\boldsymbol{\\beta})}{\\partial \\boldsymbol{\\beta}\\partial \\boldsymbol{\\beta}^T} =\\frac{2}{n}\\boldsymbol{X}^T\\boldsymbol{X}.\n",
    "$$"
   ]
  },
  {
   "cell_type": "markdown",
   "id": "431d052c",
   "metadata": {},
   "source": [
    "This quantity defines was what is called the Hessian matrix (the second derivative of a function we want to optimize).\n",
    "\n",
    "The Hessian matrix plays an important role and is defined in this course as"
   ]
  },
  {
   "cell_type": "markdown",
   "id": "bfb5acc9",
   "metadata": {},
   "source": [
    "$$\n",
    "\\boldsymbol{H}=\\boldsymbol{X}^T\\boldsymbol{X}.\n",
    "$$"
   ]
  },
  {
   "cell_type": "markdown",
   "id": "52b1fcc3",
   "metadata": {},
   "source": [
    "The Hessian matrix for ordinary least squares is also proportional to\n",
    "the covariance matrix. This means also that we can use the SVD to find\n",
    "the eigenvalues of the covariance matrix and the Hessian matrix in\n",
    "terms of the singular values.   Let us develop these arguments, as they will play an important role in our machine learning studies."
   ]
  },
  {
   "cell_type": "markdown",
   "id": "c0b02536",
   "metadata": {},
   "source": [
    "## Introducing the Covariance and Correlation functions\n",
    "\n",
    "Before we discuss the link between for example Ridge regression and the singular value decomposition, we need to remind ourselves about\n",
    "the definition of the covariance and the correlation function. These are quantities that play a central role in machine learning methods.\n",
    "\n",
    "Suppose we have defined two vectors\n",
    "$\\hat{x}$ and $\\hat{y}$ with $n$ elements each. The covariance matrix $\\boldsymbol{C}$ is defined as"
   ]
  },
  {
   "cell_type": "markdown",
   "id": "f3b67f67",
   "metadata": {},
   "source": [
    "$$\n",
    "\\boldsymbol{C}[\\boldsymbol{x},\\boldsymbol{y}] = \\begin{bmatrix} \\mathrm{cov}[\\boldsymbol{x},\\boldsymbol{x}] & \\mathrm{cov}[\\boldsymbol{x},\\boldsymbol{y}] \\\\\n",
    "                              \\mathrm{cov}[\\boldsymbol{y},\\boldsymbol{x}] & \\mathrm{cov}[\\boldsymbol{y},\\boldsymbol{y}] \\\\\n",
    "             \\end{bmatrix},\n",
    "$$"
   ]
  },
  {
   "cell_type": "markdown",
   "id": "c4130d0b",
   "metadata": {},
   "source": [
    "where for example"
   ]
  },
  {
   "cell_type": "markdown",
   "id": "926b7b65",
   "metadata": {},
   "source": [
    "$$\n",
    "\\mathrm{cov}[\\boldsymbol{x},\\boldsymbol{y}] =\\frac{1}{n} \\sum_{i=0}^{n-1}(x_i- \\overline{x})(y_i- \\overline{y}).\n",
    "$$"
   ]
  },
  {
   "cell_type": "markdown",
   "id": "4d5eb320",
   "metadata": {},
   "source": [
    "With this definition and recalling that the variance is defined as"
   ]
  },
  {
   "cell_type": "markdown",
   "id": "e0544424",
   "metadata": {},
   "source": [
    "$$\n",
    "\\mathrm{var}[\\boldsymbol{x}]=\\frac{1}{n} \\sum_{i=0}^{n-1}(x_i- \\overline{x})^2,\n",
    "$$"
   ]
  },
  {
   "cell_type": "markdown",
   "id": "422f75af",
   "metadata": {},
   "source": [
    "we can rewrite the covariance matrix as"
   ]
  },
  {
   "cell_type": "markdown",
   "id": "9593498d",
   "metadata": {},
   "source": [
    "$$\n",
    "\\boldsymbol{C}[\\boldsymbol{x},\\boldsymbol{y}] = \\begin{bmatrix} \\mathrm{var}[\\boldsymbol{x}] & \\mathrm{cov}[\\boldsymbol{x},\\boldsymbol{y}] \\\\\n",
    "                              \\mathrm{cov}[\\boldsymbol{x},\\boldsymbol{y}] & \\mathrm{var}[\\boldsymbol{y}] \\\\\n",
    "             \\end{bmatrix}.\n",
    "$$"
   ]
  },
  {
   "cell_type": "markdown",
   "id": "7f13e100",
   "metadata": {},
   "source": [
    "**Note:** we have used $1/n$ in the above definitions of the *sample* variance and covariance. We assume then that we can calculate the exact mean value. \n",
    "What you will find in essentially all statistics texts are equations\n",
    "with a factor $1/(n-1)$. This is called [Bessel's correction](https://mathworld.wolfram.com/BesselsCorrection.html). This\n",
    "method corrects the bias in the estimation of the population variance\n",
    "and covariance. It also partially corrects the bias in the estimation\n",
    "of the population standard deviation. If you use a library like\n",
    "**Scikit-Learn** or **nunmpy's** function to calculate the covariance, this\n",
    "quantity will be computed with a factor $1/(n-1)$."
   ]
  },
  {
   "cell_type": "markdown",
   "id": "9b6613bd",
   "metadata": {},
   "source": [
    "## Covariance and Correlation Matrix\n",
    "\n",
    "The covariance takes values between zero and infinity and may thus\n",
    "lead to problems with loss of numerical precision for particularly\n",
    "large values. It is common to scale the covariance matrix by\n",
    "introducing instead the correlation matrix defined via the so-called\n",
    "correlation function"
   ]
  },
  {
   "cell_type": "markdown",
   "id": "1eeb6559",
   "metadata": {},
   "source": [
    "$$\n",
    "\\mathrm{corr}[\\boldsymbol{x},\\boldsymbol{y}]=\\frac{\\mathrm{cov}[\\boldsymbol{x},\\boldsymbol{y}]}{\\sqrt{\\mathrm{var}[\\boldsymbol{x}] \\mathrm{var}[\\boldsymbol{y}]}}.\n",
    "$$"
   ]
  },
  {
   "cell_type": "markdown",
   "id": "e484d492",
   "metadata": {},
   "source": [
    "The correlation function is then given by values $\\mathrm{corr}[\\boldsymbol{x},\\boldsymbol{y}]\n",
    "\\in [-1,1]$. This avoids eventual problems with too large values. We\n",
    "can then define the correlation matrix for the two vectors $\\boldsymbol{x}$\n",
    "and $\\boldsymbol{y}$ as"
   ]
  },
  {
   "cell_type": "markdown",
   "id": "f5e67ca7",
   "metadata": {},
   "source": [
    "$$\n",
    "\\boldsymbol{K}[\\boldsymbol{x},\\boldsymbol{y}] = \\begin{bmatrix} 1 & \\mathrm{corr}[\\boldsymbol{x},\\boldsymbol{y}] \\\\\n",
    "                              \\mathrm{corr}[\\boldsymbol{y},\\boldsymbol{x}] & 1 \\\\\n",
    "             \\end{bmatrix},\n",
    "$$"
   ]
  },
  {
   "cell_type": "markdown",
   "id": "3ea9bbff",
   "metadata": {},
   "source": [
    "In the above example this is the function we constructed using **pandas**."
   ]
  },
  {
   "cell_type": "markdown",
   "id": "cdf01f7e",
   "metadata": {},
   "source": [
    "## Correlation Function and Design/Feature Matrix\n",
    "\n",
    "In our derivation of the various regression algorithms like **Ordinary Least Squares** or **Ridge regression**\n",
    "we defined the design/feature matrix $\\boldsymbol{X}$ as"
   ]
  },
  {
   "cell_type": "markdown",
   "id": "0ec98540",
   "metadata": {},
   "source": [
    "$$\n",
    "\\boldsymbol{X}=\\begin{bmatrix}\n",
    "x_{0,0} & x_{0,1} & x_{0,2}& \\dots & \\dots x_{0,p-1}\\\\\n",
    "x_{1,0} & x_{1,1} & x_{1,2}& \\dots & \\dots x_{1,p-1}\\\\\n",
    "x_{2,0} & x_{2,1} & x_{2,2}& \\dots & \\dots x_{2,p-1}\\\\\n",
    "\\dots & \\dots & \\dots & \\dots \\dots & \\dots \\\\\n",
    "x_{n-2,0} & x_{n-2,1} & x_{n-2,2}& \\dots & \\dots x_{n-2,p-1}\\\\\n",
    "x_{n-1,0} & x_{n-1,1} & x_{n-1,2}& \\dots & \\dots x_{n-1,p-1}\\\\\n",
    "\\end{bmatrix},\n",
    "$$"
   ]
  },
  {
   "cell_type": "markdown",
   "id": "cc502dc5",
   "metadata": {},
   "source": [
    "with $\\boldsymbol{X}\\in {\\mathbb{R}}^{n\\times p}$, with the predictors/features $p$  refering to the column numbers and the\n",
    "entries $n$ being the row elements.\n",
    "We can rewrite the design/feature matrix in terms of its column vectors as"
   ]
  },
  {
   "cell_type": "markdown",
   "id": "97c54b6b",
   "metadata": {},
   "source": [
    "$$\n",
    "\\boldsymbol{X}=\\begin{bmatrix} \\boldsymbol{x}_0 & \\boldsymbol{x}_1 & \\boldsymbol{x}_2 & \\dots & \\dots & \\boldsymbol{x}_{p-1}\\end{bmatrix},\n",
    "$$"
   ]
  },
  {
   "cell_type": "markdown",
   "id": "af4b9fb5",
   "metadata": {},
   "source": [
    "with a given vector"
   ]
  },
  {
   "cell_type": "markdown",
   "id": "781e1060",
   "metadata": {},
   "source": [
    "$$\n",
    "\\boldsymbol{x}_i^T = \\begin{bmatrix}x_{0,i} & x_{1,i} & x_{2,i}& \\dots & \\dots x_{n-1,i}\\end{bmatrix}.\n",
    "$$"
   ]
  },
  {
   "cell_type": "markdown",
   "id": "975af21b",
   "metadata": {},
   "source": [
    "With these definitions, we can now rewrite our $2\\times 2$\n",
    "correlation/covariance matrix in terms of a moe general design/feature\n",
    "matrix $\\boldsymbol{X}\\in {\\mathbb{R}}^{n\\times p}$. This leads to a $p\\times p$\n",
    "covariance matrix for the vectors $\\boldsymbol{x}_i$ with $i=0,1,\\dots,p-1$"
   ]
  },
  {
   "cell_type": "markdown",
   "id": "e020b717",
   "metadata": {},
   "source": [
    "$$\n",
    "\\boldsymbol{C}[\\boldsymbol{x}] = \\begin{bmatrix}\n",
    "\\mathrm{var}[\\boldsymbol{x}_0] & \\mathrm{cov}[\\boldsymbol{x}_0,\\boldsymbol{x}_1]  & \\mathrm{cov}[\\boldsymbol{x}_0,\\boldsymbol{x}_2] & \\dots & \\dots & \\mathrm{cov}[\\boldsymbol{x}_0,\\boldsymbol{x}_{p-1}]\\\\\n",
    "\\mathrm{cov}[\\boldsymbol{x}_1,\\boldsymbol{x}_0] & \\mathrm{var}[\\boldsymbol{x}_1]  & \\mathrm{cov}[\\boldsymbol{x}_1,\\boldsymbol{x}_2] & \\dots & \\dots & \\mathrm{cov}[\\boldsymbol{x}_1,\\boldsymbol{x}_{p-1}]\\\\\n",
    "\\mathrm{cov}[\\boldsymbol{x}_2,\\boldsymbol{x}_0]   & \\mathrm{cov}[\\boldsymbol{x}_2,\\boldsymbol{x}_1] & \\mathrm{var}[\\boldsymbol{x}_2] & \\dots & \\dots & \\mathrm{cov}[\\boldsymbol{x}_2,\\boldsymbol{x}_{p-1}]\\\\\n",
    "\\dots & \\dots & \\dots & \\dots & \\dots & \\dots \\\\\n",
    "\\dots & \\dots & \\dots & \\dots & \\dots & \\dots \\\\\n",
    "\\mathrm{cov}[\\boldsymbol{x}_{p-1},\\boldsymbol{x}_0]   & \\mathrm{cov}[\\boldsymbol{x}_{p-1},\\boldsymbol{x}_1] & \\mathrm{cov}[\\boldsymbol{x}_{p-1},\\boldsymbol{x}_{2}]  & \\dots & \\dots  & \\mathrm{var}[\\boldsymbol{x}_{p-1}]\\\\\n",
    "\\end{bmatrix},\n",
    "$$"
   ]
  },
  {
   "cell_type": "markdown",
   "id": "71796e08",
   "metadata": {},
   "source": [
    "and the correlation matrix"
   ]
  },
  {
   "cell_type": "markdown",
   "id": "bcf53807",
   "metadata": {},
   "source": [
    "$$\n",
    "\\boldsymbol{K}[\\boldsymbol{x}] = \\begin{bmatrix}\n",
    "1 & \\mathrm{corr}[\\boldsymbol{x}_0,\\boldsymbol{x}_1]  & \\mathrm{corr}[\\boldsymbol{x}_0,\\boldsymbol{x}_2] & \\dots & \\dots & \\mathrm{corr}[\\boldsymbol{x}_0,\\boldsymbol{x}_{p-1}]\\\\\n",
    "\\mathrm{corr}[\\boldsymbol{x}_1,\\boldsymbol{x}_0] & 1  & \\mathrm{corr}[\\boldsymbol{x}_1,\\boldsymbol{x}_2] & \\dots & \\dots & \\mathrm{corr}[\\boldsymbol{x}_1,\\boldsymbol{x}_{p-1}]\\\\\n",
    "\\mathrm{corr}[\\boldsymbol{x}_2,\\boldsymbol{x}_0]   & \\mathrm{corr}[\\boldsymbol{x}_2,\\boldsymbol{x}_1] & 1 & \\dots & \\dots & \\mathrm{corr}[\\boldsymbol{x}_2,\\boldsymbol{x}_{p-1}]\\\\\n",
    "\\dots & \\dots & \\dots & \\dots & \\dots & \\dots \\\\\n",
    "\\dots & \\dots & \\dots & \\dots & \\dots & \\dots \\\\\n",
    "\\mathrm{corr}[\\boldsymbol{x}_{p-1},\\boldsymbol{x}_0]   & \\mathrm{corr}[\\boldsymbol{x}_{p-1},\\boldsymbol{x}_1] & \\mathrm{corr}[\\boldsymbol{x}_{p-1},\\boldsymbol{x}_{2}]  & \\dots & \\dots  & 1\\\\\n",
    "\\end{bmatrix},\n",
    "$$"
   ]
  },
  {
   "cell_type": "markdown",
   "id": "0d110719",
   "metadata": {},
   "source": [
    "## Covariance Matrix Examples\n",
    "\n",
    "The Numpy function **np.cov** calculates the covariance elements using\n",
    "the factor $1/(n-1)$ instead of $1/n$ since it assumes we do not have\n",
    "the exact mean values.  The following simple function uses the\n",
    "**np.vstack** function which takes each vector of dimension $1\\times n$\n",
    "and produces a $2\\times n$ matrix $\\boldsymbol{W}$\n",
    "\n",
    "Note that this assumes you have the features as the rows, and the inputs as columns, that is"
   ]
  },
  {
   "cell_type": "markdown",
   "id": "7bc1b5db",
   "metadata": {},
   "source": [
    "$$\n",
    "\\boldsymbol{W} = \\begin{bmatrix} x_0 & x_1 & x_2 & \\dots & x_{n-2} & x_{n-1} \\\\\n",
    "                     y_0 & y_1 & y_2 & \\dots & y_{n-2} & y_{n-1} \\\\\n",
    "             \\end{bmatrix},\n",
    "$$"
   ]
  },
  {
   "cell_type": "markdown",
   "id": "7fe635ef",
   "metadata": {},
   "source": [
    "which in turn is converted into into the $2\\times 2$ covariance matrix\n",
    "$\\boldsymbol{C}$ via the Numpy function **np.cov()**. We note that we can also calculate\n",
    "the mean value of each set of samples $\\boldsymbol{x}$ etc using the Numpy\n",
    "function **np.mean(x)**. We can also extract the eigenvalues of the\n",
    "covariance matrix through the **np.linalg.eig()** function."
   ]
  },
  {
   "cell_type": "code",
   "execution_count": 16,
   "id": "cde46031",
   "metadata": {},
   "outputs": [],
   "source": [
    "# Importing various packages\n",
    "import numpy as np\n",
    "n = 100\n",
    "x = np.random.normal(size=n)\n",
    "print(np.mean(x))\n",
    "y = 4+3*x+np.random.normal(size=n)\n",
    "print(np.mean(y))\n",
    "W = np.vstack((x, y))\n",
    "C = np.cov(W)\n",
    "print(C)"
   ]
  },
  {
   "cell_type": "markdown",
   "id": "13b2f4b2",
   "metadata": {},
   "source": [
    "## Correlation Matrix\n",
    "\n",
    "The previous example can be converted into the correlation matrix by\n",
    "simply scaling the matrix elements with the variances.  We should also\n",
    "subtract the mean values for each column. This leads to the following\n",
    "code which sets up the correlations matrix for the previous example in\n",
    "a more brute force way. Here we scale the mean values for each column of the design matrix, calculate the relevant mean values and variances and then finally set up the $2\\times 2$ correlation matrix (since we have only two vectors)."
   ]
  },
  {
   "cell_type": "code",
   "execution_count": 17,
   "id": "3b76f958",
   "metadata": {},
   "outputs": [],
   "source": [
    "import numpy as np\n",
    "n = 100\n",
    "# define two vectors                                                                                           \n",
    "x = np.random.random(size=n)\n",
    "y = 4+3*x+np.random.normal(size=n)\n",
    "#scaling the x and y vectors                                                                                   \n",
    "x = x - np.mean(x)\n",
    "y = y - np.mean(y)\n",
    "variance_x = np.sum(x@x)/n\n",
    "variance_y = np.sum(y@y)/n\n",
    "print(variance_x)\n",
    "print(variance_y)\n",
    "cov_xy = np.sum(x@y)/n\n",
    "cov_xx = np.sum(x@x)/n\n",
    "cov_yy = np.sum(y@y)/n\n",
    "C = np.zeros((2,2))\n",
    "C[0,0]= cov_xx/variance_x\n",
    "C[1,1]= cov_yy/variance_y\n",
    "C[0,1]= cov_xy/np.sqrt(variance_y*variance_x)\n",
    "C[1,0]= C[0,1]\n",
    "print(C)"
   ]
  },
  {
   "cell_type": "markdown",
   "id": "41d7f745",
   "metadata": {},
   "source": [
    "We see that the matrix elements along the diagonal are one as they\n",
    "should be and that the matrix is symmetric. Furthermore, diagonalizing\n",
    "this matrix we easily see that it is a positive definite matrix.\n",
    "\n",
    "The above procedure with **numpy** can be made more compact if we use **pandas**."
   ]
  },
  {
   "cell_type": "markdown",
   "id": "e984c719",
   "metadata": {},
   "source": [
    "## Correlation Matrix with Pandas\n",
    "\n",
    "We whow here how we can set up the correlation matrix using **pandas**, as done in this simple code"
   ]
  },
  {
   "cell_type": "code",
   "execution_count": 18,
   "id": "acb65991",
   "metadata": {},
   "outputs": [],
   "source": [
    "import numpy as np\n",
    "import pandas as pd\n",
    "n = 10\n",
    "x = np.random.normal(size=n)\n",
    "x = x - np.mean(x)\n",
    "y = 4+3*x+np.random.normal(size=n)\n",
    "y = y - np.mean(y)\n",
    "# Note that we transpose the matrix in order to stay with our ordering n x p\n",
    "X = (np.vstack((x, y))).T\n",
    "print(X)\n",
    "Xpd = pd.DataFrame(X)\n",
    "print(Xpd)\n",
    "correlation_matrix = Xpd.corr()\n",
    "print(correlation_matrix)"
   ]
  },
  {
   "cell_type": "markdown",
   "id": "6b800aaa",
   "metadata": {},
   "source": [
    "We expand this model to the Franke function discussed above."
   ]
  },
  {
   "cell_type": "markdown",
   "id": "c6ff301f",
   "metadata": {},
   "source": [
    "## Correlation Matrix with Pandas and the Franke function"
   ]
  },
  {
   "cell_type": "code",
   "execution_count": 19,
   "id": "c24073b5",
   "metadata": {},
   "outputs": [],
   "source": [
    "# Common imports\n",
    "import numpy as np\n",
    "import pandas as pd\n",
    "\n",
    "\n",
    "def FrankeFunction(x,y):\n",
    "\tterm1 = 0.75*np.exp(-(0.25*(9*x-2)**2) - 0.25*((9*y-2)**2))\n",
    "\tterm2 = 0.75*np.exp(-((9*x+1)**2)/49.0 - 0.1*(9*y+1))\n",
    "\tterm3 = 0.5*np.exp(-(9*x-7)**2/4.0 - 0.25*((9*y-3)**2))\n",
    "\tterm4 = -0.2*np.exp(-(9*x-4)**2 - (9*y-7)**2)\n",
    "\treturn term1 + term2 + term3 + term4\n",
    "\n",
    "\n",
    "def create_X(x, y, n ):\n",
    "\tif len(x.shape) > 1:\n",
    "\t\tx = np.ravel(x)\n",
    "\t\ty = np.ravel(y)\n",
    "\n",
    "\tN = len(x)\n",
    "\tl = int((n+1)*(n+2)/2)\t\t# Number of elements in beta\n",
    "\tX = np.ones((N,l))\n",
    "\n",
    "\tfor i in range(1,n+1):\n",
    "\t\tq = int((i)*(i+1)/2)\n",
    "\t\tfor k in range(i+1):\n",
    "\t\t\tX[:,q+k] = (x**(i-k))*(y**k)\n",
    "\n",
    "\treturn X\n",
    "\n",
    "\n",
    "# Making meshgrid of datapoints and compute Franke's function\n",
    "n = 4\n",
    "N = 100\n",
    "x = np.sort(np.random.uniform(0, 1, N))\n",
    "y = np.sort(np.random.uniform(0, 1, N))\n",
    "z = FrankeFunction(x, y)\n",
    "X = create_X(x, y, n=n)    \n",
    "\n",
    "Xpd = pd.DataFrame(X)\n",
    "# subtract the mean values and set up the covariance matrix\n",
    "Xpd = Xpd - Xpd.mean()\n",
    "covariance_matrix = Xpd.cov()\n",
    "print(covariance_matrix)"
   ]
  },
  {
   "cell_type": "markdown",
   "id": "7efb5b00",
   "metadata": {},
   "source": [
    "We note here that the covariance is zero for the first rows and\n",
    "columns since all matrix elements in the design matrix were set to one\n",
    "(we are fitting the function in terms of a polynomial of degree $n$).\n",
    "\n",
    "This means that the variance for these elements will be zero and will\n",
    "cause problems when we set up the correlation matrix.  We can simply\n",
    "drop these elements and construct a correlation\n",
    "matrix without these elements."
   ]
  },
  {
   "cell_type": "markdown",
   "id": "bf2bb0dd",
   "metadata": {},
   "source": [
    "## Rewriting the Covariance and/or Correlation Matrix\n",
    "\n",
    "We can rewrite the covariance matrix in a more compact form in terms of the design/feature matrix $\\boldsymbol{X}$ as"
   ]
  },
  {
   "cell_type": "markdown",
   "id": "c6200de6",
   "metadata": {},
   "source": [
    "$$\n",
    "\\boldsymbol{C}[\\boldsymbol{x}] = \\frac{1}{n}\\boldsymbol{X}^T\\boldsymbol{X}= \\mathbb{E}[\\boldsymbol{X}^T\\boldsymbol{X}].\n",
    "$$"
   ]
  },
  {
   "cell_type": "markdown",
   "id": "0b0725eb",
   "metadata": {},
   "source": [
    "To see this let us simply look at a design matrix $\\boldsymbol{X}\\in {\\mathbb{R}}^{2\\times 2}$"
   ]
  },
  {
   "cell_type": "markdown",
   "id": "c84487a4",
   "metadata": {},
   "source": [
    "$$\n",
    "\\boldsymbol{X}=\\begin{bmatrix}\n",
    "x_{00} & x_{01}\\\\\n",
    "x_{10} & x_{11}\\\\\n",
    "\\end{bmatrix}=\\begin{bmatrix}\n",
    "\\boldsymbol{x}_{0} & \\boldsymbol{x}_{1}\\\\\n",
    "\\end{bmatrix}.\n",
    "$$"
   ]
  },
  {
   "cell_type": "markdown",
   "id": "b33a3bb0",
   "metadata": {},
   "source": [
    "If we then compute the expectation value (note the $1/n$ factor instead of $1/(n-1)$)"
   ]
  },
  {
   "cell_type": "markdown",
   "id": "7864a2c5",
   "metadata": {},
   "source": [
    "$$\n",
    "\\mathbb{E}[\\boldsymbol{X}^T\\boldsymbol{X}] = \\frac{1}{n}\\boldsymbol{X}^T\\boldsymbol{X}=\\frac{1}{n}\\begin{bmatrix}\n",
    "x_{00}^2+x_{10}^2 & x_{00}x_{01}+x_{10}x_{11}\\\\\n",
    "x_{01}x_{00}+x_{11}x_{10} & x_{01}^2+x_{11}^2\\\\\n",
    "\\end{bmatrix},\n",
    "$$"
   ]
  },
  {
   "cell_type": "markdown",
   "id": "45f8a421",
   "metadata": {},
   "source": [
    "which is just"
   ]
  },
  {
   "cell_type": "markdown",
   "id": "bb1ed4b2",
   "metadata": {},
   "source": [
    "$$\n",
    "\\boldsymbol{C}[\\boldsymbol{x}_0,\\boldsymbol{x}_1] = \\boldsymbol{C}[\\boldsymbol{x}]=\\begin{bmatrix} \\mathrm{var}[\\boldsymbol{x}_0] & \\mathrm{cov}[\\boldsymbol{x}_0,\\boldsymbol{x}_1] \\\\\n",
    "                              \\mathrm{cov}[\\boldsymbol{x}_1,\\boldsymbol{x}_0] & \\mathrm{var}[\\boldsymbol{x}_1] \\\\\n",
    "             \\end{bmatrix},\n",
    "$$"
   ]
  },
  {
   "cell_type": "markdown",
   "id": "d4953f79",
   "metadata": {},
   "source": [
    "where we wrote $$\\boldsymbol{C}[\\boldsymbol{x}_0,\\boldsymbol{x}_1] = \\boldsymbol{C}[\\boldsymbol{x}]$$ to indicate that this is the covariance of the vectors $\\boldsymbol{x}$ of the design/feature matrix $\\boldsymbol{X}$.\n",
    "\n",
    "It is easy to generalize this to a matrix $\\boldsymbol{X}\\in {\\mathbb{R}}^{n\\times p}$."
   ]
  },
  {
   "cell_type": "markdown",
   "id": "cf7fb557",
   "metadata": {},
   "source": [
    "## Linking with the SVD\n",
    "\n",
    "We saw earlier that"
   ]
  },
  {
   "cell_type": "markdown",
   "id": "97c2518c",
   "metadata": {},
   "source": [
    "$$\n",
    "\\boldsymbol{X}^T\\boldsymbol{X}=\\boldsymbol{V}\\boldsymbol{\\Sigma}^T\\boldsymbol{U}^T\\boldsymbol{U}\\boldsymbol{\\Sigma}\\boldsymbol{V}^T=\\boldsymbol{V}\\boldsymbol{\\Sigma}^T\\boldsymbol{\\Sigma}\\boldsymbol{V}^T.\n",
    "$$"
   ]
  },
  {
   "cell_type": "markdown",
   "id": "2d654a0f",
   "metadata": {},
   "source": [
    "Since the matrices here have dimension $p\\times p$, with $p$ corresponding to the singular values, we defined earlier the matrix"
   ]
  },
  {
   "cell_type": "markdown",
   "id": "4d325cac",
   "metadata": {},
   "source": [
    "$$\n",
    "\\boldsymbol{\\Sigma}^T\\boldsymbol{\\Sigma} = \\begin{bmatrix} \\tilde{\\boldsymbol{\\Sigma}} & \\boldsymbol{0}\\\\ \\end{bmatrix}\\begin{bmatrix} \\tilde{\\boldsymbol{\\Sigma}} \\\\ \\boldsymbol{0}\\\\ \\end{bmatrix},\n",
    "$$"
   ]
  },
  {
   "cell_type": "markdown",
   "id": "b8d4cc1c",
   "metadata": {},
   "source": [
    "where the tilde-matrix $\\tilde{\\boldsymbol{\\Sigma}}$ is a matrix of dimension $p\\times p$ containing only the singular values $\\sigma_i$, that is"
   ]
  },
  {
   "cell_type": "markdown",
   "id": "d4ae3be8",
   "metadata": {},
   "source": [
    "$$\n",
    "\\tilde{\\boldsymbol{\\Sigma}}=\\begin{bmatrix} \\sigma_0 & 0 & 0 & \\dots & 0 & 0 \\\\\n",
    "                                    0 & \\sigma_1 & 0 & \\dots & 0 & 0 \\\\\n",
    "\t\t\t\t    0 & 0 & \\sigma_2 & \\dots & 0 & 0 \\\\\n",
    "\t\t\t\t    0 & 0 & 0 & \\dots & \\sigma_{p-2} & 0 \\\\\n",
    "\t\t\t\t    0 & 0 & 0 & \\dots & 0 & \\sigma_{p-1} \\\\\n",
    "\\end{bmatrix},\n",
    "$$"
   ]
  },
  {
   "cell_type": "markdown",
   "id": "eecc1756",
   "metadata": {},
   "source": [
    "meaning we can write"
   ]
  },
  {
   "cell_type": "markdown",
   "id": "eed91ae9",
   "metadata": {},
   "source": [
    "$$\n",
    "\\boldsymbol{X}^T\\boldsymbol{X}=\\boldsymbol{V}\\tilde{\\boldsymbol{\\Sigma}}^2\\boldsymbol{V}^T.\n",
    "$$"
   ]
  },
  {
   "cell_type": "markdown",
   "id": "add135b7",
   "metadata": {},
   "source": [
    "Multiplying from the right with $\\boldsymbol{V}$ (using the orthogonality of $\\boldsymbol{V}$) we get"
   ]
  },
  {
   "cell_type": "markdown",
   "id": "1b5cd68c",
   "metadata": {},
   "source": [
    "$$\n",
    "\\left(\\boldsymbol{X}^T\\boldsymbol{X}\\right)\\boldsymbol{V}=\\boldsymbol{V}\\tilde{\\boldsymbol{\\Sigma}}^2.\n",
    "$$"
   ]
  },
  {
   "cell_type": "markdown",
   "id": "37574dab",
   "metadata": {},
   "source": [
    "## What does it mean?\n",
    "\n",
    "This means the vectors $\\boldsymbol{v}_i$ of the orthogonal matrix $\\boldsymbol{V}$\n",
    "are the eigenvectors of the matrix $\\boldsymbol{X}^T\\boldsymbol{X}$ with eigenvalues\n",
    "given by the singular values squared, that is"
   ]
  },
  {
   "cell_type": "markdown",
   "id": "f93e4f56",
   "metadata": {},
   "source": [
    "$$\n",
    "\\left(\\boldsymbol{X}^T\\boldsymbol{X}\\right)\\boldsymbol{v}_i=\\boldsymbol{v}_i\\sigma_i^2.\n",
    "$$"
   ]
  },
  {
   "cell_type": "markdown",
   "id": "d029f9dd",
   "metadata": {},
   "source": [
    "In other words, each non-zero singular value of $\\boldsymbol{X}$ is a positive\n",
    "square root of an eigenvalue of $\\boldsymbol{X}^T\\boldsymbol{X}$.  It means also that\n",
    "the columns of $\\boldsymbol{V}$ are the eigenvectors of\n",
    "$\\boldsymbol{X}^T\\boldsymbol{X}$. Since we have ordered the singular values of\n",
    "$\\boldsymbol{X}$ in a descending order, it means that the column vectors\n",
    "$\\boldsymbol{v}_i$ are hierarchically ordered by how much correlation they\n",
    "encode from the columns of $\\boldsymbol{X}$. \n",
    "\n",
    "Note that these are also the eigenvectors and eigenvalues of the\n",
    "Hessian matrix. Note also that the Hessian matrix we are discussing here is from a cost function defined by the  mean squared error only.\n",
    "\n",
    "If we now recall the definition of the covariance matrix (not using\n",
    "Bessel's correction) we have"
   ]
  },
  {
   "cell_type": "markdown",
   "id": "c0b9cede",
   "metadata": {},
   "source": [
    "$$\n",
    "\\boldsymbol{C}[\\boldsymbol{X}]=\\frac{1}{n}\\boldsymbol{X}^T\\boldsymbol{X},\n",
    "$$"
   ]
  },
  {
   "cell_type": "markdown",
   "id": "552c3234",
   "metadata": {},
   "source": [
    "meaning that every squared non-singular value of $\\boldsymbol{X}$ divided by $n$ (\n",
    "the number of samples) are the eigenvalues of the covariance\n",
    "matrix. Every singular value of $\\boldsymbol{X}$ is thus a positive square\n",
    "root of an eigenvalue of $\\boldsymbol{X}^T\\boldsymbol{X}$. If the matrix $\\boldsymbol{X}$ is\n",
    "self-adjoint, the singular values of $\\boldsymbol{X}$ are equal to the\n",
    "absolute value of the eigenvalues of $\\boldsymbol{X}$."
   ]
  },
  {
   "cell_type": "markdown",
   "id": "3fbd26d9",
   "metadata": {},
   "source": [
    "## And finally  $\\boldsymbol{X}\\boldsymbol{X}^T$\n",
    "\n",
    "For $\\boldsymbol{X}\\boldsymbol{X}^T$ we found"
   ]
  },
  {
   "cell_type": "markdown",
   "id": "bd716e28",
   "metadata": {},
   "source": [
    "$$\n",
    "\\boldsymbol{X}\\boldsymbol{X}^T=\\boldsymbol{U}\\boldsymbol{\\Sigma}\\boldsymbol{V}^T\\boldsymbol{V}\\boldsymbol{\\Sigma}^T\\boldsymbol{U}^T=\\boldsymbol{U}\\boldsymbol{\\Sigma}^T\\boldsymbol{\\Sigma}\\boldsymbol{U}^T.\n",
    "$$"
   ]
  },
  {
   "cell_type": "markdown",
   "id": "7bbcf98d",
   "metadata": {},
   "source": [
    "Since the matrices here have dimension $n\\times n$, we have"
   ]
  },
  {
   "cell_type": "markdown",
   "id": "fe830533",
   "metadata": {},
   "source": [
    "$$\n",
    "\\boldsymbol{\\Sigma}\\boldsymbol{\\Sigma}^T = \\begin{bmatrix} \\tilde{\\boldsymbol{\\Sigma}} \\\\ \\boldsymbol{0}\\\\ \\end{bmatrix}\\begin{bmatrix} \\tilde{\\boldsymbol{\\Sigma}}  \\boldsymbol{0}\\\\ \\end{bmatrix}=\\begin{bmatrix} \\tilde{\\boldsymbol{\\Sigma}} & \\boldsymbol{0} \\\\ \\boldsymbol{0} & \\boldsymbol{0}\\\\ \\end{bmatrix},\n",
    "$$"
   ]
  },
  {
   "cell_type": "markdown",
   "id": "8a6ba504",
   "metadata": {},
   "source": [
    "leading to"
   ]
  },
  {
   "cell_type": "markdown",
   "id": "d21aa636",
   "metadata": {},
   "source": [
    "$$\n",
    "\\boldsymbol{X}\\boldsymbol{X}^T=\\boldsymbol{U}\\begin{bmatrix} \\tilde{\\boldsymbol{\\Sigma}} & \\boldsymbol{0} \\\\ \\boldsymbol{0} & \\boldsymbol{0}\\\\ \\end{bmatrix}\\boldsymbol{U}^T.\n",
    "$$"
   ]
  },
  {
   "cell_type": "markdown",
   "id": "94080758",
   "metadata": {},
   "source": [
    "Multiplying with $\\boldsymbol{U}$ from the right gives us the eigenvalue problem"
   ]
  },
  {
   "cell_type": "markdown",
   "id": "7393d0d6",
   "metadata": {},
   "source": [
    "$$\n",
    "(\\boldsymbol{X}\\boldsymbol{X}^T)\\boldsymbol{U}=\\boldsymbol{U}\\begin{bmatrix} \\tilde{\\boldsymbol{\\Sigma}} & \\boldsymbol{0} \\\\ \\boldsymbol{0} & \\boldsymbol{0}\\\\ \\end{bmatrix}.\n",
    "$$"
   ]
  },
  {
   "cell_type": "markdown",
   "id": "5b57e226",
   "metadata": {},
   "source": [
    "It means that the eigenvalues of $\\boldsymbol{X}\\boldsymbol{X}^T$ are again given by\n",
    "the non-zero singular values plus now a series of zeros.  The column\n",
    "vectors of $\\boldsymbol{U}$ are the eigenvectors of $\\boldsymbol{X}\\boldsymbol{X}^T$ and\n",
    "measure how much correlations are contained in the rows of $\\boldsymbol{X}$.\n",
    "\n",
    "Since we will mainly be interested in the correlations among the features\n",
    "of our data (the columns of $\\boldsymbol{X}$, the quantity of interest for us are the non-zero singular\n",
    "values and the column vectors of $\\boldsymbol{V}$."
   ]
  },
  {
   "cell_type": "markdown",
   "id": "908cb642",
   "metadata": {},
   "source": [
    "## Ridge and LASSO Regression\n",
    "\n",
    "Let us remind ourselves about the expression for the standard Mean Squared Error (MSE) which we used to define our cost function and the equations for the ordinary least squares (OLS) method, that is \n",
    "our optimization problem is"
   ]
  },
  {
   "cell_type": "markdown",
   "id": "ea466969",
   "metadata": {},
   "source": [
    "$$\n",
    "{\\displaystyle \\min_{\\boldsymbol{\\beta}\\in {\\mathbb{R}}^{p}}}\\frac{1}{n}\\left\\{\\left(\\boldsymbol{y}-\\boldsymbol{X}\\boldsymbol{\\beta}\\right)^T\\left(\\boldsymbol{y}-\\boldsymbol{X}\\boldsymbol{\\beta}\\right)\\right\\}.\n",
    "$$"
   ]
  },
  {
   "cell_type": "markdown",
   "id": "84aceaf9",
   "metadata": {},
   "source": [
    "or we can state it as"
   ]
  },
  {
   "cell_type": "markdown",
   "id": "e1f62ccc",
   "metadata": {},
   "source": [
    "$$\n",
    "{\\displaystyle \\min_{\\boldsymbol{\\beta}\\in\n",
    "{\\mathbb{R}}^{p}}}\\frac{1}{n}\\sum_{i=0}^{n-1}\\left(y_i-\\tilde{y}_i\\right)^2=\\frac{1}{n}\\vert\\vert \\boldsymbol{y}-\\boldsymbol{X}\\boldsymbol{\\beta}\\vert\\vert_2^2,\n",
    "$$"
   ]
  },
  {
   "cell_type": "markdown",
   "id": "864ec2d0",
   "metadata": {},
   "source": [
    "where we have used the definition of  a norm-2 vector, that is"
   ]
  },
  {
   "cell_type": "markdown",
   "id": "9e98ecef",
   "metadata": {},
   "source": [
    "$$\n",
    "\\vert\\vert \\boldsymbol{x}\\vert\\vert_2 = \\sqrt{\\sum_i x_i^2}.\n",
    "$$"
   ]
  },
  {
   "cell_type": "markdown",
   "id": "fa772655",
   "metadata": {},
   "source": [
    "By minimizing the above equation with respect to the parameters\n",
    "$\\boldsymbol{\\beta}$ we could then obtain an analytical expression for the\n",
    "parameters $\\boldsymbol{\\beta}$.  We can add a regularization parameter $\\lambda$ by\n",
    "defining a new cost function to be optimized, that is"
   ]
  },
  {
   "cell_type": "markdown",
   "id": "4c175716",
   "metadata": {},
   "source": [
    "$$\n",
    "{\\displaystyle \\min_{\\boldsymbol{\\beta}\\in\n",
    "{\\mathbb{R}}^{p}}}\\frac{1}{n}\\vert\\vert \\boldsymbol{y}-\\boldsymbol{X}\\boldsymbol{\\beta}\\vert\\vert_2^2+\\lambda\\vert\\vert \\boldsymbol{\\beta}\\vert\\vert_2^2\n",
    "$$"
   ]
  },
  {
   "cell_type": "markdown",
   "id": "0a717474",
   "metadata": {},
   "source": [
    "which leads to the Ridge regression minimization problem where we\n",
    "require that $\\vert\\vert \\boldsymbol{\\beta}\\vert\\vert_2^2\\le t$, where $t$ is\n",
    "a finite number larger than zero. By defining"
   ]
  },
  {
   "cell_type": "markdown",
   "id": "7a411718",
   "metadata": {},
   "source": [
    "$$\n",
    "C(\\boldsymbol{X},\\boldsymbol{\\beta})=\\frac{1}{n}\\vert\\vert \\boldsymbol{y}-\\boldsymbol{X}\\boldsymbol{\\beta}\\vert\\vert_2^2+\\lambda\\vert\\vert \\boldsymbol{\\beta}\\vert\\vert_1,\n",
    "$$"
   ]
  },
  {
   "cell_type": "markdown",
   "id": "37e0a2d7",
   "metadata": {},
   "source": [
    "we have a new optimization equation"
   ]
  },
  {
   "cell_type": "markdown",
   "id": "332f3492",
   "metadata": {},
   "source": [
    "$$\n",
    "{\\displaystyle \\min_{\\boldsymbol{\\beta}\\in\n",
    "{\\mathbb{R}}^{p}}}\\frac{1}{n}\\vert\\vert \\boldsymbol{y}-\\boldsymbol{X}\\boldsymbol{\\beta}\\vert\\vert_2^2+\\lambda\\vert\\vert \\boldsymbol{\\beta}\\vert\\vert_1\n",
    "$$"
   ]
  },
  {
   "cell_type": "markdown",
   "id": "0c9fccd1",
   "metadata": {},
   "source": [
    "which leads to Lasso regression. Lasso stands for least absolute shrinkage and selection operator. \n",
    "\n",
    "Here we have defined the norm-1 as"
   ]
  },
  {
   "cell_type": "markdown",
   "id": "97f20b29",
   "metadata": {},
   "source": [
    "$$\n",
    "\\vert\\vert \\boldsymbol{x}\\vert\\vert_1 = \\sum_i \\vert x_i\\vert.\n",
    "$$"
   ]
  },
  {
   "cell_type": "markdown",
   "id": "aa95ae99",
   "metadata": {},
   "source": [
    "## Deriving the  Ridge Regression Equations\n",
    "\n",
    "Using the matrix-vector expression for Ridge regression and dropping the parameter $1/n$ in front of the standard means squared error equation, we have"
   ]
  },
  {
   "cell_type": "markdown",
   "id": "75d137ff",
   "metadata": {},
   "source": [
    "$$\n",
    "C(\\boldsymbol{X},\\boldsymbol{\\beta})=\\left\\{(\\boldsymbol{y}-\\boldsymbol{X}\\boldsymbol{\\beta})^T(\\boldsymbol{y}-\\boldsymbol{X}\\boldsymbol{\\beta})\\right\\}+\\lambda\\boldsymbol{\\beta}^T\\boldsymbol{\\beta},\n",
    "$$"
   ]
  },
  {
   "cell_type": "markdown",
   "id": "c4d95105",
   "metadata": {},
   "source": [
    "and \n",
    "taking the derivatives with respect to $\\boldsymbol{\\beta}$ we obtain then\n",
    "a slightly modified matrix inversion problem which for finite values\n",
    "of $\\lambda$ does not suffer from singularity problems. We obtain\n",
    "the optimal parameters"
   ]
  },
  {
   "cell_type": "markdown",
   "id": "dcdc73f6",
   "metadata": {},
   "source": [
    "$$\n",
    "\\hat{\\boldsymbol{\\beta}}_{\\mathrm{Ridge}} = \\left(\\boldsymbol{X}^T\\boldsymbol{X}+\\lambda\\boldsymbol{I}\\right)^{-1}\\boldsymbol{X}^T\\boldsymbol{y},\n",
    "$$"
   ]
  },
  {
   "cell_type": "markdown",
   "id": "72118165",
   "metadata": {},
   "source": [
    "with $\\boldsymbol{I}$ being a $p\\times p$ identity matrix with the constraint that"
   ]
  },
  {
   "cell_type": "markdown",
   "id": "2e5cdc63",
   "metadata": {},
   "source": [
    "$$\n",
    "\\sum_{i=0}^{p-1} \\beta_i^2 \\leq t,\n",
    "$$"
   ]
  },
  {
   "cell_type": "markdown",
   "id": "f68206a9",
   "metadata": {},
   "source": [
    "with $t$ a finite positive number. \n",
    "\n",
    "If we keep the $1/n$ factor, the equation for the optimal $\\beta$ changes to"
   ]
  },
  {
   "cell_type": "markdown",
   "id": "5daca0e9",
   "metadata": {},
   "source": [
    "$$\n",
    "\\hat{\\boldsymbol{\\beta}}_{\\mathrm{Ridge}} = \\left(\\boldsymbol{X}^T\\boldsymbol{X}+n\\lambda\\boldsymbol{I}\\right)^{-1}\\boldsymbol{X}^T\\boldsymbol{y}.\n",
    "$$"
   ]
  },
  {
   "cell_type": "markdown",
   "id": "6a6c67f6",
   "metadata": {},
   "source": [
    "In many textbooks the $1/n$ term is often omitted. Note that a library like **Scikit-Learn** does not include the $1/n$ factor in the setup of the cost function.\n",
    "\n",
    "When we compare this with the ordinary least squares result we have"
   ]
  },
  {
   "cell_type": "markdown",
   "id": "8842c60f",
   "metadata": {},
   "source": [
    "$$\n",
    "\\hat{\\boldsymbol{\\beta}}_{\\mathrm{OLS}} = \\left(\\boldsymbol{X}^T\\boldsymbol{X}\\right)^{-1}\\boldsymbol{X}^T\\boldsymbol{y},\n",
    "$$"
   ]
  },
  {
   "cell_type": "markdown",
   "id": "d84a6f2b",
   "metadata": {},
   "source": [
    "which can lead to singular matrices. However, with the SVD, we can always compute the inverse of the matrix $\\boldsymbol{X}^T\\boldsymbol{X}$.\n",
    "\n",
    "We see that Ridge regression is nothing but the standard OLS with a\n",
    "modified diagonal term added to $\\boldsymbol{X}^T\\boldsymbol{X}$. The consequences, in\n",
    "particular for our discussion of the bias-variance tradeoff are rather\n",
    "interesting. We will see that for specific values of $\\lambda$, we may\n",
    "even reduce the variance of the optimal parameters $\\boldsymbol{\\beta}$. These topics and other related ones, will be discussed after the more linear algebra oriented analysis here.\n",
    "\n",
    "Using our insights about the SVD of the design matrix $\\boldsymbol{X}$ \n",
    "We have already analyzed the OLS solutions in terms of the eigenvectors (the columns) of the right singular value matrix $\\boldsymbol{U}$ as"
   ]
  },
  {
   "cell_type": "markdown",
   "id": "20c11ca3",
   "metadata": {},
   "source": [
    "$$\n",
    "\\tilde{\\boldsymbol{y}}_{\\mathrm{OLS}}=\\boldsymbol{X}\\boldsymbol{\\beta}  =\\boldsymbol{U}\\boldsymbol{U}^T\\boldsymbol{y}.\n",
    "$$"
   ]
  },
  {
   "cell_type": "markdown",
   "id": "2e3e3cf9",
   "metadata": {},
   "source": [
    "For Ridge regression this becomes"
   ]
  },
  {
   "cell_type": "markdown",
   "id": "4a413908",
   "metadata": {},
   "source": [
    "$$\n",
    "\\tilde{\\boldsymbol{y}}_{\\mathrm{Ridge}}=\\boldsymbol{X}\\boldsymbol{\\beta}_{\\mathrm{Ridge}} = \\boldsymbol{U\\Sigma V^T}\\left(\\boldsymbol{V}\\boldsymbol{\\Sigma}^2\\boldsymbol{V}^T+\\lambda\\boldsymbol{I} \\right)^{-1}(\\boldsymbol{U\\Sigma V^T})^T\\boldsymbol{y}=\\sum_{j=0}^{p-1}\\boldsymbol{u}_j\\boldsymbol{u}_j^T\\frac{\\sigma_j^2}{\\sigma_j^2+\\lambda}\\boldsymbol{y},\n",
    "$$"
   ]
  },
  {
   "cell_type": "markdown",
   "id": "69332e69",
   "metadata": {},
   "source": [
    "with the vectors $\\boldsymbol{u}_j$ being the columns of $\\boldsymbol{U}$ from the SVD of the matrix $\\boldsymbol{X}$."
   ]
  },
  {
   "cell_type": "markdown",
   "id": "cda5f635",
   "metadata": {},
   "source": [
    "## Interpreting the Ridge results\n",
    "\n",
    "Since $\\lambda \\geq 0$, it means that compared to OLS, we have"
   ]
  },
  {
   "cell_type": "markdown",
   "id": "0cbb43fa",
   "metadata": {},
   "source": [
    "$$\n",
    "\\frac{\\sigma_j^2}{\\sigma_j^2+\\lambda} \\leq 1.\n",
    "$$"
   ]
  },
  {
   "cell_type": "markdown",
   "id": "5f5f8d8d",
   "metadata": {},
   "source": [
    "Ridge regression finds the coordinates of $\\boldsymbol{y}$ with respect to the\n",
    "orthonormal basis $\\boldsymbol{U}$, it then shrinks the coordinates by\n",
    "$\\frac{\\sigma_j^2}{\\sigma_j^2+\\lambda}$. Recall that the SVD has\n",
    "eigenvalues ordered in a descending way, that is $\\sigma_i \\geq\n",
    "\\sigma_{i+1}$.\n",
    "\n",
    "For small eigenvalues $\\sigma_i$ it means that their contributions become less important, a fact which can be used to reduce the number of degrees of freedom. More about this when we have covered the material on a statistical interpretation of various linear regression methods."
   ]
  },
  {
   "cell_type": "markdown",
   "id": "5a3bd8c2",
   "metadata": {},
   "source": [
    "## More interpretations\n",
    "\n",
    "For the sake of simplicity, let us assume that the design matrix is orthonormal, that is"
   ]
  },
  {
   "cell_type": "markdown",
   "id": "fd0c9a5e",
   "metadata": {},
   "source": [
    "$$\n",
    "\\boldsymbol{X}^T\\boldsymbol{X}=(\\boldsymbol{X}^T\\boldsymbol{X})^{-1} =\\boldsymbol{I}.\n",
    "$$"
   ]
  },
  {
   "cell_type": "markdown",
   "id": "1251007f",
   "metadata": {},
   "source": [
    "In this case the standard OLS results in"
   ]
  },
  {
   "cell_type": "markdown",
   "id": "b6ed7a8f",
   "metadata": {},
   "source": [
    "$$\n",
    "\\boldsymbol{\\beta}^{\\mathrm{OLS}} = \\boldsymbol{X}^T\\boldsymbol{y}=\\sum_{i=0}^{n-1}\\boldsymbol{u}_i\\boldsymbol{u}_i^T\\boldsymbol{y},\n",
    "$$"
   ]
  },
  {
   "cell_type": "markdown",
   "id": "2ac0389a",
   "metadata": {},
   "source": [
    "and"
   ]
  },
  {
   "cell_type": "markdown",
   "id": "bd13cdb1",
   "metadata": {},
   "source": [
    "$$\n",
    "\\boldsymbol{\\beta}^{\\mathrm{Ridge}} = \\left(\\boldsymbol{I}+\\lambda\\boldsymbol{I}\\right)^{-1}\\boldsymbol{X}^T\\boldsymbol{y}=\\left(1+\\lambda\\right)^{-1}\\boldsymbol{\\beta}^{\\mathrm{OLS}},\n",
    "$$"
   ]
  },
  {
   "cell_type": "markdown",
   "id": "e51668ec",
   "metadata": {},
   "source": [
    "that is the Ridge estimator scales the OLS estimator by the inverse of a factor $1+\\lambda$, and\n",
    "the Ridge estimator converges to zero when the hyperparameter goes to\n",
    "infinity.\n",
    "\n",
    "We will come back to more interpreations after we have gone through some of the statistical analysis part. \n",
    "\n",
    "For more discussions of Ridge and Lasso regression, [Wessel van Wieringen's](https://arxiv.org/abs/1509.09169) article is highly recommended.\n",
    "Similarly, [Mehta et al's article](https://arxiv.org/abs/1803.08823) is also recommended."
   ]
  },
  {
   "cell_type": "markdown",
   "id": "b9747ef9",
   "metadata": {},
   "source": [
    "## Deriving the  Lasso Regression Equations\n",
    "\n",
    "Using the matrix-vector expression for Lasso regression, we have the following **cost** function"
   ]
  },
  {
   "cell_type": "markdown",
   "id": "bdcce776",
   "metadata": {},
   "source": [
    "$$\n",
    "C(\\boldsymbol{X},\\boldsymbol{\\beta})=\\frac{1}{n}\\left\\{(\\boldsymbol{y}-\\boldsymbol{X}\\boldsymbol{\\beta})^T(\\boldsymbol{y}-\\boldsymbol{X}\\boldsymbol{\\beta})\\right\\}+\\lambda\\vert\\vert\\boldsymbol{\\beta}\\vert\\vert_1,\n",
    "$$"
   ]
  },
  {
   "cell_type": "markdown",
   "id": "49fc8f41",
   "metadata": {},
   "source": [
    "Taking the derivative with respect to $\\boldsymbol{\\beta}$ and recalling that the derivative of the absolute value is (we drop the boldfaced vector symbol for simplicty)"
   ]
  },
  {
   "cell_type": "markdown",
   "id": "6499d8b0",
   "metadata": {},
   "source": [
    "$$\n",
    "\\frac{d \\vert \\beta\\vert}{d \\beta}=\\mathrm{sgn}(\\beta)=\\left\\{\\begin{array}{cc} 1 & \\beta > 0 \\\\-1 & \\beta < 0, \\end{array}\\right.\n",
    "$$"
   ]
  },
  {
   "cell_type": "markdown",
   "id": "3a5f4cf1",
   "metadata": {},
   "source": [
    "we have that the derivative of the cost function is"
   ]
  },
  {
   "cell_type": "markdown",
   "id": "def20ba0",
   "metadata": {},
   "source": [
    "$$\n",
    "\\frac{\\partial C(\\boldsymbol{X},\\boldsymbol{\\beta})}{\\partial \\boldsymbol{\\beta}}=-\\frac{2}{n}\\boldsymbol{X}^T(\\boldsymbol{y}-\\boldsymbol{X}\\boldsymbol{\\beta})+\\lambda sgn(\\boldsymbol{\\beta})=0,\n",
    "$$"
   ]
  },
  {
   "cell_type": "markdown",
   "id": "b10f7158",
   "metadata": {},
   "source": [
    "and reordering we have"
   ]
  },
  {
   "cell_type": "markdown",
   "id": "cb04be1f",
   "metadata": {},
   "source": [
    "$$\n",
    "\\boldsymbol{X}^T\\boldsymbol{X}\\boldsymbol{\\beta}+\\frac{n}{2}\\lambda sgn(\\boldsymbol{\\beta})=2\\boldsymbol{X}^T\\boldsymbol{y}.\n",
    "$$"
   ]
  },
  {
   "cell_type": "markdown",
   "id": "04c55218",
   "metadata": {},
   "source": [
    "We can redefine $\\lambda$ to absorb the constant $n/2$ and we rewrite the last equation as"
   ]
  },
  {
   "cell_type": "markdown",
   "id": "5bf45a1e",
   "metadata": {},
   "source": [
    "$$\n",
    "\\boldsymbol{X}^T\\boldsymbol{X}\\boldsymbol{\\beta}+\\lambda sgn(\\boldsymbol{\\beta})=2\\boldsymbol{X}^T\\boldsymbol{y}.\n",
    "$$"
   ]
  },
  {
   "cell_type": "markdown",
   "id": "b6e3c60b",
   "metadata": {},
   "source": [
    "This equation does not lead to a nice analytical equation as in either Ridge regression or ordinary least squares. This equation can however be solved by using standard convex optimization algorithms using for example the Python package [CVXOPT](https://cvxopt.org/). We will discuss this later."
   ]
  }
 ],
 "metadata": {
  "kernelspec": {
   "display_name": "Python 3 (ipykernel)",
   "language": "python",
   "name": "python3"
  },
  "language_info": {
   "codemirror_mode": {
    "name": "ipython",
    "version": 3
   },
   "file_extension": ".py",
   "mimetype": "text/x-python",
   "name": "python",
   "nbconvert_exporter": "python",
   "pygments_lexer": "ipython3",
   "version": "3.12.5"
  }
 },
 "nbformat": 4,
 "nbformat_minor": 5
}
