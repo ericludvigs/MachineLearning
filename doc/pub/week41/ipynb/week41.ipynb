{
 "cells": [
  {
   "cell_type": "markdown",
   "id": "5bf96c8a",
   "metadata": {},
   "source": [
    "<!-- HTML file automatically generated from DocOnce source (https://github.com/doconce/doconce/)\n",
    "doconce format html week41.do.txt --no_mako -->\n",
    "<!-- dom:TITLE: Week 41 Neural networks and constructing a neural network code -->"
   ]
  },
  {
   "cell_type": "markdown",
   "id": "e3d91be4",
   "metadata": {},
   "source": [
    "# Week 41 Neural networks and constructing a neural network code\n",
    "**Morten Hjorth-Jensen**, Department of Physics, University of Oslo\n",
    "\n",
    "Date: **Week 41**"
   ]
  },
  {
   "cell_type": "markdown",
   "id": "6ba7a03a",
   "metadata": {},
   "source": [
    "## Plan for week 41, October 7-11"
   ]
  },
  {
   "cell_type": "markdown",
   "id": "e8ee6c3d",
   "metadata": {},
   "source": [
    "## Material for the lecture on Monday October 7, 2024\n",
    "1. Neural Networks, setting up the basic steps, from the simple perceptron model to the multi-layer perceptron model.\n",
    "\n",
    "2. Building our own Feed-forward Neural Network\n",
    "\n",
    "  * Video of lecture notes at <https://youtu.be/pMRUbf9E-gM>\n",
    "\n",
    "  * Whiteboard notes at <https://github.com/CompPhysics/MachineLearning/blob/master/doc/HandWrittenNotes/2024/NotesOctober7.pdf>\n",
    "\n",
    "**Readings and Videos:**\n",
    "\n",
    "1. These lecture notes\n",
    "\n",
    "2. Rashcka et al chapter 11 \n",
    "\n",
    "3. For neural networks we recommend Goodfellow et al chapter 6.\n",
    "\n",
    "a. Neural Networks demystified at <https://www.youtube.com/watch?v=bxe2T-V8XRs&list=PLiaHhY2iBX9hdHaRr6b7XevZtgZRa1PoU&ab_channel=WelchLabs>\n",
    "\n",
    "2. Building Neural Networks from scratch at <https://www.youtube.com/watch?v=Wo5dMEP_BbI&list=PLQVvvaa0QuDcjD5BAw2DxE6OF2tius3V3&ab_channel=sentdex>\n",
    "\n",
    "3. Video on Neural Networks at <https://www.youtube.com/watch?v=CqOfi41LfDw>\n",
    "\n",
    "4. Video on the back propagation algorithm at <https://www.youtube.com/watch?v=Ilg3gGewQ5U>\n",
    "\n",
    "We also  recommend Michael Nielsen's intuitive approach to the neural networks and the universal approximation theorem, see the slides at <http://neuralnetworksanddeeplearning.com/chap4.html>."
   ]
  },
  {
   "cell_type": "markdown",
   "id": "f1d45fb2",
   "metadata": {},
   "source": [
    "## Material for the active learning sessions on Tuesday and Wednesday\n",
    "* Exercise on writing your own stochastic gradient and gradient descent codes. This exercise continues next week with studies of automatic differentiation\n",
    "\n",
    "* One lecture at the beginning of each session on the material from weeks 39 and 40 and how to write your own gradient descent code\n",
    "\n",
    "* Discussion of project 2\n",
    "\n",
    "* Your task before the sessions: revisit the material from weeks 39 and 40 and in particular the material from week 40 on stochastic gradient descent"
   ]
  },
  {
   "cell_type": "markdown",
   "id": "d4e77966",
   "metadata": {},
   "source": [
    "## Lecture Monday  October 7"
   ]
  },
  {
   "cell_type": "markdown",
   "id": "e53c7266",
   "metadata": {},
   "source": [
    "## Introduction to Neural networks\n",
    "\n",
    "Artificial neural networks are computational systems that can learn to\n",
    "perform tasks by considering examples, generally without being\n",
    "programmed with any task-specific rules. It is supposed to mimic a\n",
    "biological system, wherein neurons interact by sending signals in the\n",
    "form of mathematical functions between layers. All layers can contain\n",
    "an arbitrary number of neurons, and each connection is represented by\n",
    "a weight variable."
   ]
  },
  {
   "cell_type": "markdown",
   "id": "bc8b8894",
   "metadata": {},
   "source": [
    "## Artificial neurons\n",
    "\n",
    "The field of artificial neural networks has a long history of\n",
    "development, and is closely connected with the advancement of computer\n",
    "science and computers in general. A model of artificial neurons was\n",
    "first developed by McCulloch and Pitts in 1943 to study signal\n",
    "processing in the brain and has later been refined by others. The\n",
    "general idea is to mimic neural networks in the human brain, which is\n",
    "composed of billions of neurons that communicate with each other by\n",
    "sending electrical signals.  Each neuron accumulates its incoming\n",
    "signals, which must exceed an activation threshold to yield an\n",
    "output. If the threshold is not overcome, the neuron remains inactive,\n",
    "i.e. has zero output.\n",
    "\n",
    "This behaviour has inspired a simple mathematical model for an artificial neuron."
   ]
  },
  {
   "cell_type": "markdown",
   "id": "7822604f",
   "metadata": {},
   "source": [
    "<!-- Equation labels as ordinary links -->\n",
    "<div id=\"artificialNeuron\"></div>\n",
    "\n",
    "$$\n",
    "\\begin{equation}\n",
    " y = f\\left(\\sum_{i=1}^n w_ix_i\\right) = f(u)\n",
    "\\label{artificialNeuron} \\tag{1}\n",
    "\\end{equation}\n",
    "$$"
   ]
  },
  {
   "cell_type": "markdown",
   "id": "e1b48997",
   "metadata": {},
   "source": [
    "Here, the output $y$ of the neuron is the value of its activation function, which have as input\n",
    "a weighted sum of signals $x_i, \\dots ,x_n$ received by $n$ other neurons.\n",
    "\n",
    "Conceptually, it is helpful to divide neural networks into four\n",
    "categories:\n",
    "1. general purpose neural networks for supervised learning,\n",
    "\n",
    "2. neural networks designed specifically for image processing, the most prominent example of this class being Convolutional Neural Networks (CNNs),\n",
    "\n",
    "3. neural networks for sequential data such as Recurrent Neural Networks (RNNs), and\n",
    "\n",
    "4. neural networks for unsupervised learning such as Deep Boltzmann Machines.\n",
    "\n",
    "In natural science, DNNs and CNNs have already found numerous\n",
    "applications. In statistical physics, they have been applied to detect\n",
    "phase transitions in 2D Ising and Potts models, lattice gauge\n",
    "theories, and different phases of polymers, or solving the\n",
    "Navier-Stokes equation in weather forecasting.  Deep learning has also\n",
    "found interesting applications in quantum physics. Various quantum\n",
    "phase transitions can be detected and studied using DNNs and CNNs,\n",
    "topological phases, and even non-equilibrium many-body\n",
    "localization. Representing quantum states as DNNs quantum state\n",
    "tomography are among some of the impressive achievements to reveal the\n",
    "potential of DNNs to facilitate the study of quantum systems.\n",
    "\n",
    "In quantum information theory, it has been shown that one can perform\n",
    "gate decompositions with the help of neural. \n",
    "\n",
    "The applications are not limited to the natural sciences. There is a\n",
    "plethora of applications in essentially all disciplines, from the\n",
    "humanities to life science and medicine."
   ]
  },
  {
   "cell_type": "markdown",
   "id": "17881d26",
   "metadata": {},
   "source": [
    "## Neural network types\n",
    "\n",
    "An artificial neural network (ANN), is a computational model that\n",
    "consists of layers of connected neurons, or nodes or units.  We will\n",
    "refer to these interchangeably as units or nodes, and sometimes as\n",
    "neurons.\n",
    "\n",
    "It is supposed to mimic a biological nervous system by letting each\n",
    "neuron interact with other neurons by sending signals in the form of\n",
    "mathematical functions between layers.  A wide variety of different\n",
    "ANNs have been developed, but most of them consist of an input layer,\n",
    "an output layer and eventual layers in-between, called *hidden\n",
    "layers*. All layers can contain an arbitrary number of nodes, and each\n",
    "connection between two nodes is associated with a weight variable.\n",
    "\n",
    "Neural networks (also called neural nets) are neural-inspired\n",
    "nonlinear models for supervised learning.  As we will see, neural nets\n",
    "can be viewed as natural, more powerful extensions of supervised\n",
    "learning methods such as linear and logistic regression and soft-max\n",
    "methods we discussed earlier."
   ]
  },
  {
   "cell_type": "markdown",
   "id": "64134ea5",
   "metadata": {},
   "source": [
    "## Feed-forward neural networks\n",
    "\n",
    "The feed-forward neural network (FFNN) was the first and simplest type\n",
    "of ANNs that were devised. In this network, the information moves in\n",
    "only one direction: forward through the layers.\n",
    "\n",
    "Nodes are represented by circles, while the arrows display the\n",
    "connections between the nodes, including the direction of information\n",
    "flow. Additionally, each arrow corresponds to a weight variable\n",
    "(figure to come).  We observe that each node in a layer is connected\n",
    "to *all* nodes in the subsequent layer, making this a so-called\n",
    "*fully-connected* FFNN."
   ]
  },
  {
   "cell_type": "markdown",
   "id": "d1b8101c",
   "metadata": {},
   "source": [
    "## Convolutional Neural Network\n",
    "\n",
    "A different variant of FFNNs are *convolutional neural networks*\n",
    "(CNNs), which have a connectivity pattern inspired by the animal\n",
    "visual cortex. Individual neurons in the visual cortex only respond to\n",
    "stimuli from small sub-regions of the visual field, called a receptive\n",
    "field. This makes the neurons well-suited to exploit the strong\n",
    "spatially local correlation present in natural images. The response of\n",
    "each neuron can be approximated mathematically as a convolution\n",
    "operation.  (figure to come)\n",
    "\n",
    "Convolutional neural networks emulate the behaviour of neurons in the\n",
    "visual cortex by enforcing a *local* connectivity pattern between\n",
    "nodes of adjacent layers: Each node in a convolutional layer is\n",
    "connected only to a subset of the nodes in the previous layer, in\n",
    "contrast to the fully-connected FFNN.  Often, CNNs consist of several\n",
    "convolutional layers that learn local features of the input, with a\n",
    "fully-connected layer at the end, which gathers all the local data and\n",
    "produces the outputs. They have wide applications in image and video\n",
    "recognition."
   ]
  },
  {
   "cell_type": "markdown",
   "id": "ee76d630",
   "metadata": {},
   "source": [
    "## Recurrent neural networks\n",
    "\n",
    "So far we have only mentioned ANNs where information flows in one\n",
    "direction: forward. *Recurrent neural networks* on the other hand,\n",
    "have connections between nodes that form directed *cycles*. This\n",
    "creates a form of internal memory which are able to capture\n",
    "information on what has been calculated before; the output is\n",
    "dependent on the previous computations. Recurrent NNs make use of\n",
    "sequential information by performing the same task for every element\n",
    "in a sequence, where each element depends on previous elements. An\n",
    "example of such information is sentences, making recurrent NNs\n",
    "especially well-suited for handwriting and speech recognition."
   ]
  },
  {
   "cell_type": "markdown",
   "id": "77292572",
   "metadata": {},
   "source": [
    "## Other types of networks\n",
    "\n",
    "There are many other kinds of ANNs that have been developed. One type\n",
    "that is specifically designed for interpolation in multidimensional\n",
    "space is the radial basis function (RBF) network. RBFs are typically\n",
    "made up of three layers: an input layer, a hidden layer with\n",
    "non-linear radial symmetric activation functions and a linear output\n",
    "layer (''linear'' here means that each node in the output layer has a\n",
    "linear activation function). The layers are normally fully-connected\n",
    "and there are no cycles, thus RBFs can be viewed as a type of\n",
    "fully-connected FFNN. They are however usually treated as a separate\n",
    "type of NN due the unusual activation functions."
   ]
  },
  {
   "cell_type": "markdown",
   "id": "31229c23",
   "metadata": {},
   "source": [
    "## Multilayer perceptrons\n",
    "\n",
    "One uses often so-called fully-connected feed-forward neural networks\n",
    "with three or more layers (an input layer, one or more hidden layers\n",
    "and an output layer) consisting of neurons that have non-linear\n",
    "activation functions.\n",
    "\n",
    "Such networks are often called *multilayer perceptrons* (MLPs)."
   ]
  },
  {
   "cell_type": "markdown",
   "id": "8ef64a1c",
   "metadata": {},
   "source": [
    "## Why multilayer perceptrons?\n",
    "\n",
    "According to the *Universal approximation theorem*, a feed-forward\n",
    "neural network with just a single hidden layer containing a finite\n",
    "number of neurons can approximate a continuous multidimensional\n",
    "function to arbitrary accuracy, assuming the activation function for\n",
    "the hidden layer is a **non-constant, bounded and\n",
    "monotonically-increasing continuous function**.\n",
    "\n",
    "Note that the requirements on the activation function only applies to\n",
    "the hidden layer, the output nodes are always assumed to be linear, so\n",
    "as to not restrict the range of output values."
   ]
  },
  {
   "cell_type": "markdown",
   "id": "8a05aae8",
   "metadata": {},
   "source": [
    "## Illustration of a single perceptron model and a multi-perceptron model\n",
    "\n",
    "<!-- dom:FIGURE: [figures/nns.png, width=600 frac=0.8]  In a) we show a single perceptron model while in b) we dispay a network with two  hidden layers, an input layer and an output layer. -->\n",
    "<!-- begin figure -->\n",
    "\n",
    "<img src=\"figures/nns.png\" width=\"600\"><p style=\"font-size: 0.9em\"><i>Figure 1: In a) we show a single perceptron model while in b) we dispay a network with two  hidden layers, an input layer and an output layer.</i></p>\n",
    "<!-- end figure -->"
   ]
  },
  {
   "cell_type": "markdown",
   "id": "53553bc4",
   "metadata": {},
   "source": [
    "## Examples of XOR, OR and AND gates\n",
    "\n",
    "Let us first try to fit various gates using standard linear\n",
    "regression. The gates we are thinking of are the classical XOR, OR and\n",
    "AND gates, well-known elements in computer science. The tables here\n",
    "show how we can set up the inputs $x_1$ and $x_2$ in order to yield a\n",
    "specific target $y_i$."
   ]
  },
  {
   "cell_type": "code",
   "execution_count": 1,
   "id": "bd160078",
   "metadata": {},
   "outputs": [],
   "source": [
    "\"\"\"\n",
    "Simple code that tests XOR, OR and AND gates with linear regression\n",
    "\"\"\"\n",
    "\n",
    "import numpy as np\n",
    "# Design matrix\n",
    "X = np.array([ [1, 0, 0], [1, 0, 1], [1, 1, 0],[1, 1, 1]],dtype=np.float64)\n",
    "print(f\"The X.TX  matrix:{X.T @ X}\")\n",
    "Xinv = np.linalg.pinv(X.T @ X)\n",
    "print(f\"The invers of X.TX  matrix:{Xinv}\")\n",
    "\n",
    "# The XOR gate \n",
    "yXOR = np.array( [ 0, 1 ,1, 0])\n",
    "ThetaXOR  = Xinv @ X.T @ yXOR\n",
    "print(f\"The values of theta for the XOR gate:{ThetaXOR}\")\n",
    "print(f\"The linear regression prediction  for the XOR gate:{X @ ThetaXOR}\")\n",
    "\n",
    "\n",
    "# The OR gate \n",
    "yOR = np.array( [ 0, 1 ,1, 1])\n",
    "ThetaOR  = Xinv @ X.T @ yOR\n",
    "print(f\"The values of theta for the OR gate:{ThetaOR}\")\n",
    "print(f\"The linear regression prediction  for the OR gate:{X @ ThetaOR}\")\n",
    "\n",
    "\n",
    "# The OR gate \n",
    "yAND = np.array( [ 0, 0 ,0, 1])\n",
    "ThetaAND  = Xinv @ X.T @ yAND\n",
    "print(f\"The values of theta for the AND gate:{ThetaAND}\")\n",
    "print(f\"The linear regression prediction  for the AND gate:{X @ ThetaAND}\")"
   ]
  },
  {
   "cell_type": "markdown",
   "id": "8dc03535",
   "metadata": {},
   "source": [
    "What is happening here?"
   ]
  },
  {
   "cell_type": "markdown",
   "id": "0f612b2a",
   "metadata": {},
   "source": [
    "## Does Logistic Regression do a better Job?"
   ]
  },
  {
   "cell_type": "code",
   "execution_count": 2,
   "id": "b2c26240",
   "metadata": {},
   "outputs": [],
   "source": [
    "%matplotlib inline\n",
    "\n",
    "\"\"\"\n",
    "Simple code that tests XOR and OR gates with linear regression\n",
    "and logistic regression\n",
    "\"\"\"\n",
    "\n",
    "import matplotlib.pyplot as plt\n",
    "from sklearn.linear_model import LogisticRegression\n",
    "import numpy as np\n",
    "\n",
    "# Design matrix\n",
    "X = np.array([ [1, 0, 0], [1, 0, 1], [1, 1, 0],[1, 1, 1]],dtype=np.float64)\n",
    "print(f\"The X.TX  matrix:{X.T @ X}\")\n",
    "Xinv = np.linalg.pinv(X.T @ X)\n",
    "print(f\"The invers of X.TX  matrix:{Xinv}\")\n",
    "\n",
    "# The XOR gate \n",
    "yXOR = np.array( [ 0, 1 ,1, 0])\n",
    "ThetaXOR  = Xinv @ X.T @ yXOR\n",
    "print(f\"The values of theta for the XOR gate:{ThetaXOR}\")\n",
    "print(f\"The linear regression prediction  for the XOR gate:{X @ ThetaXOR}\")\n",
    "\n",
    "\n",
    "# The OR gate \n",
    "yOR = np.array( [ 0, 1 ,1, 1])\n",
    "ThetaOR  = Xinv @ X.T @ yOR\n",
    "print(f\"The values of theta for the OR gate:{ThetaOR}\")\n",
    "print(f\"The linear regression prediction  for the OR gate:{X @ ThetaOR}\")\n",
    "\n",
    "\n",
    "# The OR gate \n",
    "yAND = np.array( [ 0, 0 ,0, 1])\n",
    "ThetaAND  = Xinv @ X.T @ yAND\n",
    "print(f\"The values of theta for the AND gate:{ThetaAND}\")\n",
    "print(f\"The linear regression prediction  for the AND gate:{X @ ThetaAND}\")\n",
    "\n",
    "# Now we change to logistic regression\n",
    "\n",
    "\n",
    "# Logistic Regression\n",
    "logreg = LogisticRegression()\n",
    "logreg.fit(X, yOR)\n",
    "print(\"Test set accuracy with Logistic Regression for OR gate: {:.2f}\".format(logreg.score(X,yOR)))\n",
    "\n",
    "logreg.fit(X, yXOR)\n",
    "print(\"Test set accuracy with Logistic Regression for XOR gate: {:.2f}\".format(logreg.score(X,yXOR)))\n",
    "\n",
    "\n",
    "logreg.fit(X, yAND)\n",
    "print(\"Test set accuracy with Logistic Regression for AND gate: {:.2f}\".format(logreg.score(X,yAND)))"
   ]
  },
  {
   "cell_type": "markdown",
   "id": "f5dc459e",
   "metadata": {},
   "source": [
    "Not exactly impressive, but somewhat better."
   ]
  },
  {
   "cell_type": "markdown",
   "id": "b2ad997b",
   "metadata": {},
   "source": [
    "## Adding Neural Networks"
   ]
  },
  {
   "cell_type": "code",
   "execution_count": 3,
   "id": "df5c9c62",
   "metadata": {},
   "outputs": [],
   "source": [
    "\n",
    "# and now neural networks with Scikit-Learn and the XOR\n",
    "\n",
    "from sklearn.neural_network import MLPClassifier\n",
    "from sklearn.datasets import make_classification\n",
    "X, yXOR = make_classification(n_samples=100, random_state=1)\n",
    "FFNN = MLPClassifier(random_state=1, max_iter=300).fit(X, yXOR)\n",
    "FFNN.predict_proba(X)\n",
    "print(f\"Test set accuracy with Feed Forward Neural Network  for XOR gate:{FFNN.score(X, yXOR)}\")"
   ]
  },
  {
   "cell_type": "markdown",
   "id": "40a0930e",
   "metadata": {},
   "source": [
    "## Mathematics of deep learning\n",
    "\n",
    "**Two recent books online.**\n",
    "\n",
    "1. [The Modern Mathematics of Deep Learning, by Julius Berner, Philipp Grohs, Gitta Kutyniok, Philipp Petersen](https://arxiv.org/abs/2105.04026), published as [Mathematical Aspects of Deep Learning, pp. 1-111. Cambridge University Press, 2022](https://doi.org/10.1017/9781009025096.002)\n",
    "\n",
    "2. [Mathematical Introduction to Deep Learning: Methods, Implementations, and Theory, Arnulf Jentzen, Benno Kuckuck, Philippe von Wurstemberger](https://doi.org/10.48550/arXiv.2310.20360)"
   ]
  },
  {
   "cell_type": "markdown",
   "id": "decd7409",
   "metadata": {},
   "source": [
    "## Reminder on books with hands-on material and codes\n",
    "* [Sebastian Rashcka et al, Machine learning with Sickit-Learn and PyTorch](https://sebastianraschka.com/blog/2022/ml-pytorch-book.html)"
   ]
  },
  {
   "cell_type": "markdown",
   "id": "e2a4d61c",
   "metadata": {},
   "source": [
    "## Reading recommendations\n",
    "\n",
    "1. Rashkca et al., chapter 11, jupyter-notebook sent separately, from [GitHub](https://github.com/rasbt/machine-learning-book)\n",
    "\n",
    "2. Goodfellow et al, chapter 6 and 7 contain most of the neural network background."
   ]
  },
  {
   "cell_type": "markdown",
   "id": "16723d55",
   "metadata": {},
   "source": [
    "## Mathematics of deep learning and neural networks\n",
    "\n",
    "Neural networks, in its so-called feed-forward form, where each\n",
    "iterations contains a feed-forward stage and a back-propgagation\n",
    "stage, consist of series of affine matrix-matrix and matrix-vector\n",
    "multiplications. The unknown parameters (the so-called biases and\n",
    "weights which deternine the architecture of a neural network), are\n",
    "uptaded iteratively using the so-called back-propagation algorithm.\n",
    "This algorithm corresponds to the so-called reverse mode of \n",
    "automatic differentation."
   ]
  },
  {
   "cell_type": "markdown",
   "id": "902a802b",
   "metadata": {},
   "source": [
    "## Basics of an NN\n",
    "\n",
    "A neural network consists of a series of hidden layers, in addition to\n",
    "the input and output layers.  Each layer $l$ has a set of parameters\n",
    "$\\boldsymbol{\\Theta}^{(l)}=(\\boldsymbol{W}^{(l)},\\boldsymbol{b}^{(l)})$ which are related to the\n",
    "parameters in other layers through a series of affine transformations,\n",
    "for a standard NN these are matrix-matrix and matrix-vector\n",
    "multiplications.  For all layers we will simply use a collective variable $\\boldsymbol{\\Theta}$.\n",
    "\n",
    "It consist of two basic steps:\n",
    "1. a feed forward stage which takes a given input and produces a final output which is compared with the target values through our cost/loss function.\n",
    "\n",
    "2. a back-propagation state where the unknown parameters $\\boldsymbol{\\Theta}$ are updated through the optimization of the their gradients. The expressions for the gradients are obtained via the chain rule, starting from the derivative of the cost/function.\n",
    "\n",
    "These two steps make up one iteration. This iterative process is continued till we reach an eventual stopping criterion."
   ]
  },
  {
   "cell_type": "markdown",
   "id": "fbd06338",
   "metadata": {},
   "source": [
    "## Overarching view of a neural network\n",
    "\n",
    "The architecture of a neural network defines our model. This model\n",
    "aims at describing some function $f(\\boldsymbol{x}$ which represents\n",
    "some final result (outputs or tagrget values) given a specific inpput\n",
    "$\\boldsymbol{x}$. Note that here $\\boldsymbol{y}$ and $\\boldsymbol{x}$ are not limited to be\n",
    "vectors.\n",
    "\n",
    "The architecture consists of\n",
    "1. An input and an output layer where the input layer is defined by the inputs $\\boldsymbol{x}$. The output layer produces the model ouput $\\boldsymbol{\\tilde{y}}$ which is compared with the target value $\\boldsymbol{y}$\n",
    "\n",
    "2. A given number of hidden layers and neurons/nodes/units for each layer (this may vary)\n",
    "\n",
    "3. A given activation function $\\sigma(\\boldsymbol{z})$ with arguments $\\boldsymbol{z}$ to be defined below. The activation functions may differ from layer to layer.\n",
    "\n",
    "4. The last layer, normally called **output** layer has normally an activation function tailored to the specific problem\n",
    "\n",
    "5. Finally we define a so-called cost or loss function which is used to gauge the quality of our model."
   ]
  },
  {
   "cell_type": "markdown",
   "id": "0e9e449b",
   "metadata": {},
   "source": [
    "## The optimization problem\n",
    "\n",
    "The cost function is a function of the unknown parameters\n",
    "$\\boldsymbol{\\Theta}$ where the latter is a container for all possible\n",
    "parameters needed to define a neural network\n",
    "\n",
    "If we are dealing with a regression task a typical cost/loss function\n",
    "is the mean squared error"
   ]
  },
  {
   "cell_type": "markdown",
   "id": "b06ad67d",
   "metadata": {},
   "source": [
    "$$\n",
    "C(\\boldsymbol{\\Theta})=\\frac{1}{n}\\left\\{\\left(\\boldsymbol{y}-\\boldsymbol{X}\\boldsymbol{\\theta}\\right)^T\\left(\\boldsymbol{y}-\\boldsymbol{X}\\boldsymbol{\\theta}\\right)\\right\\}.\n",
    "$$"
   ]
  },
  {
   "cell_type": "markdown",
   "id": "aa068f3c",
   "metadata": {},
   "source": [
    "This function represents one of many possible ways to define\n",
    "the so-called cost function. Note that here we have assumed a linear dependence in terms of the paramters $\\boldsymbol{\\Theta}$. This is in general not the case."
   ]
  },
  {
   "cell_type": "markdown",
   "id": "2977103a",
   "metadata": {},
   "source": [
    "## Parameters of neural networks\n",
    "For neural networks the parameters\n",
    "$\\boldsymbol{\\Theta}$ are given by the so-called weights and biases (to be\n",
    "defined below).\n",
    "\n",
    "The weights are given by matrix elements $w_{ij}^{(l)}$ where the\n",
    "superscript indicates the layer number. The biases are typically given\n",
    "by vector elements representing each single node of a given layer,\n",
    "that is $b_j^{(l)}$."
   ]
  },
  {
   "cell_type": "markdown",
   "id": "3cd55846",
   "metadata": {},
   "source": [
    "## Other ingredients of a neural network\n",
    "\n",
    "Having defined the architecture of a neural network, the optimization\n",
    "of the cost function with respect to the parameters $\\boldsymbol{\\Theta}$,\n",
    "involves the calculations of gradients and their optimization. The\n",
    "gradients represent the derivatives of a multidimensional object and\n",
    "are often approximated by various gradient methods, including\n",
    "1. various quasi-Newton methods,\n",
    "\n",
    "2. plain gradient descent (GD) with a constant learning rate $\\eta$,\n",
    "\n",
    "3. GD with momentum and other approximations to the learning rates such as\n",
    "\n",
    "  * Adapative gradient (ADAgrad)\n",
    "\n",
    "  * Root mean-square propagation (RMSprop)\n",
    "\n",
    "  * Adaptive gradient with momentum (ADAM) and many other\n",
    "\n",
    "4. Stochastic gradient descent and various families of learning rate approximations"
   ]
  },
  {
   "cell_type": "markdown",
   "id": "66def2af",
   "metadata": {},
   "source": [
    "## Other parameters\n",
    "\n",
    "In addition to the above, there are often additional hyperparamaters\n",
    "which are included in the setup of a neural network. These will be\n",
    "discussed below."
   ]
  },
  {
   "cell_type": "markdown",
   "id": "1dfc75e0",
   "metadata": {},
   "source": [
    "## Universal approximation theorem\n",
    "\n",
    "The universal approximation theorem plays a central role in deep\n",
    "learning.  [Cybenko (1989)](https://link.springer.com/article/10.1007/BF02551274) showed\n",
    "the following:\n",
    "\n",
    "Let $\\sigma$ be any continuous sigmoidal function such that"
   ]
  },
  {
   "cell_type": "markdown",
   "id": "db4ec583",
   "metadata": {},
   "source": [
    "$$\n",
    "\\sigma(z) = \\left\\{\\begin{array}{cc} 1 & z\\rightarrow \\infty\\\\ 0 & z \\rightarrow -\\infty \\end{array}\\right.\n",
    "$$"
   ]
  },
  {
   "cell_type": "markdown",
   "id": "e6b6f0e5",
   "metadata": {},
   "source": [
    "Given a continuous and deterministic function $F(\\boldsymbol{x})$ on the unit\n",
    "cube in $d$-dimensions $F\\in [0,1]^d$, $x\\in [0,1]^d$ and a parameter\n",
    "$\\epsilon >0$, there is a one-layer (hidden) neural network\n",
    "$f(\\boldsymbol{x};\\boldsymbol{\\Theta})$ with $\\boldsymbol{\\Theta}=(\\boldsymbol{W},\\boldsymbol{b})$ and $\\boldsymbol{W}\\in\n",
    "\\mathbb{R}^{m\\times n}$ and $\\boldsymbol{b}\\in \\mathbb{R}^{n}$, for which"
   ]
  },
  {
   "cell_type": "markdown",
   "id": "82c4e644",
   "metadata": {},
   "source": [
    "$$\n",
    "\\vert F(\\boldsymbol{x})-f(\\boldsymbol{x};\\boldsymbol{\\Theta})\\vert < \\epsilon \\hspace{0.1cm} \\forall \\boldsymbol{x}\\in[0,1]^d.\n",
    "$$"
   ]
  },
  {
   "cell_type": "markdown",
   "id": "4d8b622d",
   "metadata": {},
   "source": [
    "## Some parallels from real analysis\n",
    "\n",
    "For those of you familiar with for example the [Stone-Weierstrass\n",
    "theorem](https://en.wikipedia.org/wiki/Stone%E2%80%93Weierstrass_theorem)\n",
    "for polynomial approximations or the convergence criterion for Fourier\n",
    "series, there are similarities in the derivation of the proof for\n",
    "neural networks."
   ]
  },
  {
   "cell_type": "markdown",
   "id": "8d93823d",
   "metadata": {},
   "source": [
    "## The approximation theorem in words\n",
    "\n",
    "**Any continuous function $y=F(\\boldsymbol{x})$ supported on the unit cube in\n",
    "$d$-dimensions can be approximated by a one-layer sigmoidal network to\n",
    "arbitrary accuracy.**\n",
    "\n",
    "[Hornik (1991)](https://www.sciencedirect.com/science/article/abs/pii/089360809190009T) extended the theorem by letting any non-constant, bounded activation function to be included using that the expectation value"
   ]
  },
  {
   "cell_type": "markdown",
   "id": "087fd46d",
   "metadata": {},
   "source": [
    "$$\n",
    "\\mathbb{E}[\\vert F(\\boldsymbol{x})\\vert^2] =\\int_{\\boldsymbol{x}\\in D} \\vert F(\\boldsymbol{x})\\vert^2p(\\boldsymbol{x})d\\boldsymbol{x} < \\infty.\n",
    "$$"
   ]
  },
  {
   "cell_type": "markdown",
   "id": "7547efaa",
   "metadata": {},
   "source": [
    "Then we have"
   ]
  },
  {
   "cell_type": "markdown",
   "id": "65071f00",
   "metadata": {},
   "source": [
    "$$\n",
    "\\mathbb{E}[\\vert F(\\boldsymbol{x})-f(\\boldsymbol{x};\\boldsymbol{\\Theta})\\vert^2] =\\int_{\\boldsymbol{x}\\in D} \\vert F(\\boldsymbol{x})-f(\\boldsymbol{x};\\boldsymbol{\\Theta})\\vert^2p(\\boldsymbol{x})d\\boldsymbol{x} < \\epsilon.\n",
    "$$"
   ]
  },
  {
   "cell_type": "markdown",
   "id": "7a8ecd20",
   "metadata": {},
   "source": [
    "## More on the general approximation theorem\n",
    "\n",
    "None of the proofs give any insight into the relation between the\n",
    "number of of hidden layers and nodes and the approximation error\n",
    "$\\epsilon$, nor the magnitudes of $\\boldsymbol{W}$ and $\\boldsymbol{b}$.\n",
    "\n",
    "Neural networks (NNs) have what we may call a kind of universality no matter what function we want to compute.\n",
    "\n",
    "It does not mean that an NN can be used to exactly compute any function. Rather, we get an approximation that is as good as we want."
   ]
  },
  {
   "cell_type": "markdown",
   "id": "41ed53e6",
   "metadata": {},
   "source": [
    "## Class of functions we can approximate\n",
    "\n",
    "The class of functions that can be approximated are the continuous ones.\n",
    "If the function $F(\\boldsymbol{x})$ is discontinuous, it won't in general be possible to approximate it. However, an NN may still give an approximation even if we fail in some points."
   ]
  },
  {
   "cell_type": "markdown",
   "id": "2b83edda",
   "metadata": {},
   "source": [
    "## Setting up the equations for a neural network\n",
    "\n",
    "The questions we want to ask are how do changes in the biases and the\n",
    "weights in our network change the cost function and how can we use the\n",
    "final output to modify the weights and biases?\n",
    "\n",
    "To derive these equations let us start with a plain regression problem\n",
    "and define our cost function as"
   ]
  },
  {
   "cell_type": "markdown",
   "id": "d27eb1c2",
   "metadata": {},
   "source": [
    "$$\n",
    "{\\cal C}(\\boldsymbol{\\Theta})  =  \\frac{1}{2}\\sum_{i=1}^n\\left(y_i - \\tilde{y}_i\\right)^2,\n",
    "$$"
   ]
  },
  {
   "cell_type": "markdown",
   "id": "f83f5909",
   "metadata": {},
   "source": [
    "where the $y_i$s are our $n$ targets (the values we want to\n",
    "reproduce), while the outputs of the network after having propagated\n",
    "all inputs $\\boldsymbol{x}$ are given by $\\boldsymbol{\\tilde{y}}_i$."
   ]
  },
  {
   "cell_type": "markdown",
   "id": "693f1f94",
   "metadata": {},
   "source": [
    "## Layout of a neural network with three hidden layers\n",
    "\n",
    "<!-- dom:FIGURE: [figures/nn1.png, width=900 frac=1.0] -->\n",
    "<!-- begin figure -->\n",
    "\n",
    "<img src=\"figures/nn1.png\" width=\"900\"><p style=\"font-size: 0.9em\"><i>Figure 1: </i></p>\n",
    "<!-- end figure -->"
   ]
  },
  {
   "cell_type": "markdown",
   "id": "c4473918",
   "metadata": {},
   "source": [
    "## Definitions\n",
    "\n",
    "With our definition of the targets $\\boldsymbol{y}$, the outputs of the\n",
    "network $\\boldsymbol{\\tilde{y}}$ and the inputs $\\boldsymbol{x}$ we\n",
    "define now the activation $z_j^l$ of node/neuron/unit $j$ of the\n",
    "$l$-th layer as a function of the bias, the weights which add up from\n",
    "the previous layer $l-1$ and the forward passes/outputs\n",
    "$\\hat{a}^{l-1}$ from the previous layer as"
   ]
  },
  {
   "cell_type": "markdown",
   "id": "80c49202",
   "metadata": {},
   "source": [
    "$$\n",
    "z_j^l = \\sum_{i=1}^{M_{l-1}}w_{ij}^la_i^{l-1}+b_j^l,\n",
    "$$"
   ]
  },
  {
   "cell_type": "markdown",
   "id": "b95ea794",
   "metadata": {},
   "source": [
    "where $b_k^l$ are the biases from layer $l$.  Here $M_{l-1}$\n",
    "represents the total number of nodes/neurons/units of layer $l-1$. The\n",
    "figure in the whiteboard notes illustrates this equation.  We can rewrite this in a more\n",
    "compact form as the matrix-vector products we discussed earlier,"
   ]
  },
  {
   "cell_type": "markdown",
   "id": "7468be96",
   "metadata": {},
   "source": [
    "$$\n",
    "\\hat{z}^l = \\left(\\hat{W}^l\\right)^T\\hat{a}^{l-1}+\\hat{b}^l.\n",
    "$$"
   ]
  },
  {
   "cell_type": "markdown",
   "id": "82d9ddc5",
   "metadata": {},
   "source": [
    "## Inputs to the activation function\n",
    "\n",
    "With the activation values $\\boldsymbol{z}^l$ we can in turn define the\n",
    "output of layer $l$ as $\\boldsymbol{a}^l = f(\\boldsymbol{z}^l)$ where $f$ is our\n",
    "activation function. In the examples here we will use the sigmoid\n",
    "function discussed in our logistic regression lectures. We will also use the same activation function $f$ for all layers\n",
    "and their nodes.  It means we have"
   ]
  },
  {
   "cell_type": "markdown",
   "id": "611a8aaf",
   "metadata": {},
   "source": [
    "$$\n",
    "a_j^l = \\sigma(z_j^l) = \\frac{1}{1+\\exp{-(z_j^l)}}.\n",
    "$$"
   ]
  },
  {
   "cell_type": "markdown",
   "id": "adfdba0b",
   "metadata": {},
   "source": [
    "## Derivatives and the chain rule\n",
    "\n",
    "From the definition of the activation $z_j^l$ we have"
   ]
  },
  {
   "cell_type": "markdown",
   "id": "6b23deb7",
   "metadata": {},
   "source": [
    "$$\n",
    "\\frac{\\partial z_j^l}{\\partial w_{ij}^l} = a_i^{l-1},\n",
    "$$"
   ]
  },
  {
   "cell_type": "markdown",
   "id": "3dbf8b63",
   "metadata": {},
   "source": [
    "and"
   ]
  },
  {
   "cell_type": "markdown",
   "id": "b3228dee",
   "metadata": {},
   "source": [
    "$$\n",
    "\\frac{\\partial z_j^l}{\\partial a_i^{l-1}} = w_{ji}^l.\n",
    "$$"
   ]
  },
  {
   "cell_type": "markdown",
   "id": "52be372b",
   "metadata": {},
   "source": [
    "With our definition of the activation function we have that (note that this function depends only on $z_j^l$)"
   ]
  },
  {
   "cell_type": "markdown",
   "id": "8e1cfc96",
   "metadata": {},
   "source": [
    "$$\n",
    "\\frac{\\partial a_j^l}{\\partial z_j^{l}} = a_j^l(1-a_j^l)=\\sigma(z_j^l)(1-\\sigma(z_j^l)).\n",
    "$$"
   ]
  },
  {
   "cell_type": "markdown",
   "id": "79b3ab6b",
   "metadata": {},
   "source": [
    "## Derivative of the cost function\n",
    "\n",
    "With these definitions we can now compute the derivative of the cost function in terms of the weights.\n",
    "\n",
    "Let us specialize to the output layer $l=L$. Our cost function is"
   ]
  },
  {
   "cell_type": "markdown",
   "id": "4541109b",
   "metadata": {},
   "source": [
    "$$\n",
    "{\\cal C}(\\boldsymbol{\\Theta}^L)  =  \\frac{1}{2}\\sum_{i=1}^n\\left(y_i - \\tilde{y}_i\\right)^2=\\frac{1}{2}\\sum_{i=1}^n\\left(a_i^L - y_i\\right)^2,\n",
    "$$"
   ]
  },
  {
   "cell_type": "markdown",
   "id": "ada15490",
   "metadata": {},
   "source": [
    "The derivative of this function with respect to the weights is"
   ]
  },
  {
   "cell_type": "markdown",
   "id": "ef1846b1",
   "metadata": {},
   "source": [
    "$$\n",
    "\\frac{\\partial{\\cal C}(\\boldsymbol{\\Theta}^L)}{\\partial w_{jk}^L}  =  \\left(a_j^L - y_j\\right)\\frac{\\partial a_j^L}{\\partial w_{jk}^{L}},\n",
    "$$"
   ]
  },
  {
   "cell_type": "markdown",
   "id": "2bcae885",
   "metadata": {},
   "source": [
    "The last partial derivative can easily be computed and reads (by applying the chain rule)"
   ]
  },
  {
   "cell_type": "markdown",
   "id": "14438533",
   "metadata": {},
   "source": [
    "$$\n",
    "\\frac{\\partial a_j^L}{\\partial w_{jk}^{L}} = \\frac{\\partial a_j^L}{\\partial z_{j}^{L}}\\frac{\\partial z_j^L}{\\partial w_{jk}^{L}}=a_j^L(1-a_j^L)a_k^{L-1}.\n",
    "$$"
   ]
  },
  {
   "cell_type": "markdown",
   "id": "1ea04dc6",
   "metadata": {},
   "source": [
    "## Simpler examples first, and automatic differentiation\n",
    "\n",
    "In order to understand the back propagation algorithm and its\n",
    "derivation (an implementation of the chain rule), let us first digress\n",
    "with some simple examples. These examples are also meant to motivate\n",
    "the link with back propagation and [automatic differentiation](https://en.wikipedia.org/wiki/Automatic_differentiation)."
   ]
  },
  {
   "cell_type": "markdown",
   "id": "2c1d3d23",
   "metadata": {},
   "source": [
    "## Reminder on the chain rule and gradients\n",
    "\n",
    "If we have a multivariate function $f(x,y)$ where $x=x(t)$ and $y=y(t)$ are functions of a variable $t$, we have that the gradient of $f$ with respect to $t$ (without the explicit unit vector components)"
   ]
  },
  {
   "cell_type": "markdown",
   "id": "0a784486",
   "metadata": {},
   "source": [
    "$$\n",
    "\\frac{df}{dt} = \\begin{bmatrix}\\frac{\\partial f}{\\partial x} & \\frac{\\partial f}{\\partial y} \\end{bmatrix} \\begin{bmatrix}\\frac{\\partial x}{\\partial t} \\\\ \\frac{\\partial y}{\\partial t} \\end{bmatrix}=\\frac{\\partial f}{\\partial x} \\frac{\\partial x}{\\partial t} +\\frac{\\partial f}{\\partial y} \\frac{\\partial y}{\\partial t}.\n",
    "$$"
   ]
  },
  {
   "cell_type": "markdown",
   "id": "91a6fac4",
   "metadata": {},
   "source": [
    "## Multivariable functions\n",
    "\n",
    "If we have a multivariate function $f(x,y)$ where $x=x(t,s)$ and $y=y(t,s)$ are functions of the variables $t$ and $s$, we have that the partial derivatives"
   ]
  },
  {
   "cell_type": "markdown",
   "id": "64245345",
   "metadata": {},
   "source": [
    "$$\n",
    "\\frac{\\partial f}{\\partial s}=\\frac{\\partial f}{\\partial x}\\frac{\\partial x}{\\partial s}+\\frac{\\partial f}{\\partial y}\\frac{\\partial y}{\\partial s},\n",
    "$$"
   ]
  },
  {
   "cell_type": "markdown",
   "id": "8f42f6ef",
   "metadata": {},
   "source": [
    "and"
   ]
  },
  {
   "cell_type": "markdown",
   "id": "23f3f62a",
   "metadata": {},
   "source": [
    "$$\n",
    "\\frac{\\partial f}{\\partial t}=\\frac{\\partial f}{\\partial x}\\frac{\\partial x}{\\partial t}+\\frac{\\partial f}{\\partial y}\\frac{\\partial y}{\\partial t}.\n",
    "$$"
   ]
  },
  {
   "cell_type": "markdown",
   "id": "31db67ce",
   "metadata": {},
   "source": [
    "the gradient of $f$ with respect to $t$ and $s$ (without the explicit unit vector components)"
   ]
  },
  {
   "cell_type": "markdown",
   "id": "54f91226",
   "metadata": {},
   "source": [
    "$$\n",
    "\\frac{df}{d(s,t)} = \\begin{bmatrix}\\frac{\\partial f}{\\partial x} & \\frac{\\partial f}{\\partial y} \\end{bmatrix} \\begin{bmatrix}\\frac{\\partial x}{\\partial s}  &\\frac{\\partial x}{\\partial t} \\\\ \\frac{\\partial y}{\\partial s} & \\frac{\\partial y}{\\partial t} \\end{bmatrix}.\n",
    "$$"
   ]
  },
  {
   "cell_type": "markdown",
   "id": "551bf4e9",
   "metadata": {},
   "source": [
    "## Automatic differentiation through examples\n",
    "\n",
    "A great introduction to automatic differentiation is given by Baydin et al., see <https://arxiv.org/abs/1502.05767>.\n",
    "\n",
    "Automatic differentiation is a represented by a repeated application\n",
    "of the chain rule on well-known functions and allows for the\n",
    "calculation of derivatives to numerical precision. It is not the same\n",
    "as the calculation of symbolic derivatives via for example SymPy, nor\n",
    "does it use approximative formulae based on Taylor-expansions of a\n",
    "function around a given value. The latter are error prone due to\n",
    "truncation errors and values of the step size $\\Delta$."
   ]
  },
  {
   "cell_type": "markdown",
   "id": "1d4117b4",
   "metadata": {},
   "source": [
    "## Simple example\n",
    "\n",
    "Our first example is rather simple,"
   ]
  },
  {
   "cell_type": "markdown",
   "id": "402669ea",
   "metadata": {},
   "source": [
    "$$\n",
    "f(x) =\\exp{x^2},\n",
    "$$"
   ]
  },
  {
   "cell_type": "markdown",
   "id": "ec119701",
   "metadata": {},
   "source": [
    "with derivative"
   ]
  },
  {
   "cell_type": "markdown",
   "id": "bcb30e6f",
   "metadata": {},
   "source": [
    "$$\n",
    "f'(x) =2x\\exp{x^2}.\n",
    "$$"
   ]
  },
  {
   "cell_type": "markdown",
   "id": "2a7acb6e",
   "metadata": {},
   "source": [
    "We can use SymPy to extract the pertinent lines of Python code through the following simple example"
   ]
  },
  {
   "cell_type": "code",
   "execution_count": 4,
   "id": "044e79d9",
   "metadata": {},
   "outputs": [],
   "source": [
    "from __future__ import division\n",
    "from sympy import *\n",
    "x = symbols('x')\n",
    "expr = exp(x*x)\n",
    "simplify(expr)\n",
    "derivative = diff(expr,x)\n",
    "print(python(expr))\n",
    "print(python(derivative))"
   ]
  },
  {
   "cell_type": "markdown",
   "id": "1c3cb722",
   "metadata": {},
   "source": [
    "## Smarter way of evaluating the above function\n",
    "If we study this function, we note that we can reduce the number of operations by introducing an intermediate variable"
   ]
  },
  {
   "cell_type": "markdown",
   "id": "808a017a",
   "metadata": {},
   "source": [
    "$$\n",
    "a = x^2,\n",
    "$$"
   ]
  },
  {
   "cell_type": "markdown",
   "id": "2330f35c",
   "metadata": {},
   "source": [
    "leading to"
   ]
  },
  {
   "cell_type": "markdown",
   "id": "c0b17b83",
   "metadata": {},
   "source": [
    "$$\n",
    "f(x) = f(a(x)) = b= \\exp{a}.\n",
    "$$"
   ]
  },
  {
   "cell_type": "markdown",
   "id": "9129586e",
   "metadata": {},
   "source": [
    "We now assume that all operations can be counted in terms of equal\n",
    "floating point operations. This means that in order to calculate\n",
    "$f(x)$ we need first to square $x$ and then compute the exponential. We\n",
    "have thus two floating point operations only."
   ]
  },
  {
   "cell_type": "markdown",
   "id": "83209806",
   "metadata": {},
   "source": [
    "## Reducing the number of operations\n",
    "\n",
    "With the introduction of a precalculated quantity $a$ and thereby $f(x)$ we have that the derivative can be written as"
   ]
  },
  {
   "cell_type": "markdown",
   "id": "1e04f023",
   "metadata": {},
   "source": [
    "$$\n",
    "f'(x) = 2xb,\n",
    "$$"
   ]
  },
  {
   "cell_type": "markdown",
   "id": "4015de5c",
   "metadata": {},
   "source": [
    "which reduces the number of operations from four in the orginal\n",
    "expression to two. This means that if we need to compute $f(x)$ and\n",
    "its derivative (a common task in optimizations), we have reduced the\n",
    "number of operations from six to four in total.\n",
    "\n",
    "**Note** that the usage of a symbolic software like SymPy does not\n",
    "include such simplifications and the calculations of the function and\n",
    "the derivatives yield in general more floating point operations."
   ]
  },
  {
   "cell_type": "markdown",
   "id": "cfd489e0",
   "metadata": {},
   "source": [
    "## Chain rule, forward and reverse modes\n",
    "\n",
    "In the above example we have introduced the variables $a$ and $b$, and our function is"
   ]
  },
  {
   "cell_type": "markdown",
   "id": "abcfa23a",
   "metadata": {},
   "source": [
    "$$\n",
    "f(x) = f(a(x)) = b= \\exp{a},\n",
    "$$"
   ]
  },
  {
   "cell_type": "markdown",
   "id": "67bcaa0e",
   "metadata": {},
   "source": [
    "with $a=x^2$. We can decompose the derivative of $f$ with respect to $x$ as"
   ]
  },
  {
   "cell_type": "markdown",
   "id": "d4e12796",
   "metadata": {},
   "source": [
    "$$\n",
    "\\frac{df}{dx}=\\frac{df}{db}\\frac{db}{da}\\frac{da}{dx}.\n",
    "$$"
   ]
  },
  {
   "cell_type": "markdown",
   "id": "e74eed87",
   "metadata": {},
   "source": [
    "We note that since $b=f(x)$ that"
   ]
  },
  {
   "cell_type": "markdown",
   "id": "5b626985",
   "metadata": {},
   "source": [
    "$$\n",
    "\\frac{df}{db}=1,\n",
    "$$"
   ]
  },
  {
   "cell_type": "markdown",
   "id": "4b91e7a2",
   "metadata": {},
   "source": [
    "leading to"
   ]
  },
  {
   "cell_type": "markdown",
   "id": "6da09721",
   "metadata": {},
   "source": [
    "$$\n",
    "\\frac{df}{dx}=\\frac{db}{da}\\frac{da}{dx}=2x\\exp{x^2},\n",
    "$$"
   ]
  },
  {
   "cell_type": "markdown",
   "id": "1ed5c66b",
   "metadata": {},
   "source": [
    "as before."
   ]
  },
  {
   "cell_type": "markdown",
   "id": "6157ca77",
   "metadata": {},
   "source": [
    "## Forward and reverse modes\n",
    "\n",
    "We have that"
   ]
  },
  {
   "cell_type": "markdown",
   "id": "d47f8037",
   "metadata": {},
   "source": [
    "$$\n",
    "\\frac{df}{dx}=\\frac{df}{db}\\frac{db}{da}\\frac{da}{dx},\n",
    "$$"
   ]
  },
  {
   "cell_type": "markdown",
   "id": "7a7bbc5d",
   "metadata": {},
   "source": [
    "which we can rewrite either as"
   ]
  },
  {
   "cell_type": "markdown",
   "id": "427cb024",
   "metadata": {},
   "source": [
    "$$\n",
    "\\frac{df}{dx}=\\left[\\frac{df}{db}\\frac{db}{da}\\right]\\frac{da}{dx},\n",
    "$$"
   ]
  },
  {
   "cell_type": "markdown",
   "id": "57a1aaa6",
   "metadata": {},
   "source": [
    "or"
   ]
  },
  {
   "cell_type": "markdown",
   "id": "a8faabb8",
   "metadata": {},
   "source": [
    "$$\n",
    "\\frac{df}{dx}=\\frac{df}{db}\\left[\\frac{db}{da}\\frac{da}{dx}\\right].\n",
    "$$"
   ]
  },
  {
   "cell_type": "markdown",
   "id": "bb053125",
   "metadata": {},
   "source": [
    "The first expression is called reverse mode (or back propagation)\n",
    "since we start by evaluating the derivatives at the end point and then\n",
    "propagate backwards. This is the standard way of evaluating\n",
    "derivatives (gradients) when optimizing the parameters of a neural\n",
    "network.  In the context of deep learning this is computationally\n",
    "more efficient since the output of a neural network consists of either\n",
    "one or some few other output variables.\n",
    "\n",
    "The second equation defines the so-called  **forward mode**."
   ]
  },
  {
   "cell_type": "markdown",
   "id": "6d58682a",
   "metadata": {},
   "source": [
    "## More complicated function\n",
    "\n",
    "We increase our ambitions and introduce a slightly more complicated function"
   ]
  },
  {
   "cell_type": "markdown",
   "id": "e26f3e58",
   "metadata": {},
   "source": [
    "$$\n",
    "f(x) =\\sqrt{x^2+exp{x^2}},\n",
    "$$"
   ]
  },
  {
   "cell_type": "markdown",
   "id": "bd6d2ab5",
   "metadata": {},
   "source": [
    "with derivative"
   ]
  },
  {
   "cell_type": "markdown",
   "id": "4df7d922",
   "metadata": {},
   "source": [
    "$$\n",
    "f'(x) =\\frac{x(1+\\exp{x^2})}{\\sqrt{x^2+exp{x^2}}}.\n",
    "$$"
   ]
  },
  {
   "cell_type": "markdown",
   "id": "451135b1",
   "metadata": {},
   "source": [
    "The corresponding SymPy code reads"
   ]
  },
  {
   "cell_type": "code",
   "execution_count": 5,
   "id": "a0c4f830",
   "metadata": {},
   "outputs": [],
   "source": [
    "from __future__ import division\n",
    "from sympy import *\n",
    "x = symbols('x')\n",
    "expr = sqrt(x*x+exp(x*x))\n",
    "simplify(expr)\n",
    "derivative = diff(expr,x)\n",
    "print(python(expr))\n",
    "print(python(derivative))"
   ]
  },
  {
   "cell_type": "markdown",
   "id": "dd8fb453",
   "metadata": {},
   "source": [
    "## Counting the number of floating point operations\n",
    "\n",
    "A simple count of operations shows that we need five operations for\n",
    "the function itself and ten for the derivative.  Fifteen operations in total if we wish to proceed with the above codes.\n",
    "\n",
    "Can we reduce this to\n",
    "say half the number of operations?"
   ]
  },
  {
   "cell_type": "markdown",
   "id": "4a4d0c85",
   "metadata": {},
   "source": [
    "## Defining intermediate operations\n",
    "\n",
    "We can indeed reduce the number of operation to half of those listed in the brute force approach above.\n",
    "We define the following quantities"
   ]
  },
  {
   "cell_type": "markdown",
   "id": "6216f527",
   "metadata": {},
   "source": [
    "$$\n",
    "a = x^2,\n",
    "$$"
   ]
  },
  {
   "cell_type": "markdown",
   "id": "36fa3364",
   "metadata": {},
   "source": [
    "and"
   ]
  },
  {
   "cell_type": "markdown",
   "id": "d7936338",
   "metadata": {},
   "source": [
    "$$\n",
    "b = \\exp{x^2} = \\exp{a},\n",
    "$$"
   ]
  },
  {
   "cell_type": "markdown",
   "id": "b3c1cf2e",
   "metadata": {},
   "source": [
    "and"
   ]
  },
  {
   "cell_type": "markdown",
   "id": "3045f2f3",
   "metadata": {},
   "source": [
    "$$\n",
    "c= a+b,\n",
    "$$"
   ]
  },
  {
   "cell_type": "markdown",
   "id": "c62d9b4f",
   "metadata": {},
   "source": [
    "and"
   ]
  },
  {
   "cell_type": "markdown",
   "id": "cc00424b",
   "metadata": {},
   "source": [
    "$$\n",
    "d=f(x)=\\sqrt{c}.\n",
    "$$"
   ]
  },
  {
   "cell_type": "markdown",
   "id": "2880b26d",
   "metadata": {},
   "source": [
    "## New expression for the derivative\n",
    "\n",
    "With these definitions we obtain the following partial derivatives"
   ]
  },
  {
   "cell_type": "markdown",
   "id": "6995073b",
   "metadata": {},
   "source": [
    "$$\n",
    "\\frac{\\partial a}{\\partial x} = 2x,\n",
    "$$"
   ]
  },
  {
   "cell_type": "markdown",
   "id": "3025c95c",
   "metadata": {},
   "source": [
    "and"
   ]
  },
  {
   "cell_type": "markdown",
   "id": "eadbab8c",
   "metadata": {},
   "source": [
    "$$\n",
    "\\frac{\\partial b}{\\partial a} = \\exp{a},\n",
    "$$"
   ]
  },
  {
   "cell_type": "markdown",
   "id": "3b92e291",
   "metadata": {},
   "source": [
    "and"
   ]
  },
  {
   "cell_type": "markdown",
   "id": "61abe762",
   "metadata": {},
   "source": [
    "$$\n",
    "\\frac{\\partial c}{\\partial a} = 1,\n",
    "$$"
   ]
  },
  {
   "cell_type": "markdown",
   "id": "b9ed2e77",
   "metadata": {},
   "source": [
    "and"
   ]
  },
  {
   "cell_type": "markdown",
   "id": "3dc26776",
   "metadata": {},
   "source": [
    "$$\n",
    "\\frac{\\partial c}{\\partial b} = 1,\n",
    "$$"
   ]
  },
  {
   "cell_type": "markdown",
   "id": "8092c5dc",
   "metadata": {},
   "source": [
    "and"
   ]
  },
  {
   "cell_type": "markdown",
   "id": "3408773c",
   "metadata": {},
   "source": [
    "$$\n",
    "\\frac{\\partial d}{\\partial c} = \\frac{1}{2\\sqrt{c}},\n",
    "$$"
   ]
  },
  {
   "cell_type": "markdown",
   "id": "547d309c",
   "metadata": {},
   "source": [
    "and finally"
   ]
  },
  {
   "cell_type": "markdown",
   "id": "3885960f",
   "metadata": {},
   "source": [
    "$$\n",
    "\\frac{\\partial f}{\\partial d} = 1.\n",
    "$$"
   ]
  },
  {
   "cell_type": "markdown",
   "id": "094da560",
   "metadata": {},
   "source": [
    "## Final derivatives\n",
    "Our final derivatives are thus"
   ]
  },
  {
   "cell_type": "markdown",
   "id": "5e7784ef",
   "metadata": {},
   "source": [
    "$$\n",
    "\\frac{\\partial f}{\\partial c} = \\frac{\\partial f}{\\partial d} \\frac{\\partial d}{\\partial c}  = \\frac{1}{2\\sqrt{c}},\n",
    "$$"
   ]
  },
  {
   "cell_type": "markdown",
   "id": "da55dc29",
   "metadata": {},
   "source": [
    "$$\n",
    "\\frac{\\partial f}{\\partial b} = \\frac{\\partial f}{\\partial c} \\frac{\\partial c}{\\partial b}  = \\frac{1}{2\\sqrt{c}},\n",
    "$$"
   ]
  },
  {
   "cell_type": "markdown",
   "id": "1521da52",
   "metadata": {},
   "source": [
    "$$\n",
    "\\frac{\\partial f}{\\partial a} = \\frac{\\partial f}{\\partial c} \\frac{\\partial c}{\\partial a}+\n",
    "\\frac{\\partial f}{\\partial b} \\frac{\\partial b}{\\partial a}  = \\frac{1+\\exp{a}}{2\\sqrt{c}},\n",
    "$$"
   ]
  },
  {
   "cell_type": "markdown",
   "id": "c585cfc1",
   "metadata": {},
   "source": [
    "and finally"
   ]
  },
  {
   "cell_type": "markdown",
   "id": "49baac68",
   "metadata": {},
   "source": [
    "$$\n",
    "\\frac{\\partial f}{\\partial x} = \\frac{\\partial f}{\\partial a} \\frac{\\partial a}{\\partial x}  = \\frac{x(1+\\exp{a})}{\\sqrt{c}},\n",
    "$$"
   ]
  },
  {
   "cell_type": "markdown",
   "id": "90c1b377",
   "metadata": {},
   "source": [
    "which is just"
   ]
  },
  {
   "cell_type": "markdown",
   "id": "dfd1e5f5",
   "metadata": {},
   "source": [
    "$$\n",
    "\\frac{\\partial f}{\\partial x} = \\frac{x(1+b)}{d},\n",
    "$$"
   ]
  },
  {
   "cell_type": "markdown",
   "id": "01027588",
   "metadata": {},
   "source": [
    "and requires only three operations if we can reuse all intermediate variables."
   ]
  },
  {
   "cell_type": "markdown",
   "id": "faf9a7f4",
   "metadata": {},
   "source": [
    "## In general not this simple\n",
    "\n",
    "In general, see the generalization below, unless we can obtain simple\n",
    "analytical expressions which we can simplify further, the final\n",
    "implementation of automatic differentiation involves repeated\n",
    "calculations (and thereby operations) of derivatives of elementary\n",
    "functions."
   ]
  },
  {
   "cell_type": "markdown",
   "id": "c8a60c3c",
   "metadata": {},
   "source": [
    "## Automatic differentiation\n",
    "\n",
    "We can make this example more formal. Automatic differentiation is a\n",
    "formalization of the previous example (see graph).\n",
    "\n",
    "We define $\\boldsymbol{x}\\in x_1,\\dots, x_l$ input variables to a given function $f(\\boldsymbol{x})$ and $x_{l+1},\\dots, x_L$ intermediate variables.\n",
    "\n",
    "In the above example we have only one input variable, $l=1$ and four intermediate variables, that is"
   ]
  },
  {
   "cell_type": "markdown",
   "id": "bebf89c4",
   "metadata": {},
   "source": [
    "$$\n",
    "\\begin{bmatrix} x_1=x & x_2 = x^2=a & x_3 =\\exp{a}= b & x_4=c=a+b & x_5 = \\sqrt{c}=d \\end{bmatrix}.\n",
    "$$"
   ]
  },
  {
   "cell_type": "markdown",
   "id": "c8e55af0",
   "metadata": {},
   "source": [
    "Furthemore, for $i=l+1, \\dots, L$ (here $i=2,3,4,5$ and $f=x_L=d$), we\n",
    "define the elementary functions $g_i(x_{Pa(x_i)})$ where $x_{Pa(x_i)}$ are the parent nodes of the variable $x_i$.\n",
    "\n",
    "In our case, we have for example for $x_3=g_3(x_{Pa(x_i)})=\\exp{a}$, that $g_3=\\exp{()}$ and $x_{Pa(x_3)}=a$."
   ]
  },
  {
   "cell_type": "markdown",
   "id": "4b69aacb",
   "metadata": {},
   "source": [
    "## Chain rule\n",
    "\n",
    "We can now compute the gradients by back-propagating the derivatives using the chain rule.\n",
    "We have defined"
   ]
  },
  {
   "cell_type": "markdown",
   "id": "c0d54321",
   "metadata": {},
   "source": [
    "$$\n",
    "\\frac{\\partial f}{\\partial x_L} = 1,\n",
    "$$"
   ]
  },
  {
   "cell_type": "markdown",
   "id": "8486d91e",
   "metadata": {},
   "source": [
    "which allows us to find the derivatives of the various variables $x_i$ as"
   ]
  },
  {
   "cell_type": "markdown",
   "id": "de5e8a70",
   "metadata": {},
   "source": [
    "$$\n",
    "\\frac{\\partial f}{\\partial x_i} = \\sum_{x_j:x_i\\in Pa(x_j)}\\frac{\\partial f}{\\partial x_j} \\frac{\\partial x_j}{\\partial x_i}=\\sum_{x_j:x_i\\in Pa(x_j)}\\frac{\\partial f}{\\partial x_j} \\frac{\\partial g_j}{\\partial x_i}.\n",
    "$$"
   ]
  },
  {
   "cell_type": "markdown",
   "id": "42dc3f26",
   "metadata": {},
   "source": [
    "Whenever we have a function which can be expressed as a computation\n",
    "graph and the various functions can be expressed in terms of\n",
    "elementary functions that are differentiable, then automatic\n",
    "differentiation works.  The functions may not need to be elementary\n",
    "functions, they could also be computer programs, although not all\n",
    "programs can be automatically differentiated."
   ]
  },
  {
   "cell_type": "markdown",
   "id": "133e16c7",
   "metadata": {},
   "source": [
    "## First network example, simple percepetron with one input\n",
    "\n",
    "As yet another example we define now a simple perceptron model with\n",
    "all quantities given by scalars. We consider only one input variable\n",
    "$x$ and one target value $y$.  We define an activation function\n",
    "$\\sigma_1$ which takes as input"
   ]
  },
  {
   "cell_type": "markdown",
   "id": "1fd248a5",
   "metadata": {},
   "source": [
    "$$\n",
    "z_1 = w_1x+b_1,\n",
    "$$"
   ]
  },
  {
   "cell_type": "markdown",
   "id": "321220a1",
   "metadata": {},
   "source": [
    "where $w_1$ is the weight and $b_1$ is the bias. These are the\n",
    "parameters we want to optimize.  The output is $a_1=\\sigma(z_1)$ (see\n",
    "graph from whiteboard notes). This output is then fed into the\n",
    "**cost/loss** function, which we here for the sake of simplicity just\n",
    "define as the squared error"
   ]
  },
  {
   "cell_type": "markdown",
   "id": "d4ef8cda",
   "metadata": {},
   "source": [
    "$$\n",
    "C(x;w_1,b_1)=\\frac{1}{2}(a_1-y)^2.\n",
    "$$"
   ]
  },
  {
   "cell_type": "markdown",
   "id": "c83257a3",
   "metadata": {},
   "source": [
    "## Layout of a simple neural network with no hidden layer\n",
    "\n",
    "<!-- dom:FIGURE: [figures/simplenn1.png, width=900 frac=1.0] -->\n",
    "<!-- begin figure -->\n",
    "\n",
    "<img src=\"figures/simplenn1.png\" width=\"900\"><p style=\"font-size: 0.9em\"><i>Figure 1: </i></p>\n",
    "<!-- end figure -->"
   ]
  },
  {
   "cell_type": "markdown",
   "id": "41976e3b",
   "metadata": {},
   "source": [
    "## Optimizing the parameters\n",
    "\n",
    "In setting up the feed forward and back propagation parts of the\n",
    "algorithm, we need now the derivative of the various variables we want\n",
    "to train.\n",
    "\n",
    "We need"
   ]
  },
  {
   "cell_type": "markdown",
   "id": "daeda85f",
   "metadata": {},
   "source": [
    "$$\n",
    "\\frac{\\partial C}{\\partial w_1} \\hspace{0.1cm}\\mathrm{and}\\hspace{0.1cm}\\frac{\\partial C}{\\partial b_1}.\n",
    "$$"
   ]
  },
  {
   "cell_type": "markdown",
   "id": "cfd25fda",
   "metadata": {},
   "source": [
    "Using the chain rule we find"
   ]
  },
  {
   "cell_type": "markdown",
   "id": "8d695dcf",
   "metadata": {},
   "source": [
    "$$\n",
    "\\frac{\\partial C}{\\partial w_1}=\\frac{\\partial C}{\\partial a_1}\\frac{\\partial a_1}{\\partial z_1}\\frac{\\partial z_1}{\\partial w_1}=(a_1-y)\\sigma_1'x,\n",
    "$$"
   ]
  },
  {
   "cell_type": "markdown",
   "id": "dcc2f332",
   "metadata": {},
   "source": [
    "and"
   ]
  },
  {
   "cell_type": "markdown",
   "id": "cb53a1ce",
   "metadata": {},
   "source": [
    "$$\n",
    "\\frac{\\partial C}{\\partial b_1}=\\frac{\\partial C}{\\partial a_1}\\frac{\\partial a_1}{\\partial z_1}\\frac{\\partial z_1}{\\partial b_1}=(a_1-y)\\sigma_1',\n",
    "$$"
   ]
  },
  {
   "cell_type": "markdown",
   "id": "b547af4b",
   "metadata": {},
   "source": [
    "which we later will just define as"
   ]
  },
  {
   "cell_type": "markdown",
   "id": "e05ad1a5",
   "metadata": {},
   "source": [
    "$$\n",
    "\\frac{\\partial C}{\\partial a_1}\\frac{\\partial a_1}{\\partial z_1}=\\delta_1.\n",
    "$$"
   ]
  },
  {
   "cell_type": "markdown",
   "id": "e841d792",
   "metadata": {},
   "source": [
    "## Adding a hidden layer\n",
    "\n",
    "We change our simple model to (see graph)\n",
    "a network with just one hidden layer but with scalar variables only.\n",
    "\n",
    "Our output variable changes to $a_2$ and $a_1$ is now the output from the hidden node and $a_0=x$.\n",
    "We have then"
   ]
  },
  {
   "cell_type": "markdown",
   "id": "7d0be7a7",
   "metadata": {},
   "source": [
    "$$\n",
    "z_1 = w_1a_0+b_1 \\hspace{0.1cm} \\wedge a_1 = \\sigma_1(z_1),\n",
    "$$"
   ]
  },
  {
   "cell_type": "markdown",
   "id": "99d7e794",
   "metadata": {},
   "source": [
    "$$\n",
    "z_2 = w_2a_1+b_2 \\hspace{0.1cm} \\wedge a_2 = \\sigma_2(z_2),\n",
    "$$"
   ]
  },
  {
   "cell_type": "markdown",
   "id": "b5a9ccd1",
   "metadata": {},
   "source": [
    "and the cost function"
   ]
  },
  {
   "cell_type": "markdown",
   "id": "97e1f77a",
   "metadata": {},
   "source": [
    "$$\n",
    "C(x;\\boldsymbol{\\Theta})=\\frac{1}{2}(a_2-y)^2,\n",
    "$$"
   ]
  },
  {
   "cell_type": "markdown",
   "id": "129d6040",
   "metadata": {},
   "source": [
    "with $\\boldsymbol{\\Theta}=[w_1,w_2,b_1,b_2]$."
   ]
  },
  {
   "cell_type": "markdown",
   "id": "cd905c05",
   "metadata": {},
   "source": [
    "## Layout of a simple neural network with one hidden layer\n",
    "\n",
    "<!-- dom:FIGURE: [figures/simplenn2.png, width=900 frac=1.0] -->\n",
    "<!-- begin figure -->\n",
    "\n",
    "<img src=\"figures/simplenn2.png\" width=\"900\"><p style=\"font-size: 0.9em\"><i>Figure 1: </i></p>\n",
    "<!-- end figure -->"
   ]
  },
  {
   "cell_type": "markdown",
   "id": "dc3ee985",
   "metadata": {},
   "source": [
    "## The derivatives\n",
    "\n",
    "The derivatives are now, using the chain rule again"
   ]
  },
  {
   "cell_type": "markdown",
   "id": "6b21de52",
   "metadata": {},
   "source": [
    "$$\n",
    "\\frac{\\partial C}{\\partial w_2}=\\frac{\\partial C}{\\partial a_2}\\frac{\\partial a_2}{\\partial z_2}\\frac{\\partial z_2}{\\partial w_2}=(a_2-y)\\sigma_2'a_1=\\delta_2a_1,\n",
    "$$"
   ]
  },
  {
   "cell_type": "markdown",
   "id": "04bef693",
   "metadata": {},
   "source": [
    "$$\n",
    "\\frac{\\partial C}{\\partial b_2}=\\frac{\\partial C}{\\partial a_2}\\frac{\\partial a_2}{\\partial z_2}\\frac{\\partial z_2}{\\partial b_2}=(a_2-y)\\sigma_2'=\\delta_2,\n",
    "$$"
   ]
  },
  {
   "cell_type": "markdown",
   "id": "6e9a9575",
   "metadata": {},
   "source": [
    "$$\n",
    "\\frac{\\partial C}{\\partial w_1}=\\frac{\\partial C}{\\partial a_2}\\frac{\\partial a_2}{\\partial z_2}\\frac{\\partial z_2}{\\partial a_1}\\frac{\\partial a_1}{\\partial z_1}\\frac{\\partial z_1}{\\partial w_1}=(a_2-y)\\sigma_2'a_1\\sigma_1'a_0,\n",
    "$$"
   ]
  },
  {
   "cell_type": "markdown",
   "id": "c65ff641",
   "metadata": {},
   "source": [
    "$$\n",
    "\\frac{\\partial C}{\\partial b_1}=\\frac{\\partial C}{\\partial a_2}\\frac{\\partial a_2}{\\partial z_2}\\frac{\\partial z_2}{\\partial a_1}\\frac{\\partial a_1}{\\partial z_1}\\frac{\\partial z_1}{\\partial b_1}=(a_2-y)\\sigma_2'\\sigma_1'=\\delta_1.\n",
    "$$"
   ]
  },
  {
   "cell_type": "markdown",
   "id": "f67e1353",
   "metadata": {},
   "source": [
    "Can you generalize this to more than one hidden layer?"
   ]
  },
  {
   "cell_type": "markdown",
   "id": "7476ad06",
   "metadata": {},
   "source": [
    "## Important observations\n",
    "\n",
    "From the above equations we see that the derivatives of the activation\n",
    "functions play a central role. If they vanish, the training may\n",
    "stop. This is called the vanishing gradient problem, see discussions below. If they become\n",
    "large, the parameters $w_i$ and $b_i$ may simply go to infinity. This\n",
    "is referenced as  the exploding gradient problem."
   ]
  },
  {
   "cell_type": "markdown",
   "id": "520d8a90",
   "metadata": {},
   "source": [
    "## The training\n",
    "\n",
    "The training of the parameters is done through various gradient descent approximations with"
   ]
  },
  {
   "cell_type": "markdown",
   "id": "d57d0f1d",
   "metadata": {},
   "source": [
    "$$\n",
    "w_{i}\\leftarrow w_{i}- \\eta \\delta_i a_{i-1},\n",
    "$$"
   ]
  },
  {
   "cell_type": "markdown",
   "id": "97925a47",
   "metadata": {},
   "source": [
    "and"
   ]
  },
  {
   "cell_type": "markdown",
   "id": "21bf2445",
   "metadata": {},
   "source": [
    "$$\n",
    "b_i \\leftarrow b_i-\\eta \\delta_i,\n",
    "$$"
   ]
  },
  {
   "cell_type": "markdown",
   "id": "de7f0e7b",
   "metadata": {},
   "source": [
    "with $\\eta$ is the learning rate.\n",
    "\n",
    "One iteration consists of one feed forward step and one back-propagation step. Each back-propagation step does one update of the parameters $\\boldsymbol{\\Theta}$.\n",
    "\n",
    "For the first hidden layer $a_{i-1}=a_0=x$ for this simple model."
   ]
  },
  {
   "cell_type": "markdown",
   "id": "4060cfa4",
   "metadata": {},
   "source": [
    "## Code example\n",
    "\n",
    "The code here implements the above model with one hidden layer and\n",
    "scalar variables for the same function we studied in the previous\n",
    "example.  The code is however set up so that we can add multiple\n",
    "inputs $x$ and target values $y$. Note also that we have the\n",
    "possibility of defining a feature matrix $\\boldsymbol{X}$ with more than just\n",
    "one column for the input values. This will turn useful in our next example. We have also defined matrices and vectors for all of our operations although it is not necessary here."
   ]
  },
  {
   "cell_type": "code",
   "execution_count": 5,
   "id": "1248e89b",
   "metadata": {},
   "outputs": [
    {
     "name": "stdout",
     "output_type": "stream",
     "text": [
      "[36.89563074]\n",
      "[23.62323175]\n",
      "[15.1251681]\n",
      "[9.68402334]\n",
      "[6.20020163]\n",
      "[3.96963458]\n",
      "[2.54150298]\n",
      "[1.62714703]\n",
      "[1.0417409]\n",
      "[0.66694492]\n",
      "[0.42699034]\n",
      "[0.27336592]\n",
      "[0.17501258]\n",
      "[0.11204514]\n",
      "[0.07173249]\n",
      "[0.04592382]\n",
      "[0.02940083]\n",
      "[0.01882264]\n",
      "[0.01205039]\n",
      "[0.00771475]\n",
      "[0.00493903]\n",
      "[0.003162]\n",
      "[0.00202433]\n",
      "[0.00129599]\n",
      "[0.0008297]\n",
      "[0.00053118]\n",
      "[0.00034006]\n",
      "[0.00021771]\n",
      "[0.00013938]\n",
      "[8.92313548e-05]\n",
      "[5.71263851e-05]\n",
      "[3.6572612e-05]\n",
      "[2.34139775e-05]\n",
      "[1.49897504e-05]\n",
      "[9.5965161e-06]\n",
      "[6.14373934e-06]\n",
      "[3.93325371e-06]\n",
      "[2.51808934e-06]\n",
      "[1.61209378e-06]\n",
      "[1.03207075e-06]\n",
      "[6.60737006e-07]\n",
      "[4.23007231e-07]\n",
      "[2.70811405e-07]\n",
      "[1.73374853e-07]\n",
      "[1.10995472e-07]\n",
      "[7.10598715e-08]\n",
      "[4.54928947e-08]\n",
      "[2.91247848e-08]\n",
      "[1.86458368e-08]\n",
      "[1.19371605e-08]\n"
     ]
    }
   ],
   "source": [
    "import numpy as np\n",
    "# We use the Sigmoid function as activation function\n",
    "def sigmoid(z):\n",
    "    return 1.0/(1.0+np.exp(-z))\n",
    "\n",
    "def forwardpropagation(x):\n",
    "    # weighted sum of inputs to the hidden layer\n",
    "    z_1 = np.matmul(x, w_1) + b_1\n",
    "    # activation in the hidden layer\n",
    "    a_1 = sigmoid(z_1)\n",
    "    # weighted sum of inputs to the output layer\n",
    "    z_2 = np.matmul(a_1, w_2) + b_2\n",
    "    a_2 = z_2\n",
    "    return a_1, a_2\n",
    "\n",
    "def backpropagation(x, y):\n",
    "    a_1, a_2 = forwardpropagation(x)\n",
    "    # parameter delta for the output layer, note that a_2=z_2 and its derivative wrt z_2 is just 1\n",
    "    delta_2 = a_2 - y\n",
    "    print(0.5*((a_2-y)**2))\n",
    "    # delta for  the hidden layer\n",
    "    delta_1 = np.matmul(delta_2, w_2.T) * a_1 * (1 - a_1)\n",
    "    # gradients for the output layer\n",
    "    output_weights_gradient = np.matmul(a_1.T, delta_2)\n",
    "    output_bias_gradient = np.sum(delta_2, axis=0)\n",
    "    # gradient for the hidden layer\n",
    "    hidden_weights_gradient = np.matmul(x.T, delta_1)\n",
    "    hidden_bias_gradient = np.sum(delta_1, axis=0)\n",
    "    return output_weights_gradient, output_bias_gradient, hidden_weights_gradient, hidden_bias_gradient\n",
    "\n",
    "\n",
    "# ensure the same random numbers appear every time\n",
    "np.random.seed(0)\n",
    "# Input variable\n",
    "x = np.array([4.0],dtype=np.float64)\n",
    "# Target values\n",
    "y = 2*x+1.0 \n",
    "\n",
    "# Defining the neural network, only scalars here\n",
    "n_inputs = x.shape\n",
    "n_features = 1\n",
    "n_hidden_neurons = 1\n",
    "n_outputs = 1\n",
    "\n",
    "# Initialize the network\n",
    "# weights and bias in the hidden layer\n",
    "w_1 = np.random.randn(n_features, n_hidden_neurons)\n",
    "b_1 = np.zeros(n_hidden_neurons) + 0.01\n",
    "\n",
    "# weights and bias in the output layer\n",
    "w_2 = np.random.randn(n_hidden_neurons, n_outputs)\n",
    "b_2 = np.zeros(n_outputs) + 0.01\n",
    "\n",
    "eta = 0.1\n",
    "for i in range(50):\n",
    "    # calculate gradients\n",
    "    derivW2, derivB2, derivW1, derivB1 = backpropagation(x, y)\n",
    "    # update weights and biases\n",
    "    w_2 -= eta * derivW2\n",
    "    b_2 -= eta * derivB2\n",
    "    w_1 -= eta * derivW1\n",
    "    b_1 -= eta * derivB1"
   ]
  },
  {
   "cell_type": "markdown",
   "id": "eabe6b42",
   "metadata": {},
   "source": [
    "We see that after some few iterations (the results do depend on the learning rate however), we get an error which is rather small."
   ]
  },
  {
   "cell_type": "markdown",
   "id": "35974e2d",
   "metadata": {},
   "source": [
    "## Exercise 1: Including more data\n",
    "\n",
    "Try to increase the amount of input and\n",
    "target/output data. Try also to perform calculations for more values\n",
    "of the learning rates. Feel free to add either hyperparameters with an\n",
    "$l_1$ norm or an $l_2$ norm and discuss your results.\n",
    "Discuss your results as functions of the amount of training data and various learning rates.\n",
    "\n",
    "**Challenge:** Try to change the activation functions and replace the hard-coded analytical expressions with automatic derivation via either **autograd** or **JAX**."
   ]
  },
  {
   "cell_type": "markdown",
   "id": "eebf9d30",
   "metadata": {},
   "source": [
    "## Simple neural network and the  back propagation equations\n",
    "\n",
    "Let us now try to increase our level of ambition and attempt at setting \n",
    "up the equations for a neural network with two input nodes, one hidden\n",
    "layer with two hidden nodes and one output layer with one output node/neuron only (see graph)..\n",
    "\n",
    "We need to define the following parameters and variables with the input layer (layer $(0)$) \n",
    "where we label the  nodes $x_0$ and $x_1$"
   ]
  },
  {
   "cell_type": "markdown",
   "id": "2f079f0b",
   "metadata": {},
   "source": [
    "$$\n",
    "x_0 = a_0^{(0)} \\wedge x_1 = a_1^{(0)}.\n",
    "$$"
   ]
  },
  {
   "cell_type": "markdown",
   "id": "50b799fe",
   "metadata": {},
   "source": [
    "The  hidden layer (layer $(1)$) has  nodes which yield the outputs $a_0^{(1)}$ and $a_1^{(1)}$) with  weight $\\boldsymbol{w}$ and bias $\\boldsymbol{b}$ parameters"
   ]
  },
  {
   "cell_type": "markdown",
   "id": "9eeeddd7",
   "metadata": {},
   "source": [
    "$$\n",
    "w_{ij}^{(1)}=\\left\\{w_{00}^{(1)},w_{01}^{(1)},w_{10}^{(1)},w_{11}^{(1)}\\right\\} \\wedge b^{(1)}=\\left\\{b_0^{(1)},b_1^{(1)}\\right\\}.\n",
    "$$"
   ]
  },
  {
   "cell_type": "markdown",
   "id": "89d239c6",
   "metadata": {},
   "source": [
    "## Layout of a simple neural network with two input nodes, one  hidden layer and one output node\n",
    "\n",
    "<!-- dom:FIGURE: [figures/simplenn3.png, width=900 frac=1.0] -->\n",
    "<!-- begin figure -->\n",
    "\n",
    "<img src=\"figures/simplenn3.png\" width=\"900\"><p style=\"font-size: 0.9em\"><i>Figure 1: </i></p>\n",
    "<!-- end figure -->"
   ]
  },
  {
   "cell_type": "markdown",
   "id": "bdbf35b5",
   "metadata": {},
   "source": [
    "## The ouput layer\n",
    "\n",
    "Finally, we have the ouput layer given by layer label $(2)$ with output $a^{(2)}$ and weights and biases to be determined given by the variables"
   ]
  },
  {
   "cell_type": "markdown",
   "id": "4e4ff5e9",
   "metadata": {},
   "source": [
    "$$\n",
    "w_{i}^{(2)}=\\left\\{w_{0}^{(2)},w_{1}^{(2)}\\right\\} \\wedge b^{(2)}.\n",
    "$$"
   ]
  },
  {
   "cell_type": "markdown",
   "id": "0d262c6f",
   "metadata": {},
   "source": [
    "Our output is $\\tilde{y}=a^{(2)}$ and we define a generic cost function $C(a^{(2)},y;\\boldsymbol{\\Theta})$ where $y$ is the target value (a scalar here).\n",
    "The parameters we need to optimize are given by"
   ]
  },
  {
   "cell_type": "markdown",
   "id": "bc03ac5a",
   "metadata": {},
   "source": [
    "$$\n",
    "\\boldsymbol{\\Theta}=\\left\\{w_{00}^{(1)},w_{01}^{(1)},w_{10}^{(1)},w_{11}^{(1)},w_{0}^{(2)},w_{1}^{(2)},b_0^{(1)},b_1^{(1)},b^{(2)}\\right\\}.\n",
    "$$"
   ]
  },
  {
   "cell_type": "markdown",
   "id": "59f909e2",
   "metadata": {},
   "source": [
    "## Compact expressions\n",
    "\n",
    "We can define the inputs to the activation functions for the various layers in terms of various matrix-vector multiplications and vector additions.\n",
    "The inputs to the first hidden layer are"
   ]
  },
  {
   "cell_type": "markdown",
   "id": "7eb0a44d",
   "metadata": {},
   "source": [
    "$$\n",
    "\\begin{bmatrix}z_0^{(1)} \\\\ z_1^{(1)} \\end{bmatrix}=\\begin{bmatrix}w_{00}^{(1)} & w_{01}^{(1)}\\\\ w_{10}^{(1)} &w_{11}^{(1)} \\end{bmatrix}\\begin{bmatrix}a_0^{(0)} \\\\ a_1^{(0)} \\end{bmatrix}+\\begin{bmatrix}b_0^{(1)} \\\\ b_1^{(1)} \\end{bmatrix},\n",
    "$$"
   ]
  },
  {
   "cell_type": "markdown",
   "id": "07d8d778",
   "metadata": {},
   "source": [
    "with outputs"
   ]
  },
  {
   "cell_type": "markdown",
   "id": "60368bf9",
   "metadata": {},
   "source": [
    "$$\n",
    "\\begin{bmatrix}a_0^{(1)} \\\\ a_1^{(1)} \\end{bmatrix}=\\begin{bmatrix}\\sigma^{(1)}(z_0^{(1)}) \\\\ \\sigma^{(1)}(z_1^{(1)}) \\end{bmatrix}.\n",
    "$$"
   ]
  },
  {
   "cell_type": "markdown",
   "id": "79853185",
   "metadata": {},
   "source": [
    "## Output layer\n",
    "\n",
    "For the final output layer we have the inputs to the final activation function"
   ]
  },
  {
   "cell_type": "markdown",
   "id": "e84489fb",
   "metadata": {},
   "source": [
    "$$\n",
    "z^{(2)} = w_{0}^{(2)}a_0^{(1)} +w_{1}^{(2)}a_1^{(1)}+b^{(2)},\n",
    "$$"
   ]
  },
  {
   "cell_type": "markdown",
   "id": "10ac6ea6",
   "metadata": {},
   "source": [
    "resulting in the  output"
   ]
  },
  {
   "cell_type": "markdown",
   "id": "4bb215d6",
   "metadata": {},
   "source": [
    "$$\n",
    "a^{(2)}=\\sigma^{(2)}(z^{(2)}).\n",
    "$$"
   ]
  },
  {
   "cell_type": "markdown",
   "id": "0389c02c",
   "metadata": {},
   "source": [
    "## Explicit derivatives\n",
    "\n",
    "In total we have nine parameters which we need to train.  Using the\n",
    "chain rule (or just the back-propagation algorithm) we can find all\n",
    "derivatives. Since we will use automatic differentiation in reverse\n",
    "mode, we start with the derivatives of the cost function with respect\n",
    "to the parameters of the output layer, namely"
   ]
  },
  {
   "cell_type": "markdown",
   "id": "bd9a8665",
   "metadata": {},
   "source": [
    "$$\n",
    "\\frac{\\partial C}{\\partial w_{i}^{(2)}}=\\frac{\\partial C}{\\partial a^{(2)}}\\frac{\\partial a^{(2)}}{\\partial z^{(2)}}\\frac{\\partial z^{(2)}}{\\partial w_{i}^{(2)}}=\\delta^{(2)}a_i^{(1)},\n",
    "$$"
   ]
  },
  {
   "cell_type": "markdown",
   "id": "904eef6d",
   "metadata": {},
   "source": [
    "with"
   ]
  },
  {
   "cell_type": "markdown",
   "id": "f422cd5d",
   "metadata": {},
   "source": [
    "$$\n",
    "\\delta^{(2)}=\\frac{\\partial C}{\\partial a^{(2)}}\\frac{\\partial a^{(2)}}{\\partial z^{(2)}}\n",
    "$$"
   ]
  },
  {
   "cell_type": "markdown",
   "id": "0827f570",
   "metadata": {},
   "source": [
    "and finally"
   ]
  },
  {
   "cell_type": "markdown",
   "id": "0caae8eb",
   "metadata": {},
   "source": [
    "$$\n",
    "\\frac{\\partial C}{\\partial b^{(2)}}=\\frac{\\partial C}{\\partial a^{(2)}}\\frac{\\partial a^{(2)}}{\\partial z^{(2)}}\\frac{\\partial z^{(2)}}{\\partial b^{(2)}}=\\delta^{(2)}.\n",
    "$$"
   ]
  },
  {
   "cell_type": "markdown",
   "id": "2f4011e7",
   "metadata": {},
   "source": [
    "## Derivatives of the hidden layer\n",
    "\n",
    "Using the chain rule we have the following expressions for say one of the weight parameters (it is easy to generalize to the other weight parameters)"
   ]
  },
  {
   "cell_type": "markdown",
   "id": "4614eb63",
   "metadata": {},
   "source": [
    "$$\n",
    "\\frac{\\partial C}{\\partial w_{00}^{(1)}}=\\frac{\\partial C}{\\partial a^{(2)}}\\frac{\\partial a^{(2)}}{\\partial z^{(2)}}\n",
    "\\frac{\\partial z^{(2)}}{\\partial z_0^{(1)}}\\frac{\\partial z_0^{(1)}}{\\partial w_{00}^{(1)}}=    \\delta^{(2)}\\frac{\\partial z^{(2)}}{\\partial z_0^{(1)}}\\frac{\\partial z_0^{(1)}}{\\partial w_{00}^{(1)}},\n",
    "$$"
   ]
  },
  {
   "cell_type": "markdown",
   "id": "954403b8",
   "metadata": {},
   "source": [
    "which, noting that"
   ]
  },
  {
   "cell_type": "markdown",
   "id": "d0f5c05f",
   "metadata": {},
   "source": [
    "$$\n",
    "z^{(2)} =w_0^{(2)}a_0^{(1)}+w_1^{(2)}a_1^{(1)}+b^{(2)},\n",
    "$$"
   ]
  },
  {
   "cell_type": "markdown",
   "id": "ac8c2f66",
   "metadata": {},
   "source": [
    "allows us to rewrite"
   ]
  },
  {
   "cell_type": "markdown",
   "id": "9bcf7c0d",
   "metadata": {},
   "source": [
    "$$\n",
    "\\frac{\\partial z^{(2)}}{\\partial z_0^{(1)}}\\frac{\\partial z_0^{(1)}}{\\partial w_{00}^{(1)}}=w_0^{(2)}\\frac{\\partial a_0^{(1)}}{\\partial z_0^{(1)}}a_0^{(1)}.\n",
    "$$"
   ]
  },
  {
   "cell_type": "markdown",
   "id": "4c2c5c00",
   "metadata": {},
   "source": [
    "## Final expression\n",
    "Defining"
   ]
  },
  {
   "cell_type": "markdown",
   "id": "eed00134",
   "metadata": {},
   "source": [
    "$$\n",
    "\\delta_0^{(1)}=w_0^{(2)}\\frac{\\partial a_0^{(1)}}{\\partial z_0^{(1)}}\\delta^{(2)},\n",
    "$$"
   ]
  },
  {
   "cell_type": "markdown",
   "id": "21d53946",
   "metadata": {},
   "source": [
    "we have"
   ]
  },
  {
   "cell_type": "markdown",
   "id": "4fbe8642",
   "metadata": {},
   "source": [
    "$$\n",
    "\\frac{\\partial C}{\\partial w_{00}^{(1)}}=\\delta_0^{(1)}a_0^{(1)}.\n",
    "$$"
   ]
  },
  {
   "cell_type": "markdown",
   "id": "2325e21d",
   "metadata": {},
   "source": [
    "Similarly, we obtain"
   ]
  },
  {
   "cell_type": "markdown",
   "id": "14edd073",
   "metadata": {},
   "source": [
    "$$\n",
    "\\frac{\\partial C}{\\partial w_{01}^{(1)}}=\\delta_0^{(1)}a_1^{(1)}.\n",
    "$$"
   ]
  },
  {
   "cell_type": "markdown",
   "id": "52bbf902",
   "metadata": {},
   "source": [
    "## Completing the list\n",
    "\n",
    "Similarly, we find"
   ]
  },
  {
   "cell_type": "markdown",
   "id": "98a6ed3a",
   "metadata": {},
   "source": [
    "$$\n",
    "\\frac{\\partial C}{\\partial w_{10}^{(1)}}=\\delta_1^{(1)}a_0^{(1)},\n",
    "$$"
   ]
  },
  {
   "cell_type": "markdown",
   "id": "6ab03495",
   "metadata": {},
   "source": [
    "and"
   ]
  },
  {
   "cell_type": "markdown",
   "id": "dcda9d7d",
   "metadata": {},
   "source": [
    "$$\n",
    "\\frac{\\partial C}{\\partial w_{11}^{(1)}}=\\delta_1^{(1)}a_1^{(1)},\n",
    "$$"
   ]
  },
  {
   "cell_type": "markdown",
   "id": "46ec3534",
   "metadata": {},
   "source": [
    "where we have defined"
   ]
  },
  {
   "cell_type": "markdown",
   "id": "f10c20da",
   "metadata": {},
   "source": [
    "$$\n",
    "\\delta_1^{(1)}=w_1^{(2)}\\frac{\\partial a_1^{(1)}}{\\partial z_1^{(1)}}\\delta^{(2)}.\n",
    "$$"
   ]
  },
  {
   "cell_type": "markdown",
   "id": "c3c477be",
   "metadata": {},
   "source": [
    "## Final expressions for the biases of the hidden layer\n",
    "\n",
    "For the sake of completeness, we list the derivatives of the biases, which are"
   ]
  },
  {
   "cell_type": "markdown",
   "id": "0c915c97",
   "metadata": {},
   "source": [
    "$$\n",
    "\\frac{\\partial C}{\\partial b_{0}^{(1)}}=\\delta_0^{(1)},\n",
    "$$"
   ]
  },
  {
   "cell_type": "markdown",
   "id": "646d8351",
   "metadata": {},
   "source": [
    "and"
   ]
  },
  {
   "cell_type": "markdown",
   "id": "4ce93a76",
   "metadata": {},
   "source": [
    "$$\n",
    "\\frac{\\partial C}{\\partial b_{1}^{(1)}}=\\delta_1^{(1)}.\n",
    "$$"
   ]
  },
  {
   "cell_type": "markdown",
   "id": "ee7a38ed",
   "metadata": {},
   "source": [
    "As we will see below, these expressions can be generalized in a more compact form."
   ]
  },
  {
   "cell_type": "markdown",
   "id": "abdb541d",
   "metadata": {},
   "source": [
    "## Gradient expressions\n",
    "\n",
    "For this specific model, with just one output node and two hidden\n",
    "nodes, the gradient descent equations take the following form for output layer"
   ]
  },
  {
   "cell_type": "markdown",
   "id": "410de8d4",
   "metadata": {},
   "source": [
    "$$\n",
    "w_{i}^{(2)}\\leftarrow w_{i}^{(2)}- \\eta \\delta^{(2)} a_{i}^{(1)},\n",
    "$$"
   ]
  },
  {
   "cell_type": "markdown",
   "id": "ca1d6736",
   "metadata": {},
   "source": [
    "and"
   ]
  },
  {
   "cell_type": "markdown",
   "id": "d43c2266",
   "metadata": {},
   "source": [
    "$$\n",
    "b^{(2)} \\leftarrow b^{(2)}-\\eta \\delta^{(2)},\n",
    "$$"
   ]
  },
  {
   "cell_type": "markdown",
   "id": "56457d52",
   "metadata": {},
   "source": [
    "and"
   ]
  },
  {
   "cell_type": "markdown",
   "id": "1ddc19f1",
   "metadata": {},
   "source": [
    "$$\n",
    "w_{ij}^{(1)}\\leftarrow w_{ij}^{(1)}- \\eta \\delta_{i}^{(1)} a_{j}^{(0)},\n",
    "$$"
   ]
  },
  {
   "cell_type": "markdown",
   "id": "de8c80cd",
   "metadata": {},
   "source": [
    "and"
   ]
  },
  {
   "cell_type": "markdown",
   "id": "db88453a",
   "metadata": {},
   "source": [
    "$$\n",
    "b_{i}^{(1)} \\leftarrow b_{i}^{(1)}-\\eta \\delta_{i}^{(1)},\n",
    "$$"
   ]
  },
  {
   "cell_type": "markdown",
   "id": "f61958e4",
   "metadata": {},
   "source": [
    "where $\\eta$ is the learning rate."
   ]
  },
  {
   "cell_type": "markdown",
   "id": "7ef82615",
   "metadata": {},
   "source": [
    "## Exercise 2: Extended program\n",
    "\n",
    "We extend our simple code to a function which depends on two variable $x_0$ and $x_1$, that is"
   ]
  },
  {
   "cell_type": "markdown",
   "id": "f65323bf",
   "metadata": {},
   "source": [
    "$$\n",
    "y=f(x_0,x_1)=x_0^2+3x_0x_1+x_1^2+5.\n",
    "$$"
   ]
  },
  {
   "cell_type": "markdown",
   "id": "96734d00",
   "metadata": {},
   "source": [
    "We feed our network with $n=100$ entries $x_0$ and $x_1$. We have thus two features represented by these variable and an input matrix/design matrix $\\boldsymbol{X}\\in \\mathbf{R}^{n\\times 2}$"
   ]
  },
  {
   "cell_type": "markdown",
   "id": "f776f53c",
   "metadata": {},
   "source": [
    "$$\n",
    "\\boldsymbol{X}=\\begin{bmatrix} x_{00} & x_{01} \\\\ x_{00} & x_{01} \\\\ x_{10} & x_{11} \\\\ x_{20} & x_{21} \\\\ \\dots & \\dots \\\\ \\dots & \\dots \\\\ x_{n-20} & x_{n-21} \\\\ x_{n-10} & x_{n-11} \\end{bmatrix}.\n",
    "$$"
   ]
  },
  {
   "cell_type": "markdown",
   "id": "bbf2e007",
   "metadata": {},
   "source": [
    "Write a code, based on the previous code examples, which takes as input these data and fit the above function.\n",
    "You can extend your code to include automatic differentiation.\n",
    "\n",
    "With these examples, we are now ready to embark upon the writing of more a general code for neural networks."
   ]
  },
  {
   "cell_type": "markdown",
   "id": "9d6d0a32",
   "metadata": {},
   "source": [
    "## Getting serious, the  back propagation equations for a neural network\n",
    "\n",
    "Now it is time to move away from one node in each layer only. Our inputs are also represented either by several inputs.\n",
    "\n",
    "We have thus"
   ]
  },
  {
   "cell_type": "markdown",
   "id": "6720dd98",
   "metadata": {},
   "source": [
    "$$\n",
    "\\frac{\\partial{\\cal C}((\\boldsymbol{\\Theta}^L)}{\\partial w_{jk}^L}  =  \\left(a_j^L - y_j\\right)a_j^L(1-a_j^L)a_k^{L-1},\n",
    "$$"
   ]
  },
  {
   "cell_type": "markdown",
   "id": "759eb99f",
   "metadata": {},
   "source": [
    "Defining"
   ]
  },
  {
   "cell_type": "markdown",
   "id": "294cc167",
   "metadata": {},
   "source": [
    "$$\n",
    "\\delta_j^L = a_j^L(1-a_j^L)\\left(a_j^L - y_j\\right) = \\sigma'(z_j^L)\\frac{\\partial {\\cal C}}{\\partial (a_j^L)},\n",
    "$$"
   ]
  },
  {
   "cell_type": "markdown",
   "id": "3311576a",
   "metadata": {},
   "source": [
    "and using the Hadamard product of two vectors we can write this as"
   ]
  },
  {
   "cell_type": "markdown",
   "id": "892ab641",
   "metadata": {},
   "source": [
    "$$\n",
    "\\boldsymbol{\\delta}^L = \\sigma'(\\hat{z}^L)\\circ\\frac{\\partial {\\cal C}}{\\partial (\\boldsymbol{a}^L)}.\n",
    "$$"
   ]
  },
  {
   "cell_type": "markdown",
   "id": "e126a949",
   "metadata": {},
   "source": [
    "## Analyzing the last results\n",
    "\n",
    "This is an important expression. The second term on the right handside\n",
    "measures how fast the cost function is changing as a function of the $j$th\n",
    "output activation.  If, for example, the cost function doesn't depend\n",
    "much on a particular output node $j$, then $\\delta_j^L$ will be small,\n",
    "which is what we would expect. The first term on the right, measures\n",
    "how fast the activation function $f$ is changing at a given activation\n",
    "value $z_j^L$."
   ]
  },
  {
   "cell_type": "markdown",
   "id": "0640b440",
   "metadata": {},
   "source": [
    "## More considerations\n",
    "\n",
    "Notice that everything in the above equations is easily computed.  In\n",
    "particular, we compute $z_j^L$ while computing the behaviour of the\n",
    "network, and it is only a small additional overhead to compute\n",
    "$\\sigma'(z^L_j)$.  The exact form of the derivative with respect to the\n",
    "output depends on the form of the cost function.\n",
    "However, provided the cost function is known there should be little\n",
    "trouble in calculating"
   ]
  },
  {
   "cell_type": "markdown",
   "id": "780544e8",
   "metadata": {},
   "source": [
    "$$\n",
    "\\frac{\\partial {\\cal C}}{\\partial (a_j^L)}\n",
    "$$"
   ]
  },
  {
   "cell_type": "markdown",
   "id": "5ed8c781",
   "metadata": {},
   "source": [
    "With the definition of $\\delta_j^L$ we have a more compact definition of the derivative of the cost function in terms of the weights, namely"
   ]
  },
  {
   "cell_type": "markdown",
   "id": "9a9568a1",
   "metadata": {},
   "source": [
    "$$\n",
    "\\frac{\\partial{\\cal C}}{\\partial w_{jk}^L}  =  \\delta_j^La_k^{L-1}.\n",
    "$$"
   ]
  },
  {
   "cell_type": "markdown",
   "id": "29ac7458",
   "metadata": {},
   "source": [
    "## Derivatives in terms of $z_j^L$\n",
    "\n",
    "It is also easy to see that our previous equation can be written as"
   ]
  },
  {
   "cell_type": "markdown",
   "id": "693c53ac",
   "metadata": {},
   "source": [
    "$$\n",
    "\\delta_j^L =\\frac{\\partial {\\cal C}}{\\partial z_j^L}= \\frac{\\partial {\\cal C}}{\\partial a_j^L}\\frac{\\partial a_j^L}{\\partial z_j^L},\n",
    "$$"
   ]
  },
  {
   "cell_type": "markdown",
   "id": "650e4dea",
   "metadata": {},
   "source": [
    "which can also be interpreted as the partial derivative of the cost function with respect to the biases $b_j^L$, namely"
   ]
  },
  {
   "cell_type": "markdown",
   "id": "4fbf17cf",
   "metadata": {},
   "source": [
    "$$\n",
    "\\delta_j^L = \\frac{\\partial {\\cal C}}{\\partial b_j^L}\\frac{\\partial b_j^L}{\\partial z_j^L}=\\frac{\\partial {\\cal C}}{\\partial b_j^L},\n",
    "$$"
   ]
  },
  {
   "cell_type": "markdown",
   "id": "a7869a22",
   "metadata": {},
   "source": [
    "That is, the error $\\delta_j^L$ is exactly equal to the rate of change of the cost function as a function of the bias."
   ]
  },
  {
   "cell_type": "markdown",
   "id": "cfd6c9d7",
   "metadata": {},
   "source": [
    "## Bringing it together\n",
    "\n",
    "We have now three equations that are essential for the computations of the derivatives of the cost function at the output layer. These equations are needed to start the algorithm and they are"
   ]
  },
  {
   "cell_type": "markdown",
   "id": "73360f7e",
   "metadata": {},
   "source": [
    "<!-- Equation labels as ordinary links -->\n",
    "<div id=\"_auto1\"></div>\n",
    "\n",
    "$$\n",
    "\\begin{equation}\n",
    "\\frac{\\partial{\\cal C}(\\hat{W^L})}{\\partial w_{jk}^L}  =  \\delta_j^La_k^{L-1},\n",
    "\\label{_auto1} \\tag{2}\n",
    "\\end{equation}\n",
    "$$"
   ]
  },
  {
   "cell_type": "markdown",
   "id": "2685bc86",
   "metadata": {},
   "source": [
    "and"
   ]
  },
  {
   "cell_type": "markdown",
   "id": "ff174cf5",
   "metadata": {},
   "source": [
    "<!-- Equation labels as ordinary links -->\n",
    "<div id=\"_auto2\"></div>\n",
    "\n",
    "$$\n",
    "\\begin{equation}\n",
    "\\delta_j^L = \\sigma'(z_j^L)\\frac{\\partial {\\cal C}}{\\partial (a_j^L)},\n",
    "\\label{_auto2} \\tag{3}\n",
    "\\end{equation}\n",
    "$$"
   ]
  },
  {
   "cell_type": "markdown",
   "id": "1c97902a",
   "metadata": {},
   "source": [
    "and"
   ]
  },
  {
   "cell_type": "markdown",
   "id": "d70e9292",
   "metadata": {},
   "source": [
    "<!-- Equation labels as ordinary links -->\n",
    "<div id=\"_auto3\"></div>\n",
    "\n",
    "$$\n",
    "\\begin{equation}\n",
    "\\delta_j^L = \\frac{\\partial {\\cal C}}{\\partial b_j^L},\n",
    "\\label{_auto3} \\tag{4}\n",
    "\\end{equation}\n",
    "$$"
   ]
  },
  {
   "cell_type": "markdown",
   "id": "ffcecfbe",
   "metadata": {},
   "source": [
    "## Final back propagating equation\n",
    "\n",
    "We have that (replacing $L$ with a general layer $l$)"
   ]
  },
  {
   "cell_type": "markdown",
   "id": "e49c2a4e",
   "metadata": {},
   "source": [
    "$$\n",
    "\\delta_j^l =\\frac{\\partial {\\cal C}}{\\partial z_j^l}.\n",
    "$$"
   ]
  },
  {
   "cell_type": "markdown",
   "id": "4c706310",
   "metadata": {},
   "source": [
    "We want to express this in terms of the equations for layer $l+1$."
   ]
  },
  {
   "cell_type": "markdown",
   "id": "301cfb1f",
   "metadata": {},
   "source": [
    "## Using the chain rule and summing over all $k$ entries\n",
    "\n",
    "We obtain"
   ]
  },
  {
   "cell_type": "markdown",
   "id": "5dc4f3ba",
   "metadata": {},
   "source": [
    "$$\n",
    "\\delta_j^l =\\sum_k \\frac{\\partial {\\cal C}}{\\partial z_k^{l+1}}\\frac{\\partial z_k^{l+1}}{\\partial z_j^{l}}=\\sum_k \\delta_k^{l+1}\\frac{\\partial z_k^{l+1}}{\\partial z_j^{l}},\n",
    "$$"
   ]
  },
  {
   "cell_type": "markdown",
   "id": "3dfdac72",
   "metadata": {},
   "source": [
    "and recalling that"
   ]
  },
  {
   "cell_type": "markdown",
   "id": "c04afa91",
   "metadata": {},
   "source": [
    "$$\n",
    "z_j^{l+1} = \\sum_{i=1}^{M_{l}}w_{ij}^{l+1}a_i^{l}+b_j^{l+1},\n",
    "$$"
   ]
  },
  {
   "cell_type": "markdown",
   "id": "b7a22173",
   "metadata": {},
   "source": [
    "with $M_l$ being the number of nodes in layer $l$, we obtain"
   ]
  },
  {
   "cell_type": "markdown",
   "id": "fa9ff041",
   "metadata": {},
   "source": [
    "$$\n",
    "\\delta_j^l =\\sum_k \\delta_k^{l+1}w_{kj}^{l+1}\\sigma'(z_j^l),\n",
    "$$"
   ]
  },
  {
   "cell_type": "markdown",
   "id": "a1648ab9",
   "metadata": {},
   "source": [
    "This is our final equation.\n",
    "\n",
    "We are now ready to set up the algorithm for back propagation and learning the weights and biases."
   ]
  },
  {
   "cell_type": "markdown",
   "id": "24569ace",
   "metadata": {},
   "source": [
    "## Setting up the back propagation algorithm\n",
    "\n",
    "The four equations  provide us with a way of computing the gradient of the cost function. Let us write this out in the form of an algorithm.\n",
    "\n",
    "**First**, we set up the input data $\\hat{x}$ and the activations\n",
    "$\\hat{z}_1$ of the input layer and compute the activation function and\n",
    "the pertinent outputs $\\hat{a}^1$.\n",
    "\n",
    "**Secondly**, we perform then the feed forward till we reach the output\n",
    "layer and compute all $\\hat{z}_l$ of the input layer and compute the\n",
    "activation function and the pertinent outputs $\\hat{a}^l$ for\n",
    "$l=1,2,3,\\dots,L$.\n",
    "\n",
    "**Notation**: The first hidden layer has $l=1$ as label and the final output layer has $l=L$."
   ]
  },
  {
   "cell_type": "markdown",
   "id": "478d8aec",
   "metadata": {},
   "source": [
    "## Setting up the back propagation algorithm, part 2\n",
    "\n",
    "Thereafter we compute the ouput error $\\hat{\\delta}^L$ by computing all"
   ]
  },
  {
   "cell_type": "markdown",
   "id": "a17614e1",
   "metadata": {},
   "source": [
    "$$\n",
    "\\delta_j^L = \\sigma'(z_j^L)\\frac{\\partial {\\cal C}}{\\partial (a_j^L)}.\n",
    "$$"
   ]
  },
  {
   "cell_type": "markdown",
   "id": "2bc63b98",
   "metadata": {},
   "source": [
    "Then we compute the back propagate error for each $l=L-1,L-2,\\dots,1$ as"
   ]
  },
  {
   "cell_type": "markdown",
   "id": "060a6a00",
   "metadata": {},
   "source": [
    "$$\n",
    "\\delta_j^l = \\sum_k \\delta_k^{l+1}w_{kj}^{l+1}\\sigma'(z_j^l).\n",
    "$$"
   ]
  },
  {
   "cell_type": "markdown",
   "id": "f73677e1",
   "metadata": {},
   "source": [
    "## Setting up the Back propagation algorithm, part 3\n",
    "\n",
    "Finally, we update the weights and the biases using gradient descent\n",
    "for each $l=L-1,L-2,\\dots,1$ and update the weights and biases\n",
    "according to the rules"
   ]
  },
  {
   "cell_type": "markdown",
   "id": "b0faa8a5",
   "metadata": {},
   "source": [
    "$$\n",
    "w_{jk}^l\\leftarrow  = w_{jk}^l- \\eta \\delta_j^la_k^{l-1},\n",
    "$$"
   ]
  },
  {
   "cell_type": "markdown",
   "id": "4f0820e6",
   "metadata": {},
   "source": [
    "$$\n",
    "b_j^l \\leftarrow b_j^l-\\eta \\frac{\\partial {\\cal C}}{\\partial b_j^l}=b_j^l-\\eta \\delta_j^l,\n",
    "$$"
   ]
  },
  {
   "cell_type": "markdown",
   "id": "72ac45e2",
   "metadata": {},
   "source": [
    "with $\\eta$ being the learning rate."
   ]
  },
  {
   "cell_type": "markdown",
   "id": "53cbf551",
   "metadata": {},
   "source": [
    "## Updating the gradients\n",
    "\n",
    "With the back propagate error for each $l=L-1,L-2,\\dots,1$ as"
   ]
  },
  {
   "cell_type": "markdown",
   "id": "8a9433ea",
   "metadata": {},
   "source": [
    "$$\n",
    "\\delta_j^l = \\sum_k \\delta_k^{l+1}w_{kj}^{l+1}sigma'(z_j^l),\n",
    "$$"
   ]
  },
  {
   "cell_type": "markdown",
   "id": "07c92792",
   "metadata": {},
   "source": [
    "we update the weights and the biases using gradient descent for each $l=L-1,L-2,\\dots,1$ and update the weights and biases according to the rules"
   ]
  },
  {
   "cell_type": "markdown",
   "id": "efa48fd7",
   "metadata": {},
   "source": [
    "$$\n",
    "w_{jk}^l\\leftarrow  = w_{jk}^l- \\eta \\delta_j^la_k^{l-1},\n",
    "$$"
   ]
  },
  {
   "cell_type": "markdown",
   "id": "6c4db201",
   "metadata": {},
   "source": [
    "$$\n",
    "b_j^l \\leftarrow b_j^l-\\eta \\frac{\\partial {\\cal C}}{\\partial b_j^l}=b_j^l-\\eta \\delta_j^l,\n",
    "$$"
   ]
  },
  {
   "cell_type": "markdown",
   "id": "19ae4f4e",
   "metadata": {},
   "source": [
    "### Activation functions\n",
    "\n",
    "A property that characterizes a neural network, other than its\n",
    "connectivity, is the choice of activation function(s).  As described\n",
    "in, the following restrictions are imposed on an activation function\n",
    "for a FFNN to fulfill the universal approximation theorem\n",
    "\n",
    "  * Non-constant\n",
    "\n",
    "  * Bounded\n",
    "\n",
    "  * Monotonically-increasing\n",
    "\n",
    "  * Continuous"
   ]
  },
  {
   "cell_type": "markdown",
   "id": "c478ce3c",
   "metadata": {},
   "source": [
    "### Activation functions, Logistic and Hyperbolic ones\n",
    "\n",
    "The second requirement excludes all linear functions. Furthermore, in\n",
    "a MLP with only linear activation functions, each layer simply\n",
    "performs a linear transformation of its inputs.\n",
    "\n",
    "Regardless of the number of layers, the output of the NN will be\n",
    "nothing but a linear function of the inputs. Thus we need to introduce\n",
    "some kind of non-linearity to the NN to be able to fit non-linear\n",
    "functions Typical examples are the logistic *Sigmoid*"
   ]
  },
  {
   "cell_type": "markdown",
   "id": "5142ca2b",
   "metadata": {},
   "source": [
    "$$\n",
    "f(x) = \\frac{1}{1 + e^{-x}},\n",
    "$$"
   ]
  },
  {
   "cell_type": "markdown",
   "id": "9c4a44fb",
   "metadata": {},
   "source": [
    "and the *hyperbolic tangent* function"
   ]
  },
  {
   "cell_type": "markdown",
   "id": "74fded03",
   "metadata": {},
   "source": [
    "$$\n",
    "f(x) = \\tanh(x)\n",
    "$$"
   ]
  },
  {
   "cell_type": "markdown",
   "id": "fefab641",
   "metadata": {},
   "source": [
    "### Relevance\n",
    "\n",
    "The *sigmoid* function are more biologically plausible because the\n",
    "output of inactive neurons are zero. Such activation function are\n",
    "called *one-sided*. However, it has been shown that the hyperbolic\n",
    "tangent performs better than the sigmoid for training MLPs.  has\n",
    "become the most popular for *deep neural networks*"
   ]
  },
  {
   "cell_type": "code",
   "execution_count": 7,
   "id": "56c89538",
   "metadata": {},
   "outputs": [],
   "source": [
    "\"\"\"The sigmoid function (or the logistic curve) is a \n",
    "function that takes any real number, z, and outputs a number (0,1).\n",
    "It is useful in neural networks for assigning weights on a relative scale.\n",
    "The value z is the weighted sum of parameters involved in the learning algorithm.\"\"\"\n",
    "\n",
    "import numpy\n",
    "import matplotlib.pyplot as plt\n",
    "import math as mt\n",
    "\n",
    "z = numpy.arange(-5, 5, .1)\n",
    "sigma_fn = numpy.vectorize(lambda z: 1/(1+numpy.exp(-z)))\n",
    "sigma = sigma_fn(z)\n",
    "\n",
    "fig = plt.figure()\n",
    "ax = fig.add_subplot(111)\n",
    "ax.plot(z, sigma)\n",
    "ax.set_ylim([-0.1, 1.1])\n",
    "ax.set_xlim([-5,5])\n",
    "ax.grid(True)\n",
    "ax.set_xlabel('z')\n",
    "ax.set_title('sigmoid function')\n",
    "\n",
    "plt.show()\n",
    "\n",
    "\"\"\"Step Function\"\"\"\n",
    "z = numpy.arange(-5, 5, .02)\n",
    "step_fn = numpy.vectorize(lambda z: 1.0 if z >= 0.0 else 0.0)\n",
    "step = step_fn(z)\n",
    "\n",
    "fig = plt.figure()\n",
    "ax = fig.add_subplot(111)\n",
    "ax.plot(z, step)\n",
    "ax.set_ylim([-0.5, 1.5])\n",
    "ax.set_xlim([-5,5])\n",
    "ax.grid(True)\n",
    "ax.set_xlabel('z')\n",
    "ax.set_title('step function')\n",
    "\n",
    "plt.show()\n",
    "\n",
    "\"\"\"Sine Function\"\"\"\n",
    "z = numpy.arange(-2*mt.pi, 2*mt.pi, 0.1)\n",
    "t = numpy.sin(z)\n",
    "\n",
    "fig = plt.figure()\n",
    "ax = fig.add_subplot(111)\n",
    "ax.plot(z, t)\n",
    "ax.set_ylim([-1.0, 1.0])\n",
    "ax.set_xlim([-2*mt.pi,2*mt.pi])\n",
    "ax.grid(True)\n",
    "ax.set_xlabel('z')\n",
    "ax.set_title('sine function')\n",
    "\n",
    "plt.show()\n",
    "\n",
    "\"\"\"Plots a graph of the squashing function used by a rectified linear\n",
    "unit\"\"\"\n",
    "z = numpy.arange(-2, 2, .1)\n",
    "zero = numpy.zeros(len(z))\n",
    "y = numpy.max([zero, z], axis=0)\n",
    "\n",
    "fig = plt.figure()\n",
    "ax = fig.add_subplot(111)\n",
    "ax.plot(z, y)\n",
    "ax.set_ylim([-2.0, 2.0])\n",
    "ax.set_xlim([-2.0, 2.0])\n",
    "ax.grid(True)\n",
    "ax.set_xlabel('z')\n",
    "ax.set_title('Rectified linear unit')\n",
    "\n",
    "plt.show()"
   ]
  },
  {
   "cell_type": "markdown",
   "id": "21bdb71c",
   "metadata": {},
   "source": [
    "## Fine-tuning neural network hyperparameters\n",
    "\n",
    "The flexibility of neural networks is also one of their main\n",
    "drawbacks: there are many hyperparameters to tweak. Not only can you\n",
    "use any imaginable network topology (how neurons/nodes are\n",
    "interconnected), but even in a simple FFNN you can change the number\n",
    "of layers, the number of neurons per layer, the type of activation\n",
    "function to use in each layer, the weight initialization logic, the\n",
    "stochastic gradient optmized and much more. How do you know what\n",
    "combination of hyperparameters is the best for your task?\n",
    "\n",
    "* You can use grid search with cross-validation to find the right hyperparameters.\n",
    "\n",
    "However,since there are many hyperparameters to tune, and since\n",
    "training a neural network on a large dataset takes a lot of time, you\n",
    "will only be able to explore a tiny part of the hyperparameter space.\n",
    "\n",
    "* You can use randomized search.\n",
    "\n",
    "* Or use tools like [Oscar](http://oscar.calldesk.ai/), which implements more complex algorithms to help you find a good set of hyperparameters quickly."
   ]
  },
  {
   "cell_type": "markdown",
   "id": "82072ebe",
   "metadata": {},
   "source": [
    "## Hidden layers\n",
    "\n",
    "For many problems you can start with just one or two hidden layers and\n",
    "it will work just fine.  For the MNIST data set you ca easily get a\n",
    "high accuracy using just one hidden layer with a few hundred neurons.\n",
    "You can reach for this data set above 98% accuracy using two hidden\n",
    "layers with the same total amount of neurons, in roughly the same\n",
    "amount of training time.\n",
    "\n",
    "For more complex problems, you can gradually ramp up the number of\n",
    "hidden layers, until you start overfitting the training set. Very\n",
    "complex tasks, such as large image classification or speech\n",
    "recognition, typically require networks with dozens of layers and they\n",
    "need a huge amount of training data. However, you will rarely have to\n",
    "train such networks from scratch: it is much more common to reuse\n",
    "parts of a pretrained state-of-the-art network that performs a similar\n",
    "task."
   ]
  },
  {
   "cell_type": "markdown",
   "id": "8bfa5b96",
   "metadata": {},
   "source": [
    "## Vanishing gradients\n",
    "\n",
    "The Back propagation algorithm we derived above works by going from\n",
    "the output layer to the input layer, propagating the error gradient on\n",
    "the way. Once the algorithm has computed the gradient of the cost\n",
    "function with regards to each parameter in the network, it uses these\n",
    "gradients to update each parameter with a Gradient Descent (GD) step.\n",
    "\n",
    "Unfortunately for us, the gradients often get smaller and smaller as\n",
    "the algorithm progresses down to the first hidden layers. As a result,\n",
    "the GD update leaves the lower layer connection weights virtually\n",
    "unchanged, and training never converges to a good solution. This is\n",
    "known in the literature as **the vanishing gradients problem**."
   ]
  },
  {
   "cell_type": "markdown",
   "id": "a52a67bd",
   "metadata": {},
   "source": [
    "## Exploding gradients\n",
    "\n",
    "In other cases, the opposite can happen, namely the the gradients can\n",
    "grow bigger and bigger. The result is that many of the layers get\n",
    "large updates of the weights the algorithm diverges. This is the\n",
    "**exploding gradients problem**, which is mostly encountered in\n",
    "recurrent neural networks. More generally, deep neural networks suffer\n",
    "from unstable gradients, different layers may learn at widely\n",
    "different speeds"
   ]
  },
  {
   "cell_type": "markdown",
   "id": "052308cd",
   "metadata": {},
   "source": [
    "## Is the Logistic activation function (Sigmoid)  our choice?\n",
    "\n",
    "Although this unfortunate behavior has been empirically observed for\n",
    "quite a while (it was one of the reasons why deep neural networks were\n",
    "mostly abandoned for a long time), it is only around 2010 that\n",
    "significant progress was made in understanding it.\n",
    "\n",
    "A paper titled [Understanding the Difficulty of Training Deep\n",
    "Feedforward Neural Networks by Xavier Glorot and Yoshua Bengio](http://proceedings.mlr.press/v9/glorot10a.html) found that\n",
    "the problems with the popular logistic\n",
    "sigmoid activation function and the weight initialization technique\n",
    "that was most popular at the time, namely random initialization using\n",
    "a normal distribution with a mean of 0 and a standard deviation of\n",
    "1."
   ]
  },
  {
   "cell_type": "markdown",
   "id": "2c943852",
   "metadata": {},
   "source": [
    "## Logistic function as the root of problems\n",
    "\n",
    "They showed that with this activation function and this\n",
    "initialization scheme, the variance of the outputs of each layer is\n",
    "much greater than the variance of its inputs. Going forward in the\n",
    "network, the variance keeps increasing after each layer until the\n",
    "activation function saturates at the top layers. This is actually made\n",
    "worse by the fact that the logistic function has a mean of 0.5, not 0\n",
    "(the hyperbolic tangent function has a mean of 0 and behaves slightly\n",
    "better than the logistic function in deep networks)."
   ]
  },
  {
   "cell_type": "markdown",
   "id": "09e98546",
   "metadata": {},
   "source": [
    "## The derivative of the Logistic funtion\n",
    "\n",
    "Looking at the logistic activation function, when inputs become large\n",
    "(negative or positive), the function saturates at 0 or 1, with a\n",
    "derivative extremely close to 0. Thus when backpropagation kicks in,\n",
    "it has virtually no gradient to propagate back through the network,\n",
    "and what little gradient exists keeps getting diluted as\n",
    "backpropagation progresses down through the top layers, so there is\n",
    "really nothing left for the lower layers.\n",
    "\n",
    "In their paper, Glorot and Bengio propose a way to significantly\n",
    "alleviate this problem. We need the signal to flow properly in both\n",
    "directions: in the forward direction when making predictions, and in\n",
    "the reverse direction when backpropagating gradients. We don’t want\n",
    "the signal to die out, nor do we want it to explode and saturate. For\n",
    "the signal to flow properly, the authors argue that we need the\n",
    "variance of the outputs of each layer to be equal to the variance of\n",
    "its inputs, and we also need the gradients to have equal variance\n",
    "before and after flowing through a layer in the reverse direction."
   ]
  },
  {
   "cell_type": "markdown",
   "id": "89458b0d",
   "metadata": {},
   "source": [
    "## Insights from the paper by Glorot and Bengio\n",
    "\n",
    "One of the insights in the 2010 paper by Glorot and Bengio was that\n",
    "the vanishing/exploding gradients problems were in part due to a poor\n",
    "choice of activation function. Until then most people had assumed that\n",
    "if Nature had chosen to use roughly sigmoid activation functions in\n",
    "biological neurons, they must be an excellent choice. But it turns out\n",
    "that other activation functions behave much better in deep neural\n",
    "networks, in particular the ReLU activation function, mostly because\n",
    "it does not saturate for positive values (and also because it is quite\n",
    "fast to compute)."
   ]
  },
  {
   "cell_type": "markdown",
   "id": "bb787cf2",
   "metadata": {},
   "source": [
    "## The RELU function family\n",
    "\n",
    "The ReLU activation function suffers from a problem known as the dying\n",
    "ReLUs: during training, some neurons effectively die, meaning they\n",
    "stop outputting anything other than 0.\n",
    "\n",
    "In some cases, you may find that half of your network’s neurons are\n",
    "dead, especially if you used a large learning rate. During training,\n",
    "if a neuron’s weights get updated such that the weighted sum of the\n",
    "neuron’s inputs is negative, it will start outputting 0. When this\n",
    "happen, the neuron is unlikely to come back to life since the gradient\n",
    "of the ReLU function is 0 when its input is negative."
   ]
  },
  {
   "cell_type": "markdown",
   "id": "8d6d8c18",
   "metadata": {},
   "source": [
    "## ELU function\n",
    "\n",
    "To solve this problem, nowadays practitioners use a variant of the\n",
    "ReLU function, such as the leaky ReLU discussed above or the so-called\n",
    "exponential linear unit (ELU) function"
   ]
  },
  {
   "cell_type": "markdown",
   "id": "52c4e6b6",
   "metadata": {},
   "source": [
    "$$\n",
    "ELU(z) = \\left\\{\\begin{array}{cc} \\alpha\\left( \\exp{(z)}-1\\right) & z < 0,\\\\  z & z \\ge 0.\\end{array}\\right.\n",
    "$$"
   ]
  },
  {
   "cell_type": "markdown",
   "id": "d0dad2c7",
   "metadata": {},
   "source": [
    "## Which activation function should we use?\n",
    "\n",
    "In general it seems that the ELU activation function is better than\n",
    "the leaky ReLU function (and its variants), which is better than\n",
    "ReLU. ReLU performs better than $\\tanh$ which in turn performs better\n",
    "than the logistic function.\n",
    "\n",
    "If runtime performance is an issue, then you may opt for the leaky\n",
    "ReLU function over the ELU function If you don’t want to tweak yet\n",
    "another hyperparameter, you may just use the default $\\alpha$ of\n",
    "$0.01$ for the leaky ReLU, and $1$ for ELU. If you have spare time and\n",
    "computing power, you can use cross-validation or bootstrap to evaluate\n",
    "other activation functions."
   ]
  },
  {
   "cell_type": "markdown",
   "id": "31d1148a",
   "metadata": {},
   "source": [
    "## More on activation functions, output layers\n",
    "\n",
    "In most cases you can use the ReLU activation function in the hidden\n",
    "layers (or one of its variants).\n",
    "\n",
    "It is a bit faster to compute than other activation functions, and the\n",
    "gradient descent optimization does in general not get stuck.\n",
    "\n",
    "**For the output layer:**\n",
    "\n",
    "* For classification the softmax activation function is generally a good choice for classification tasks (when the classes are mutually exclusive).\n",
    "\n",
    "* For regression tasks, you can simply use no activation function at all."
   ]
  },
  {
   "cell_type": "markdown",
   "id": "d6d621a7",
   "metadata": {},
   "source": [
    "## Batch Normalization\n",
    "\n",
    "Batch Normalization aims to address the vanishing/exploding gradients\n",
    "problems, and more generally the problem that the distribution of each\n",
    "layer’s inputs changes during training, as the parameters of the\n",
    "previous layers change.\n",
    "\n",
    "The technique consists of adding an operation in the model just before\n",
    "the activation function of each layer, simply zero-centering and\n",
    "normalizing the inputs, then scaling and shifting the result using two\n",
    "new parameters per layer (one for scaling, the other for shifting). In\n",
    "other words, this operation lets the model learn the optimal scale and\n",
    "mean of the inputs for each layer.  In order to zero-center and\n",
    "normalize the inputs, the algorithm needs to estimate the inputs’ mean\n",
    "and standard deviation. It does so by evaluating the mean and standard\n",
    "deviation of the inputs over the current mini-batch, from this the\n",
    "name batch normalization."
   ]
  },
  {
   "cell_type": "markdown",
   "id": "379983d5",
   "metadata": {},
   "source": [
    "## Dropout\n",
    "\n",
    "It is a fairly simple algorithm: at every training step, every neuron\n",
    "(including the input neurons but excluding the output neurons) has a\n",
    "probability $p$ of being temporarily dropped out, meaning it will be\n",
    "entirely ignored during this training step, but it may be active\n",
    "during the next step.\n",
    "\n",
    "The hyperparameter $p$ is called the dropout rate, and it is typically\n",
    "set to 50%. After training, the neurons are not dropped anymore.  It\n",
    "is viewed as one of the most popular regularization techniques."
   ]
  },
  {
   "cell_type": "markdown",
   "id": "b769aa51",
   "metadata": {},
   "source": [
    "## Gradient Clipping\n",
    "\n",
    "A popular technique to lessen the exploding gradients problem is to\n",
    "simply clip the gradients during backpropagation so that they never\n",
    "exceed some threshold (this is mostly useful for recurrent neural\n",
    "networks).\n",
    "\n",
    "This technique is called Gradient Clipping.\n",
    "\n",
    "In general however, Batch\n",
    "Normalization is preferred."
   ]
  },
  {
   "cell_type": "markdown",
   "id": "abeef409",
   "metadata": {},
   "source": [
    "## A top-down perspective on Neural networks\n",
    "\n",
    "The first thing we would like to do is divide the data into two or\n",
    "three parts. A training set, a validation or dev (development) set,\n",
    "and a test set. The test set is the data on which we want to make\n",
    "predictions. The dev set is a subset of the training data we use to\n",
    "check how well we are doing out-of-sample, after training the model on\n",
    "the training dataset. We use the validation error as a proxy for the\n",
    "test error in order to make tweaks to our model. It is crucial that we\n",
    "do not use any of the test data to train the algorithm. This is a\n",
    "cardinal sin in ML. Then:\n",
    "\n",
    "1. Estimate optimal error rate\n",
    "\n",
    "2. Minimize underfitting (bias) on training data set.\n",
    "\n",
    "3. Make sure you are not overfitting."
   ]
  },
  {
   "cell_type": "markdown",
   "id": "75165741",
   "metadata": {},
   "source": [
    "## More top-down perspectives\n",
    "\n",
    "If the validation and test sets are drawn from the same distributions,\n",
    "then a good performance on the validation set should lead to similarly\n",
    "good performance on the test set. \n",
    "\n",
    "However, sometimes\n",
    "the training data and test data differ in subtle ways because, for\n",
    "example, they are collected using slightly different methods, or\n",
    "because it is cheaper to collect data in one way versus another. In\n",
    "this case, there can be a mismatch between the training and test\n",
    "data. This can lead to the neural network overfitting these small\n",
    "differences between the test and training sets, and a poor performance\n",
    "on the test set despite having a good performance on the validation\n",
    "set. To rectify this, Andrew Ng suggests making two validation or dev\n",
    "sets, one constructed from the training data and one constructed from\n",
    "the test data. The difference between the performance of the algorithm\n",
    "on these two validation sets quantifies the train-test mismatch. This\n",
    "can serve as another important diagnostic when using DNNs for\n",
    "supervised learning."
   ]
  },
  {
   "cell_type": "markdown",
   "id": "14f22927",
   "metadata": {},
   "source": [
    "## Limitations of supervised learning with deep networks\n",
    "\n",
    "Like all statistical methods, supervised learning using neural\n",
    "networks has important limitations. This is especially important when\n",
    "one seeks to apply these methods, especially to physics problems. Like\n",
    "all tools, DNNs are not a universal solution. Often, the same or\n",
    "better performance on a task can be achieved by using a few\n",
    "hand-engineered features (or even a collection of random\n",
    "features)."
   ]
  },
  {
   "cell_type": "markdown",
   "id": "f5ad6d66",
   "metadata": {},
   "source": [
    "## Limitations of NNs\n",
    "\n",
    "Here we list some of the important limitations of supervised neural network based models. \n",
    "\n",
    "* **Need labeled data**. All supervised learning methods, DNNs for supervised learning require labeled data. Often, labeled data is harder to acquire than unlabeled data (e.g. one must pay for human experts to label images).\n",
    "\n",
    "* **Supervised neural networks are extremely data intensive.** DNNs are data hungry. They perform best when data is plentiful. This is doubly so for supervised methods where the data must also be labeled. The utility of DNNs is extremely limited if data is hard to acquire or the datasets are small (hundreds to a few thousand samples). In this case, the performance of other methods that utilize hand-engineered features can exceed that of DNNs."
   ]
  },
  {
   "cell_type": "markdown",
   "id": "82f3c1c1",
   "metadata": {},
   "source": [
    "## Homogeneous data\n",
    "\n",
    "* **Homogeneous data.** Almost all DNNs deal with homogeneous data of one type. It is very hard to design architectures that mix and match data types (i.e. some continuous variables, some discrete variables, some time series). In applications beyond images, video, and language, this is often what is required. In contrast, ensemble models like random forests or gradient-boosted trees have no difficulty handling mixed data types."
   ]
  },
  {
   "cell_type": "markdown",
   "id": "01fba9a0",
   "metadata": {},
   "source": [
    "## More limitations\n",
    "\n",
    "* **Many problems are not about prediction.** In natural science we are often interested in learning something about the underlying distribution that generates the data. In this case, it is often difficult to cast these ideas in a supervised learning setting. While the problems are related, it is possible to make good predictions with a *wrong* model. The model might or might not be useful for understanding the underlying science.\n",
    "\n",
    "Some of these remarks are particular to DNNs, others are shared by all supervised learning methods. This motivates the use of unsupervised methods which in part circumvent these problems."
   ]
  }
 ],
 "metadata": {
  "kernelspec": {
   "display_name": "Python 3 (ipykernel)",
   "language": "python",
   "name": "python3"
  },
  "language_info": {
   "codemirror_mode": {
    "name": "ipython",
    "version": 3
   },
   "file_extension": ".py",
   "mimetype": "text/x-python",
   "name": "python",
   "nbconvert_exporter": "python",
   "pygments_lexer": "ipython3",
   "version": "3.9.18"
  }
 },
 "nbformat": 4,
 "nbformat_minor": 5
}
