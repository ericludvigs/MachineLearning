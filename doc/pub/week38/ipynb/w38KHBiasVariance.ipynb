{
 "cells": [
  {
   "cell_type": "code",
   "execution_count": 3,
   "metadata": {},
   "outputs": [],
   "source": [
    "import numpy as np\n",
    "import matplotlib.pyplot as plt\n",
    "\n",
    "from sklearn.preprocessing import PolynomialFeatures\n",
    "from sklearn.linear_model import LinearRegression\n",
    "from sklearn.model_selection import train_test_split\n",
    "from sklearn.utils import resample\n",
    "from sklearn.metrics import mean_squared_error"
   ]
  },
  {
   "cell_type": "code",
   "execution_count": 4,
   "metadata": {},
   "outputs": [],
   "source": [
    "n = 50  # increase, var goes down\n",
    "x = np.random.rand(n) * 10\n",
    "y = 5 + x**2 + np.random.randn(n) * 3  # decrease,\n",
    "poly = PolynomialFeatures(10)  # increase, var goes up"
   ]
  },
  {
   "cell_type": "code",
   "execution_count": 5,
   "metadata": {},
   "outputs": [],
   "source": [
    "X = poly.fit_transform(x.reshape(n, 1))\n",
    "\n",
    "X_train, X_test, y_train, y_test = train_test_split(X, y, test_size=0.2)\n",
    "x_test = X_test[:, 1]"
   ]
  },
  {
   "cell_type": "code",
   "execution_count": 6,
   "metadata": {},
   "outputs": [],
   "source": [
    "models = []\n",
    "for i in range(10):\n",
    "    X_sample, y_sample = resample(X_train, y_train)\n",
    "    mdl = LinearRegression().fit(X_sample, y_sample)\n",
    "    models.append(mdl)"
   ]
  },
  {
   "cell_type": "code",
   "execution_count": 7,
   "metadata": {},
   "outputs": [
    {
     "name": "stdout",
     "output_type": "stream",
     "text": [
      "92.13165463148223\n",
      "92.13165463148225\n"
     ]
    },
    {
     "data": {
      "text/plain": [
       "<ErrorbarContainer object of 3 artists>"
      ]
     },
     "execution_count": 7,
     "metadata": {},
     "output_type": "execute_result"
    },
    {
     "data": {
      "image/png": "[encoded data removed]",
      "text/plain": [
       "<Figure size 640x480 with 1 Axes>"
      ]
     },
     "metadata": {},
     "output_type": "display_data"
    }
   ],
   "source": [
    "def sort_both(x, y):\n",
    "    sort_inds = np.argsort(x)\n",
    "    return x[sort_inds], y[sort_inds]\n",
    "\n",
    "\n",
    "preds = np.zeros((10, y_test.size))\n",
    "for i in range(10):\n",
    "    y_pred = models[i].predict(X_test)\n",
    "    preds[i, :] = y_pred\n",
    "\n",
    "means = np.mean(preds, axis=0)\n",
    "vars = np.var(preds, axis=0)\n",
    "\n",
    "bias = np.mean((y_test - means) ** 2)\n",
    "variance = np.mean(vars)\n",
    "mse = np.mean((preds - y_test) ** 2)\n",
    "print(bias + variance)\n",
    "print(mse)\n",
    "\n",
    "for i in range(10):\n",
    "    y_pred = models[i].predict(X_test)\n",
    "    plt.plot(*sort_both(x_test, y_pred), lw=0.5, color=\"red\")\n",
    "plt.scatter(*sort_both(X_test[:, 1], y_test))\n",
    "# plt.scatter(*sort_both(X_train[:, 1], y_train))\n",
    "sort_inds = np.argsort(x_test)\n",
    "plt.errorbar(*sort_both(x_test, means), yerr=vars[sort_inds])"
   ]
  },
  {
   "cell_type": "code",
   "execution_count": null,
   "metadata": {},
   "outputs": [],
   "source": []
  },
  {
   "cell_type": "code",
   "execution_count": 8,
   "metadata": {},
   "outputs": [
    {
     "name": "stdout",
     "output_type": "stream",
     "text": [
      "15.94085519235225\n"
     ]
    }
   ],
   "source": [
    "print(bias)"
   ]
  },
  {
   "cell_type": "code",
   "execution_count": 9,
   "metadata": {},
   "outputs": [
    {
     "name": "stdout",
     "output_type": "stream",
     "text": [
      "76.19079943912999\n"
     ]
    }
   ],
   "source": [
    "print(variance)"
   ]
  },
  {
   "cell_type": "code",
   "execution_count": null,
   "metadata": {},
   "outputs": [],
   "source": []
  },
  {
   "cell_type": "code",
   "execution_count": null,
   "metadata": {},
   "outputs": [],
   "source": []
  }
 ],
 "metadata": {
  "kernelspec": {
   "display_name": "Python 3 (ipykernel)",
   "language": "python",
   "name": "python3"
  },
  "language_info": {
   "codemirror_mode": {
    "name": "ipython",
    "version": 3
   },
   "file_extension": ".py",
   "mimetype": "text/x-python",
   "name": "python",
   "nbconvert_exporter": "python",
   "pygments_lexer": "ipython3",
   "version": "3.9.18"
  }
 },
 "nbformat": 4,
 "nbformat_minor": 2
}
