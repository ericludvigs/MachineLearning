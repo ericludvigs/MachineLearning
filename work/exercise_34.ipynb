{
 "cells": [
  {
   "cell_type": "markdown",
   "id": "27166338",
   "metadata": {
    "editable": true
   },
   "source": [
    "# Week 34: Introduction to the course, Logistics and Practicalities\n",
    "**Eric Ludvigsen**, Student\n",
    "\n",
    "Date: **Week 34, August 19-23, 2024**"
   ]
  },
  {
   "cell_type": "markdown",
   "id": "01a0fc73",
   "metadata": {
    "editable": true
   },
   "source": [
    "## Exercises\n",
    "\n",
    "Here are three possible exercises for week 34"
   ]
  },
  {
   "cell_type": "markdown",
   "id": "8a0bd69f",
   "metadata": {
    "editable": true
   },
   "source": [
    "## Exercise 1: Setting up various Python environments\n",
    "\n",
    "The first exercise here is of a mere technical art. We want you to have \n",
    "* git as a version control software and to establish a user account on a provider like GitHub. Other providers like GitLab etc are equally fine. You can also use the University of Oslo [GitHub facilities](https://www.uio.no/tjenester/it/maskin/filer/versjonskontroll/github.html). \n",
    "\n",
    "* Install various Python packages\n",
    "\n",
    "We will make extensive use of Python as programming language and its\n",
    "myriad of available libraries.  You will find\n",
    "IPython/Jupyter notebooks invaluable in your work.  You can run **R**\n",
    "codes in the Jupyter/IPython notebooks, with the immediate benefit of\n",
    "visualizing your data. You can also use compiled languages like C++,\n",
    "Rust, Fortran etc if you prefer. The focus in these lectures will be\n",
    "on Python.\n",
    "\n",
    "If you have Python installed (we recommend Python3) and you feel\n",
    "pretty familiar with installing different packages, we recommend that\n",
    "you install the following Python packages via **pip** as \n",
    "\n",
    "1. pip install numpy scipy matplotlib ipython scikit-learn sympy pandas pillow \n",
    "\n",
    "For **Tensorflow**, we recommend following the instructions in the text of \n",
    "[Aurelien Geron, Hands‑On Machine Learning with Scikit‑Learn and TensorFlow, O'Reilly](http://shop.oreilly.com/product/0636920052289.do)\n",
    "\n",
    "We will come back to **tensorflow** later. \n",
    "\n",
    "For Python3, replace **pip** with **pip3**.\n",
    "\n",
    "For OSX users we recommend, after having installed Xcode, to\n",
    "install **brew**. Brew allows for a seamless installation of additional\n",
    "software via for example \n",
    "\n",
    "1. brew install python3\n",
    "\n",
    "For Linux users, with its variety of distributions like for example the widely popular Ubuntu distribution,\n",
    "you can use **pip** as well and simply install Python as \n",
    "\n",
    "1. sudo apt-get install python3  (or python for Python2.7)\n",
    "\n",
    "If you don't want to perform these operations separately and venture\n",
    "into the hassle of exploring how to set up dependencies and paths, we\n",
    "recommend two widely used distrubutions which set up all relevant\n",
    "dependencies for Python, namely \n",
    "\n",
    "* [Anaconda](https://docs.anaconda.com/), \n",
    "\n",
    "which is an open source\n",
    "distribution of the Python and R programming languages for large-scale\n",
    "data processing, predictive analytics, and scientific computing, that\n",
    "aims to simplify package management and deployment. Package versions\n",
    "are managed by the package management system **conda**. \n",
    "\n",
    "* [Enthought canopy](https://www.enthought.com/product/canopy/) \n",
    "\n",
    "is a Python\n",
    "distribution for scientific and analytic computing distribution and\n",
    "analysis environment, available for free and under a commercial\n",
    "license.\n",
    "\n",
    "We recommend using **Anaconda** if you are not too familiar with setting paths in a terminal environment."
   ]
  },
  {
   "cell_type": "code",
   "execution_count": 547,
   "id": "4b83b591",
   "metadata": {},
   "outputs": [],
   "source": [
    "# enviornment is set up hence these packages working\n",
    "import numpy as np\n",
    "import pandas as pd\n",
    "import sklearn.linear_model as skl\n",
    "from sklearn.metrics import mean_squared_error, r2_score, mean_absolute_error"
   ]
  },
  {
   "cell_type": "markdown",
   "id": "ea03d9f0",
   "metadata": {
    "editable": true
   },
   "source": [
    "## Exercise 2: making your own data and exploring scikit-learn\n",
    "\n",
    "We will generate our own dataset for a function $y(x)$ where $x \\in [0,1]$ and defined by random numbers computed with the uniform distribution. The function $y$ is a quadratic polynomial in $x$ with added stochastic noise according to the normal distribution $\\cal {N}(0,1)$.\n",
    "The following simple Python instructions define our $x$ and $y$ values (with 100 data points)."
   ]
  },
  {
   "cell_type": "code",
   "execution_count": 548,
   "id": "2ffabbd8",
   "metadata": {
    "collapsed": false,
    "editable": true
   },
   "outputs": [
    {
     "data": {
      "text/html": [
       "<div>\n",
       "<style scoped>\n",
       "    .dataframe tbody tr th:only-of-type {\n",
       "        vertical-align: middle;\n",
       "    }\n",
       "\n",
       "    .dataframe tbody tr th {\n",
       "        vertical-align: top;\n",
       "    }\n",
       "\n",
       "    .dataframe thead th {\n",
       "        text-align: right;\n",
       "    }\n",
       "</style>\n",
       "<table border=\"1\" class=\"dataframe\">\n",
       "  <thead>\n",
       "    <tr style=\"text-align: right;\">\n",
       "      <th></th>\n",
       "      <th>x</th>\n",
       "      <th>y</th>\n",
       "    </tr>\n",
       "  </thead>\n",
       "  <tbody>\n",
       "    <tr>\n",
       "      <th>0</th>\n",
       "      <td>0.350506</td>\n",
       "      <td>2.667192</td>\n",
       "    </tr>\n",
       "    <tr>\n",
       "      <th>1</th>\n",
       "      <td>0.088623</td>\n",
       "      <td>1.957224</td>\n",
       "    </tr>\n",
       "    <tr>\n",
       "      <th>2</th>\n",
       "      <td>0.411425</td>\n",
       "      <td>2.580862</td>\n",
       "    </tr>\n",
       "    <tr>\n",
       "      <th>3</th>\n",
       "      <td>0.057123</td>\n",
       "      <td>2.026320</td>\n",
       "    </tr>\n",
       "    <tr>\n",
       "      <th>4</th>\n",
       "      <td>0.720606</td>\n",
       "      <td>4.702038</td>\n",
       "    </tr>\n",
       "    <tr>\n",
       "      <th>...</th>\n",
       "      <td>...</td>\n",
       "      <td>...</td>\n",
       "    </tr>\n",
       "    <tr>\n",
       "      <th>95</th>\n",
       "      <td>0.604227</td>\n",
       "      <td>3.780112</td>\n",
       "    </tr>\n",
       "    <tr>\n",
       "      <th>96</th>\n",
       "      <td>0.070080</td>\n",
       "      <td>2.161398</td>\n",
       "    </tr>\n",
       "    <tr>\n",
       "      <th>97</th>\n",
       "      <td>0.186847</td>\n",
       "      <td>2.186813</td>\n",
       "    </tr>\n",
       "    <tr>\n",
       "      <th>98</th>\n",
       "      <td>0.956558</td>\n",
       "      <td>6.478845</td>\n",
       "    </tr>\n",
       "    <tr>\n",
       "      <th>99</th>\n",
       "      <td>0.944451</td>\n",
       "      <td>6.303235</td>\n",
       "    </tr>\n",
       "  </tbody>\n",
       "</table>\n",
       "<p>100 rows × 2 columns</p>\n",
       "</div>"
      ],
      "text/plain": [
       "           x         y\n",
       "0   0.350506  2.667192\n",
       "1   0.088623  1.957224\n",
       "2   0.411425  2.580862\n",
       "3   0.057123  2.026320\n",
       "4   0.720606  4.702038\n",
       "..       ...       ...\n",
       "95  0.604227  3.780112\n",
       "96  0.070080  2.161398\n",
       "97  0.186847  2.186813\n",
       "98  0.956558  6.478845\n",
       "99  0.944451  6.303235\n",
       "\n",
       "[100 rows x 2 columns]"
      ]
     },
     "metadata": {},
     "output_type": "display_data"
    }
   ],
   "source": [
    "n = 100\n",
    "randomness_coeff = 0.2\n",
    "x = np.random.rand(n,1)\n",
    "y = 2.0 + 5*(x*x) + randomness_coeff * np.random.randn(n,1)\n",
    "\n",
    "# fancier display than numpy print\n",
    "results_frame = pd.DataFrame({\"x\":x.flatten(), \"y\":y.flatten()})\n",
    "display(results_frame)"
   ]
  },
  {
   "cell_type": "markdown",
   "id": "38967294",
   "metadata": {
    "editable": true
   },
   "source": [
    "1. Write your own code (following the examples under the [regression notes](https://compphysics.github.io/MachineLearning/doc/LectureNotes/_build/html/chapter1.html)) for computing the parametrization of the data set fitting a second-order polynomial. \n",
    "\n"
   ]
  },
  {
   "cell_type": "code",
   "execution_count": 549,
   "id": "5cbb64a8",
   "metadata": {},
   "outputs": [
    {
     "name": "stdout",
     "output_type": "stream",
     "text": [
      "feature matrix\n"
     ]
    },
    {
     "data": {
      "text/html": [
       "<div>\n",
       "<style scoped>\n",
       "    .dataframe tbody tr th:only-of-type {\n",
       "        vertical-align: middle;\n",
       "    }\n",
       "\n",
       "    .dataframe tbody tr th {\n",
       "        vertical-align: top;\n",
       "    }\n",
       "\n",
       "    .dataframe thead th {\n",
       "        text-align: right;\n",
       "    }\n",
       "</style>\n",
       "<table border=\"1\" class=\"dataframe\">\n",
       "  <thead>\n",
       "    <tr style=\"text-align: right;\">\n",
       "      <th></th>\n",
       "      <th>0</th>\n",
       "      <th>1</th>\n",
       "      <th>2</th>\n",
       "    </tr>\n",
       "  </thead>\n",
       "  <tbody>\n",
       "    <tr>\n",
       "      <th>0</th>\n",
       "      <td>1.0</td>\n",
       "      <td>0.350506</td>\n",
       "      <td>0.122855</td>\n",
       "    </tr>\n",
       "    <tr>\n",
       "      <th>1</th>\n",
       "      <td>1.0</td>\n",
       "      <td>0.088623</td>\n",
       "      <td>0.007854</td>\n",
       "    </tr>\n",
       "    <tr>\n",
       "      <th>2</th>\n",
       "      <td>1.0</td>\n",
       "      <td>0.411425</td>\n",
       "      <td>0.169271</td>\n",
       "    </tr>\n",
       "    <tr>\n",
       "      <th>3</th>\n",
       "      <td>1.0</td>\n",
       "      <td>0.057123</td>\n",
       "      <td>0.003263</td>\n",
       "    </tr>\n",
       "    <tr>\n",
       "      <th>4</th>\n",
       "      <td>1.0</td>\n",
       "      <td>0.720606</td>\n",
       "      <td>0.519274</td>\n",
       "    </tr>\n",
       "    <tr>\n",
       "      <th>...</th>\n",
       "      <td>...</td>\n",
       "      <td>...</td>\n",
       "      <td>...</td>\n",
       "    </tr>\n",
       "    <tr>\n",
       "      <th>95</th>\n",
       "      <td>1.0</td>\n",
       "      <td>0.604227</td>\n",
       "      <td>0.365090</td>\n",
       "    </tr>\n",
       "    <tr>\n",
       "      <th>96</th>\n",
       "      <td>1.0</td>\n",
       "      <td>0.070080</td>\n",
       "      <td>0.004911</td>\n",
       "    </tr>\n",
       "    <tr>\n",
       "      <th>97</th>\n",
       "      <td>1.0</td>\n",
       "      <td>0.186847</td>\n",
       "      <td>0.034912</td>\n",
       "    </tr>\n",
       "    <tr>\n",
       "      <th>98</th>\n",
       "      <td>1.0</td>\n",
       "      <td>0.956558</td>\n",
       "      <td>0.915004</td>\n",
       "    </tr>\n",
       "    <tr>\n",
       "      <th>99</th>\n",
       "      <td>1.0</td>\n",
       "      <td>0.944451</td>\n",
       "      <td>0.891988</td>\n",
       "    </tr>\n",
       "  </tbody>\n",
       "</table>\n",
       "<p>100 rows × 3 columns</p>\n",
       "</div>"
      ],
      "text/plain": [
       "      0         1         2\n",
       "0   1.0  0.350506  0.122855\n",
       "1   1.0  0.088623  0.007854\n",
       "2   1.0  0.411425  0.169271\n",
       "3   1.0  0.057123  0.003263\n",
       "4   1.0  0.720606  0.519274\n",
       "..  ...       ...       ...\n",
       "95  1.0  0.604227  0.365090\n",
       "96  1.0  0.070080  0.004911\n",
       "97  1.0  0.186847  0.034912\n",
       "98  1.0  0.956558  0.915004\n",
       "99  1.0  0.944451  0.891988\n",
       "\n",
       "[100 rows x 3 columns]"
      ]
     },
     "metadata": {},
     "output_type": "display_data"
    }
   ],
   "source": [
    "# make design matrix\n",
    "P = 3\n",
    "# matrix should correspond to pattern\n",
    "# beta_1 + beta_2*x + beta_3*x^2\n",
    "feature_matrix = np.zeros((n, P))\n",
    "\n",
    "#feature_matrix[:,0] = 1\n",
    "#feature_matrix[:,1] = x[:,0]\n",
    "#feature_matrix[:,2] = x[:,0]**2\n",
    "#feature_matrix[:,3] = x[:,0]**3\n",
    "\n",
    "# automated way of filling matrix\n",
    "for exponent in range(0,P):\n",
    "    feature_matrix[:,exponent] = x[:,0]**exponent\n",
    "\n",
    "print(\"feature matrix\")\n",
    "df = pd.DataFrame(feature_matrix)\n",
    "display(df)\n"
   ]
  },
  {
   "cell_type": "code",
   "execution_count": 550,
   "id": "765ed13a",
   "metadata": {},
   "outputs": [
    {
     "name": "stdout",
     "output_type": "stream",
     "text": [
      "feature matrix shape:  (100, 3)\n",
      "transposed: (3, 100)\n",
      "X^T X shape: (3, 3)\n",
      "\n",
      "beta\n"
     ]
    },
    {
     "data": {
      "text/html": [
       "<div>\n",
       "<style scoped>\n",
       "    .dataframe tbody tr th:only-of-type {\n",
       "        vertical-align: middle;\n",
       "    }\n",
       "\n",
       "    .dataframe tbody tr th {\n",
       "        vertical-align: top;\n",
       "    }\n",
       "\n",
       "    .dataframe thead th {\n",
       "        text-align: right;\n",
       "    }\n",
       "</style>\n",
       "<table border=\"1\" class=\"dataframe\">\n",
       "  <thead>\n",
       "    <tr style=\"text-align: right;\">\n",
       "      <th></th>\n",
       "      <th>0</th>\n",
       "    </tr>\n",
       "  </thead>\n",
       "  <tbody>\n",
       "    <tr>\n",
       "      <th>0</th>\n",
       "      <td>2.068780</td>\n",
       "    </tr>\n",
       "    <tr>\n",
       "      <th>1</th>\n",
       "      <td>-0.372724</td>\n",
       "    </tr>\n",
       "    <tr>\n",
       "      <th>2</th>\n",
       "      <td>5.303747</td>\n",
       "    </tr>\n",
       "  </tbody>\n",
       "</table>\n",
       "</div>"
      ],
      "text/plain": [
       "          0\n",
       "0  2.068780\n",
       "1 -0.372724\n",
       "2  5.303747"
      ]
     },
     "metadata": {},
     "output_type": "display_data"
    },
    {
     "name": "stdout",
     "output_type": "stream",
     "text": [
      "y tilde\n"
     ]
    },
    {
     "data": {
      "text/html": [
       "<div>\n",
       "<style scoped>\n",
       "    .dataframe tbody tr th:only-of-type {\n",
       "        vertical-align: middle;\n",
       "    }\n",
       "\n",
       "    .dataframe tbody tr th {\n",
       "        vertical-align: top;\n",
       "    }\n",
       "\n",
       "    .dataframe thead th {\n",
       "        text-align: right;\n",
       "    }\n",
       "</style>\n",
       "<table border=\"1\" class=\"dataframe\">\n",
       "  <thead>\n",
       "    <tr style=\"text-align: right;\">\n",
       "      <th></th>\n",
       "      <th>0</th>\n",
       "    </tr>\n",
       "  </thead>\n",
       "  <tbody>\n",
       "    <tr>\n",
       "      <th>0</th>\n",
       "      <td>2.589728</td>\n",
       "    </tr>\n",
       "    <tr>\n",
       "      <th>1</th>\n",
       "      <td>2.077404</td>\n",
       "    </tr>\n",
       "    <tr>\n",
       "      <th>2</th>\n",
       "      <td>2.813200</td>\n",
       "    </tr>\n",
       "    <tr>\n",
       "      <th>3</th>\n",
       "      <td>2.064795</td>\n",
       "    </tr>\n",
       "    <tr>\n",
       "      <th>4</th>\n",
       "      <td>4.554288</td>\n",
       "    </tr>\n",
       "    <tr>\n",
       "      <th>...</th>\n",
       "      <td>...</td>\n",
       "    </tr>\n",
       "    <tr>\n",
       "      <th>95</th>\n",
       "      <td>3.779914</td>\n",
       "    </tr>\n",
       "    <tr>\n",
       "      <th>96</th>\n",
       "      <td>2.068708</td>\n",
       "    </tr>\n",
       "    <tr>\n",
       "      <th>97</th>\n",
       "      <td>2.184301</td>\n",
       "    </tr>\n",
       "    <tr>\n",
       "      <th>98</th>\n",
       "      <td>6.565196</td>\n",
       "    </tr>\n",
       "    <tr>\n",
       "      <th>99</th>\n",
       "      <td>6.447637</td>\n",
       "    </tr>\n",
       "  </tbody>\n",
       "</table>\n",
       "<p>100 rows × 1 columns</p>\n",
       "</div>"
      ],
      "text/plain": [
       "           0\n",
       "0   2.589728\n",
       "1   2.077404\n",
       "2   2.813200\n",
       "3   2.064795\n",
       "4   4.554288\n",
       "..       ...\n",
       "95  3.779914\n",
       "96  2.068708\n",
       "97  2.184301\n",
       "98  6.565196\n",
       "99  6.447637\n",
       "\n",
       "[100 rows x 1 columns]"
      ]
     },
     "metadata": {},
     "output_type": "display_data"
    },
    {
     "name": "stdout",
     "output_type": "stream",
     "text": [
      "add modelled y to display frame along with absolute error\n"
     ]
    },
    {
     "data": {
      "text/html": [
       "<div>\n",
       "<style scoped>\n",
       "    .dataframe tbody tr th:only-of-type {\n",
       "        vertical-align: middle;\n",
       "    }\n",
       "\n",
       "    .dataframe tbody tr th {\n",
       "        vertical-align: top;\n",
       "    }\n",
       "\n",
       "    .dataframe thead th {\n",
       "        text-align: right;\n",
       "    }\n",
       "</style>\n",
       "<table border=\"1\" class=\"dataframe\">\n",
       "  <thead>\n",
       "    <tr style=\"text-align: right;\">\n",
       "      <th></th>\n",
       "      <th>x</th>\n",
       "      <th>y</th>\n",
       "      <th>y_tilde</th>\n",
       "      <th>y - y_tilde</th>\n",
       "    </tr>\n",
       "  </thead>\n",
       "  <tbody>\n",
       "    <tr>\n",
       "      <th>0</th>\n",
       "      <td>0.350506</td>\n",
       "      <td>2.667192</td>\n",
       "      <td>2.589728</td>\n",
       "      <td>0.077464</td>\n",
       "    </tr>\n",
       "    <tr>\n",
       "      <th>1</th>\n",
       "      <td>0.088623</td>\n",
       "      <td>1.957224</td>\n",
       "      <td>2.077404</td>\n",
       "      <td>-0.120180</td>\n",
       "    </tr>\n",
       "    <tr>\n",
       "      <th>2</th>\n",
       "      <td>0.411425</td>\n",
       "      <td>2.580862</td>\n",
       "      <td>2.813200</td>\n",
       "      <td>-0.232338</td>\n",
       "    </tr>\n",
       "    <tr>\n",
       "      <th>3</th>\n",
       "      <td>0.057123</td>\n",
       "      <td>2.026320</td>\n",
       "      <td>2.064795</td>\n",
       "      <td>-0.038475</td>\n",
       "    </tr>\n",
       "    <tr>\n",
       "      <th>4</th>\n",
       "      <td>0.720606</td>\n",
       "      <td>4.702038</td>\n",
       "      <td>4.554288</td>\n",
       "      <td>0.147749</td>\n",
       "    </tr>\n",
       "    <tr>\n",
       "      <th>...</th>\n",
       "      <td>...</td>\n",
       "      <td>...</td>\n",
       "      <td>...</td>\n",
       "      <td>...</td>\n",
       "    </tr>\n",
       "    <tr>\n",
       "      <th>95</th>\n",
       "      <td>0.604227</td>\n",
       "      <td>3.780112</td>\n",
       "      <td>3.779914</td>\n",
       "      <td>0.000197</td>\n",
       "    </tr>\n",
       "    <tr>\n",
       "      <th>96</th>\n",
       "      <td>0.070080</td>\n",
       "      <td>2.161398</td>\n",
       "      <td>2.068708</td>\n",
       "      <td>0.092690</td>\n",
       "    </tr>\n",
       "    <tr>\n",
       "      <th>97</th>\n",
       "      <td>0.186847</td>\n",
       "      <td>2.186813</td>\n",
       "      <td>2.184301</td>\n",
       "      <td>0.002513</td>\n",
       "    </tr>\n",
       "    <tr>\n",
       "      <th>98</th>\n",
       "      <td>0.956558</td>\n",
       "      <td>6.478845</td>\n",
       "      <td>6.565196</td>\n",
       "      <td>-0.086351</td>\n",
       "    </tr>\n",
       "    <tr>\n",
       "      <th>99</th>\n",
       "      <td>0.944451</td>\n",
       "      <td>6.303235</td>\n",
       "      <td>6.447637</td>\n",
       "      <td>-0.144403</td>\n",
       "    </tr>\n",
       "  </tbody>\n",
       "</table>\n",
       "<p>100 rows × 4 columns</p>\n",
       "</div>"
      ],
      "text/plain": [
       "           x         y   y_tilde  y - y_tilde\n",
       "0   0.350506  2.667192  2.589728     0.077464\n",
       "1   0.088623  1.957224  2.077404    -0.120180\n",
       "2   0.411425  2.580862  2.813200    -0.232338\n",
       "3   0.057123  2.026320  2.064795    -0.038475\n",
       "4   0.720606  4.702038  4.554288     0.147749\n",
       "..       ...       ...       ...          ...\n",
       "95  0.604227  3.780112  3.779914     0.000197\n",
       "96  0.070080  2.161398  2.068708     0.092690\n",
       "97  0.186847  2.186813  2.184301     0.002513\n",
       "98  0.956558  6.478845  6.565196    -0.086351\n",
       "99  0.944451  6.303235  6.447637    -0.144403\n",
       "\n",
       "[100 rows x 4 columns]"
      ]
     },
     "metadata": {},
     "output_type": "display_data"
    }
   ],
   "source": [
    "# optimal beta is now given by\n",
    "# beta_hat = (X^T X)^-1 X^T y\n",
    "feature_transposed = np.transpose(feature_matrix)\n",
    "print(\"feature matrix shape: \", feature_matrix.shape)\n",
    "print(\"transposed:\", feature_transposed.shape)\n",
    "\n",
    "x_t_x = np.matmul(feature_transposed, feature_matrix)\n",
    "print(\"X^T X shape:\", x_t_x.shape)\n",
    "calc_invert = np.linalg.inv(x_t_x)\n",
    "\n",
    "beta = calc_invert.dot(feature_transposed).dot(y)\n",
    "df = pd.DataFrame(beta)\n",
    "print(\"\\nbeta\")\n",
    "display(df)\n",
    "\n",
    "y_tilde = feature_matrix @ beta\n",
    "df = pd.DataFrame(y_tilde)\n",
    "print(\"y tilde\")\n",
    "display(df)\n",
    "\n",
    "print(\"add modelled y to display frame along with absolute error\")\n",
    "results_frame[\"y_tilde\"] = y_tilde.flatten()\n",
    "results_frame[\"y - y_tilde\"] = y.flatten()-y_tilde.flatten()\n",
    "display(results_frame)"
   ]
  },
  {
   "cell_type": "markdown",
   "id": "937c2bc5",
   "metadata": {},
   "source": [
    "2. Use thereafter **scikit-learn** (see again the examples in the regression slides) and compare with your own code.   \n"
   ]
  },
  {
   "cell_type": "code",
   "execution_count": 551,
   "id": "19db55df",
   "metadata": {},
   "outputs": [],
   "source": [
    "# if this cell runs twice in a row (without running the above prediction),\n",
    "# the results are wrong and y_tilde_skl changes - not sure why\n",
    "clf = skl.LinearRegression().fit(feature_matrix, y)\n",
    "ytilde_skl = clf.predict(feature_matrix)"
   ]
  },
  {
   "cell_type": "code",
   "execution_count": 552,
   "id": "fffbfe7e",
   "metadata": {},
   "outputs": [
    {
     "data": {
      "text/html": [
       "<div>\n",
       "<style scoped>\n",
       "    .dataframe tbody tr th:only-of-type {\n",
       "        vertical-align: middle;\n",
       "    }\n",
       "\n",
       "    .dataframe tbody tr th {\n",
       "        vertical-align: top;\n",
       "    }\n",
       "\n",
       "    .dataframe thead th {\n",
       "        text-align: right;\n",
       "    }\n",
       "</style>\n",
       "<table border=\"1\" class=\"dataframe\">\n",
       "  <thead>\n",
       "    <tr style=\"text-align: right;\">\n",
       "      <th></th>\n",
       "      <th>x</th>\n",
       "      <th>y</th>\n",
       "      <th>y_tilde</th>\n",
       "      <th>y - y_tilde</th>\n",
       "      <th>scikit y_tilde</th>\n",
       "    </tr>\n",
       "  </thead>\n",
       "  <tbody>\n",
       "    <tr>\n",
       "      <th>0</th>\n",
       "      <td>0.350506</td>\n",
       "      <td>2.667192</td>\n",
       "      <td>2.589728</td>\n",
       "      <td>0.077464</td>\n",
       "      <td>2.589728</td>\n",
       "    </tr>\n",
       "    <tr>\n",
       "      <th>1</th>\n",
       "      <td>0.088623</td>\n",
       "      <td>1.957224</td>\n",
       "      <td>2.077404</td>\n",
       "      <td>-0.120180</td>\n",
       "      <td>2.077404</td>\n",
       "    </tr>\n",
       "    <tr>\n",
       "      <th>2</th>\n",
       "      <td>0.411425</td>\n",
       "      <td>2.580862</td>\n",
       "      <td>2.813200</td>\n",
       "      <td>-0.232338</td>\n",
       "      <td>2.813200</td>\n",
       "    </tr>\n",
       "    <tr>\n",
       "      <th>3</th>\n",
       "      <td>0.057123</td>\n",
       "      <td>2.026320</td>\n",
       "      <td>2.064795</td>\n",
       "      <td>-0.038475</td>\n",
       "      <td>2.064795</td>\n",
       "    </tr>\n",
       "    <tr>\n",
       "      <th>4</th>\n",
       "      <td>0.720606</td>\n",
       "      <td>4.702038</td>\n",
       "      <td>4.554288</td>\n",
       "      <td>0.147749</td>\n",
       "      <td>4.554288</td>\n",
       "    </tr>\n",
       "    <tr>\n",
       "      <th>...</th>\n",
       "      <td>...</td>\n",
       "      <td>...</td>\n",
       "      <td>...</td>\n",
       "      <td>...</td>\n",
       "      <td>...</td>\n",
       "    </tr>\n",
       "    <tr>\n",
       "      <th>95</th>\n",
       "      <td>0.604227</td>\n",
       "      <td>3.780112</td>\n",
       "      <td>3.779914</td>\n",
       "      <td>0.000197</td>\n",
       "      <td>3.779914</td>\n",
       "    </tr>\n",
       "    <tr>\n",
       "      <th>96</th>\n",
       "      <td>0.070080</td>\n",
       "      <td>2.161398</td>\n",
       "      <td>2.068708</td>\n",
       "      <td>0.092690</td>\n",
       "      <td>2.068708</td>\n",
       "    </tr>\n",
       "    <tr>\n",
       "      <th>97</th>\n",
       "      <td>0.186847</td>\n",
       "      <td>2.186813</td>\n",
       "      <td>2.184301</td>\n",
       "      <td>0.002513</td>\n",
       "      <td>2.184301</td>\n",
       "    </tr>\n",
       "    <tr>\n",
       "      <th>98</th>\n",
       "      <td>0.956558</td>\n",
       "      <td>6.478845</td>\n",
       "      <td>6.565196</td>\n",
       "      <td>-0.086351</td>\n",
       "      <td>6.565196</td>\n",
       "    </tr>\n",
       "    <tr>\n",
       "      <th>99</th>\n",
       "      <td>0.944451</td>\n",
       "      <td>6.303235</td>\n",
       "      <td>6.447637</td>\n",
       "      <td>-0.144403</td>\n",
       "      <td>6.447637</td>\n",
       "    </tr>\n",
       "  </tbody>\n",
       "</table>\n",
       "<p>100 rows × 5 columns</p>\n",
       "</div>"
      ],
      "text/plain": [
       "           x         y   y_tilde  y - y_tilde  scikit y_tilde\n",
       "0   0.350506  2.667192  2.589728     0.077464        2.589728\n",
       "1   0.088623  1.957224  2.077404    -0.120180        2.077404\n",
       "2   0.411425  2.580862  2.813200    -0.232338        2.813200\n",
       "3   0.057123  2.026320  2.064795    -0.038475        2.064795\n",
       "4   0.720606  4.702038  4.554288     0.147749        4.554288\n",
       "..       ...       ...       ...          ...             ...\n",
       "95  0.604227  3.780112  3.779914     0.000197        3.779914\n",
       "96  0.070080  2.161398  2.068708     0.092690        2.068708\n",
       "97  0.186847  2.186813  2.184301     0.002513        2.184301\n",
       "98  0.956558  6.478845  6.565196    -0.086351        6.565196\n",
       "99  0.944451  6.303235  6.447637    -0.144403        6.447637\n",
       "\n",
       "[100 rows x 5 columns]"
      ]
     },
     "metadata": {},
     "output_type": "display_data"
    }
   ],
   "source": [
    "results_frame[\"scikit y_tilde\"] = ytilde_skl\n",
    "display(results_frame)\n",
    "# similar y_tilde result"
   ]
  },
  {
   "cell_type": "markdown",
   "id": "e4b18c14",
   "metadata": {},
   "source": [
    "\n",
    "3. Using scikit-learn, compute also the mean square error, a risk metric corresponding to the expected value of the squared (quadratic) error defined as"
   ]
  },
  {
   "cell_type": "markdown",
   "id": "399cb698",
   "metadata": {
    "editable": true
   },
   "source": [
    "$$\n",
    "MSE(\\boldsymbol{y},\\boldsymbol{\\tilde{y}}) = \\frac{1}{n}\n",
    "\\sum_{i=0}^{n-1}(y_i-\\tilde{y}_i)^2,\n",
    "$$"
   ]
  },
  {
   "cell_type": "code",
   "execution_count": 553,
   "id": "aee2ef15",
   "metadata": {},
   "outputs": [
    {
     "name": "stdout",
     "output_type": "stream",
     "text": [
      "Calculated mean squared error: 0.03\n",
      "Scikit mean squared error:     0.03\n"
     ]
    }
   ],
   "source": [
    "def custom_mse(y_true, y_pred):\n",
    "    n = len(y_true) # number of data points\n",
    "    mse = (1/n) * np.sum( (y_true - y_pred)**2 )\n",
    "    return mse \n",
    "\n",
    "calculated_mse = custom_mse(y, y_tilde)                          \n",
    "print(f\"Calculated mean squared error: {calculated_mse:.2f}\")\n",
    "\n",
    "# scikit mean squared error\n",
    "mse_skl = mean_squared_error(y, ytilde_skl)                          \n",
    "print(f\"Scikit mean squared error:     {mse_skl:.2f}\")"
   ]
  },
  {
   "cell_type": "markdown",
   "id": "8be7228e",
   "metadata": {
    "editable": true
   },
   "source": [
    "and the $R^2$ score function.\n",
    "If $\\tilde{\\boldsymbol{y}}_i$ is the predicted value of the $i-th$ sample and $y_i$ is the corresponding true value, then the score $R^2$ is defined as"
   ]
  },
  {
   "cell_type": "markdown",
   "id": "85d4f6de",
   "metadata": {
    "editable": true
   },
   "source": [
    "$$\n",
    "R^2(\\boldsymbol{y}, \\tilde{\\boldsymbol{y}}) = 1 - \\frac{\\sum_{i=0}^{n - 1} (y_i - \\tilde{y}_i)^2}{\\sum_{i=0}^{n - 1} (y_i - \\bar{y})^2},\n",
    "$$"
   ]
  },
  {
   "cell_type": "markdown",
   "id": "78db66b0",
   "metadata": {
    "editable": true
   },
   "source": [
    "where we have defined the mean value  of $\\boldsymbol{y}$ as"
   ]
  },
  {
   "cell_type": "markdown",
   "id": "f9638fee",
   "metadata": {
    "editable": true
   },
   "source": [
    "$$\n",
    "\\bar{y} =  \\frac{1}{n} \\sum_{i=0}^{n - 1} y_i.\n",
    "$$"
   ]
  },
  {
   "cell_type": "code",
   "execution_count": 554,
   "id": "4f0a7000",
   "metadata": {},
   "outputs": [
    {
     "name": "stdout",
     "output_type": "stream",
     "text": [
      "Calculated R^2: 0.98\n",
      "Scikit R^2:     0.98\n"
     ]
    }
   ],
   "source": [
    "def custom_r2(y_true, y_pred):\n",
    "    n = len(y_true) # number of data points\n",
    "    y_mean = (1/n) * np.sum(y_true)\n",
    "    r2 =  1 - ((np.sum( (y_true - y_pred)**2) ) / (np.sum( (y_true - y_mean)**2 )))\n",
    "    return r2\n",
    "\n",
    "calculated_r2 = custom_r2(y, y_tilde)                          \n",
    "print(f\"Calculated R^2: {calculated_r2:.2f}\")\n",
    "\n",
    "# scikit r^2 score\n",
    "mse_r2 = r2_score(y, ytilde_skl)                          \n",
    "print(f\"Scikit R^2:     {mse_r2:.2f}\")"
   ]
  },
  {
   "cell_type": "markdown",
   "id": "df38df57",
   "metadata": {
    "editable": true
   },
   "source": [
    "You can use the functionality included in scikit-learn. If you feel for it, you can use your own program and define functions which compute the above two functions. \n",
    "Discuss the meaning of these results. Try also to vary the coefficient in front of the added stochastic noise term and discuss the quality of the fits."
   ]
  },
  {
   "cell_type": "code",
   "execution_count": 555,
   "id": "1ed79d0d",
   "metadata": {},
   "outputs": [],
   "source": [
    "# scikit predictions match manually created predictions\n",
    "# with low stochastic noise, the match is almost perfect.\n",
    "# fitting a second order polynomial with a second order polynomial should match well so that is as expected\n",
    "\n",
    "# increasing noise gradually makes the results diverge, it is no longer sufficient to match a simple polynomial\n",
    "# coefficient = 20 gives mse 358.28 and R^2 0.01 which is terrible\n",
    "# changing polynomial degree of model (P) also does not help in any case"
   ]
  },
  {
   "cell_type": "markdown",
   "id": "31937324",
   "metadata": {
    "editable": true
   },
   "source": [
    "## Exercise 3: Split data in test and training data\n",
    "\n",
    "In this exercise we want you to to compute the MSE for the training\n",
    "data and the test data as function of the complexity of a polynomial,\n",
    "that is the degree of a given polynomial.\n",
    "\n",
    "The aim is to reproduce Figure 2.11 of [Hastie et al](https://github.com/CompPhysics/MLErasmus/blob/master/doc/Textbooks/elementsstat.pdf).\n",
    "\n",
    "Our data is defined by $x\\in [-3,3]$ with a total of for example $n=100$ data points. You should try to vary the number of data points $n$ in your analysis."
   ]
  },
  {
   "cell_type": "code",
   "execution_count": 556,
   "id": "42a92590",
   "metadata": {
    "collapsed": false,
    "editable": true
   },
   "outputs": [],
   "source": [
    "np.random.seed()\n",
    "n = 100\n",
    "# Make data set.\n",
    "x = np.linspace(-3, 3, n).reshape(-1, 1)\n",
    "y = np.exp(-x**2) + 1.5 * np.exp(-(x-2)**2)+ np.random.normal(0, 0.1, x.shape)"
   ]
  },
  {
   "cell_type": "markdown",
   "id": "baf1d96c",
   "metadata": {
    "editable": true
   },
   "source": [
    "where $y$ is the function we want to fit with a given polynomial."
   ]
  },
  {
   "cell_type": "markdown",
   "id": "91a15fc8",
   "metadata": {
    "editable": true
   },
   "source": [
    "**a)**\n",
    "Write a first code which sets up a design matrix $X$ defined by a fifth-order polynomial and split your data set in training and test data."
   ]
  },
  {
   "cell_type": "markdown",
   "id": "cb4f9cbc",
   "metadata": {
    "editable": true
   },
   "source": [
    "**b)**\n",
    "Write thereafter (using either **scikit-learn** or your matrix inversion code using for example **numpy**)\n",
    "and perform an ordinary least squares fitting and compute the mean squared error for the training data and the test data. These calculations should apply to a model given by a fifth-order polynomial."
   ]
  },
  {
   "cell_type": "markdown",
   "id": "fb41d9d9",
   "metadata": {
    "editable": true
   },
   "source": [
    "**c)**\n",
    "Add now a model which allows you to make polynomials up to degree $15$.  Perform a standard OLS fitting of the training data and compute the MSE for the training and test data and plot both test and training data MSE as functions of the polynomial degree. Compare what you see with Figure 2.11 of Hastie et al. Comment your results. For which polynomial degree do you find an optimal MSE (smallest value)?"
   ]
  }
 ],
 "metadata": {
  "kernelspec": {
   "display_name": "Python 3",
   "language": "python",
   "name": "python3"
  },
  "language_info": {
   "codemirror_mode": {
    "name": "ipython",
    "version": 3
   },
   "file_extension": ".py",
   "mimetype": "text/x-python",
   "name": "python",
   "nbconvert_exporter": "python",
   "pygments_lexer": "ipython3",
   "version": "3.12.5"
  }
 },
 "nbformat": 4,
 "nbformat_minor": 5
}
