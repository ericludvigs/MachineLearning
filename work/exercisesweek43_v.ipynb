{
 "cells": [
  {
   "cell_type": "markdown",
   "metadata": {},
   "source": [
    "# Exercises week 43\n",
    "\n",
    "**October 18-25, 2024**\n",
    "\n",
    "Date: **Deadline is Friday October 25 at midnight**\n"
   ]
  },
  {
   "cell_type": "markdown",
   "metadata": {},
   "source": [
    "# Overarching aims of the exercises this week\n",
    "\n",
    "The aim of the exercises this week is to train the neural network you implemented last week.\n",
    "\n",
    "To train neural networks, we use gradient descent, since there is no analytical expression for the optimal parameters. This means you will need to compute the gradient of the cost function wrt. the network parameters. And then you will need to implement some gradient method.\n",
    "\n",
    "You will begin by computing gradients for a network with one layer, then two layers, then any number of layers. Keeping track of the shapes and doing things step by step will be very important this week.\n",
    "\n",
    "We recommend that you do the exercises this week by editing and running this notebook file, as it includes some checks along the way that you have implemented the neural network correctly, and running small parts of the code at a time will be important for understanding the methods. If you have trouble running a notebook, you can run this notebook in google colab instead(https://colab.research.google.com/drive/1FfvbN0XlhV-lATRPyGRTtTBnJr3zNuHL#offline=true&sandboxMode=true), though we recommend that you set up VSCode and your python environment to run code like this locally.\n",
    "\n",
    "First, some setup code that you will need.\n"
   ]
  },
  {
   "cell_type": "code",
   "execution_count": 711,
   "metadata": {},
   "outputs": [],
   "source": [
    "import autograd.numpy as np  # We need to use this numpy wrapper to make automatic differentiation work later\n",
    "from autograd import grad, elementwise_grad\n",
    "from sklearn import datasets\n",
    "import matplotlib.pyplot as plt\n",
    "from sklearn.metrics import accuracy_score\n",
    "\n",
    "\n",
    "# Defining some activation functions\n",
    "def ReLU(z):\n",
    "    return np.where(z > 0, z, 0)\n",
    "\n",
    "\n",
    "# Derivative of the ReLU function\n",
    "def ReLU_der(z):\n",
    "    return np.where(z > 0, 1, 0)\n",
    "\n",
    "\n",
    "def sigmoid(z):\n",
    "    return 1 / (1 + np.exp(-z))\n",
    "\n",
    "\n",
    "def mse(predict, target):\n",
    "    return np.mean((predict - target) ** 2)"
   ]
  },
  {
   "cell_type": "markdown",
   "metadata": {},
   "source": [
    "# Exercise 1 - Understand the feed forward pass\n",
    "\n",
    "**a)** Complete last weeks' mandatory exercises if you haven't already.\n"
   ]
  },
  {
   "cell_type": "markdown",
   "metadata": {},
   "source": [
    "# Exercise 2 - Gradient with one layer using autograd\n",
    "\n",
    "For the first few exercises, we will not use batched inputs. Only a single input vector is passed through the layer at a time.\n",
    "\n",
    "In this exercise you will compute the gradient of a single layer. You only need to change the code in the cells right below an exercise, the rest works out of the box. Feel free to make changes and see how stuff works though!\n"
   ]
  },
  {
   "cell_type": "markdown",
   "metadata": {},
   "source": [
    "**a)** If the weights and bias of a layer has shapes (10, 4) and (10), what will the shapes of the gradients of the cost function wrt. these weights and this bias be?\n",
    "\n",
    "\n",
    "Answer: If we use the OLS cost function we will be (50, 1) since we have to take the partial derivative of all the components of the bias and the weights components."
   ]
  },
  {
   "cell_type": "markdown",
   "metadata": {},
   "source": [
    "**b)** Complete the feed_forward_one_layer function. It should use the sigmoid activation function. Also define the weigth and bias with the correct shapes.\n"
   ]
  },
  {
   "cell_type": "code",
   "execution_count": 712,
   "metadata": {},
   "outputs": [],
   "source": [
    "def feed_forward_one_layer(W, b, x):\n",
    "    z = W @ x + b\n",
    "    a = sigmoid(z)\n",
    "    return a\n",
    "\n",
    "\n",
    "def cost_one_layer(W, b, x, target):\n",
    "    predict = feed_forward_one_layer(W, b, x)\n",
    "    return mse(predict, target)\n",
    "\n",
    "\n",
    "x = np.random.rand(2)\n",
    "\n",
    "target = np.random.rand(3)\n",
    "\n",
    "W = np.random.rand(3,2)\n",
    "b = np.random.rand(3)"
   ]
  },
  {
   "cell_type": "markdown",
   "metadata": {},
   "source": [
    "**c)** Compute the gradient of the cost function wrt. the weigth and bias by running the cell below. You will not need to change anything, just make sure it runs by defining things correctly in the cell above. This code uses the autograd package which uses backprogagation to compute the gradient!\n"
   ]
  },
  {
   "cell_type": "code",
   "execution_count": 713,
   "metadata": {},
   "outputs": [
    {
     "name": "stdout",
     "output_type": "stream",
     "text": [
      "[[0.00132154 0.04632154]\n",
      " [0.00117297 0.04111416]\n",
      " [0.00039541 0.01385955]] [0.06823677 0.06056572 0.02041665]\n"
     ]
    }
   ],
   "source": [
    "autograd_one_layer = grad(cost_one_layer, [0, 1])\n",
    "W_g, b_g = autograd_one_layer(W, b, x, target)\n",
    "print(W_g, b_g)"
   ]
  },
  {
   "cell_type": "markdown",
   "metadata": {},
   "source": [
    "# Exercise 3 - Gradient with one layer writing backpropagation by hand\n",
    "\n",
    "Before you use the gradient you found using autograd, you will have to find the gradient \"manually\", to better understand how the backpropagation computation works. To do backpropagation \"manually\", you will need to write out expressions for many derivatives along the computation.\n"
   ]
  },
  {
   "cell_type": "markdown",
   "metadata": {},
   "source": [
    "We want to find the gradient of the cost function wrt. the weight and bias. This is quite hard to do directly, so we instead use the chain rule to combine multiple derivatives which are easier to compute.\n",
    "\n",
    "$$\n",
    "\\frac{dC}{dW} = \\frac{dC}{da}\\frac{da}{dz}\\frac{dz}{dW}\n",
    "$$\n",
    "\n",
    "$$\n",
    "\\frac{dC}{db} = \\frac{dC}{da}\\frac{da}{dz}\\frac{dz}{db}\n",
    "$$\n"
   ]
  },
  {
   "cell_type": "markdown",
   "metadata": {},
   "source": [
    "**a)** Which intermediary results can be reused between the two expressions?\n",
    "\n",
    "Both expression make use of these two partial derivatives, so we can reuse these two\n",
    "\n",
    "$$\n",
    "\\frac{dC}{da} , \\frac{da}{dz}\n",
    "$$\n"
   ]
  },
  {
   "cell_type": "markdown",
   "metadata": {},
   "source": [
    "**b)** What is the derivative of the cost wrt. the final activation? You can use the autograd calculation to make sure you get the correct result. Remember that we compute the mean in mse.\n"
   ]
  },
  {
   "cell_type": "code",
   "execution_count": 714,
   "metadata": {},
   "outputs": [
    {
     "name": "stdout",
     "output_type": "stream",
     "text": [
      "[0.31958444 0.32280273 0.08681858]\n",
      "[0.31958444 0.32280273 0.08681858]\n"
     ]
    }
   ],
   "source": [
    "z = W @ x + b\n",
    "a = sigmoid(z)\n",
    "\n",
    "predict = a\n",
    "\n",
    "\n",
    "def mse_der(predict, target):\n",
    "    n = max(predict.shape)\n",
    "    return 2*(predict - target)*(1/n)\n",
    "\n",
    "\n",
    "print(mse_der(predict, target))\n",
    "\n",
    "cost_autograd = grad(mse, 0)\n",
    "print(cost_autograd(predict, target))"
   ]
  },
  {
   "cell_type": "markdown",
   "metadata": {},
   "source": [
    "**c)** What is the expression for the derivative of the sigmoid activation function? You can use the autograd calculation to make sure you get the correct result.\n"
   ]
  },
  {
   "cell_type": "code",
   "execution_count": 715,
   "metadata": {},
   "outputs": [
    {
     "name": "stdout",
     "output_type": "stream",
     "text": [
      "[0.21351718 0.18762456 0.23516451]\n",
      "[0.21351718 0.18762456 0.23516451]\n"
     ]
    }
   ],
   "source": [
    "def sigmoid_der(z):\n",
    "    return sigmoid(z)*(1-sigmoid(z))\n",
    "\n",
    "\n",
    "print(sigmoid_der(z))\n",
    "\n",
    "sigmoid_autograd = elementwise_grad(sigmoid, 0)\n",
    "print(sigmoid_autograd(z))"
   ]
  },
  {
   "cell_type": "markdown",
   "metadata": {},
   "source": [
    "**d)** Using the two derivatives you just computed, compute this intermetidary gradient you will use later:\n",
    "\n",
    "$$\n",
    "\\frac{dC}{dz} = \\frac{dC}{da}\\frac{da}{dz}\n",
    "$$\n"
   ]
  },
  {
   "cell_type": "code",
   "execution_count": 716,
   "metadata": {},
   "outputs": [],
   "source": [
    "dC_da = mse_der(predict,target)\n",
    "dC_dz = dC_da*sigmoid_der(z)"
   ]
  },
  {
   "cell_type": "markdown",
   "metadata": {},
   "source": [
    "**e)** What is the derivative of the intermediary z wrt. the weight and bias? What should the shapes be? The one for the weights is a little tricky, it can be easier to play around in the next exercise first. You can also try computing it with autograd to get a hint.\n",
    "\n",
    "For the weights we will have,\n",
    "\n",
    "$$\n",
    "%\\frac{dz}{dw} =  \\begin{bmatrix}\n",
    "%\\mathbf{x}^{T}\\\\\n",
    "%\\vdots  \\} n\\\\\n",
    "%\\mathbf{x}^{T}\n",
    "%\\end{bmatrix}\n",
    "%$$\n",
    "\n",
    "$$\n",
    "\\frac{dz}{dw} = x^{\\top}\n",
    "$$\n",
    "\n",
    "\n",
    "which has the shape of $x$ but transposed. If $(n \\times m)$ for number of data points times features, then $\\frac{dz}{dw}$ is $(m \\times n)$, in this example the final shape is $1 \\times 2$. This works out because the derivative of the loss function is $(\\text{output layer size} \\times m)$, in this example $(3 \\times 1)$ so the dot product of the two has size $(3 \\times 2)$ which is the shape of the weights as expected.\n",
    "\n",
    "$$\n",
    "\\begin{aligned}\n",
    "\\frac{dz}{dW} & = & \\frac{dC}{dz} & \\cdot & \\frac{dz}{dW} \\\\\n",
    "(3 \\times 2) & =  & (3 \\times \\cancel{1}) & \\cdot & (\\cancel{1} \\times 2)\n",
    "\\end{aligned}\n",
    "$$\n",
    "\n",
    "For the bias we will have a shape equvivalent to the bias.\n",
    "$$\n",
    "\\frac{dz}{db} =  \\mathbf{1}\n",
    "$$\n",
    "\n"
   ]
  },
  {
   "cell_type": "markdown",
   "metadata": {},
   "source": [
    "**f)** Now combine the expressions you have worked with so far to compute the gradients! Note that you always need to do a feed forward pass while saving the zs and as before you do backpropagation, as they are used in the derivative expressions\n"
   ]
  },
  {
   "cell_type": "code",
   "execution_count": 717,
   "metadata": {},
   "outputs": [
    {
     "name": "stdout",
     "output_type": "stream",
     "text": [
      "Weight gradient:\n",
      " [[0.00132154 0.04632154]\n",
      " [0.00117297 0.04111416]\n",
      " [0.00039541 0.01385955]] \n",
      " Bias gradient [0.06823677 0.06056572 0.02041665]\n"
     ]
    }
   ],
   "source": [
    "dC_da = dC_da\n",
    "dC_dz = dC_dz\n",
    "\n",
    "# just transpose does not actually transpose\n",
    "dz_dW = np.reshape(x, (2, 1))\n",
    "dz_dW = np.transpose(dz_dW)\n",
    "\n",
    "dz_db = np.ones_like(b)\n",
    "\n",
    "# reshape to make dimensions match without upsetting rest of code by overwriting dC_dz\n",
    "# all because numpy doesn't transpose a (2) vector to (1,2) but just keeps it as (2)\n",
    "dC_dW = np.reshape(dC_dz, (3, 1)) @ dz_dW\n",
    "dC_db = dC_dz * dz_db \n",
    "\n",
    "print(f'Weight gradient:\\n {dC_dW} \\n Bias gradient {dC_db}')\n"
   ]
  },
  {
   "cell_type": "markdown",
   "metadata": {},
   "source": [
    "You should get the same results as with autograd.\n"
   ]
  },
  {
   "cell_type": "code",
   "execution_count": 718,
   "metadata": {},
   "outputs": [
    {
     "name": "stdout",
     "output_type": "stream",
     "text": [
      "Weight gradient:\n",
      " [[0.00132154 0.04632154]\n",
      " [0.00117297 0.04111416]\n",
      " [0.00039541 0.01385955]] \n",
      " Bias gradient [0.06823677 0.06056572 0.02041665]\n"
     ]
    }
   ],
   "source": [
    "W_g, b_g = autograd_one_layer(W, b, x, target)\n",
    "print(f'Weight gradient:\\n {W_g} \\n Bias gradient {b_g}')"
   ]
  },
  {
   "cell_type": "markdown",
   "metadata": {},
   "source": [
    "# Exercise 4 - Gradient with two layers writing backpropagation by hand\n"
   ]
  },
  {
   "cell_type": "markdown",
   "metadata": {},
   "source": [
    "Now that you have implemented backpropagation for one layer, you have found most of the expressions you will need for more layers. Let's move up to two layers.\n"
   ]
  },
  {
   "cell_type": "code",
   "execution_count": 719,
   "metadata": {},
   "outputs": [],
   "source": [
    "x = np.random.rand(2,1)\n",
    "target = np.random.rand(4,1)\n",
    "\n",
    "W1 = np.random.rand(3, 2)\n",
    "b1 = np.random.rand(3,1)\n",
    "\n",
    "W2 = np.random.rand(4, 3)\n",
    "b2 = np.random.rand(4,1)\n",
    "\n",
    "layers = [(W1, b1), (W2, b2)]"
   ]
  },
  {
   "cell_type": "code",
   "execution_count": 720,
   "metadata": {},
   "outputs": [],
   "source": [
    "z1 = W1 @ x + b1\n",
    "a1 = sigmoid(z1)\n",
    "\n",
    "z2 = W2 @ a1 + b2\n",
    "a2 = sigmoid(z2)\n",
    "\n",
    "predict2 = a2"
   ]
  },
  {
   "cell_type": "markdown",
   "metadata": {},
   "source": [
    "We begin by computing the gradients of the last layer, as the gradients must be propagated backwards from the end.\n",
    "\n",
    "**a)** Compute the gradients of the last layer, just like you did the single layer in the previous exercise.\n"
   ]
  },
  {
   "cell_type": "code",
   "execution_count": 721,
   "metadata": {},
   "outputs": [],
   "source": [
    "dC_da2 = mse_der(predict2,target)\n",
    "dC_dz2 = dC_da2 * sigmoid_der(z2)\n",
    "\n",
    "dz2_dW2 = np.transpose(a1)\n",
    "\n",
    "dz2_db2 = np.ones_like(b2)\n",
    "\n",
    "dC_dW2 = dC_dz2 @ dz2_dW2\n",
    "dC_db2 = dC_dz2 * dz2_db2 \n"
   ]
  },
  {
   "cell_type": "markdown",
   "metadata": {},
   "source": [
    "To find the derivative of the cost wrt. the activation of the first layer, we need a new expression, the one furthest to the right in the following.\n",
    "\n",
    "$$\n",
    "\\frac{dC}{da_1} = \\frac{dC}{dz_2}\\frac{dz_2}{da_1}\n",
    "$$\n",
    "\n",
    "**b)** What is the derivative of the second layer intermetiate wrt. the first layer activation? (First recall how you compute $z_2$)\n",
    "\n",
    "$$\n",
    "z_2 = W_2 \\cdot a_1 + b_2\n",
    "$$\n",
    "\n",
    "$$\n",
    "\\frac{dz_2}{da_1} = W_2^{\\top}\n",
    "$$\n"
   ]
  },
  {
   "cell_type": "markdown",
   "metadata": {},
   "source": [
    "**c)** Use this expression, together with expressions which are equivelent to ones for the last layer to compute all the derivatives of the first layer.\n",
    "\n",
    "$$\n",
    "\\frac{dC}{dW_1} = \\frac{dC}{da_1}\\frac{da_1}{dz_1}\\frac{dz_1}{dW_1}\n",
    "$$\n",
    "\n",
    "$$\n",
    "\\frac{dC}{db_1} = \\frac{dC}{da_1}\\frac{da_1}{dz_1}\\frac{dz_1}{db_1}\n",
    "$$\n"
   ]
  },
  {
   "cell_type": "code",
   "execution_count": 722,
   "metadata": {},
   "outputs": [
    {
     "name": "stdout",
     "output_type": "stream",
     "text": [
      "(4, 1)\n",
      "(4, 3)\n",
      "(3, 1)\n"
     ]
    }
   ],
   "source": [
    "print(dC_dz2.shape)\n",
    "print(W2.shape)\n",
    "dC_da1 = W2.T @ dC_dz2\n",
    "print(dC_da1.shape)"
   ]
  },
  {
   "cell_type": "code",
   "execution_count": 723,
   "metadata": {},
   "outputs": [
    {
     "name": "stdout",
     "output_type": "stream",
     "text": [
      "(3, 1)\n",
      "(1, 2)\n",
      "(3, 1)\n"
     ]
    }
   ],
   "source": [
    "da1_dz1 = sigmoid_der(z1)\n",
    "print(da1_dz1.shape)\n",
    "dz1_dW1 = np.transpose(x)\n",
    "print(dz1_dW1.shape)\n",
    "dz1_db1 = np.ones_like(b1)\n",
    "print(dz1_db1.shape)\n"
   ]
  },
  {
   "cell_type": "code",
   "execution_count": 724,
   "metadata": {},
   "outputs": [
    {
     "name": "stdout",
     "output_type": "stream",
     "text": [
      "(3, 2)\n",
      "(3, 1)\n"
     ]
    }
   ],
   "source": [
    "dC_dW1 = (dC_da1 * da1_dz1) @ dz1_dW1\n",
    "print(dC_dW1.shape)\n",
    "dC_db1 = (dC_da1 * da1_dz1) * dz1_db1\n",
    "print(dC_db1.shape)"
   ]
  },
  {
   "cell_type": "code",
   "execution_count": 725,
   "metadata": {},
   "outputs": [
    {
     "name": "stdout",
     "output_type": "stream",
     "text": [
      "Cost derivative weights first layer: \n",
      " (3, 2) \n",
      " [[0.00031925 0.00342486]\n",
      " [0.00027561 0.0029567 ]\n",
      " [0.0001236  0.001326  ]] \n",
      " Cost derivative bias: \n",
      " (3, 1) \n",
      " [[0.00639091]\n",
      " [0.00551729]\n",
      " [0.00247435]] \n",
      " \n",
      "\n",
      "Cost derivative weights second layer: \n",
      " (4, 3) \n",
      " [[ 0.00662818  0.00615536  0.00629184]\n",
      " [ 0.01682902  0.01562853  0.01597507]\n",
      " [-0.00141833 -0.00131715 -0.00134636]\n",
      " [ 0.01267271  0.0117687   0.01202965]] \n",
      " Cost derivatve bias: \n",
      " (4, 1) \n",
      " [[ 0.0089562 ]\n",
      " [ 0.02273991]\n",
      " [-0.00191649]\n",
      " [ 0.01712376]]\n"
     ]
    }
   ],
   "source": [
    "print(f'Cost derivative weights first layer: \\n {dC_dW1.shape} \\n {dC_dW1} \\n Cost derivative bias: \\n {dC_db1.shape} \\n {dC_db1} \\n \\n')\n",
    "print(f'Cost derivative weights second layer: \\n {dC_dW2.shape} \\n {dC_dW2} \\n Cost derivatve bias: \\n {dC_db2.shape} \\n {dC_db2}')"
   ]
  },
  {
   "cell_type": "markdown",
   "metadata": {},
   "source": [
    "**d)** Make sure you got the same gradient as the following code which uses autograd to do backpropagation.\n"
   ]
  },
  {
   "cell_type": "code",
   "execution_count": 726,
   "metadata": {},
   "outputs": [],
   "source": [
    "def feed_forward_two_layers(layers, x):\n",
    "    W1, b1 = layers[0]\n",
    "    z1 = W1 @ x + b1\n",
    "    a1 = sigmoid(z1)\n",
    "\n",
    "    W2, b2 = layers[1]\n",
    "    z2 = W2 @ a1 + b2\n",
    "    a2 = sigmoid(z2)\n",
    "\n",
    "    return a2"
   ]
  },
  {
   "cell_type": "code",
   "execution_count": 727,
   "metadata": {},
   "outputs": [
    {
     "data": {
      "text/plain": [
       "[(array([[0.00031925, 0.00342486],\n",
       "         [0.00027561, 0.0029567 ],\n",
       "         [0.0001236 , 0.001326  ]]),\n",
       "  array([[0.00639091],\n",
       "         [0.00551729],\n",
       "         [0.00247435]])),\n",
       " (array([[ 0.00662818,  0.00615536,  0.00629184],\n",
       "         [ 0.01682902,  0.01562853,  0.01597507],\n",
       "         [-0.00141833, -0.00131715, -0.00134636],\n",
       "         [ 0.01267271,  0.0117687 ,  0.01202965]]),\n",
       "  array([[ 0.0089562 ],\n",
       "         [ 0.02273991],\n",
       "         [-0.00191649],\n",
       "         [ 0.01712376]]))]"
      ]
     },
     "execution_count": 727,
     "metadata": {},
     "output_type": "execute_result"
    }
   ],
   "source": [
    "def cost_two_layers(layers, x, target):\n",
    "    predict = feed_forward_two_layers(layers, x)\n",
    "    return mse(predict, target)\n",
    "\n",
    "\n",
    "grad_two_layers = grad(cost_two_layers, 0)\n",
    "grad_two_layers(layers, x, target)"
   ]
  },
  {
   "cell_type": "code",
   "execution_count": 728,
   "metadata": {},
   "outputs": [
    {
     "name": "stdout",
     "output_type": "stream",
     "text": [
      "Weight gradient\n",
      "(3, 2)\n",
      "[[0.00031925 0.00342486]\n",
      " [0.00027561 0.0029567 ]\n",
      " [0.0001236  0.001326  ]]\n",
      "Bias gradient\n",
      "(3, 1)\n",
      "[[0.00639091]\n",
      " [0.00551729]\n",
      " [0.00247435]]\n",
      "Weight gradient\n",
      "(4, 3)\n",
      "[[ 0.00662818  0.00615536  0.00629184]\n",
      " [ 0.01682902  0.01562853  0.01597507]\n",
      " [-0.00141833 -0.00131715 -0.00134636]\n",
      " [ 0.01267271  0.0117687   0.01202965]]\n",
      "Bias gradient\n",
      "(4, 1)\n",
      "[[ 0.0089562 ]\n",
      " [ 0.02273991]\n",
      " [-0.00191649]\n",
      " [ 0.01712376]]\n"
     ]
    }
   ],
   "source": [
    "for W_g_i, b_g_i in grad_two_layers(layers, x, target):\n",
    "    print(\"Weight gradient\")\n",
    "    print(W_g_i.shape)\n",
    "    print(W_g_i)\n",
    "\n",
    "    print(\"Bias gradient\")\n",
    "    print(b_g_i.shape)\n",
    "    print(b_g_i)"
   ]
  },
  {
   "cell_type": "markdown",
   "metadata": {},
   "source": [
    "**e)** How would you use the gradient from this layer to compute the gradient of an even earlier layer? Would the expressions be any different?\n",
    "\n",
    "The expression would basically be the same, we use ', \n",
    "$$\\frac{\\partial C_{n+1}}{\\partial W_{n+1}} ,\n",
    "\\frac{\\partial C_{n+1}}{\\partial b_{n+1}}\n",
    "$$\n",
    "\n",
    "In order to find \n",
    "\n",
    "$$\\frac{\\partial C_{n}}{\\partial W_{n}} ,\n",
    "\\frac{\\partial C_{n}}{\\partial b_{n}}\n",
    "$$\n",
    "\n",
    "Where to only thing we need from the previous layer is\n",
    "$$\\frac{\\partial z_{n+1}}{\\partial a_{n}}\n",
    "$$\n",
    "Otherwiese the process will be similar"
   ]
  },
  {
   "cell_type": "markdown",
   "metadata": {},
   "source": [
    "# Exercise 5 - Gradient with any number of layers writing backpropagation by hand\n"
   ]
  },
  {
   "cell_type": "markdown",
   "metadata": {},
   "source": [
    "Well done on getting this far! Now it's time to compute the gradient with any number of layers.\n",
    "\n",
    "First, some code from the general neural network code from last week. Note that we are still sending in one input vector at a time. We will change it to use batched inputs later.\n"
   ]
  },
  {
   "cell_type": "code",
   "execution_count": 729,
   "metadata": {},
   "outputs": [],
   "source": [
    "def create_layers(network_input_size, layer_output_sizes):\n",
    "    layers = []\n",
    "\n",
    "    i_size = network_input_size\n",
    "    for layer_output_size in layer_output_sizes:\n",
    "        W = np.random.randn(layer_output_size, i_size)\n",
    "        b = np.random.randn(layer_output_size, 1)\n",
    "        layers.append((W, b))\n",
    "\n",
    "        i_size = layer_output_size\n",
    "    return layers\n",
    "\n",
    "\n",
    "def feed_forward(input, layers, activation_funcs):\n",
    "    a = input\n",
    "    for (W, b), activation_func in zip(layers, activation_funcs):\n",
    "        z = W @ a + b\n",
    "        a = activation_func(z)\n",
    "    return a\n",
    "\n",
    "\n",
    "def cost(layers, input, activation_funcs, target):\n",
    "    predict = feed_forward(input, layers, activation_funcs)\n",
    "    return mse(predict, target)"
   ]
  },
  {
   "cell_type": "markdown",
   "metadata": {},
   "source": [
    "You might have already have noticed a very important detail in backpropagation: You need the values from the forward pass to compute all the gradients! The feed forward method above is great for efficiency and for using autograd, as it only cares about computing the final output, but now we need to also save the results along the way.\n",
    "\n",
    "Here is a function which does that for you.\n"
   ]
  },
  {
   "cell_type": "code",
   "execution_count": 730,
   "metadata": {},
   "outputs": [],
   "source": [
    "def feed_forward_saver(input, layers, activation_funcs):\n",
    "    layer_inputs = []\n",
    "    zs = []\n",
    "    a = input\n",
    "    for (W, b), activation_func in zip(layers, activation_funcs):\n",
    "        layer_inputs.append(a)\n",
    "        z = W @ a + b\n",
    "        a = activation_func(z)\n",
    "\n",
    "        zs.append(z)\n",
    "\n",
    "    return layer_inputs, zs, a"
   ]
  },
  {
   "cell_type": "markdown",
   "metadata": {},
   "source": [
    "**a)** Now, complete the backpropagation function so that it returns the gradient of the cost function wrt. all the weigths and biases. Use the autograd calculation below to make sure you get the correct answer.\n"
   ]
  },
  {
   "cell_type": "code",
   "execution_count": 731,
   "metadata": {},
   "outputs": [],
   "source": [
    "def backpropagation(\n",
    "    input, layers, activation_funcs, target, activation_ders, cost_der=mse_der\n",
    "):\n",
    "    layer_inputs, zs, predict = feed_forward_saver(input, layers, activation_funcs)\n",
    "    print(f'Prediction is \\n {predict}')\n",
    "\n",
    "    layer_grads = [() for layer in layers]\n",
    "\n",
    "    # We loop over the layers, from the last to the first\n",
    "    for i in reversed(range(len(layers))):\n",
    "        layer_input, z, activation_der = layer_inputs[i], zs[i], activation_ders[i]\n",
    "        \n",
    "\n",
    "        if i == len(layers) - 1:\n",
    "            # For last layer we use cost derivative as dC_da(L) can be computed directly\n",
    "            dC_da = cost_der(predict,target)\n",
    "            print('Last, output layer')\n",
    "        else:\n",
    "            # For other layers we build on previous z derivative, as dC_da(i) = dC_dz(i+1) * dz(i+1)_da(i)\n",
    "            (W, b) = layers[i + 1]\n",
    "            dC_da = W.T @ dC_dz\n",
    "            print('Hidden')\n",
    "\n",
    "        da_dz = activation_der(z)\n",
    "        dC_dz = dC_da*da_dz\n",
    "        \n",
    "        dC_db = dC_da*da_dz # multiplying by just ones doesn't matter\n",
    "\n",
    "        dz_dW = np.transpose(layer_input)\n",
    "        print(dC_dz.shape)\n",
    "        print(dz_dW.shape)\n",
    "        dC_dW = dC_dz @ dz_dW\n",
    "\n",
    "        layer_grads[i] = (dC_dW, dC_db)\n",
    "\n",
    "    return layer_grads"
   ]
  },
  {
   "cell_type": "code",
   "execution_count": 732,
   "metadata": {},
   "outputs": [],
   "source": [
    "np.random.seed(1)\n",
    "\n",
    "network_input_size = 2\n",
    "layer_output_sizes = [3,4]\n",
    "activation_funcs = [sigmoid, ReLU]\n",
    "activation_ders = [sigmoid_der, ReLU_der]\n",
    "\n",
    "layers = create_layers(network_input_size, layer_output_sizes)\n",
    "\n",
    "x = np.random.rand(network_input_size, 1)\n",
    "target = np.random.rand(4, 1)"
   ]
  },
  {
   "cell_type": "code",
   "execution_count": 733,
   "metadata": {},
   "outputs": [
    {
     "name": "stdout",
     "output_type": "stream",
     "text": [
      "Prediction is \n",
      " [[0.53052074]\n",
      " [0.94506556]\n",
      " [0.        ]\n",
      " [0.67702684]]\n",
      "Last, output layer\n",
      "(4, 1)\n",
      "(1, 3)\n",
      "Hidden\n",
      "(3, 1)\n",
      "(1, 2)\n"
     ]
    },
    {
     "data": {
      "text/plain": [
       "[(array([[-0.00065147, -0.0028267 ],\n",
       "         [-0.00421466, -0.01828724],\n",
       "         [ 0.01073804,  0.04659191]]),\n",
       "  array([[-0.0063111 ],\n",
       "         [-0.04082944],\n",
       "         [ 0.10402452]])),\n",
       " (array([[-0.15828642, -0.04060292, -0.0660155 ],\n",
       "         [ 0.27273946,  0.0699619 ,  0.1137497 ],\n",
       "         [ 0.        ,  0.        ,  0.        ],\n",
       "         [ 0.22900866,  0.05874427,  0.09551118]]),\n",
       "  array([[-0.18903738],\n",
       "         [ 0.32572571],\n",
       "         [-0.        ],\n",
       "         [ 0.27349913]]))]"
      ]
     },
     "execution_count": 733,
     "metadata": {},
     "output_type": "execute_result"
    }
   ],
   "source": [
    "layer_grads = backpropagation(x, layers, activation_funcs, target, activation_ders)\n",
    "layer_grads"
   ]
  },
  {
   "cell_type": "code",
   "execution_count": 734,
   "metadata": {},
   "outputs": [
    {
     "data": {
      "text/plain": [
       "[(array([[-0.00065147, -0.0028267 ],\n",
       "         [-0.00421466, -0.01828724],\n",
       "         [ 0.01073804,  0.04659191]]),\n",
       "  array([[-0.0063111 ],\n",
       "         [-0.04082944],\n",
       "         [ 0.10402452]])),\n",
       " (array([[-0.15828642, -0.04060292, -0.0660155 ],\n",
       "         [ 0.27273946,  0.0699619 ,  0.1137497 ],\n",
       "         [ 0.        ,  0.        ,  0.        ],\n",
       "         [ 0.22900866,  0.05874427,  0.09551118]]),\n",
       "  array([[-0.18903738],\n",
       "         [ 0.32572571],\n",
       "         [ 0.        ],\n",
       "         [ 0.27349913]]))]"
      ]
     },
     "execution_count": 734,
     "metadata": {},
     "output_type": "execute_result"
    }
   ],
   "source": [
    "cost_grad = grad(cost, 0)\n",
    "cost_grad(layers, x, activation_funcs, target)"
   ]
  },
  {
   "cell_type": "markdown",
   "metadata": {},
   "source": [
    "# Exercise 6 - Batched inputs\n",
    "\n",
    "Make new versions of all the functions in exercise 5 which now take batched inputs instead. See last weeks exercise 5 for details on how to batch inputs to neural networks. You will also need to update the backpropogation function.\n"
   ]
  },
  {
   "cell_type": "markdown",
   "metadata": {},
   "source": [
    "# Exercise 7 - Training\n"
   ]
  },
  {
   "cell_type": "markdown",
   "metadata": {},
   "source": [
    "**a)** Complete exercise 6 and 7 from last week, but use your own backpropogation implementation to compute the gradient.\n",
    "\n",
    "**b)** Use stochastic gradient descent with momentum when you train your network.\n"
   ]
  },
  {
   "cell_type": "markdown",
   "metadata": {},
   "source": [
    "# Exercise 8 (Optional) - Object orientation\n",
    "\n",
    "Passing in the layers, activations functions, activation derivatives and cost derivatives into the functions each time leads to code which is easy to understand in isoloation, but messier when used in a larger context with data splitting, data scaling, gradient methods and so forth. Creating an object which stores these values can lead to code which is much easier to use.\n",
    "\n",
    "**a)** Write a neural network class. You are free to implement it how you see fit, though we strongly recommend to not save any input or output values as class attributes, nor let the neural network class handle gradient methods internally. Gradient methods should be handled outside, by performing general operations on the layer_grads list using functions or classes separate to the neural network.\n",
    "\n",
    "We provide here a skeleton structure which should get you started.\n"
   ]
  },
  {
   "cell_type": "code",
   "execution_count": 735,
   "metadata": {},
   "outputs": [],
   "source": [
    "class NeuralNetwork:\n",
    "    def __init__(\n",
    "        self,\n",
    "        network_input_size,\n",
    "        layer_output_sizes,\n",
    "        activation_funcs,\n",
    "        activation_ders,\n",
    "        cost_fun,\n",
    "        cost_der,\n",
    "    ):\n",
    "        pass\n",
    "\n",
    "    def predict(self, inputs):\n",
    "        # Simple feed forward pass\n",
    "        pass\n",
    "\n",
    "    def cost(self, inputs, targets):\n",
    "        pass\n",
    "\n",
    "    def _feed_forward_saver(self, inputs):\n",
    "        pass\n",
    "\n",
    "    def compute_gradient(self, inputs, targets):\n",
    "        pass\n",
    "\n",
    "    def update_weights(self, layer_grads):\n",
    "        pass\n",
    "\n",
    "    # These last two methods are not needed in the project, but they can be nice to have! The first one has a layers parameter so that you can use autograd on it\n",
    "    def autograd_compliant_predict(self, layers, inputs):\n",
    "        pass\n",
    "\n",
    "    def autograd_gradient(self, inputs, targets):\n",
    "        pass"
   ]
  }
 ],
 "metadata": {
  "kernelspec": {
   "display_name": "Python 3 (Spyder)",
   "language": "python3",
   "name": "python3"
  },
  "language_info": {
   "codemirror_mode": {
    "name": "ipython",
    "version": 3
   },
   "file_extension": ".py",
   "mimetype": "text/x-python",
   "name": "python",
   "nbconvert_exporter": "python",
   "pygments_lexer": "ipython3",
   "version": "3.12.5"
  }
 },
 "nbformat": 4,
 "nbformat_minor": 4
}
