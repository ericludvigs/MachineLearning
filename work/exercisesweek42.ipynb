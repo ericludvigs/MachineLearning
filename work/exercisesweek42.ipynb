{
 "cells": [
  {
   "cell_type": "markdown",
   "id": "4b4c06bc",
   "metadata": {},
   "source": [
    "<!-- HTML file automatically generated from DocOnce source (https://github.com/doconce/doconce/)\n",
    "doconce format html exercisesweek41.do.txt  -->\n",
    "<!-- dom:TITLE: Exercises week 41 -->\n"
   ]
  },
  {
   "cell_type": "markdown",
   "id": "bcb25e64",
   "metadata": {},
   "source": [
    "# Exercises week 42\n",
    "\n",
    "**October 14-18, 2024**\n",
    "\n",
    "Date: **Deadline is Friday October 18 at midnight**\n"
   ]
  },
  {
   "cell_type": "markdown",
   "id": "bb01f126",
   "metadata": {},
   "source": [
    "# Overarching aims of the exercises this week\n",
    "\n",
    "This week, you will implement the entire feed-forward pass of a neural network! Next week you will compute the gradient of the network by implementing back-propagation manually, and by using autograd which does back-propagation for you (much easier!). Next week, you will also use the gradient to optimize the network with a gradient method! However, there is an optional exercise this week to get started on training the network and getting good results!\n",
    "\n",
    "We recommend that you do the exercises this week by editing and running this notebook file, as it includes some checks along the way that you have implemented the pieces of the feed-forward pass correctly, and running small parts of the code at a time will be important for understanding the methods.\n",
    "\n",
    "If you have trouble running a notebook, you can run this notebook in google colab instead (https://colab.research.google.com/drive/1zKibVQf-iAYaAn2-GlKfgRjHtLnPlBX4#offline=true&sandboxMode=true), an updated link will be provided on the course discord (you can also send an email to k.h.fredly@fys.uio.no if you encounter any trouble), though we recommend that you set up VSCode and your python environment to run code like this locally.\n",
    "\n",
    "First, here are some functions you are going to need, don't change this cell. If you are unable to import autograd, just swap in normal numpy until you want to do the final optional exercise.\n"
   ]
  },
  {
   "cell_type": "code",
   "execution_count": 1151,
   "id": "c6f61b09",
   "metadata": {},
   "outputs": [],
   "source": [
    "#import autograd.numpy as np  # We need to use this numpy wrapper to make automatic differentiation work later\n",
    "import numpy as np\n",
    "import pandas as pd\n",
    "from sklearn import datasets\n",
    "import matplotlib.pyplot as plt\n",
    "from sklearn.metrics import accuracy_score, confusion_matrix, ConfusionMatrixDisplay\n",
    "\n",
    "\n",
    "# Defining some activation functions\n",
    "def ReLU(z):\n",
    "    return np.where(z > 0, z, 0)\n",
    "\n",
    "\n",
    "def sigmoid(z):\n",
    "    return 1 / (1 + np.exp(-z))\n",
    "\n",
    "\n",
    "def softmax(z):\n",
    "    \"\"\"Compute softmax values for each set of scores in the rows of the matrix z.\n",
    "    Used with batched input data.\"\"\"\n",
    "    e_z = np.exp(z - np.max(z, axis=0))\n",
    "    return e_z / np.sum(e_z, axis=1)[:, np.newaxis]\n",
    "\n",
    "\n",
    "def softmax_vec(z):\n",
    "    \"\"\"Compute softmax values for each set of scores in the vector z.\n",
    "    Use this function when you use the activation function on one vector at a time\"\"\"\n",
    "    e_z = np.exp(z - np.max(z))\n",
    "    return e_z / np.sum(e_z)"
   ]
  },
  {
   "cell_type": "markdown",
   "id": "6248ec53",
   "metadata": {},
   "source": [
    "# Exercise 1\n",
    "\n",
    "In this exercise you will compute the activation of the first layer. You only need to change the code in the cells right below an exercise, the rest works out of the box. Feel free to make changes and see how stuff works though!\n"
   ]
  },
  {
   "cell_type": "code",
   "execution_count": 1152,
   "id": "37f30740",
   "metadata": {},
   "outputs": [
    {
     "name": "stdout",
     "output_type": "stream",
     "text": [
      "[1.66804732 0.73734773]\n",
      "[[-0.20153776 -0.15091195]\n",
      " [ 0.91605181  1.16032964]\n",
      " [-2.619962   -1.32529457]\n",
      " [ 0.45998862  0.10205165]]\n"
     ]
    }
   ],
   "source": [
    "np.random.seed(2024)\n",
    "\n",
    "x = np.random.randn(2)  # network input. This is a single input with two features\n",
    "W1 = np.random.randn(4, 2)  # first layer weights\n",
    "\n",
    "print(x)\n",
    "print(W1)"
   ]
  },
  {
   "cell_type": "markdown",
   "id": "4ed2cf3d",
   "metadata": {},
   "source": [
    "**a)** Given the shape of the first layer weight matrix, what is the input shape of the neural network? What is the output shape of the first layer?\n"
   ]
  },
  {
   "cell_type": "markdown",
   "id": "26001877",
   "metadata": {},
   "source": [
    "Answer: Total of 8 weights, there are 4 weights per feature\n",
    "\n",
    "Network takes in 1 point, which with weights becomes 4 points for the output\n",
    "\n",
    "Extra feature gets folded in, so input is still 1 to 4"
   ]
  },
  {
   "cell_type": "markdown",
   "id": "edf7217b",
   "metadata": {},
   "source": [
    "**b)** Define the bias of the first layer, `b1`with the correct shape. (Run the next cell right after the previous to get the random generated values to line up with the test solution below)\n"
   ]
  },
  {
   "cell_type": "code",
   "execution_count": 1153,
   "id": "2129c19f",
   "metadata": {},
   "outputs": [],
   "source": [
    "# random bias\n",
    "b1 = np.random.randn(4)"
   ]
  },
  {
   "cell_type": "markdown",
   "id": "09e8d453",
   "metadata": {},
   "source": [
    "**c)** Compute the intermediary `z1` for the first layer\n"
   ]
  },
  {
   "cell_type": "code",
   "execution_count": 1154,
   "id": "6837119b",
   "metadata": {},
   "outputs": [
    {
     "name": "stdout",
     "output_type": "stream",
     "text": [
      "[ 0.60610368  4.0076268  -6.84805855  0.56469864]\n"
     ]
    }
   ],
   "source": [
    "z1 = W1 @ x + b1\n",
    "print(z1)"
   ]
  },
  {
   "cell_type": "markdown",
   "id": "6f71374e",
   "metadata": {},
   "source": [
    "**d)** Compute the activation `a1` for the first layer using the ReLU activation function defined earlier.\n"
   ]
  },
  {
   "cell_type": "code",
   "execution_count": 1155,
   "id": "8d41ed19",
   "metadata": {},
   "outputs": [
    {
     "name": "stdout",
     "output_type": "stream",
     "text": [
      "[0.60610368 4.0076268  0.         0.56469864]\n"
     ]
    }
   ],
   "source": [
    "a1 = ReLU(z1)\n",
    "print(a1)"
   ]
  },
  {
   "cell_type": "markdown",
   "id": "088710c0",
   "metadata": {},
   "source": [
    "Confirm that you got the correct activation with the test below. Make sure that you define `b1` with the randn function right after you define `W1`.\n"
   ]
  },
  {
   "cell_type": "code",
   "execution_count": 1156,
   "id": "4d2f54b4",
   "metadata": {},
   "outputs": [
    {
     "name": "stdout",
     "output_type": "stream",
     "text": [
      "True\n"
     ]
    }
   ],
   "source": [
    "sol1 = np.array([0.60610368, 4.0076268, 0.0, 0.56469864])\n",
    "\n",
    "print(np.allclose(a1, sol1))"
   ]
  },
  {
   "cell_type": "markdown",
   "id": "7fb0cf46",
   "metadata": {},
   "source": [
    "# Exercise 2\n",
    "\n",
    "Now we will add a layer to the network with an output of length 8 and ReLU activation.\n",
    "\n",
    "**a)** What is the input of the second layer? What is its shape?\n"
   ]
  },
  {
   "cell_type": "markdown",
   "id": "2762cb01",
   "metadata": {},
   "source": [
    "input should be the first layer, so 4 points\n",
    "\n",
    "output will be 8 after passing through weights"
   ]
  },
  {
   "cell_type": "markdown",
   "id": "2ddd59ae",
   "metadata": {},
   "source": [
    "\n",
    "**b)** Define the weight and bias of the second layer with the right shapes.\n"
   ]
  },
  {
   "cell_type": "code",
   "execution_count": 1157,
   "id": "00063acf",
   "metadata": {},
   "outputs": [],
   "source": [
    "W2 = np.random.randn(8, 4)\n",
    "b2 = np.random.randn(8)"
   ]
  },
  {
   "cell_type": "markdown",
   "id": "5bd7d84b",
   "metadata": {},
   "source": [
    "**c)** Compute the intermediary `z2` and activation `a2` for the second layer.\n"
   ]
  },
  {
   "cell_type": "code",
   "execution_count": 1158,
   "id": "2fd0383d",
   "metadata": {},
   "outputs": [
    {
     "name": "stdout",
     "output_type": "stream",
     "text": [
      "[ 4.84538217 -1.65030586 -8.63470228 -7.09089022  2.83437944 -0.58520821\n",
      "  2.45350499 -0.84926925]\n",
      "[4.84538217 0.         0.         0.         2.83437944 0.\n",
      " 2.45350499 0.        ]\n"
     ]
    }
   ],
   "source": [
    "z2 = W2 @ a1 + b2\n",
    "print(z2)\n",
    "a2 = ReLU(z2)\n",
    "print(a2)"
   ]
  },
  {
   "cell_type": "markdown",
   "id": "1b5daae5",
   "metadata": {},
   "source": [
    "Confirm that you got the correct activation shape with the test below.\n"
   ]
  },
  {
   "cell_type": "code",
   "execution_count": 1159,
   "id": "f7f2f8a1",
   "metadata": {},
   "outputs": [
    {
     "name": "stdout",
     "output_type": "stream",
     "text": [
      "True\n"
     ]
    }
   ],
   "source": [
    "print(\n",
    "    np.allclose(np.exp(len(a2)), 2980.9579870417283)\n",
    ")  # This should evaluate to True if a2 has the correct shape :)"
   ]
  },
  {
   "cell_type": "markdown",
   "id": "3759620d",
   "metadata": {},
   "source": [
    "# Exercise 3\n",
    "\n",
    "We often want our neural networks to have many layers of varying sizes. To avoid writing very long and error-prone code where we explicitly define and evaluate each layer we should keep all our layers in a single variable which is easy to create and use.\n",
    "\n",
    "**a)** Complete the function below so that it returns a list `layers` of weight and bias tuples `(W, b)` for each layer, in order, with the correct shapes that we can use later as our network parameters.\n"
   ]
  },
  {
   "cell_type": "code",
   "execution_count": 1160,
   "id": "c58f10f9",
   "metadata": {},
   "outputs": [],
   "source": [
    "def create_layers(network_input_size, layer_output_sizes):\n",
    "    layers = []\n",
    "\n",
    "    i_size = network_input_size\n",
    "    for layer_output_size in layer_output_sizes:\n",
    "        W = np.random.randn(layer_output_size, i_size)\n",
    "        b = np.random.randn(layer_output_size)\n",
    "        layers.append((W, b))\n",
    "\n",
    "        i_size = layer_output_size\n",
    "    return layers"
   ]
  },
  {
   "cell_type": "markdown",
   "id": "bdc0cda2",
   "metadata": {},
   "source": [
    "**b)** Comple the function below so that it evaluates the intermediary `z` and activation `a` for each layer, with ReLU actication, and returns the final activation `a`. This is the complete feed-forward pass, a full neural network!\n"
   ]
  },
  {
   "cell_type": "code",
   "execution_count": 1161,
   "id": "5262df05",
   "metadata": {},
   "outputs": [],
   "source": [
    "def feed_forward_all_relu(layers, input, debug_print = False):\n",
    "    a = input\n",
    "    i = 0\n",
    "    for W, b in layers:\n",
    "        if debug_print:\n",
    "            print(f\"- Layer {i} -\")\n",
    "            print(f\"{W.shape=}\")\n",
    "\n",
    "        z = W @ a + b\n",
    "        \n",
    "        if debug_print:\n",
    "            print(f\"{z.shape=}\")\n",
    "        \n",
    "        a = ReLU(z)\n",
    "        i += 1\n",
    "    return a"
   ]
  },
  {
   "cell_type": "markdown",
   "id": "245adbcb",
   "metadata": {},
   "source": [
    "**c)** Create a network with input size 8 and layers with output sizes 10, 16, 6, 2. Evaluate it and make sure that you get the correct size vectors along the way.\n"
   ]
  },
  {
   "cell_type": "code",
   "execution_count": 1162,
   "id": "89a8f70d",
   "metadata": {},
   "outputs": [
    {
     "name": "stdout",
     "output_type": "stream",
     "text": [
      "x=array([0.8241973 , 0.31142866, 0.50523054, 0.84900379, 0.29351563,\n",
      "       0.67711955, 0.4209064 , 0.68171271])\n",
      "- Layer 0 -\n",
      "W.shape=(10, 8)\n",
      "z.shape=(10,)\n",
      "- Layer 1 -\n",
      "W.shape=(16, 10)\n",
      "z.shape=(16,)\n",
      "- Layer 2 -\n",
      "W.shape=(6, 16)\n",
      "z.shape=(6,)\n",
      "- Layer 3 -\n",
      "W.shape=(2, 6)\n",
      "z.shape=(2,)\n",
      "\n",
      "Output = [5.36337158 0.        ]\n"
     ]
    }
   ],
   "source": [
    "input_size = 8\n",
    "layer_output_sizes = [10, 16, 6, 2]\n",
    "\n",
    "x = np.random.rand(input_size)\n",
    "print(f\"{x=}\")\n",
    "layers = create_layers(input_size, layer_output_sizes)\n",
    "predict = feed_forward_all_relu(layers, x, debug_print=True)\n",
    "print(f\"\\nOutput = {predict}\")"
   ]
  },
  {
   "cell_type": "markdown",
   "id": "0da7fd52",
   "metadata": {},
   "source": [
    "**d)** Why is a neural network with no activation functions always mathematically equivelent to a neural network with only one layer?\n"
   ]
  },
  {
   "cell_type": "markdown",
   "id": "baf763ed",
   "metadata": {},
   "source": [
    "For 2 layers, it would be $z_2 = W_2 @ z_1 + b_2 = W_2 @ \\left( W_1 @ x + b_1 \\right) + b_2 $\n",
    "\n",
    "But the weights are all randomly initialized - a sequential dot product like this is equivalent to just changing the original random numbers inside both $W$ and $b$, and only doing one step. The result of changing random numbers to be a random number times another random number is... just a random number, so no further adjustment is needed"
   ]
  },
  {
   "cell_type": "markdown",
   "id": "306d8b7c",
   "metadata": {},
   "source": [
    "# Exercise 4 - Custom activation for each layer\n"
   ]
  },
  {
   "cell_type": "markdown",
   "id": "221c7b6c",
   "metadata": {},
   "source": [
    "So far, every layer has used the same activation, ReLU. We often want to use other types of activation however, so we need to update our code to support multiple types of activation functions. Make sure that you have completed every previous exercise before trying this one.\n"
   ]
  },
  {
   "cell_type": "markdown",
   "id": "10896d06",
   "metadata": {},
   "source": [
    "**a)** Complete the `feed_forward` function which accepts a list of activation functions as an argument, and which evaluates these activation functions at each layer.\n"
   ]
  },
  {
   "cell_type": "code",
   "execution_count": 1163,
   "id": "de062369",
   "metadata": {},
   "outputs": [],
   "source": [
    "def feed_forward(input, layers, activation_funcs, debug_print=False):\n",
    "    a = input\n",
    "    i = 0\n",
    "    for (W, b), activation_func in zip(layers, activation_funcs):\n",
    "        if debug_print:\n",
    "            print(f\"- Layer {i} -\")\n",
    "            print(f\"{W.shape=}\")\n",
    "\n",
    "        z = W @ a + b\n",
    "        \n",
    "        if debug_print:\n",
    "            print(f\"{z.shape=}\")\n",
    "        \n",
    "        a = activation_func(z)\n",
    "        \n",
    "        i += 1\n",
    "    return a"
   ]
  },
  {
   "cell_type": "markdown",
   "id": "8f7df363",
   "metadata": {},
   "source": [
    "**b)** You are now given a list with three activation functions, two ReLU and one sigmoid. (Don't call them yet! you can make a list with function names as elements, and then call these elements of the list later. If you add other functions than the ones defined at the start of the notebook, make sure everything is defined using autograd's numpy wrapper, like above, since we want to use automatic differentiation on all of these functions later.)\n",
    "\n",
    "Evaluate a network with three layers and these activation functions.\n"
   ]
  },
  {
   "cell_type": "code",
   "execution_count": 1164,
   "id": "301b46dc",
   "metadata": {},
   "outputs": [
    {
     "name": "stdout",
     "output_type": "stream",
     "text": [
      "- Layer 0 -\n",
      "W.shape=(8, 8)\n",
      "z.shape=(8,)\n",
      "- Layer 1 -\n",
      "W.shape=(6, 8)\n",
      "z.shape=(6,)\n",
      "- Layer 2 -\n",
      "W.shape=(4, 6)\n",
      "z.shape=(4,)\n",
      "\n",
      "Output = [1.27012419e-04 5.32936784e-02 9.50764574e-01 9.95538532e-01]\n"
     ]
    }
   ],
   "source": [
    "network_input_size = 8\n",
    "layer_output_sizes = [8, 6, 4]\n",
    "activation_funcs = [ReLU, ReLU, sigmoid]\n",
    "layers = create_layers(input_size, layer_output_sizes)\n",
    "\n",
    "x = np.random.randn(network_input_size)\n",
    "predict = feed_forward(x, layers, activation_funcs, debug_print=True)\n",
    "\n",
    "print(f\"\\nOutput = {predict}\")"
   ]
  },
  {
   "cell_type": "markdown",
   "id": "9c914fd0",
   "metadata": {},
   "source": [
    "**c)** How does the output of the network change if you use sigmoid in the hidden layers and ReLU in the output layer?\n"
   ]
  },
  {
   "cell_type": "code",
   "execution_count": 1165,
   "id": "d7fb5d40",
   "metadata": {},
   "outputs": [
    {
     "name": "stdout",
     "output_type": "stream",
     "text": [
      "- Layer 0 -\n",
      "W.shape=(8, 8)\n",
      "z.shape=(8,)\n",
      "- Layer 1 -\n",
      "W.shape=(6, 8)\n",
      "z.shape=(6,)\n",
      "- Layer 2 -\n",
      "W.shape=(4, 6)\n",
      "z.shape=(4,)\n",
      "\n",
      "Output = [2.12953865 0.63857381 0.18779986 2.26080117]\n"
     ]
    }
   ],
   "source": [
    "network_input_size = 8\n",
    "layer_output_sizes = [8, 6, 4]\n",
    "activation_funcs = [sigmoid, sigmoid, ReLU]\n",
    "layers = create_layers(input_size, layer_output_sizes)\n",
    "\n",
    "x = np.random.randn(network_input_size)\n",
    "predict = feed_forward(x, layers, activation_funcs, debug_print=True)\n",
    "\n",
    "print(f\"\\nOutput = {predict}\")"
   ]
  },
  {
   "cell_type": "markdown",
   "id": "0e965f2b",
   "metadata": {},
   "source": [
    "goes from small decimal numbers to being around 1-2"
   ]
  },
  {
   "cell_type": "markdown",
   "id": "a8d6c425",
   "metadata": {},
   "source": [
    "# Exercise 5 - Processing multiple inputs at once\n"
   ]
  },
  {
   "cell_type": "markdown",
   "id": "0f4330a4",
   "metadata": {},
   "source": [
    "So far, the feed forward function has taken one input vector as an input. This vector then undergoes a linear transformation and then an element-wise non-linear operation for each layer. This approach of sending one vector in at a time is great for interpreting how the network transforms data with its linear and non-linear operations, but not the best for numerical efficiency. Now, we want to be able to send many inputs through the network at once. This will make the code a bit harder to understand, but it will make it faster, and more compact. It will be worth the trouble.\n",
    "\n",
    "To process multiple inputs at once, while still performing the same operations, you will only need to flip a couple things around.\n"
   ]
  },
  {
   "cell_type": "markdown",
   "id": "17023bb7",
   "metadata": {},
   "source": [
    "**a)** Complete the function `create_layers_batch` so that the weight matrix is the transpose of what it was when you only sent in one input at a time.\n"
   ]
  },
  {
   "cell_type": "code",
   "execution_count": 1166,
   "id": "a241fd79",
   "metadata": {},
   "outputs": [],
   "source": [
    "def create_layers_batch(network_input_size, layer_output_sizes):\n",
    "    layers = []\n",
    "\n",
    "    i_size = network_input_size\n",
    "    for layer_output_size in layer_output_sizes:\n",
    "        W = np.random.randn(i_size, layer_output_size)\n",
    "        b = np.random.randn(layer_output_size)\n",
    "        layers.append((W, b))\n",
    "\n",
    "        i_size = layer_output_size\n",
    "    return layers"
   ]
  },
  {
   "cell_type": "markdown",
   "id": "a6349db6",
   "metadata": {},
   "source": [
    "**b)** Make a matrix of inputs with the shape (number of features, number of inputs), you choose the number of inputs and features per input. Then complete the function `feed_forward_batch` so that you can process this matrix of inputs with only one matrix multiplication and one broadcasted vector addition per layer. (Hint: You will only need to swap two variable around from your previous implementation, but remember to test that you get the same results for equivelent inputs!)\n"
   ]
  },
  {
   "cell_type": "code",
   "execution_count": 1167,
   "id": "425f3bcc",
   "metadata": {},
   "outputs": [],
   "source": [
    "def feed_forward_batch(inputs, layers, activation_funcs, debug_print=False):\n",
    "    a = inputs\n",
    "    i = 0\n",
    "    for (W, b), activation_func in zip(layers, activation_funcs):\n",
    "        z = a @ W + b\n",
    "        a = activation_func(z)\n",
    "\n",
    "        if debug_print:\n",
    "            print(f\"- Layer {i} -\")\n",
    "            print(f\"{W.shape=}\")\n",
    "            print(f\"{z.shape=}\")\n",
    "        i += 1\n",
    "    return a"
   ]
  },
  {
   "cell_type": "code",
   "execution_count": 1168,
   "id": "b40d6cc0",
   "metadata": {},
   "outputs": [
    {
     "name": "stdout",
     "output_type": "stream",
     "text": [
      "x=array([0.47284774, 0.30795873, 0.09240551, 0.72637111, 0.77612091,\n",
      "       0.49420527, 0.41676431, 0.66796426])\n",
      "\n",
      "Output basic = [0. 0.]\n",
      "\n",
      "Output = [ 1.13289456 21.26409275]\n"
     ]
    }
   ],
   "source": [
    "input_size = 8\n",
    "layer_output_sizes = [10, 16, 6, 2]\n",
    "activation_funcs = [ReLU, ReLU, ReLU, ReLU]\n",
    "\n",
    "x = np.random.rand(input_size)\n",
    "print(f\"{x=}\")\n",
    "\n",
    "np.random.seed(2024)\n",
    "layers_basic = create_layers(input_size, layer_output_sizes)\n",
    "predict_basic = feed_forward(x, layers_basic, activation_funcs, debug_print=False)\n",
    "\n",
    "np.random.seed(2024)\n",
    "layers = create_layers_batch(input_size, layer_output_sizes)\n",
    "predict = feed_forward_batch(x, layers, activation_funcs, debug_print=False)\n",
    "\n",
    "print(f\"\\nOutput basic = {predict_basic}\")\n",
    "print(f\"\\nOutput = {predict}\")"
   ]
  },
  {
   "cell_type": "markdown",
   "id": "efd07b4e",
   "metadata": {},
   "source": [
    "**c)** Create and evaluate a neural network with 4 inputs and layers with output sizes 12, 10, 3 and activations ReLU, ReLU, softmax.\n"
   ]
  },
  {
   "cell_type": "code",
   "execution_count": 1169,
   "id": "ce6fcc2f",
   "metadata": {},
   "outputs": [
    {
     "name": "stdout",
     "output_type": "stream",
     "text": [
      "\n",
      "Output batch method = \n",
      "[[8.68795408e-01 1.30841735e-01 3.62857106e-04]\n",
      " [7.79774221e-01 6.64742396e-02 1.53751539e-01]\n",
      " [7.96182866e-01 2.00135856e-01 3.68127789e-03]\n",
      " ...\n",
      " [8.35884511e-01 5.77486721e-03 1.58340622e-01]\n",
      " [7.60385478e-01 2.31052483e-01 8.56203863e-03]\n",
      " [8.51785754e-01 1.47528587e-01 6.85658929e-04]]\n"
     ]
    },
    {
     "data": {
      "text/html": [
       "<div>\n",
       "<style scoped>\n",
       "    .dataframe tbody tr th:only-of-type {\n",
       "        vertical-align: middle;\n",
       "    }\n",
       "\n",
       "    .dataframe tbody tr th {\n",
       "        vertical-align: top;\n",
       "    }\n",
       "\n",
       "    .dataframe thead th {\n",
       "        text-align: right;\n",
       "    }\n",
       "</style>\n",
       "<table border=\"1\" class=\"dataframe\">\n",
       "  <thead>\n",
       "    <tr style=\"text-align: right;\">\n",
       "      <th></th>\n",
       "      <th>0</th>\n",
       "      <th>1</th>\n",
       "      <th>2</th>\n",
       "      <th>3</th>\n",
       "      <th>4</th>\n",
       "      <th>5</th>\n",
       "      <th>6</th>\n",
       "      <th>7</th>\n",
       "      <th>8</th>\n",
       "      <th>9</th>\n",
       "      <th>...</th>\n",
       "      <th>990</th>\n",
       "      <th>991</th>\n",
       "      <th>992</th>\n",
       "      <th>993</th>\n",
       "      <th>994</th>\n",
       "      <th>995</th>\n",
       "      <th>996</th>\n",
       "      <th>997</th>\n",
       "      <th>998</th>\n",
       "      <th>999</th>\n",
       "    </tr>\n",
       "  </thead>\n",
       "  <tbody>\n",
       "    <tr>\n",
       "      <th>0</th>\n",
       "      <td>0.868795</td>\n",
       "      <td>0.779774</td>\n",
       "      <td>0.796183</td>\n",
       "      <td>0.871222</td>\n",
       "      <td>0.770555</td>\n",
       "      <td>0.822928</td>\n",
       "      <td>0.867899</td>\n",
       "      <td>0.853143</td>\n",
       "      <td>0.912288</td>\n",
       "      <td>0.800303</td>\n",
       "      <td>...</td>\n",
       "      <td>0.808625</td>\n",
       "      <td>0.79783</td>\n",
       "      <td>0.953261</td>\n",
       "      <td>0.437385</td>\n",
       "      <td>0.894042</td>\n",
       "      <td>0.899561</td>\n",
       "      <td>0.104165</td>\n",
       "      <td>0.835885</td>\n",
       "      <td>0.760385</td>\n",
       "      <td>0.851786</td>\n",
       "    </tr>\n",
       "    <tr>\n",
       "      <th>1</th>\n",
       "      <td>0.130842</td>\n",
       "      <td>0.066474</td>\n",
       "      <td>0.200136</td>\n",
       "      <td>0.126231</td>\n",
       "      <td>0.222601</td>\n",
       "      <td>0.175322</td>\n",
       "      <td>0.131725</td>\n",
       "      <td>0.145820</td>\n",
       "      <td>0.061769</td>\n",
       "      <td>0.087199</td>\n",
       "      <td>...</td>\n",
       "      <td>0.188755</td>\n",
       "      <td>0.18502</td>\n",
       "      <td>0.038678</td>\n",
       "      <td>0.005397</td>\n",
       "      <td>0.097738</td>\n",
       "      <td>0.093229</td>\n",
       "      <td>0.001519</td>\n",
       "      <td>0.005775</td>\n",
       "      <td>0.231052</td>\n",
       "      <td>0.147529</td>\n",
       "    </tr>\n",
       "    <tr>\n",
       "      <th>2</th>\n",
       "      <td>0.000363</td>\n",
       "      <td>0.153752</td>\n",
       "      <td>0.003681</td>\n",
       "      <td>0.002547</td>\n",
       "      <td>0.006844</td>\n",
       "      <td>0.001751</td>\n",
       "      <td>0.000376</td>\n",
       "      <td>0.001037</td>\n",
       "      <td>0.025943</td>\n",
       "      <td>0.112498</td>\n",
       "      <td>...</td>\n",
       "      <td>0.002620</td>\n",
       "      <td>0.01715</td>\n",
       "      <td>0.008061</td>\n",
       "      <td>0.557219</td>\n",
       "      <td>0.008220</td>\n",
       "      <td>0.007210</td>\n",
       "      <td>0.894316</td>\n",
       "      <td>0.158341</td>\n",
       "      <td>0.008562</td>\n",
       "      <td>0.000686</td>\n",
       "    </tr>\n",
       "  </tbody>\n",
       "</table>\n",
       "<p>3 rows × 1000 columns</p>\n",
       "</div>"
      ],
      "text/plain": [
       "        0         1         2         3         4         5         6    \\\n",
       "0  0.868795  0.779774  0.796183  0.871222  0.770555  0.822928  0.867899   \n",
       "1  0.130842  0.066474  0.200136  0.126231  0.222601  0.175322  0.131725   \n",
       "2  0.000363  0.153752  0.003681  0.002547  0.006844  0.001751  0.000376   \n",
       "\n",
       "        7         8         9    ...       990      991       992       993  \\\n",
       "0  0.853143  0.912288  0.800303  ...  0.808625  0.79783  0.953261  0.437385   \n",
       "1  0.145820  0.061769  0.087199  ...  0.188755  0.18502  0.038678  0.005397   \n",
       "2  0.001037  0.025943  0.112498  ...  0.002620  0.01715  0.008061  0.557219   \n",
       "\n",
       "        994       995       996       997       998       999  \n",
       "0  0.894042  0.899561  0.104165  0.835885  0.760385  0.851786  \n",
       "1  0.097738  0.093229  0.001519  0.005775  0.231052  0.147529  \n",
       "2  0.008220  0.007210  0.894316  0.158341  0.008562  0.000686  \n",
       "\n",
       "[3 rows x 1000 columns]"
      ]
     },
     "metadata": {},
     "output_type": "display_data"
    }
   ],
   "source": [
    "inputs = np.random.rand(1000, 4)\n",
    "network_input_size = 4\n",
    "layer_output_sizes = [12, 10, 3]\n",
    "activation_funcs = [ReLU, ReLU, softmax]\n",
    "layers = create_layers_batch(network_input_size, layer_output_sizes)\n",
    "\n",
    "x = np.random.randn(network_input_size)\n",
    "predict_batch = feed_forward_batch(inputs, layers, activation_funcs)\n",
    "print(f\"\\nOutput batch method = \\n{predict_batch}\")\n",
    "display(pd.DataFrame(predict_batch.T))"
   ]
  },
  {
   "cell_type": "markdown",
   "id": "87999271",
   "metadata": {},
   "source": [
    "You should use this batched approach moving forward, as it will lead to much more compact code. However, remember that each input is still treated separately, and that you will need to keep in mind the transposed weight matrix and other details when implementing backpropagation.\n"
   ]
  },
  {
   "cell_type": "markdown",
   "id": "237eb782",
   "metadata": {},
   "source": [
    "# Exercise 6 - Predicting on real data\n"
   ]
  },
  {
   "cell_type": "markdown",
   "id": "54d5fde7",
   "metadata": {},
   "source": [
    "You will now evaluate your neural network on the iris data set (https://scikit-learn.org/1.5/auto_examples/datasets/plot_iris_dataset.html).\n",
    "\n",
    "This dataset contains data on 150 flowers of 3 different types which can be separated pretty well using the four features given for each flower, which includes the width and length of their leaves. You are will later train your network to actually make good predictions.\n"
   ]
  },
  {
   "cell_type": "code",
   "execution_count": 1170,
   "id": "6bd4c148",
   "metadata": {},
   "outputs": [
    {
     "data": {
      "image/png": "[encoded data removed]",
      "text/plain": [
       "<Figure size 640x480 with 1 Axes>"
      ]
     },
     "metadata": {},
     "output_type": "display_data"
    }
   ],
   "source": [
    "iris = datasets.load_iris()\n",
    "\n",
    "_, ax = plt.subplots()\n",
    "scatter = ax.scatter(iris.data[:, 0], iris.data[:, 1], c=iris.target)\n",
    "ax.set(xlabel=iris.feature_names[0], ylabel=iris.feature_names[1])\n",
    "_ = ax.legend(\n",
    "    scatter.legend_elements()[0], iris.target_names, loc=\"lower right\", title=\"Classes\"\n",
    ")"
   ]
  },
  {
   "cell_type": "code",
   "execution_count": 1171,
   "id": "ed3e2fc9",
   "metadata": {},
   "outputs": [],
   "source": [
    "inputs = iris.data\n",
    "\n",
    "# Since each prediction is a vector with a score for each of the three types of flowers,\n",
    "# we need to make each target a vector with a 1 for the correct flower and a 0 for the others.\n",
    "targets = np.zeros((len(iris.data), 3))\n",
    "for i, t in enumerate(iris.target):\n",
    "    targets[i, t] = 1\n",
    "\n",
    "\n",
    "def accuracy(predictions, targets):\n",
    "    one_hot_predictions = np.zeros(predictions.shape)\n",
    "\n",
    "    for i, prediction in enumerate(predictions):\n",
    "        one_hot_predictions[i, np.argmax(prediction)] = 1\n",
    "    return accuracy_score(one_hot_predictions, targets)"
   ]
  },
  {
   "cell_type": "code",
   "execution_count": 1172,
   "id": "4e1ca08c",
   "metadata": {},
   "outputs": [
    {
     "name": "stdout",
     "output_type": "stream",
     "text": [
      "dict_keys(['data', 'target', 'frame', 'target_names', 'DESCR', 'feature_names', 'filename', 'data_module'])\n"
     ]
    },
    {
     "data": {
      "text/html": [
       "<div>\n",
       "<style scoped>\n",
       "    .dataframe tbody tr th:only-of-type {\n",
       "        vertical-align: middle;\n",
       "    }\n",
       "\n",
       "    .dataframe tbody tr th {\n",
       "        vertical-align: top;\n",
       "    }\n",
       "\n",
       "    .dataframe thead th {\n",
       "        text-align: right;\n",
       "    }\n",
       "</style>\n",
       "<table border=\"1\" class=\"dataframe\">\n",
       "  <thead>\n",
       "    <tr style=\"text-align: right;\">\n",
       "      <th></th>\n",
       "      <th>sepal length (cm)</th>\n",
       "      <th>sepal width (cm)</th>\n",
       "      <th>petal length (cm)</th>\n",
       "      <th>petal width (cm)</th>\n",
       "    </tr>\n",
       "  </thead>\n",
       "  <tbody>\n",
       "    <tr>\n",
       "      <th>0</th>\n",
       "      <td>5.1</td>\n",
       "      <td>3.5</td>\n",
       "      <td>1.4</td>\n",
       "      <td>0.2</td>\n",
       "    </tr>\n",
       "    <tr>\n",
       "      <th>1</th>\n",
       "      <td>4.9</td>\n",
       "      <td>3.0</td>\n",
       "      <td>1.4</td>\n",
       "      <td>0.2</td>\n",
       "    </tr>\n",
       "    <tr>\n",
       "      <th>2</th>\n",
       "      <td>4.7</td>\n",
       "      <td>3.2</td>\n",
       "      <td>1.3</td>\n",
       "      <td>0.2</td>\n",
       "    </tr>\n",
       "    <tr>\n",
       "      <th>3</th>\n",
       "      <td>4.6</td>\n",
       "      <td>3.1</td>\n",
       "      <td>1.5</td>\n",
       "      <td>0.2</td>\n",
       "    </tr>\n",
       "    <tr>\n",
       "      <th>4</th>\n",
       "      <td>5.0</td>\n",
       "      <td>3.6</td>\n",
       "      <td>1.4</td>\n",
       "      <td>0.2</td>\n",
       "    </tr>\n",
       "    <tr>\n",
       "      <th>...</th>\n",
       "      <td>...</td>\n",
       "      <td>...</td>\n",
       "      <td>...</td>\n",
       "      <td>...</td>\n",
       "    </tr>\n",
       "    <tr>\n",
       "      <th>145</th>\n",
       "      <td>6.7</td>\n",
       "      <td>3.0</td>\n",
       "      <td>5.2</td>\n",
       "      <td>2.3</td>\n",
       "    </tr>\n",
       "    <tr>\n",
       "      <th>146</th>\n",
       "      <td>6.3</td>\n",
       "      <td>2.5</td>\n",
       "      <td>5.0</td>\n",
       "      <td>1.9</td>\n",
       "    </tr>\n",
       "    <tr>\n",
       "      <th>147</th>\n",
       "      <td>6.5</td>\n",
       "      <td>3.0</td>\n",
       "      <td>5.2</td>\n",
       "      <td>2.0</td>\n",
       "    </tr>\n",
       "    <tr>\n",
       "      <th>148</th>\n",
       "      <td>6.2</td>\n",
       "      <td>3.4</td>\n",
       "      <td>5.4</td>\n",
       "      <td>2.3</td>\n",
       "    </tr>\n",
       "    <tr>\n",
       "      <th>149</th>\n",
       "      <td>5.9</td>\n",
       "      <td>3.0</td>\n",
       "      <td>5.1</td>\n",
       "      <td>1.8</td>\n",
       "    </tr>\n",
       "  </tbody>\n",
       "</table>\n",
       "<p>150 rows × 4 columns</p>\n",
       "</div>"
      ],
      "text/plain": [
       "     sepal length (cm)  sepal width (cm)  petal length (cm)  petal width (cm)\n",
       "0                  5.1               3.5                1.4               0.2\n",
       "1                  4.9               3.0                1.4               0.2\n",
       "2                  4.7               3.2                1.3               0.2\n",
       "3                  4.6               3.1                1.5               0.2\n",
       "4                  5.0               3.6                1.4               0.2\n",
       "..                 ...               ...                ...               ...\n",
       "145                6.7               3.0                5.2               2.3\n",
       "146                6.3               2.5                5.0               1.9\n",
       "147                6.5               3.0                5.2               2.0\n",
       "148                6.2               3.4                5.4               2.3\n",
       "149                5.9               3.0                5.1               1.8\n",
       "\n",
       "[150 rows x 4 columns]"
      ]
     },
     "metadata": {},
     "output_type": "display_data"
    }
   ],
   "source": [
    "print(iris.keys())\n",
    "iris_df = pd.DataFrame(iris.data, columns=iris.feature_names)\n",
    "display(iris_df)"
   ]
  },
  {
   "cell_type": "markdown",
   "id": "0362c4a9",
   "metadata": {},
   "source": [
    "**a)** What should the input size for the network be with this dataset? What should the output size of the last layer be?\n"
   ]
  },
  {
   "cell_type": "markdown",
   "id": "1e0ed7e6",
   "metadata": {},
   "source": [
    "The input is 4 features, it should be $(150,4)$\n",
    "\n",
    "The output should be $(150,3)$, each flower should be classified into a group out of $(0,1,2)$, the number matching one of the types of flower"
   ]
  },
  {
   "cell_type": "markdown",
   "id": "bf62607e",
   "metadata": {},
   "source": [
    "**b)** Create a network with two hidden layers, the first with sigmoid activation and the last with softmax, the first layer should have 8 \"nodes\", the second has the number of nodes you found in exercise a). Softmax returns a \"probability distribution\", in the sense that the numbers in the output are positive and add up to 1 and, their magnitude are in some sense relative to their magnitude before going through the softmax function. Remember to use the batched version of the create_layers and feed forward functions.\n"
   ]
  },
  {
   "cell_type": "code",
   "execution_count": 1173,
   "id": "5366d4ae",
   "metadata": {},
   "outputs": [
    {
     "name": "stdout",
     "output_type": "stream",
     "text": [
      "(150, 4)\n"
     ]
    }
   ],
   "source": [
    "inputs = iris.data\n",
    "print(inputs.shape)\n",
    "network_input_size = 4\n",
    "layer_output_sizes = [8, 3]\n",
    "activation_funcs = [sigmoid, softmax]\n",
    "layers = create_layers_batch(network_input_size, layer_output_sizes)"
   ]
  },
  {
   "cell_type": "markdown",
   "id": "c528846f",
   "metadata": {},
   "source": [
    "**c)** Evaluate your model on the entire iris dataset! For later purposes, we will split the data into train and test sets, and compute gradients on smaller batches of the training data. But for now, evaluate the network on the whole thing at once.\n"
   ]
  },
  {
   "cell_type": "code",
   "execution_count": 1174,
   "id": "6c783105",
   "metadata": {},
   "outputs": [],
   "source": [
    "predictions = feed_forward_batch(inputs, layers, activation_funcs)"
   ]
  },
  {
   "cell_type": "markdown",
   "id": "01a3caa8",
   "metadata": {},
   "source": [
    "**d)** Compute the accuracy of your model using the accuracy function defined above. Recreate your model a couple times and see how the accuracy changes.\n"
   ]
  },
  {
   "cell_type": "code",
   "execution_count": 1175,
   "id": "a2612b82",
   "metadata": {},
   "outputs": [
    {
     "name": "stdout",
     "output_type": "stream",
     "text": [
      "0.31333333333333335\n"
     ]
    }
   ],
   "source": [
    "print(accuracy(predictions, targets))"
   ]
  },
  {
   "cell_type": "markdown",
   "id": "75f6cbff",
   "metadata": {},
   "source": [
    "gives about 31% accuracy, which is terrible\n",
    "\n",
    "but the weights are just random and we have no real connection to the actual problem, so that isn't really all that weird"
   ]
  },
  {
   "cell_type": "code",
   "execution_count": 1176,
   "id": "821a983c",
   "metadata": {},
   "outputs": [
    {
     "data": {
      "text/html": [
       "<div>\n",
       "<style scoped>\n",
       "    .dataframe tbody tr th:only-of-type {\n",
       "        vertical-align: middle;\n",
       "    }\n",
       "\n",
       "    .dataframe tbody tr th {\n",
       "        vertical-align: top;\n",
       "    }\n",
       "\n",
       "    .dataframe thead th {\n",
       "        text-align: right;\n",
       "    }\n",
       "</style>\n",
       "<table border=\"1\" class=\"dataframe\">\n",
       "  <thead>\n",
       "    <tr style=\"text-align: right;\">\n",
       "      <th>Flower #</th>\n",
       "      <th>0</th>\n",
       "      <th>1</th>\n",
       "      <th>2</th>\n",
       "      <th>3</th>\n",
       "      <th>4</th>\n",
       "      <th>5</th>\n",
       "      <th>6</th>\n",
       "      <th>7</th>\n",
       "      <th>8</th>\n",
       "      <th>9</th>\n",
       "      <th>...</th>\n",
       "      <th>140</th>\n",
       "      <th>141</th>\n",
       "      <th>142</th>\n",
       "      <th>143</th>\n",
       "      <th>144</th>\n",
       "      <th>145</th>\n",
       "      <th>146</th>\n",
       "      <th>147</th>\n",
       "      <th>148</th>\n",
       "      <th>149</th>\n",
       "    </tr>\n",
       "  </thead>\n",
       "  <tbody>\n",
       "    <tr>\n",
       "      <th>Predicted flower type</th>\n",
       "      <td>virginica</td>\n",
       "      <td>virginica</td>\n",
       "      <td>virginica</td>\n",
       "      <td>virginica</td>\n",
       "      <td>virginica</td>\n",
       "      <td>virginica</td>\n",
       "      <td>virginica</td>\n",
       "      <td>virginica</td>\n",
       "      <td>virginica</td>\n",
       "      <td>virginica</td>\n",
       "      <td>...</td>\n",
       "      <td>setosa</td>\n",
       "      <td>versicolor</td>\n",
       "      <td>setosa</td>\n",
       "      <td>setosa</td>\n",
       "      <td>setosa</td>\n",
       "      <td>setosa</td>\n",
       "      <td>setosa</td>\n",
       "      <td>setosa</td>\n",
       "      <td>setosa</td>\n",
       "      <td>setosa</td>\n",
       "    </tr>\n",
       "    <tr>\n",
       "      <th>Actual flower type</th>\n",
       "      <td>setosa</td>\n",
       "      <td>setosa</td>\n",
       "      <td>setosa</td>\n",
       "      <td>setosa</td>\n",
       "      <td>setosa</td>\n",
       "      <td>setosa</td>\n",
       "      <td>setosa</td>\n",
       "      <td>setosa</td>\n",
       "      <td>setosa</td>\n",
       "      <td>setosa</td>\n",
       "      <td>...</td>\n",
       "      <td>virginica</td>\n",
       "      <td>virginica</td>\n",
       "      <td>virginica</td>\n",
       "      <td>virginica</td>\n",
       "      <td>virginica</td>\n",
       "      <td>virginica</td>\n",
       "      <td>virginica</td>\n",
       "      <td>virginica</td>\n",
       "      <td>virginica</td>\n",
       "      <td>virginica</td>\n",
       "    </tr>\n",
       "    <tr>\n",
       "      <th>Accurate?</th>\n",
       "      <td>False</td>\n",
       "      <td>False</td>\n",
       "      <td>False</td>\n",
       "      <td>False</td>\n",
       "      <td>False</td>\n",
       "      <td>False</td>\n",
       "      <td>False</td>\n",
       "      <td>False</td>\n",
       "      <td>False</td>\n",
       "      <td>False</td>\n",
       "      <td>...</td>\n",
       "      <td>False</td>\n",
       "      <td>False</td>\n",
       "      <td>False</td>\n",
       "      <td>False</td>\n",
       "      <td>False</td>\n",
       "      <td>False</td>\n",
       "      <td>False</td>\n",
       "      <td>False</td>\n",
       "      <td>False</td>\n",
       "      <td>False</td>\n",
       "    </tr>\n",
       "  </tbody>\n",
       "</table>\n",
       "<p>3 rows × 150 columns</p>\n",
       "</div>"
      ],
      "text/plain": [
       "Flower #                     0          1          2          3          4    \\\n",
       "Predicted flower type  virginica  virginica  virginica  virginica  virginica   \n",
       "Actual flower type        setosa     setosa     setosa     setosa     setosa   \n",
       "Accurate?                  False      False      False      False      False   \n",
       "\n",
       "Flower #                     5          6          7          8          9    \\\n",
       "Predicted flower type  virginica  virginica  virginica  virginica  virginica   \n",
       "Actual flower type        setosa     setosa     setosa     setosa     setosa   \n",
       "Accurate?                  False      False      False      False      False   \n",
       "\n",
       "Flower #               ...        140         141        142        143  \\\n",
       "Predicted flower type  ...     setosa  versicolor     setosa     setosa   \n",
       "Actual flower type     ...  virginica   virginica  virginica  virginica   \n",
       "Accurate?              ...      False       False      False      False   \n",
       "\n",
       "Flower #                     144        145        146        147        148  \\\n",
       "Predicted flower type     setosa     setosa     setosa     setosa     setosa   \n",
       "Actual flower type     virginica  virginica  virginica  virginica  virginica   \n",
       "Accurate?                  False      False      False      False      False   \n",
       "\n",
       "Flower #                     149  \n",
       "Predicted flower type     setosa  \n",
       "Actual flower type     virginica  \n",
       "Accurate?                  False  \n",
       "\n",
       "[3 rows x 150 columns]"
      ]
     },
     "metadata": {},
     "output_type": "display_data"
    }
   ],
   "source": [
    "predicted_class = []\n",
    "actual_class = []\n",
    "# convert to single dimension list with class names\n",
    "for i, prediction in enumerate(predictions):\n",
    "    predicted_class.append(iris.target_names[np.argmax(prediction)])\n",
    "    actual_class.append(iris.target_names[iris.target[i]])\n",
    "\n",
    "\n",
    "results_df = pd.DataFrame(predicted_class, columns=[\"Predicted flower type\"])\n",
    "results_df[\"Actual flower type\"] = actual_class\n",
    "results_df[\"Accurate?\"] = results_df[\"Actual flower type\"] == results_df[\"Predicted flower type\"]\n",
    "results_df = results_df.rename_axis(index=\"Flower #\")\n",
    "\n",
    "display(results_df.transpose())"
   ]
  },
  {
   "cell_type": "code",
   "execution_count": 1177,
   "id": "f482312a",
   "metadata": {},
   "outputs": [
    {
     "data": {
      "image/png": "[encoded data removed]",
      "text/plain": [
       "<Figure size 640x480 with 2 Axes>"
      ]
     },
     "metadata": {},
     "output_type": "display_data"
    }
   ],
   "source": [
    "# display confusion matrix\n",
    "calculated_confusion_matrix = confusion_matrix(actual_class, predicted_class)\n",
    "\n",
    "cm_display = ConfusionMatrixDisplay(confusion_matrix = calculated_confusion_matrix, display_labels = iris.target_names)\n",
    "\n",
    "cm_display.plot()\n",
    "plt.show()"
   ]
  },
  {
   "cell_type": "markdown",
   "id": "1661839f",
   "metadata": {},
   "source": [
    "interestingly, it might be possible to flip the labels around and get pretty good results"
   ]
  },
  {
   "cell_type": "code",
   "execution_count": 1178,
   "id": "eeea346d",
   "metadata": {},
   "outputs": [
    {
     "name": "stdout",
     "output_type": "stream",
     "text": [
      "0.9333333333333333\n"
     ]
    },
    {
     "data": {
      "image/png": "[encoded data removed]",
      "text/plain": [
       "<Figure size 640x480 with 2 Axes>"
      ]
     },
     "metadata": {},
     "output_type": "display_data"
    }
   ],
   "source": [
    "first_column = np.copy(predictions[:, 0])\n",
    "last_column = np.copy(predictions[:, -1])\n",
    "flipped_predictions = np.copy(predictions)\n",
    "\n",
    "flipped_predictions[:,-1] = first_column\n",
    "flipped_predictions[:,0] = last_column\n",
    "\n",
    "print(accuracy(flipped_predictions, targets))\n",
    "\n",
    "flipped_predicted_class = []\n",
    "actual_class = []\n",
    "# convert to single dimension list with class names\n",
    "for i, flipped_prediction in enumerate(flipped_predictions):\n",
    "    flipped_predicted_class.append(iris.target_names[np.argmax(flipped_prediction)])\n",
    "    actual_class.append(iris.target_names[iris.target[i]])\n",
    "\n",
    "# display confusion matrix\n",
    "calculated_confusion_matrix = confusion_matrix(actual_class, flipped_predicted_class)\n",
    "\n",
    "cm_display = ConfusionMatrixDisplay(confusion_matrix = calculated_confusion_matrix, display_labels = iris.target_names)\n",
    "\n",
    "cm_display.plot()\n",
    "plt.show()\n"
   ]
  },
  {
   "cell_type": "markdown",
   "id": "9083f4ee",
   "metadata": {},
   "source": [
    "### our model is great now!"
   ]
  },
  {
   "cell_type": "markdown",
   "id": "334560b6",
   "metadata": {},
   "source": [
    "# Exercise 7 - Training on real data (Optional)\n",
    "\n",
    "To be able to actually do anything useful with your neural network, you need to train it. For this, we need a cost function and a way to take the gradient of the cost function wrt. the network parameters. The following exercises guide you through taking the gradient using autograd, and updating the network parameters using the gradient. Feel free to implement gradient methods like ADAM if you finish everything.\n"
   ]
  },
  {
   "cell_type": "markdown",
   "id": "700cabe4",
   "metadata": {},
   "source": [
    "Since we are doing a classification task with multiple output classes, we use the cross-entropy loss function, which can evaluate performance on classification tasks. It sees if your prediction is \"most certain\" on the correct target.\n"
   ]
  },
  {
   "cell_type": "code",
   "execution_count": 1179,
   "id": "f30e6e2c",
   "metadata": {},
   "outputs": [],
   "source": [
    "def cross_entropy(predict, target):\n",
    "    return np.sum(-target * np.log(predict))\n",
    "\n",
    "\n",
    "def cost(input, layers, activation_funcs, target):\n",
    "    predict = feed_forward_batch(input, layers, activation_funcs)\n",
    "    return cross_entropy(predict, target)"
   ]
  },
  {
   "cell_type": "markdown",
   "id": "7ea9c1a4",
   "metadata": {},
   "source": [
    "To improve our network on whatever prediction task we have given it, we need to use a sensible cost function, take the gradient of that cost function with respect to our network parameters, the weights and biases, and then update the weights and biases using these gradients. To clarify, we need to find and use these\n",
    "\n",
    "$$\n",
    "\\frac{\\partial C}{\\partial W}, \\frac{\\partial C}{\\partial b}\n",
    "$$\n"
   ]
  },
  {
   "cell_type": "markdown",
   "id": "6c753e3b",
   "metadata": {},
   "source": [
    "Now we need to compute these gradients. This is pretty hard to do for a neural network, we will use most of next week to do this, but we can also use autograd to just do it for us, which is what we always do in practice. With the code cell below, we create a function which takes all of these gradients for us.\n"
   ]
  },
  {
   "cell_type": "code",
   "execution_count": 1180,
   "id": "56bef776",
   "metadata": {},
   "outputs": [
    {
     "ename": "ModuleNotFoundError",
     "evalue": "No module named 'autograd'",
     "output_type": "error",
     "traceback": [
      "\u001b[0;31m---------------------------------------------------------------------------\u001b[0m",
      "\u001b[0;31mModuleNotFoundError\u001b[0m                       Traceback (most recent call last)",
      "Cell \u001b[0;32mIn[1180], line 1\u001b[0m\n\u001b[0;32m----> 1\u001b[0m \u001b[38;5;28;01mfrom\u001b[39;00m \u001b[38;5;21;01mautograd\u001b[39;00m \u001b[38;5;28;01mimport\u001b[39;00m grad\n\u001b[1;32m      4\u001b[0m gradient_func \u001b[38;5;241m=\u001b[39m grad(\n\u001b[1;32m      5\u001b[0m     cost, \u001b[38;5;241m1\u001b[39m\n\u001b[1;32m      6\u001b[0m )  \u001b[38;5;66;03m# Taking the gradient wrt. the second input to the cost function, i.e. the layers\u001b[39;00m\n",
      "\u001b[0;31mModuleNotFoundError\u001b[0m: No module named 'autograd'"
     ]
    }
   ],
   "source": [
    "from autograd import grad\n",
    "\n",
    "\n",
    "gradient_func = grad(\n",
    "    cost, 1\n",
    ")  # Taking the gradient wrt. the second input to the cost function, i.e. the layers"
   ]
  },
  {
   "cell_type": "markdown",
   "id": "7b1b74bc",
   "metadata": {},
   "source": [
    "**a)** What shape should the gradient of the cost function wrt. weights and biases be?\n",
    "\n",
    "**b)** Use the `gradient_func` function to take the gradient of the cross entropy wrt. the weights and biases of the network. Check the shapes of what's inside. What does the `grad` func from autograd actually do?\n"
   ]
  },
  {
   "cell_type": "code",
   "execution_count": null,
   "id": "841c9e87",
   "metadata": {},
   "outputs": [],
   "source": [
    "layers_grad = gradient_func(\n",
    "    inputs, layers, activation_funcs, targets\n",
    ")  # Don't change this"
   ]
  },
  {
   "cell_type": "markdown",
   "id": "adc9e9be",
   "metadata": {},
   "source": [
    "**c)** Finish the `train_network` function.\n"
   ]
  },
  {
   "cell_type": "code",
   "execution_count": null,
   "id": "6e4d38d3",
   "metadata": {},
   "outputs": [],
   "source": [
    "def train_network(\n",
    "    inputs, layers, activation_funcs, targets, learning_rate=0.001, epochs=100\n",
    "):\n",
    "    for i in range(epochs):\n",
    "        layers_grad = gradient_func(inputs, layers, activation_funcs, targets)\n",
    "        for (W, b), (W_g, b_g) in zip(layers, layers_grad):\n",
    "            W -= ...\n",
    "            b -= ..."
   ]
  },
  {
   "cell_type": "markdown",
   "id": "2f65d663",
   "metadata": {},
   "source": [
    "**e)** What do we call the gradient method used above?\n"
   ]
  },
  {
   "cell_type": "markdown",
   "id": "7059dd8c",
   "metadata": {},
   "source": [
    "**d)** Train your network and see how the accuracy changes! Make a plot if you want.\n"
   ]
  },
  {
   "cell_type": "code",
   "execution_count": null,
   "id": "5027c7a5",
   "metadata": {},
   "outputs": [],
   "source": [
    "..."
   ]
  },
  {
   "cell_type": "markdown",
   "id": "3bc77016",
   "metadata": {},
   "source": [
    "**e)** How high of an accuracy is it possible to acheive with a neural network on this dataset, if we use the whole thing as training data?\n"
   ]
  }
 ],
 "metadata": {
  "kernelspec": {
   "display_name": "Python 3 (ipykernel)",
   "language": "python",
   "name": "python3"
  },
  "language_info": {
   "codemirror_mode": {
    "name": "ipython",
    "version": 3
   },
   "file_extension": ".py",
   "mimetype": "text/x-python",
   "name": "python",
   "nbconvert_exporter": "python",
   "pygments_lexer": "ipython3",
   "version": "3.12.5"
  }
 },
 "nbformat": 4,
 "nbformat_minor": 5
}
