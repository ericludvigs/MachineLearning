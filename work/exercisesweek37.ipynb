{
 "cells": [
  {
   "cell_type": "markdown",
   "id": "2a3463de",
   "metadata": {
    "editable": true
   },
   "source": [
    "<!-- HTML file automatically generated from DocOnce source (https://github.com/doconce/doconce/)\n",
    "doconce format html exercisesweek37.do.txt  -->\n",
    "<!-- dom:TITLE: Exercises week 37 -->"
   ]
  },
  {
   "cell_type": "markdown",
   "id": "442e0844",
   "metadata": {
    "editable": true
   },
   "source": [
    "# Exercises week 37\n",
    "**September 9-13, 2024**\n",
    "\n",
    "Date: **Deadline is Friday September 13 at midnight**"
   ]
  },
  {
   "cell_type": "markdown",
   "id": "0c0df373",
   "metadata": {
    "editable": true
   },
   "source": [
    "## Overarching aims of the exercises this week\n",
    "\n",
    "This exercise deals with various mean values and variances in linear\n",
    "regression method (here it may be useful to look up chapter 3,\n",
    "equation (3.8) of [Trevor Hastie, Robert Tibshirani, Jerome\n",
    "H. Friedman, The Elements of Statistical Learning,\n",
    "Springer](https://www.springer.com/gp/book/9780387848570)). The\n",
    "exercise is also a part of project 1 and can be reused in the theory\n",
    "part of the project.\n",
    "\n",
    "For more discussions on Ridge regression and calculation of\n",
    "expectation values, [Wessel van\n",
    "Wieringen's](https://arxiv.org/abs/1509.09169) article is highly\n",
    "recommended.\n",
    "\n",
    "The assumption we have made is that there exists a continuous function\n",
    "$f(\\boldsymbol{x})$ and a normal distributed error $\\boldsymbol{\\varepsilon}\\sim N(0,\n",
    "\\sigma^2)$ which describes our data"
   ]
  },
  {
   "cell_type": "markdown",
   "id": "a1ac8666",
   "metadata": {
    "editable": true
   },
   "source": [
    "$$\n",
    "\\boldsymbol{y} = f(\\boldsymbol{x})+\\boldsymbol{\\varepsilon}\n",
    "$$"
   ]
  },
  {
   "cell_type": "markdown",
   "id": "ee6ce4be",
   "metadata": {
    "editable": true
   },
   "source": [
    "We then approximate this function $f(\\boldsymbol{x})$ with our model $\\boldsymbol{\\tilde{y}}$ from the solution of the linear regression equations (ordinary least squares OLS), that is our\n",
    "function $f$ is approximated by $\\boldsymbol{\\tilde{y}}$ where we minimized  $(\\boldsymbol{y}-\\boldsymbol{\\tilde{y}})^2$, with"
   ]
  },
  {
   "cell_type": "markdown",
   "id": "2d50b2e4",
   "metadata": {
    "editable": true
   },
   "source": [
    "$$\n",
    "\\boldsymbol{\\tilde{y}} = \\boldsymbol{X}\\boldsymbol{\\beta}.\n",
    "$$"
   ]
  },
  {
   "cell_type": "markdown",
   "id": "3645cccd",
   "metadata": {
    "editable": true
   },
   "source": [
    "The matrix $\\boldsymbol{X}$ is the so-called design or feature matrix."
   ]
  },
  {
   "cell_type": "markdown",
   "id": "6a378434",
   "metadata": {
    "editable": true
   },
   "source": [
    "## Exercise 1: Expectation values for ordinary least squares expressions\n",
    "\n",
    "Show that  the expectation value of $\\boldsymbol{y}$ for a given element $i$"
   ]
  },
  {
   "cell_type": "markdown",
   "id": "ce9b87a9",
   "metadata": {
    "editable": true
   },
   "source": [
    "$$\n",
    "\\mathbb{E}(y_i)  =\\sum_{j}x_{ij} \\beta_j=\\mathbf{X}_{i, \\ast} \\, \\boldsymbol{\\beta},\n",
    "$$"
   ]
  },
  {
   "cell_type": "markdown",
   "id": "a6435e39",
   "metadata": {
    "editable": true
   },
   "source": [
    "and that\n",
    "its variance is"
   ]
  },
  {
   "cell_type": "markdown",
   "id": "75d89e64",
   "metadata": {
    "editable": true
   },
   "source": [
    "$$\n",
    "Var(y_i)  = \\sigma^2.\n",
    "$$"
   ]
  },
  {
   "cell_type": "markdown",
   "id": "b5aef4d3",
   "metadata": {
    "editable": true
   },
   "source": [
    "Hence, $y_i \\sim N( \\mathbf{X}_{i, \\ast} \\, \\boldsymbol{\\beta}, \\sigma^2)$, that is $\\boldsymbol{y}$ follows a normal distribution with \n",
    "mean value $\\boldsymbol{X}\\boldsymbol{\\beta}$ and variance $\\sigma^2$."
   ]
  },
  {
   "cell_type": "markdown",
   "id": "8f3a1ff3",
   "metadata": {},
   "source": [
    "### Answer:\n",
    "\n",
    "When we assume that our data is described by\n",
    "\n",
    "$$\n",
    "y_i = f(x) + \\epsilon\n",
    "$$\n",
    "\n",
    "we approximate the true function $f(x)$ with our model $\\tilde{y_i} = \\mathbf{X}_{i, \\ast} \\boldsymbol{\\beta}$. Now, the function $\\tilde{y_i}$ is a non-stochastic quantity with fixed values. This means that, when taking the expectation value of this term, it gives only $\\tilde{y_i}$ back. This is because either $\\boldsymbol{X}$ nor $\\boldsymbol{\\beta}$ depend on the probability distribution of $\\boldsymbol{\\varepsilon}$ when calculating the expectation value.\n",
    "\n",
    "As for the normal distribution error $\\boldsymbol{\\varepsilon}\\sim N(0,\n",
    "\\sigma^2)$, the mean value is $0$. So the expectation value $\\mathbb{E}(\\varepsilon) = 0$. This gives us\n",
    "\n",
    "$$\n",
    "\\mathbb{E}(y_i) = \\mathbb{E}\\left(\\mathbf{X}_{i, \\ast} \\boldsymbol{\\beta}\\right) = \\mathbf{X}_{i, \\ast} \\boldsymbol{\\beta}\n",
    "$$"
   ]
  },
  {
   "cell_type": "markdown",
   "id": "2afdec56",
   "metadata": {},
   "source": [
    "As for the variance of $y_i$, we can write this as\n",
    "\n",
    "$$\n",
    "Var(y_i) = Var\\left(\\mathbf{X}_{i, \\ast} \\boldsymbol{\\beta} + \\boldsymbol{\\varepsilon} \\right)\n",
    "$$"
   ]
  },
  {
   "cell_type": "markdown",
   "id": "b9a38d87",
   "metadata": {},
   "source": [
    "As already mentioned, the first term is fixed with no random variance. In other words the variance of this term will be zero. As for $\\boldsymbol{\\varepsilon}$, we know that its normal distribution has variance $\\sigma^2$ as mentioned above. This gives"
   ]
  },
  {
   "cell_type": "markdown",
   "id": "24665fd2",
   "metadata": {},
   "source": [
    "$$\n",
    "Var(y_i) = Var(\\boldsymbol{\\varepsilon}) = \\sigma^2\n",
    "$$\n",
    "\n",
    "and thus we have shown its variance."
   ]
  },
  {
   "cell_type": "markdown",
   "id": "6b5afcfb",
   "metadata": {},
   "source": [
    "With the OLS expressions for the optimal parameters $\\boldsymbol{\\hat{\\beta}}$ show that"
   ]
  },
  {
   "cell_type": "markdown",
   "id": "17012dce",
   "metadata": {
    "editable": true
   },
   "source": [
    "$$\n",
    "\\mathbb{E}(\\boldsymbol{\\hat{\\beta}}) = \\boldsymbol{\\beta}.\n",
    "$$"
   ]
  },
  {
   "cell_type": "markdown",
   "id": "fc4a2879",
   "metadata": {},
   "source": [
    "Show finally that the variance of $\\boldsymbol{\\boldsymbol{\\beta}}$ is"
   ]
  },
  {
   "cell_type": "markdown",
   "id": "50ae6684",
   "metadata": {},
   "source": [
    "$$\n",
    "Var(\\boldsymbol{\\hat{\\beta}}) = \\sigma^2 \\, (\\mathbf{X}^{T} \\mathbf{X})^{-1}.\n",
    "$$"
   ]
  },
  {
   "cell_type": "markdown",
   "id": "89218e29",
   "metadata": {},
   "source": [
    "We can use the last expression when we define a [so-called confidence interval](https://en.wikipedia.org/wiki/Confidence_interval) for the parameters $\\beta$. \n",
    "A given parameter $\\beta_j$ is given by the diagonal matrix element of the above matrix."
   ]
  },
  {
   "cell_type": "markdown",
   "id": "9e509367",
   "metadata": {},
   "source": [
    "### Answer:\n",
    "\n",
    "The optimal parameters $\\boldsymbol{\\hat{\\beta}}$ for OLS are given by\n",
    "\n",
    "$$\n",
    "\\boldsymbol{\\hat{\\beta}} = \\left(\\boldsymbol{X}^T \\boldsymbol{X}\\right)^{-1}\\boldsymbol{X}^{T}\\boldsymbol{y}\n",
    "$$"
   ]
  },
  {
   "cell_type": "markdown",
   "id": "98d8f34b",
   "metadata": {},
   "source": [
    "Using the same assumption as before, we know that the design matrix $\\boldsymbol{X}$ is a non-stochastic quantity. The only quantity in $\\boldsymbol{\\hat{\\beta}}$ which is random, is the normal distributed error $\\boldsymbol{\\varepsilon}$ in $\\boldsymbol{y}$.\n",
    "\n",
    "Everything to the left of $\\boldsymbol{y}$ can be treated as a constant when taking the expectation value.\n",
    "\n",
    "$$\n",
    "\\mathbb{E}(\\boldsymbol{\\hat{\\beta}}) = \\left(\\boldsymbol{X}^T \\boldsymbol{X}\\right)^{-1}\\boldsymbol{X}^{T}\\mathbb{E}(\\boldsymbol{y})\n",
    "$$\n",
    "\n",
    "Using the result from $\\mathbb{E}(\\boldsymbol{y_i})$ we get\n",
    "\n",
    "$$\n",
    "\\mathbb{E}(\\boldsymbol{\\hat{\\beta}}) = \\left(\\boldsymbol{X}^T \\boldsymbol{X}\\right)^{-1}\\boldsymbol{X}^{T}\\boldsymbol{X}\\boldsymbol{\\beta} = \\boldsymbol{\\beta}\n",
    "$$"
   ]
  },
  {
   "cell_type": "markdown",
   "id": "91a44ad2",
   "metadata": {},
   "source": [
    "As for the variance of $\\hat{\\beta}$, we use the definition of the variance which is described in the article by [Wessel van Wieringen's](https://arxiv.org/abs/1509.09169),\n",
    "\n",
    "$$\n",
    "Var(\\boldsymbol{\\hat{\\beta}}) = \\mathbb{E}\\left(\\left(\\hat{\\beta} - \\mathbb{E}(\\hat{\\beta})\\right)\\left(\\hat{\\beta} - \\mathbb{E}(\\hat{\\beta})\\right)^{T}\\right)\n",
    "$$"
   ]
  },
  {
   "cell_type": "markdown",
   "id": "226b950f",
   "metadata": {},
   "source": [
    "Inserting $\\boldsymbol{\\hat{\\beta}}$ and using results from $\\mathbb{E}(\\hat{\\beta})$ we get\n",
    "\n",
    "$$\n",
    "Var(\\boldsymbol{\\hat{\\beta}}) = \\mathbb{E}\\left(\\left(\\boldsymbol{X}^{T}\\boldsymbol{X}\\right)^{-1}\\boldsymbol{X}^{T}\\boldsymbol{y}\\boldsymbol{y}^{T}\\boldsymbol{X}\\left(\\boldsymbol{X}^{T}\\boldsymbol{X}\\right)^{-1} - \\hat{\\beta}\\beta^{T} - \\beta\\hat{\\beta}^{T} + \\beta\\beta^{T}\\right)\n",
    "$$"
   ]
  },
  {
   "cell_type": "markdown",
   "id": "d6bf792a",
   "metadata": {},
   "source": [
    "Now, when taking the expectation value, the second and last term in the bracket cancel out. As for the first term, we need to calculate the expectation value of $\\boldsymbol{y}\\boldsymbol{y}^{T}$. This has been done by [Wessel van\n",
    "Wieringen's](https://arxiv.org/abs/1509.09169). Using this result we get\n",
    "\n",
    "$$\n",
    "Var(\\boldsymbol{\\hat{\\beta}}) = \\left(\\boldsymbol{X}^{T}\\boldsymbol{X}\\right)^{-1}\\boldsymbol{X}^{T}\\left(\\boldsymbol{X}\\beta\\beta^{T}\\boldsymbol{X}^{T} + \\sigma^2 I_{nn}\\right)\\boldsymbol{X}\\left(\\boldsymbol{X}^{T}\\boldsymbol{X}\\right)^{-1} - \\beta\\beta^{T}\n",
    "$$"
   ]
  },
  {
   "cell_type": "markdown",
   "id": "00b74138",
   "metadata": {},
   "source": [
    "Removing the paranteces we see that the terms containing $\\boldsymbol{\\beta}\\boldsymbol{\\beta^{T}}$ cancel out. Then we are only left with the $\\sigma$-term which gives\n",
    "\n",
    "$$\n",
    "Var(\\boldsymbol{\\hat{\\beta}}) = \\sigma^{2}\\left(\\boldsymbol{X}^{T}\\boldsymbol{X}\\right)^{-1}\\boldsymbol{X}^{T}\\boldsymbol{X}\\left(\\boldsymbol{X}^{T}\\boldsymbol{X}\\right)^{-1} = \\sigma^{2}\\left(\\boldsymbol{X}^{T}\\boldsymbol{X}\\right)^{-1}\n",
    "$$"
   ]
  },
  {
   "cell_type": "markdown",
   "id": "3183bcaf",
   "metadata": {},
   "source": [
    "which is what we were supposed to show."
   ]
  },
  {
   "cell_type": "markdown",
   "id": "43b92138",
   "metadata": {
    "editable": true
   },
   "source": [
    "## Exercise 2: Expectation values for Ridge regression\n",
    "\n",
    "Show that"
   ]
  },
  {
   "cell_type": "markdown",
   "id": "afea98ca",
   "metadata": {
    "editable": true
   },
   "source": [
    "$$\n",
    "\\mathbb{E} \\big[ \\hat{\\boldsymbol{\\beta}}^{\\mathrm{Ridge}} \\big]=(\\mathbf{X}^{\\top} \\mathbf{X} + \\lambda \\mathbf{I}_{pp})^{-1} (\\mathbf{X}^{\\top} \\mathbf{X})\\boldsymbol{\\beta}.\n",
    "$$"
   ]
  },
  {
   "cell_type": "markdown",
   "id": "13d7fd96",
   "metadata": {
    "editable": true
   },
   "source": [
    "We see clearly that\n",
    "$\\mathbb{E} \\big[ \\hat{\\boldsymbol{\\beta}}^{\\mathrm{Ridge}} \\big] \\not= \\mathbb{E} \\big[\\hat{\\boldsymbol{\\beta}}^{\\mathrm{OLS}}\\big ]$ for any $\\lambda > 0$.\n"
   ]
  },
  {
   "cell_type": "markdown",
   "id": "9617999b",
   "metadata": {},
   "source": [
    "### Answer:\n",
    "\n",
    "$$\n",
    "\\hat{\\boldsymbol{\\beta}}^{\\mathrm{Ridge}} = (\\mathbf{X}^{\\top} \\mathbf{X} + \\lambda \\mathbf{I})^{-1} \\mathbf{X}^{\\top} \\boldsymbol{y}\n",
    "$$\n",
    "\n",
    "so then\n",
    "\n",
    "$$\n",
    "\\mathbb{E} \\big[ \\hat{\\boldsymbol{\\beta}}^{\\mathrm{Ridge}} \\big] = \\mathbb{E} \\big[  (\\mathbf{X}^{\\top} \\mathbf{X} + \\lambda \\mathbf{I})^{-1} \\mathbf{X}^{\\top} \\boldsymbol{y} \\big]\n",
    "$$"
   ]
  },
  {
   "cell_type": "markdown",
   "id": "c748a72c",
   "metadata": {},
   "source": [
    "Apart from $\\boldsymbol{y}$, none of this is stochastic or has stochastic dependence ($\\lambda$ is just a number, and $\\boldsymbol{I}$ is just the identity matrix), so the expectation value is simply"
   ]
  },
  {
   "cell_type": "markdown",
   "id": "6082e537",
   "metadata": {},
   "source": [
    "$$\n",
    "\\mathbb{E} \\big[ \\hat{\\boldsymbol{\\beta}}^{\\mathrm{Ridge}} \\big] = (\\mathbf{X}^{\\top} \\mathbf{X} + \\lambda \\mathbf{I})^{-1} \\mathbf{X}^{\\top} \\mathbb{E} \\big[ \\boldsymbol{y} \\big]\n",
    "$$"
   ]
  },
  {
   "cell_type": "markdown",
   "id": "8d820cd1",
   "metadata": {},
   "source": [
    "In exercise 1 we showed that $\\mathbb{E} \\big[ \\boldsymbol{y} \\big] = \\boldsymbol{X} \\boldsymbol{\\beta}$, so"
   ]
  },
  {
   "cell_type": "markdown",
   "id": "34a94d63",
   "metadata": {},
   "source": [
    "$$\n",
    "\\mathbb{E} \\big[ \\hat{\\boldsymbol{\\beta}}^{\\mathrm{Ridge}} \\big] = (\\mathbf{X}^{\\top} \\mathbf{X} + \\lambda \\mathbf{I})^{-1} \\mathbf{X}^{\\top} \\boldsymbol{X} \\boldsymbol{\\beta} .\n",
    "$$"
   ]
  },
  {
   "cell_type": "markdown",
   "id": "363e2653",
   "metadata": {},
   "source": [
    "As expected."
   ]
  },
  {
   "cell_type": "markdown",
   "id": "51348b74",
   "metadata": {},
   "source": [
    "\n",
    "Show also that the variance is"
   ]
  },
  {
   "cell_type": "markdown",
   "id": "77d1d47e",
   "metadata": {
    "editable": true
   },
   "source": [
    "$$\n",
    "Var[\\hat{\\boldsymbol{\\beta}}^{\\mathrm{Ridge}}]=\\sigma^2[  \\mathbf{X}^{\\top} \\mathbf{X} + \\lambda \\mathbf{I} ]^{-1}  \\mathbf{X}^{\\top}\\mathbf{X} \\{ [  \\mathbf{X}^{\\top} \\mathbf{X} + \\lambda \\mathbf{I} ]^{-1}\\}^{\\top},\n",
    "$$"
   ]
  },
  {
   "cell_type": "markdown",
   "id": "3c7bc6c3",
   "metadata": {},
   "source": [
    "### Answer:\n",
    "$$\n",
    "\\begin{align*}\n",
    "\\text{Var}[\\hat{\\boldsymbol{\\beta}}^{\\mathrm{Ridge}}] & = & \\mathbb{E} \\{ [\\boldsymbol{\\beta}^{\\mathrm{Ridge}} - \\mathbb{E}(\\boldsymbol{\\beta}^{\\mathrm{Ridge}})] [\\boldsymbol{\\beta}^{\\mathrm{Ridge}} - \\mathbb{E}(\\boldsymbol{\\beta}^{\\mathrm{Ridge}})]^{\\top} \\}\n",
    "\\\\\n",
    "& = & \\mathbb{E} \\{ [(\\mathbf{X}^{\\top} \\mathbf{X} + \\lambda \\mathbf{I})^{-1} \\, \\mathbf{X}^{\\top} \\mathbf{y} - (\\mathbf{X}^{\\top} \\mathbf{X} + \\lambda \\mathbf{I})^{-1} (\\mathbf{X}^{\\top} \\mathbf{X})\\boldsymbol{\\beta}] \\, [(\\mathbf{X}^{\\top} \\mathbf{X} + \\lambda \\mathbf{I})^{-1} \\, \\mathbf{X}^{\\top} \\mathbf{y} - (\\mathbf{X}^{\\top} \\mathbf{X} + \\lambda \\mathbf{I})^{-1} (\\mathbf{X}^{\\top} \\mathbf{X})\\boldsymbol{\\beta}]^{\\top} \\},\n",
    "\\\\\n",
    "\\end{align*}\n",
    "$$"
   ]
  },
  {
   "cell_type": "markdown",
   "id": "626283e1",
   "metadata": {},
   "source": [
    "for compactness define $(\\mathbf{X}^{\\top} \\mathbf{X} + \\lambda \\mathbf{I})^{-1} (\\mathbf{X}^{\\top}) = C$, so we have"
   ]
  },
  {
   "cell_type": "markdown",
   "id": "90951c08",
   "metadata": {},
   "source": [
    "$$\n",
    "=  \\mathbb{E} \\{ [C \\mathbf{y} - C \\mathbf{X} \\boldsymbol{\\beta}] \\, [C \\mathbf{y} - C \\mathbf{X} \\boldsymbol{\\beta}]^{\\top} \\}\n",
    "$$"
   ]
  },
  {
   "cell_type": "markdown",
   "id": "ce1c6d5c",
   "metadata": {},
   "source": [
    "$$\n",
    "= \\mathbb{E} \\{ [C \\mathbf{y}] \\, [C \\mathbf{y}]^{\\top} - C \\mathbf{X} \\boldsymbol{\\beta}[C \\mathbf{y}]^{\\top}  + C \\mathbf{y} [- C \\mathbf{X} \\boldsymbol{\\beta}]^{\\top}  - C \\mathbf{X} \\boldsymbol{\\beta} [- C \\mathbf{X} \\boldsymbol{\\beta}]^{\\top} \\}\n",
    "$$"
   ]
  },
  {
   "cell_type": "markdown",
   "id": "fa4c32e4",
   "metadata": {},
   "source": [
    "with our definitions we have that $\\boldsymbol{\\beta}^{\\mathrm{Ridge}} = C \\boldsymbol{X} \\boldsymbol{\\beta} = C \\boldsymbol{y} $ (and corresponding transpose), such that"
   ]
  },
  {
   "cell_type": "markdown",
   "id": "3abea88e",
   "metadata": {},
   "source": [
    "$$\n",
    "= \\mathbb{E} \\{ C \\mathbf{y} \\,  \\mathbf{y}^{\\top}  C^{\\top} \\, - \\boldsymbol{\\beta}^{\\mathrm{Ridge}} (\\boldsymbol{\\beta}^{\\mathrm{Ridge}})^{\\top} - \\boldsymbol{\\beta}^{\\mathrm{Ridge}} \\,  (\\boldsymbol{\\beta}^{\\mathrm{Ridge}})^{\\top}  + \\boldsymbol{\\beta}^{\\mathrm{Ridge}} (\\boldsymbol{\\beta}^{\\mathrm{Ridge}})^{\\top}  \\}\n",
    "$$"
   ]
  },
  {
   "cell_type": "markdown",
   "id": "2203b9a8",
   "metadata": {},
   "source": [
    "$$\n",
    "= \\mathbb{E} \\{ C \\mathbf{y} \\,  \\mathbf{y}^{\\top}  C^{\\top} \\} \\, - \\mathbb{E} \\{ \\boldsymbol{\\beta}^{\\mathrm{Ridge}} (\\boldsymbol{\\beta}^{\\mathrm{Ridge}})^{\\top} \\},\n",
    "$$"
   ]
  },
  {
   "cell_type": "markdown",
   "id": "4e0699e6",
   "metadata": {},
   "source": [
    "expectation value of non-stochastic variable is just variable, and nothing in $\\boldsymbol{C}$ depends on $\\boldsymbol{\\beta}$ or $\\boldsymbol{y}$, so"
   ]
  },
  {
   "cell_type": "markdown",
   "id": "0b8e324c",
   "metadata": {},
   "source": [
    "$$\n",
    "=  C \\, \\mathbb{E} \\{ \\mathbf{y} \\, \\mathbf{y}^{\\top} \\} \\, C^{\\top} - C \\boldsymbol{X} \\boldsymbol{\\beta} \\, (C \\boldsymbol{X} \\boldsymbol{\\beta})^{\\top}\n",
    "$$"
   ]
  },
  {
   "cell_type": "markdown",
   "id": "39e50c00",
   "metadata": {},
   "source": [
    "use that $\\mathbb{E} (\\mathbf{y} \\mathbf{y}^{T}) =\n",
    "\\mathbf{X} \\, \\boldsymbol{\\beta} \\, \\boldsymbol{\\beta}^{T} \\, \\mathbf{X}^{T} +\n",
    "\\sigma^2 \\, \\mathbf{I}_{nn}$ to get"
   ]
  },
  {
   "cell_type": "markdown",
   "id": "1b31135f",
   "metadata": {},
   "source": [
    "$$\n",
    "=  C \\, ( \\mathbf{X} \\, \\boldsymbol{\\beta} \\, \\boldsymbol{\\beta}^{\\top} \\, \\mathbf{X}^{\\top} + \\sigma^2 \\, \\mathbf{I}_{nn} ) \\, C^{\\top} - C \\boldsymbol{X} \\boldsymbol{\\beta} \\, (C \\boldsymbol{X} \\boldsymbol{\\beta})^{\\top}\n",
    "$$"
   ]
  },
  {
   "cell_type": "markdown",
   "id": "688da158",
   "metadata": {},
   "source": [
    "$$\n",
    "= C \\,  \\mathbf{X} \\, \\boldsymbol{\\beta} \\, \\boldsymbol{\\beta}^{\\top} \\, \\mathbf{X}^{\\top} C^{\\top} + \\sigma^2 C C^{\\top} - C \\boldsymbol{X} \\boldsymbol{\\beta} \\, \\boldsymbol{\\beta}^{\\top} \\, \\mathbf{X}^{\\top} C^{\\top} = \\sigma^2 C C^{\\top}\n",
    "$$"
   ]
  },
  {
   "cell_type": "markdown",
   "id": "1d2b2575",
   "metadata": {},
   "source": [
    "$$\n",
    "Var[\\hat{\\boldsymbol{\\beta}}^{\\mathrm{Ridge}}]= \\sigma^2 C C^{\\top} = \\sigma^2[  \\mathbf{X}^{\\top} \\mathbf{X} + \\lambda \\mathbf{I} ]^{-1}  \\mathbf{X}^{\\top}\\mathbf{X} \\{ [  \\mathbf{X}^{\\top} \\mathbf{X} + \\lambda \\mathbf{I} ]^{-1}\\}^{\\top} ,\n",
    "$$"
   ]
  },
  {
   "cell_type": "markdown",
   "id": "2cc6f2cf",
   "metadata": {},
   "source": [
    "as expected."
   ]
  },
  {
   "cell_type": "markdown",
   "id": "2fa6bdfd",
   "metadata": {
    "editable": true
   },
   "source": [
    "and it is easy to see that if the parameter $\\lambda$ goes to infinity then the variance of the Ridge parameters $\\boldsymbol{\\beta}$ goes to zero."
   ]
  }
 ],
 "metadata": {
  "language_info": {
   "name": "python"
  }
 },
 "nbformat": 4,
 "nbformat_minor": 5
}
